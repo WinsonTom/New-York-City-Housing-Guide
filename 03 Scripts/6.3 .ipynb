{
 "cells": [
  {
   "cell_type": "code",
   "execution_count": 111,
   "id": "cff6533e",
   "metadata": {},
   "outputs": [],
   "source": [
    "import pandas as pd\n",
    "import numpy as np\n",
    "import seaborn as sns\n",
    "import matplotlib\n",
    "import os\n",
    "import folium\n",
    "import json"
   ]
  },
  {
   "cell_type": "code",
   "execution_count": 112,
   "id": "00d92282",
   "metadata": {},
   "outputs": [],
   "source": [
    "%matplotlib inline"
   ]
  },
  {
   "cell_type": "markdown",
   "id": "d3f4d809",
   "metadata": {},
   "source": [
    "## Sourced NYC Zipcode Data JSON"
   ]
  },
  {
   "cell_type": "code",
   "execution_count": 113,
   "id": "0abcd049",
   "metadata": {},
   "outputs": [],
   "source": [
    "# Different resource than the original 6.3 I had submitted\n",
    "\n",
    "# https://data.beta.nyc/en/dataset/nyc-zip-code-tabulation-areas/resource/894e9162-871c-4552-a09c-c6915d8783fb"
   ]
  },
  {
   "cell_type": "code",
   "execution_count": 188,
   "id": "bdb5e04c",
   "metadata": {},
   "outputs": [],
   "source": [
    "NYC_Geo= r'/Users/winsontom/Desktop/Career Foundry/Final CF Immersion/Json Files/zip_code_040114.geo.json'"
   ]
  },
  {
   "cell_type": "code",
   "execution_count": 189,
   "id": "cc216948",
   "metadata": {},
   "outputs": [
    {
     "name": "stderr",
     "output_type": "stream",
     "text": [
      "IOPub data rate exceeded.\n",
      "The notebook server will temporarily stop sending output\n",
      "to the client in order to avoid crashing it.\n",
      "To change this limit, set the config variable\n",
      "`--NotebookApp.iopub_data_rate_limit`.\n",
      "\n",
      "Current values:\n",
      "NotebookApp.iopub_data_rate_limit=1000000.0 (bytes/sec)\n",
      "NotebookApp.rate_limit_window=3.0 (secs)\n",
      "\n"
     ]
    }
   ],
   "source": [
    "f = open(r'/Users/winsontom/Desktop/Career Foundry/Final CF Immersion/Json Files/zip_code_040114.geo.json')\n",
    "  \n",
    "# returns JSON object asa dictionary\n",
    "data = json.load(f)\n",
    "\n",
    "# Iterating through the json list\n",
    "for i in data['features']:\n",
    "    print(i)\n",
    "  "
   ]
  },
  {
   "cell_type": "markdown",
   "id": "2a4d3d12",
   "metadata": {},
   "source": [
    "## Loading Cleaned/Wrangled Data Frame"
   ]
  },
  {
   "cell_type": "code",
   "execution_count": 116,
   "id": "bc4096e1",
   "metadata": {},
   "outputs": [],
   "source": [
    "DF = pd.read_csv(r'/Users/winsontom/Desktop/Career Foundry/Final CF Immersion/02 Data/4.0 Cleaned further.csv')"
   ]
  },
  {
   "cell_type": "code",
   "execution_count": 117,
   "id": "da4ffc37",
   "metadata": {},
   "outputs": [
    {
     "data": {
      "text/html": [
       "<div>\n",
       "<style scoped>\n",
       "    .dataframe tbody tr th:only-of-type {\n",
       "        vertical-align: middle;\n",
       "    }\n",
       "\n",
       "    .dataframe tbody tr th {\n",
       "        vertical-align: top;\n",
       "    }\n",
       "\n",
       "    .dataframe thead th {\n",
       "        text-align: right;\n",
       "    }\n",
       "</style>\n",
       "<table border=\"1\" class=\"dataframe\">\n",
       "  <thead>\n",
       "    <tr style=\"text-align: right;\">\n",
       "      <th></th>\n",
       "      <th>Address</th>\n",
       "      <th>Borough</th>\n",
       "      <th>Property Type</th>\n",
       "      <th>Bedrooms</th>\n",
       "      <th>Bathrooms</th>\n",
       "      <th>Price</th>\n",
       "      <th>Square Footage</th>\n",
       "      <th>Price Per Square Feet</th>\n",
       "      <th>Exact Address</th>\n",
       "      <th>Neighborhood</th>\n",
       "      <th>County</th>\n",
       "      <th>Zipcode</th>\n",
       "      <th>Brokerage</th>\n",
       "    </tr>\n",
       "  </thead>\n",
       "  <tbody>\n",
       "    <tr>\n",
       "      <th>0</th>\n",
       "      <td>2 E 55th St Unit 803</td>\n",
       "      <td>Manhattan</td>\n",
       "      <td>Condo</td>\n",
       "      <td>2</td>\n",
       "      <td>2</td>\n",
       "      <td>315000</td>\n",
       "      <td>1400</td>\n",
       "      <td>225.00</td>\n",
       "      <td>Regis Residence, 2 E 55th St #803, New York, N...</td>\n",
       "      <td>New York</td>\n",
       "      <td>New York County</td>\n",
       "      <td>10022</td>\n",
       "      <td>Douglas Elliman  -111 Fifth Ave</td>\n",
       "    </tr>\n",
       "    <tr>\n",
       "      <th>1</th>\n",
       "      <td>Central Park Tower Penthouse-217 W 57th  St Un...</td>\n",
       "      <td>Manhattan</td>\n",
       "      <td>Condo</td>\n",
       "      <td>7</td>\n",
       "      <td>10</td>\n",
       "      <td>195000000</td>\n",
       "      <td>17545</td>\n",
       "      <td>11114.28</td>\n",
       "      <td>217 W 57th St, New York, NY 10019, USA</td>\n",
       "      <td>New York</td>\n",
       "      <td>New York County</td>\n",
       "      <td>10019</td>\n",
       "      <td>Serhant</td>\n",
       "    </tr>\n",
       "    <tr>\n",
       "      <th>2</th>\n",
       "      <td>620 Sinclair Ave</td>\n",
       "      <td>Staten Island</td>\n",
       "      <td>House</td>\n",
       "      <td>4</td>\n",
       "      <td>2</td>\n",
       "      <td>260000</td>\n",
       "      <td>2015</td>\n",
       "      <td>129.03</td>\n",
       "      <td>620 Sinclair Ave, Staten Island, NY 10312, USA</td>\n",
       "      <td>Staten Island</td>\n",
       "      <td>Richmond County</td>\n",
       "      <td>10312</td>\n",
       "      <td>Sowae Corp</td>\n",
       "    </tr>\n",
       "    <tr>\n",
       "      <th>3</th>\n",
       "      <td>2 E 55th St Unit 908W33</td>\n",
       "      <td>Manhattan</td>\n",
       "      <td>Condo</td>\n",
       "      <td>3</td>\n",
       "      <td>1</td>\n",
       "      <td>69000</td>\n",
       "      <td>445</td>\n",
       "      <td>155.06</td>\n",
       "      <td>2 E 55th St, New York, NY 10022, USA</td>\n",
       "      <td>New York</td>\n",
       "      <td>New York County</td>\n",
       "      <td>10022</td>\n",
       "      <td>COMPASS</td>\n",
       "    </tr>\n",
       "    <tr>\n",
       "      <th>4</th>\n",
       "      <td>5 E 64th St</td>\n",
       "      <td>Manhattan</td>\n",
       "      <td>Townhouse</td>\n",
       "      <td>7</td>\n",
       "      <td>2</td>\n",
       "      <td>55000000</td>\n",
       "      <td>14175</td>\n",
       "      <td>3880.07</td>\n",
       "      <td>5 E 64th St, New York, NY 10065, USA</td>\n",
       "      <td>New York</td>\n",
       "      <td>New York County</td>\n",
       "      <td>10065</td>\n",
       "      <td>Sotheby's International Realty - East Side Ma...</td>\n",
       "    </tr>\n",
       "  </tbody>\n",
       "</table>\n",
       "</div>"
      ],
      "text/plain": [
       "                                             Address        Borough  \\\n",
       "0                              2 E 55th St Unit 803       Manhattan   \n",
       "1  Central Park Tower Penthouse-217 W 57th  St Un...      Manhattan   \n",
       "2                                  620 Sinclair Ave   Staten Island   \n",
       "3                           2 E 55th St Unit 908W33       Manhattan   \n",
       "4                                       5 E 64th St       Manhattan   \n",
       "\n",
       "  Property Type  Bedrooms  Bathrooms      Price  Square Footage  \\\n",
       "0         Condo         2          2     315000            1400   \n",
       "1         Condo         7         10  195000000           17545   \n",
       "2        House          4          2     260000            2015   \n",
       "3         Condo         3          1      69000             445   \n",
       "4    Townhouse          7          2   55000000           14175   \n",
       "\n",
       "   Price Per Square Feet                                      Exact Address  \\\n",
       "0                 225.00  Regis Residence, 2 E 55th St #803, New York, N...   \n",
       "1               11114.28             217 W 57th St, New York, NY 10019, USA   \n",
       "2                 129.03     620 Sinclair Ave, Staten Island, NY 10312, USA   \n",
       "3                 155.06               2 E 55th St, New York, NY 10022, USA   \n",
       "4                3880.07               5 E 64th St, New York, NY 10065, USA   \n",
       "\n",
       "    Neighborhood           County  Zipcode  \\\n",
       "0       New York  New York County    10022   \n",
       "1       New York  New York County    10019   \n",
       "2  Staten Island  Richmond County    10312   \n",
       "3       New York  New York County    10022   \n",
       "4       New York  New York County    10065   \n",
       "\n",
       "                                           Brokerage  \n",
       "0                    Douglas Elliman  -111 Fifth Ave  \n",
       "1                                            Serhant  \n",
       "2                                         Sowae Corp  \n",
       "3                                            COMPASS  \n",
       "4   Sotheby's International Realty - East Side Ma...  "
      ]
     },
     "execution_count": 117,
     "metadata": {},
     "output_type": "execute_result"
    }
   ],
   "source": [
    "DF.head(5)"
   ]
  },
  {
   "cell_type": "code",
   "execution_count": 118,
   "id": "065c0ab8",
   "metadata": {},
   "outputs": [
    {
     "data": {
      "text/plain": [
       "(4552, 13)"
      ]
     },
     "execution_count": 118,
     "metadata": {},
     "output_type": "execute_result"
    }
   ],
   "source": [
    "DF.shape"
   ]
  },
  {
   "cell_type": "code",
   "execution_count": 119,
   "id": "f5509375",
   "metadata": {},
   "outputs": [
    {
     "data": {
      "text/plain": [
       "Index(['Address', 'Borough', 'Property Type', 'Bedrooms', 'Bathrooms', 'Price',\n",
       "       'Square Footage', 'Price Per Square Feet', 'Exact Address',\n",
       "       'Neighborhood', 'County', 'Zipcode', 'Brokerage'],\n",
       "      dtype='object')"
      ]
     },
     "execution_count": 119,
     "metadata": {},
     "output_type": "execute_result"
    }
   ],
   "source": [
    "DF.columns"
   ]
  },
  {
   "cell_type": "code",
   "execution_count": 120,
   "id": "37d023b8",
   "metadata": {},
   "outputs": [
    {
     "data": {
      "text/html": [
       "<div>\n",
       "<style scoped>\n",
       "    .dataframe tbody tr th:only-of-type {\n",
       "        vertical-align: middle;\n",
       "    }\n",
       "\n",
       "    .dataframe tbody tr th {\n",
       "        vertical-align: top;\n",
       "    }\n",
       "\n",
       "    .dataframe thead th {\n",
       "        text-align: right;\n",
       "    }\n",
       "</style>\n",
       "<table border=\"1\" class=\"dataframe\">\n",
       "  <thead>\n",
       "    <tr style=\"text-align: right;\">\n",
       "      <th></th>\n",
       "      <th>Address</th>\n",
       "      <th>Borough</th>\n",
       "      <th>Property Type</th>\n",
       "      <th>Bedrooms</th>\n",
       "      <th>Bathrooms</th>\n",
       "      <th>Price</th>\n",
       "      <th>Square Footage</th>\n",
       "      <th>Price Per Square Feet</th>\n",
       "      <th>Exact Address</th>\n",
       "      <th>Neighborhood</th>\n",
       "      <th>County</th>\n",
       "      <th>Zipcode</th>\n",
       "      <th>Brokerage</th>\n",
       "    </tr>\n",
       "  </thead>\n",
       "  <tbody>\n",
       "    <tr>\n",
       "      <th>0</th>\n",
       "      <td>2 E 55th St Unit 803</td>\n",
       "      <td>Manhattan</td>\n",
       "      <td>Condo</td>\n",
       "      <td>2</td>\n",
       "      <td>2</td>\n",
       "      <td>315000</td>\n",
       "      <td>1400</td>\n",
       "      <td>225.0</td>\n",
       "      <td>Regis Residence, 2 E 55th St #803, New York, N...</td>\n",
       "      <td>New York</td>\n",
       "      <td>New York County</td>\n",
       "      <td>10022</td>\n",
       "      <td>Douglas Elliman  -111 Fifth Ave</td>\n",
       "    </tr>\n",
       "  </tbody>\n",
       "</table>\n",
       "</div>"
      ],
      "text/plain": [
       "                 Address    Borough Property Type  Bedrooms  Bathrooms  \\\n",
       "0  2 E 55th St Unit 803   Manhattan         Condo         2          2   \n",
       "\n",
       "    Price  Square Footage  Price Per Square Feet  \\\n",
       "0  315000            1400                  225.0   \n",
       "\n",
       "                                       Exact Address Neighborhood  \\\n",
       "0  Regis Residence, 2 E 55th St #803, New York, N...     New York   \n",
       "\n",
       "            County  Zipcode                         Brokerage  \n",
       "0  New York County    10022   Douglas Elliman  -111 Fifth Ave  "
      ]
     },
     "execution_count": 120,
     "metadata": {},
     "output_type": "execute_result"
    }
   ],
   "source": [
    "DF.head(1)"
   ]
  },
  {
   "cell_type": "code",
   "execution_count": 121,
   "id": "ca66624b",
   "metadata": {},
   "outputs": [
    {
     "data": {
      "text/html": [
       "<div>\n",
       "<style scoped>\n",
       "    .dataframe tbody tr th:only-of-type {\n",
       "        vertical-align: middle;\n",
       "    }\n",
       "\n",
       "    .dataframe tbody tr th {\n",
       "        vertical-align: top;\n",
       "    }\n",
       "\n",
       "    .dataframe thead th {\n",
       "        text-align: right;\n",
       "    }\n",
       "</style>\n",
       "<table border=\"1\" class=\"dataframe\">\n",
       "  <thead>\n",
       "    <tr style=\"text-align: right;\">\n",
       "      <th></th>\n",
       "      <th>Address</th>\n",
       "      <th>Price</th>\n",
       "    </tr>\n",
       "  </thead>\n",
       "  <tbody>\n",
       "    <tr>\n",
       "      <th>0</th>\n",
       "      <td>2 E 55th St Unit 803</td>\n",
       "      <td>315000</td>\n",
       "    </tr>\n",
       "    <tr>\n",
       "      <th>1</th>\n",
       "      <td>Central Park Tower Penthouse-217 W 57th  St Un...</td>\n",
       "      <td>195000000</td>\n",
       "    </tr>\n",
       "    <tr>\n",
       "      <th>2</th>\n",
       "      <td>620 Sinclair Ave</td>\n",
       "      <td>260000</td>\n",
       "    </tr>\n",
       "    <tr>\n",
       "      <th>3</th>\n",
       "      <td>2 E 55th St Unit 908W33</td>\n",
       "      <td>69000</td>\n",
       "    </tr>\n",
       "    <tr>\n",
       "      <th>4</th>\n",
       "      <td>5 E 64th St</td>\n",
       "      <td>55000000</td>\n",
       "    </tr>\n",
       "  </tbody>\n",
       "</table>\n",
       "</div>"
      ],
      "text/plain": [
       "                                             Address      Price\n",
       "0                              2 E 55th St Unit 803      315000\n",
       "1  Central Park Tower Penthouse-217 W 57th  St Un...  195000000\n",
       "2                                  620 Sinclair Ave      260000\n",
       "3                           2 E 55th St Unit 908W33       69000\n",
       "4                                       5 E 64th St    55000000"
      ]
     },
     "execution_count": 121,
     "metadata": {},
     "output_type": "execute_result"
    }
   ],
   "source": [
    "# Create a data frame with just the states and the values for rating we want plotted\n",
    "\n",
    "data_to_plot = DF[['Address','Price']]\n",
    "data_to_plot.head()"
   ]
  },
  {
   "cell_type": "markdown",
   "id": "0f931834",
   "metadata": {},
   "source": [
    "## Aggregating data by zip code and calculating the average price"
   ]
  },
  {
   "cell_type": "code",
   "execution_count": 122,
   "id": "23c1939b",
   "metadata": {},
   "outputs": [],
   "source": [
    "Grouped_Zipcode= DF.groupby('Zipcode')"
   ]
  },
  {
   "cell_type": "code",
   "execution_count": 123,
   "id": "e1b09156",
   "metadata": {},
   "outputs": [],
   "source": [
    "np.set_printoptions(precision=8, suppress=True)"
   ]
  },
  {
   "cell_type": "code",
   "execution_count": 124,
   "id": "374bd272",
   "metadata": {},
   "outputs": [],
   "source": [
    "#Aggregating by zipcode to get mean\n",
    "DF3 = DF.groupby('Zipcode').agg({'Price':['mean']})"
   ]
  },
  {
   "cell_type": "code",
   "execution_count": 125,
   "id": "6b8101f8",
   "metadata": {
    "scrolled": true
   },
   "outputs": [
    {
     "data": {
      "text/html": [
       "<div>\n",
       "<style scoped>\n",
       "    .dataframe tbody tr th:only-of-type {\n",
       "        vertical-align: middle;\n",
       "    }\n",
       "\n",
       "    .dataframe tbody tr th {\n",
       "        vertical-align: top;\n",
       "    }\n",
       "\n",
       "    .dataframe thead tr th {\n",
       "        text-align: left;\n",
       "    }\n",
       "\n",
       "    .dataframe thead tr:last-of-type th {\n",
       "        text-align: right;\n",
       "    }\n",
       "</style>\n",
       "<table border=\"1\" class=\"dataframe\">\n",
       "  <thead>\n",
       "    <tr>\n",
       "      <th></th>\n",
       "      <th>Price</th>\n",
       "    </tr>\n",
       "    <tr>\n",
       "      <th></th>\n",
       "      <th>mean</th>\n",
       "    </tr>\n",
       "    <tr>\n",
       "      <th>Zipcode</th>\n",
       "      <th></th>\n",
       "    </tr>\n",
       "  </thead>\n",
       "  <tbody>\n",
       "    <tr>\n",
       "      <th>10001</th>\n",
       "      <td>3.246176e+06</td>\n",
       "    </tr>\n",
       "    <tr>\n",
       "      <th>10002</th>\n",
       "      <td>2.795000e+06</td>\n",
       "    </tr>\n",
       "    <tr>\n",
       "      <th>10003</th>\n",
       "      <td>3.660272e+06</td>\n",
       "    </tr>\n",
       "    <tr>\n",
       "      <th>10004</th>\n",
       "      <td>1.653166e+06</td>\n",
       "    </tr>\n",
       "    <tr>\n",
       "      <th>10005</th>\n",
       "      <td>1.990400e+06</td>\n",
       "    </tr>\n",
       "    <tr>\n",
       "      <th>10006</th>\n",
       "      <td>1.846667e+06</td>\n",
       "    </tr>\n",
       "    <tr>\n",
       "      <th>10007</th>\n",
       "      <td>8.073875e+06</td>\n",
       "    </tr>\n",
       "    <tr>\n",
       "      <th>10009</th>\n",
       "      <td>1.283273e+06</td>\n",
       "    </tr>\n",
       "    <tr>\n",
       "      <th>10010</th>\n",
       "      <td>4.659668e+06</td>\n",
       "    </tr>\n",
       "    <tr>\n",
       "      <th>10011</th>\n",
       "      <td>7.081427e+06</td>\n",
       "    </tr>\n",
       "  </tbody>\n",
       "</table>\n",
       "</div>"
      ],
      "text/plain": [
       "                Price\n",
       "                 mean\n",
       "Zipcode              \n",
       "10001    3.246176e+06\n",
       "10002    2.795000e+06\n",
       "10003    3.660272e+06\n",
       "10004    1.653166e+06\n",
       "10005    1.990400e+06\n",
       "10006    1.846667e+06\n",
       "10007    8.073875e+06\n",
       "10009    1.283273e+06\n",
       "10010    4.659668e+06\n",
       "10011    7.081427e+06"
      ]
     },
     "execution_count": 125,
     "metadata": {},
     "output_type": "execute_result"
    }
   ],
   "source": [
    "DF3.head(10)"
   ]
  },
  {
   "cell_type": "code",
   "execution_count": 126,
   "id": "9e794119",
   "metadata": {},
   "outputs": [
    {
     "data": {
      "text/html": [
       "<div>\n",
       "<style scoped>\n",
       "    .dataframe tbody tr th:only-of-type {\n",
       "        vertical-align: middle;\n",
       "    }\n",
       "\n",
       "    .dataframe tbody tr th {\n",
       "        vertical-align: top;\n",
       "    }\n",
       "\n",
       "    .dataframe thead th {\n",
       "        text-align: right;\n",
       "    }\n",
       "</style>\n",
       "<table border=\"1\" class=\"dataframe\">\n",
       "  <thead>\n",
       "    <tr style=\"text-align: right;\">\n",
       "      <th></th>\n",
       "      <th>Zipcode</th>\n",
       "      <th>Price</th>\n",
       "    </tr>\n",
       "  </thead>\n",
       "  <tbody>\n",
       "    <tr>\n",
       "      <th>0</th>\n",
       "      <td>10001</td>\n",
       "      <td>3.246176e+06</td>\n",
       "    </tr>\n",
       "    <tr>\n",
       "      <th>1</th>\n",
       "      <td>10002</td>\n",
       "      <td>2.795000e+06</td>\n",
       "    </tr>\n",
       "    <tr>\n",
       "      <th>2</th>\n",
       "      <td>10003</td>\n",
       "      <td>3.660272e+06</td>\n",
       "    </tr>\n",
       "    <tr>\n",
       "      <th>3</th>\n",
       "      <td>10004</td>\n",
       "      <td>1.653166e+06</td>\n",
       "    </tr>\n",
       "    <tr>\n",
       "      <th>4</th>\n",
       "      <td>10005</td>\n",
       "      <td>1.990400e+06</td>\n",
       "    </tr>\n",
       "  </tbody>\n",
       "</table>\n",
       "</div>"
      ],
      "text/plain": [
       "   Zipcode         Price\n",
       "0    10001  3.246176e+06\n",
       "1    10002  2.795000e+06\n",
       "2    10003  3.660272e+06\n",
       "3    10004  1.653166e+06\n",
       "4    10005  1.990400e+06"
      ]
     },
     "execution_count": 126,
     "metadata": {},
     "output_type": "execute_result"
    }
   ],
   "source": [
    "# Clean this up such that its not just an aggregated \"Price, mean\" column but rather a true column\n",
    "\n",
    "DF_AvgPrice = DF.groupby(['Zipcode'], as_index=False)['Price'].mean()\n",
    "DF_AvgPrice.head(5)"
   ]
  },
  {
   "cell_type": "code",
   "execution_count": 127,
   "id": "1a465ac7",
   "metadata": {},
   "outputs": [],
   "source": [
    "# Histogram for the varying Prices"
   ]
  },
  {
   "cell_type": "code",
   "execution_count": 128,
   "id": "45c9fbdf",
   "metadata": {},
   "outputs": [
    {
     "name": "stderr",
     "output_type": "stream",
     "text": [
      "/Users/winsontom/anaconda3/lib/python3.11/site-packages/seaborn/_oldcore.py:1498: FutureWarning: is_categorical_dtype is deprecated and will be removed in a future version. Use isinstance(dtype, CategoricalDtype) instead\n",
      "  if pd.api.types.is_categorical_dtype(vector):\n",
      "/Users/winsontom/anaconda3/lib/python3.11/site-packages/seaborn/_oldcore.py:1119: FutureWarning: use_inf_as_na option is deprecated and will be removed in a future version. Convert inf values to NaN before operating instead.\n",
      "  with pd.option_context('mode.use_inf_as_na', True):\n"
     ]
    },
    {
     "data": {
      "text/plain": [
       "<Axes: xlabel='Price', ylabel='Count'>"
      ]
     },
     "execution_count": 128,
     "metadata": {},
     "output_type": "execute_result"
    },
    {
     "data": {
      "image/png": "[encoded data removed]",
      "text/plain": [
       "<Figure size 640x480 with 1 Axes>"
      ]
     },
     "metadata": {},
     "output_type": "display_data"
    }
   ],
   "source": [
    "sns.histplot(DF['Price'], bins=20, kde = True)"
   ]
  },
  {
   "cell_type": "code",
   "execution_count": 129,
   "id": "72122c9f",
   "metadata": {},
   "outputs": [
    {
     "data": {
      "text/plain": [
       "<bound method NDFrame.describe of      Zipcode         Price\n",
       "0      10001  3.246176e+06\n",
       "1      10002  2.795000e+06\n",
       "2      10003  3.660272e+06\n",
       "3      10004  1.653166e+06\n",
       "4      10005  1.990400e+06\n",
       "..       ...           ...\n",
       "173    11691  7.308571e+05\n",
       "174    11692  9.619998e+05\n",
       "175    11693  9.000000e+05\n",
       "176    11694  1.284474e+06\n",
       "177    11697  6.920000e+05\n",
       "\n",
       "[178 rows x 2 columns]>"
      ]
     },
     "execution_count": 129,
     "metadata": {},
     "output_type": "execute_result"
    }
   ],
   "source": [
    "DF_AvgPrice.describe"
   ]
  },
  {
   "cell_type": "markdown",
   "id": "62c06133",
   "metadata": {},
   "source": [
    "## Create a Folium map object"
   ]
  },
  {
   "cell_type": "code",
   "execution_count": 140,
   "id": "2d0fe473",
   "metadata": {
    "scrolled": true
   },
   "outputs": [
    {
     "data": {
      "text/html": [
       "<div>\n",
       "<style scoped>\n",
       "    .dataframe tbody tr th:only-of-type {\n",
       "        vertical-align: middle;\n",
       "    }\n",
       "\n",
       "    .dataframe tbody tr th {\n",
       "        vertical-align: top;\n",
       "    }\n",
       "\n",
       "    .dataframe thead th {\n",
       "        text-align: right;\n",
       "    }\n",
       "</style>\n",
       "<table border=\"1\" class=\"dataframe\">\n",
       "  <thead>\n",
       "    <tr style=\"text-align: right;\">\n",
       "      <th></th>\n",
       "      <th>Zipcode</th>\n",
       "      <th>Price</th>\n",
       "    </tr>\n",
       "  </thead>\n",
       "  <tbody>\n",
       "    <tr>\n",
       "      <th>0</th>\n",
       "      <td>10001</td>\n",
       "      <td>3.246176e+06</td>\n",
       "    </tr>\n",
       "    <tr>\n",
       "      <th>1</th>\n",
       "      <td>10002</td>\n",
       "      <td>2.795000e+06</td>\n",
       "    </tr>\n",
       "    <tr>\n",
       "      <th>2</th>\n",
       "      <td>10003</td>\n",
       "      <td>3.660272e+06</td>\n",
       "    </tr>\n",
       "    <tr>\n",
       "      <th>3</th>\n",
       "      <td>10004</td>\n",
       "      <td>1.653166e+06</td>\n",
       "    </tr>\n",
       "    <tr>\n",
       "      <th>4</th>\n",
       "      <td>10005</td>\n",
       "      <td>1.990400e+06</td>\n",
       "    </tr>\n",
       "    <tr>\n",
       "      <th>...</th>\n",
       "      <td>...</td>\n",
       "      <td>...</td>\n",
       "    </tr>\n",
       "    <tr>\n",
       "      <th>173</th>\n",
       "      <td>11691</td>\n",
       "      <td>7.308571e+05</td>\n",
       "    </tr>\n",
       "    <tr>\n",
       "      <th>174</th>\n",
       "      <td>11692</td>\n",
       "      <td>9.619998e+05</td>\n",
       "    </tr>\n",
       "    <tr>\n",
       "      <th>175</th>\n",
       "      <td>11693</td>\n",
       "      <td>9.000000e+05</td>\n",
       "    </tr>\n",
       "    <tr>\n",
       "      <th>176</th>\n",
       "      <td>11694</td>\n",
       "      <td>1.284474e+06</td>\n",
       "    </tr>\n",
       "    <tr>\n",
       "      <th>177</th>\n",
       "      <td>11697</td>\n",
       "      <td>6.920000e+05</td>\n",
       "    </tr>\n",
       "  </tbody>\n",
       "</table>\n",
       "<p>178 rows × 2 columns</p>\n",
       "</div>"
      ],
      "text/plain": [
       "     Zipcode         Price\n",
       "0      10001  3.246176e+06\n",
       "1      10002  2.795000e+06\n",
       "2      10003  3.660272e+06\n",
       "3      10004  1.653166e+06\n",
       "4      10005  1.990400e+06\n",
       "..       ...           ...\n",
       "173    11691  7.308571e+05\n",
       "174    11692  9.619998e+05\n",
       "175    11693  9.000000e+05\n",
       "176    11694  1.284474e+06\n",
       "177    11697  6.920000e+05\n",
       "\n",
       "[178 rows x 2 columns]"
      ]
     },
     "execution_count": 140,
     "metadata": {},
     "output_type": "execute_result"
    }
   ],
   "source": [
    "DF_AvgPrice"
   ]
  },
  {
   "cell_type": "code",
   "execution_count": 150,
   "id": "c0ceb810",
   "metadata": {},
   "outputs": [],
   "source": [
    "DF_AveragePrice = DF[['Zipcode','Price']]"
   ]
  },
  {
   "cell_type": "code",
   "execution_count": 151,
   "id": "34a5d981",
   "metadata": {
    "scrolled": true
   },
   "outputs": [
    {
     "data": {
      "text/html": [
       "<div>\n",
       "<style scoped>\n",
       "    .dataframe tbody tr th:only-of-type {\n",
       "        vertical-align: middle;\n",
       "    }\n",
       "\n",
       "    .dataframe tbody tr th {\n",
       "        vertical-align: top;\n",
       "    }\n",
       "\n",
       "    .dataframe thead th {\n",
       "        text-align: right;\n",
       "    }\n",
       "</style>\n",
       "<table border=\"1\" class=\"dataframe\">\n",
       "  <thead>\n",
       "    <tr style=\"text-align: right;\">\n",
       "      <th></th>\n",
       "      <th>Zipcode</th>\n",
       "      <th>Price</th>\n",
       "    </tr>\n",
       "  </thead>\n",
       "  <tbody>\n",
       "    <tr>\n",
       "      <th>0</th>\n",
       "      <td>10022</td>\n",
       "      <td>315000</td>\n",
       "    </tr>\n",
       "    <tr>\n",
       "      <th>1</th>\n",
       "      <td>10019</td>\n",
       "      <td>195000000</td>\n",
       "    </tr>\n",
       "    <tr>\n",
       "      <th>2</th>\n",
       "      <td>10312</td>\n",
       "      <td>260000</td>\n",
       "    </tr>\n",
       "    <tr>\n",
       "      <th>3</th>\n",
       "      <td>10022</td>\n",
       "      <td>69000</td>\n",
       "    </tr>\n",
       "    <tr>\n",
       "      <th>4</th>\n",
       "      <td>10065</td>\n",
       "      <td>55000000</td>\n",
       "    </tr>\n",
       "    <tr>\n",
       "      <th>...</th>\n",
       "      <td>...</td>\n",
       "      <td>...</td>\n",
       "    </tr>\n",
       "    <tr>\n",
       "      <th>4547</th>\n",
       "      <td>10075</td>\n",
       "      <td>599000</td>\n",
       "    </tr>\n",
       "    <tr>\n",
       "      <th>4548</th>\n",
       "      <td>11374</td>\n",
       "      <td>245000</td>\n",
       "    </tr>\n",
       "    <tr>\n",
       "      <th>4549</th>\n",
       "      <td>10011</td>\n",
       "      <td>1275000</td>\n",
       "    </tr>\n",
       "    <tr>\n",
       "      <th>4550</th>\n",
       "      <td>11373</td>\n",
       "      <td>598125</td>\n",
       "    </tr>\n",
       "    <tr>\n",
       "      <th>4551</th>\n",
       "      <td>11224</td>\n",
       "      <td>349000</td>\n",
       "    </tr>\n",
       "  </tbody>\n",
       "</table>\n",
       "<p>4552 rows × 2 columns</p>\n",
       "</div>"
      ],
      "text/plain": [
       "      Zipcode      Price\n",
       "0       10022     315000\n",
       "1       10019  195000000\n",
       "2       10312     260000\n",
       "3       10022      69000\n",
       "4       10065   55000000\n",
       "...       ...        ...\n",
       "4547    10075     599000\n",
       "4548    11374     245000\n",
       "4549    10011    1275000\n",
       "4550    11373     598125\n",
       "4551    11224     349000\n",
       "\n",
       "[4552 rows x 2 columns]"
      ]
     },
     "execution_count": 151,
     "metadata": {},
     "output_type": "execute_result"
    }
   ],
   "source": [
    "DF_AveragePrice"
   ]
  },
  {
   "cell_type": "code",
   "execution_count": 184,
   "id": "aff930d4",
   "metadata": {
    "scrolled": true
   },
   "outputs": [
    {
     "name": "stderr",
     "output_type": "stream",
     "text": [
      "/var/folders/yj/v30db1v90zs0p0pvttp796cm0000gp/T/ipykernel_40556/4190282973.py:1: SettingWithCopyWarning: \n",
      "A value is trying to be set on a copy of a slice from a DataFrame\n",
      "\n",
      "See the caveats in the documentation: https://pandas.pydata.org/pandas-docs/stable/user_guide/indexing.html#returning-a-view-versus-a-copy\n",
      "  DF_AveragePrice.rename(columns = {'Zipcode' : 'ZIPCODE'}, inplace = True)\n"
     ]
    }
   ],
   "source": [
    "DF_AveragePrice.rename(columns = {'Zipcode' : 'ZIPCODE'}, inplace = True)"
   ]
  },
  {
   "cell_type": "code",
   "execution_count": 185,
   "id": "292b8d69",
   "metadata": {},
   "outputs": [
    {
     "data": {
      "text/plain": [
       "Index(['ZIPCODE', 'Price'], dtype='object')"
      ]
     },
     "execution_count": 185,
     "metadata": {},
     "output_type": "execute_result"
    }
   ],
   "source": [
    "DF_AveragePrice.columns"
   ]
  },
  {
   "cell_type": "code",
   "execution_count": 187,
   "id": "0a6be87e",
   "metadata": {},
   "outputs": [
    {
     "ename": "TypeError",
     "evalue": "GeoJson.__init__() got multiple values for argument 'data'",
     "output_type": "error",
     "traceback": [
      "\u001b[0;31m---------------------------------------------------------------------------\u001b[0m",
      "\u001b[0;31mTypeError\u001b[0m                                 Traceback (most recent call last)",
      "Cell \u001b[0;32mIn[187], line 3\u001b[0m\n\u001b[1;32m      1\u001b[0m \u001b[38;5;28mmap\u001b[39m \u001b[38;5;241m=\u001b[39m folium\u001b[38;5;241m.\u001b[39mMap([\u001b[38;5;241m40.7591622\u001b[39m,\u001b[38;5;241m-\u001b[39m\u001b[38;5;241m74.0516324\u001b[39m], zoom_start\u001b[38;5;241m=\u001b[39m\u001b[38;5;241m10\u001b[39m)\n\u001b[0;32m----> 3\u001b[0m folium\u001b[38;5;241m.\u001b[39mGeoJson(\n\u001b[1;32m      4\u001b[0m NYC_Geo,\n\u001b[1;32m      5\u001b[0m name\u001b[38;5;241m=\u001b[39m\u001b[38;5;124m\"\u001b[39m\u001b[38;5;124mNYC Data\u001b[39m\u001b[38;5;124m\"\u001b[39m,\n\u001b[1;32m      6\u001b[0m data\u001b[38;5;241m=\u001b[39m\u001b[38;5;124m'\u001b[39m\u001b[38;5;124mDF_AveragePrice\u001b[39m\u001b[38;5;124m'\u001b[39m,\n\u001b[1;32m      7\u001b[0m columns\u001b[38;5;241m=\u001b[39m[\u001b[38;5;124m'\u001b[39m\u001b[38;5;124mZIPCODE\u001b[39m\u001b[38;5;124m'\u001b[39m, \u001b[38;5;124m'\u001b[39m\u001b[38;5;124mPrice\u001b[39m\u001b[38;5;124m'\u001b[39m],\n\u001b[1;32m      8\u001b[0m key_on\u001b[38;5;241m=\u001b[39m\u001b[38;5;124m'\u001b[39m\u001b[38;5;124mfeature.properties.ZIPCODE\u001b[39m\u001b[38;5;124m'\u001b[39m,\n\u001b[1;32m      9\u001b[0m fill_color\u001b[38;5;241m=\u001b[39m\u001b[38;5;124m'\u001b[39m\u001b[38;5;124mYlOrBr\u001b[39m\u001b[38;5;124m'\u001b[39m,\n\u001b[1;32m     10\u001b[0m fill_opacity\u001b[38;5;241m=\u001b[39m\u001b[38;5;241m0.6\u001b[39m,\n\u001b[1;32m     11\u001b[0m line_opacity\u001b[38;5;241m=\u001b[39m\u001b[38;5;241m0.1\u001b[39m,\n\u001b[1;32m     12\u001b[0m legend_name\u001b[38;5;241m=\u001b[39m\u001b[38;5;124m'\u001b[39m\u001b[38;5;124mListing Price\u001b[39m\u001b[38;5;124m'\u001b[39m\n\u001b[1;32m     13\u001b[0m )\u001b[38;5;241m.\u001b[39madd_to(\u001b[38;5;28mmap\u001b[39m)\n\u001b[1;32m     15\u001b[0m folium\u001b[38;5;241m.\u001b[39mLayerControl()\u001b[38;5;241m.\u001b[39madd_to(\u001b[38;5;28mmap\u001b[39m)\n\u001b[1;32m     17\u001b[0m \u001b[38;5;28mmap\u001b[39m\n",
      "\u001b[0;31mTypeError\u001b[0m: GeoJson.__init__() got multiple values for argument 'data'"
     ]
    }
   ],
   "source": [
    "map = folium.Map([40.7591622,-74.0516324], zoom_start=10)\n",
    "\n",
    "folium.GeoJson(\n",
    "NYC_Geo,\n",
    "name=\"NYC Data\",\n",
    "data='DF_AveragePrice',\n",
    "columns=['ZIPCODE', 'Price'],\n",
    "key_on='feature.properties.ZIPCODE',\n",
    "fill_color='YlOrBr',\n",
    "fill_opacity=0.6,\n",
    "line_opacity=0.1,\n",
    "legend_name='Listing Price'\n",
    ").add_to(map)\n",
    "\n",
    "folium.LayerControl().add_to(map)\n",
    "\n",
    "map"
   ]
  },
  {
   "cell_type": "code",
   "execution_count": 191,
   "id": "fe993a2a",
   "metadata": {},
   "outputs": [
    {
     "ename": "SyntaxError",
     "evalue": "positional argument follows keyword argument (179764378.py, line 12)",
     "output_type": "error",
     "traceback": [
      "\u001b[0;36m  Cell \u001b[0;32mIn[191], line 12\u001b[0;36m\u001b[0m\n\u001b[0;31m    ).add_to(map)\u001b[0m\n\u001b[0m    ^\u001b[0m\n\u001b[0;31mSyntaxError\u001b[0m\u001b[0;31m:\u001b[0m positional argument follows keyword argument\n"
     ]
    }
   ],
   "source": [
    "map = folium.Map([40.7591622,-74.0516324], zoom_start=10)\n",
    "\n",
    "folium.GeoJson(\n",
    "NYC_Geo,\n",
    "data=DF_AvgPrice,\n",
    "1, 2,\n",
    "key_on='feature.properties.ZIPCODE',\n",
    "fill_color='YlOrBr',\n",
    "fill_opacity=0.6,\n",
    "line_opacity=0.1,\n",
    "legend_name='Listing Price'\n",
    ").add_to(map)\n",
    "\n",
    "folium.LayerControl().add_to(map)\n",
    "\n",
    "map"
   ]
  },
  {
   "cell_type": "code",
   "execution_count": null,
   "id": "9683e1aa",
   "metadata": {},
   "outputs": [],
   "source": []
  },
  {
   "cell_type": "code",
   "execution_count": null,
   "id": "ef595daa",
   "metadata": {},
   "outputs": [],
   "source": []
  }
 ],
 "metadata": {
  "kernelspec": {
   "display_name": "Python 3 (ipykernel)",
   "language": "python",
   "name": "python3"
  },
  "language_info": {
   "codemirror_mode": {
    "name": "ipython",
    "version": 3
   },
   "file_extension": ".py",
   "mimetype": "text/x-python",
   "name": "python",
   "nbconvert_exporter": "python",
   "pygments_lexer": "ipython3",
   "version": "3.11.5"
  }
 },
 "nbformat": 4,
 "nbformat_minor": 5
}
