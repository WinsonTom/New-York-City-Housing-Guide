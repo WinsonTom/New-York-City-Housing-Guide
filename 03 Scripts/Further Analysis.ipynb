{
 "cells": [
  {
   "cell_type": "code",
   "execution_count": 2,
   "id": "20451390",
   "metadata": {},
   "outputs": [],
   "source": [
    "import pandas as pd\n",
    "import numpy as np\n",
    "import seaborn as sns\n",
    "import matplotlib\n",
    "import matplotlib.pyplot as plt\n",
    "import os\n",
    "import sklearn\n",
    "from sklearn.cluster import KMeans # Here is where you import the k-means algorithm from scikit-learn.\n",
    "import pylab as pl # PyLab is a convenience module that bulk imports matplotlib."
   ]
  },
  {
   "cell_type": "code",
   "execution_count": 3,
   "id": "ae6f60b2",
   "metadata": {},
   "outputs": [],
   "source": [
    "%matplotlib inline"
   ]
  },
  {
   "cell_type": "code",
   "execution_count": 4,
   "id": "a29c1cdc",
   "metadata": {},
   "outputs": [],
   "source": [
    "DF = pd.read_csv(r'/Users/winsontom/Desktop/Career Foundry/Final CF Immersion/02 Data/7.0.csv')"
   ]
  },
  {
   "cell_type": "code",
   "execution_count": 5,
   "id": "11df0f07",
   "metadata": {},
   "outputs": [
    {
     "data": {
      "text/html": [
       "<div>\n",
       "<style scoped>\n",
       "    .dataframe tbody tr th:only-of-type {\n",
       "        vertical-align: middle;\n",
       "    }\n",
       "\n",
       "    .dataframe tbody tr th {\n",
       "        vertical-align: top;\n",
       "    }\n",
       "\n",
       "    .dataframe thead th {\n",
       "        text-align: right;\n",
       "    }\n",
       "</style>\n",
       "<table border=\"1\" class=\"dataframe\">\n",
       "  <thead>\n",
       "    <tr style=\"text-align: right;\">\n",
       "      <th></th>\n",
       "      <th>Address</th>\n",
       "      <th>Borough</th>\n",
       "      <th>Property Type</th>\n",
       "      <th>Bedrooms</th>\n",
       "      <th>Bathrooms</th>\n",
       "      <th>Price</th>\n",
       "      <th>Square Footage</th>\n",
       "      <th>Price Per Square Feet</th>\n",
       "      <th>Exact Address</th>\n",
       "      <th>Neighborhood</th>\n",
       "      <th>County</th>\n",
       "      <th>Zipcode</th>\n",
       "      <th>Brokerage</th>\n",
       "      <th>Neighborhood Safety Rating</th>\n",
       "      <th>Quartile</th>\n",
       "      <th>Unnamed: 15</th>\n",
       "      <th>Unnamed: 16</th>\n",
       "    </tr>\n",
       "  </thead>\n",
       "  <tbody>\n",
       "    <tr>\n",
       "      <th>0</th>\n",
       "      <td>2 E 55th St Unit 803</td>\n",
       "      <td>Manhattan</td>\n",
       "      <td>Condo</td>\n",
       "      <td>2</td>\n",
       "      <td>2</td>\n",
       "      <td>315000</td>\n",
       "      <td>1400</td>\n",
       "      <td>225.0</td>\n",
       "      <td>Regis Residence, 2 E 55th St #803, New York, N...</td>\n",
       "      <td>Midtown</td>\n",
       "      <td>New York County</td>\n",
       "      <td>10022</td>\n",
       "      <td>Douglas Elliman  -111 Fifth Ave</td>\n",
       "      <td>C+</td>\n",
       "      <td>NaN</td>\n",
       "      <td>NaN</td>\n",
       "      <td>NaN</td>\n",
       "    </tr>\n",
       "  </tbody>\n",
       "</table>\n",
       "</div>"
      ],
      "text/plain": [
       "                 Address    Borough Property Type  Bedrooms  Bathrooms  \\\n",
       "0  2 E 55th St Unit 803   Manhattan         Condo         2          2   \n",
       "\n",
       "    Price  Square Footage  Price Per Square Feet  \\\n",
       "0  315000            1400                  225.0   \n",
       "\n",
       "                                       Exact Address Neighborhood  \\\n",
       "0  Regis Residence, 2 E 55th St #803, New York, N...      Midtown   \n",
       "\n",
       "            County  Zipcode                         Brokerage  \\\n",
       "0  New York County    10022   Douglas Elliman  -111 Fifth Ave   \n",
       "\n",
       "  Neighborhood Safety Rating  Quartile  Unnamed: 15  Unnamed: 16  \n",
       "0                         C+       NaN          NaN          NaN  "
      ]
     },
     "execution_count": 5,
     "metadata": {},
     "output_type": "execute_result"
    }
   ],
   "source": [
    "DF.head(1)"
   ]
  },
  {
   "cell_type": "code",
   "execution_count": 11,
   "id": "f4b36287",
   "metadata": {},
   "outputs": [],
   "source": [
    "DF.loc[DF['Price'] <=   499000, 'Quartile'] = 'Low Range'"
   ]
  },
  {
   "cell_type": "code",
   "execution_count": 12,
   "id": "9f391de8",
   "metadata": {},
   "outputs": [],
   "source": [
    "DF.loc[(DF['Price'] >= 499000) & (DF['Price'] <= 825000 ), 'Quartile'] = 'Mid Range'"
   ]
  },
  {
   "cell_type": "code",
   "execution_count": 13,
   "id": "4a1ec1e3",
   "metadata": {},
   "outputs": [],
   "source": [
    "DF.loc[(DF['Price'] >= 825000) , 'Quartile'] = 'High Range'"
   ]
  },
  {
   "cell_type": "code",
   "execution_count": 14,
   "id": "def8bd62",
   "metadata": {},
   "outputs": [
    {
     "data": {
      "text/plain": [
       "0        Low Range\n",
       "1       High Range\n",
       "2        Low Range\n",
       "3        Low Range\n",
       "4       High Range\n",
       "           ...    \n",
       "4547     Mid Range\n",
       "4548     Low Range\n",
       "4549    High Range\n",
       "4550     Mid Range\n",
       "4551     Low Range\n",
       "Name: Quartile, Length: 4552, dtype: object"
      ]
     },
     "execution_count": 14,
     "metadata": {},
     "output_type": "execute_result"
    }
   ],
   "source": [
    "DF['Quartile']"
   ]
  },
  {
   "cell_type": "code",
   "execution_count": 15,
   "id": "901eacf4",
   "metadata": {},
   "outputs": [],
   "source": [
    "DF.to_excel(r'/Users/winsontom/Desktop/Career Foundry/Final CF Immersion/8.xlsx', index=False)"
   ]
  },
  {
   "cell_type": "code",
   "execution_count": null,
   "id": "f58930c7",
   "metadata": {},
   "outputs": [],
   "source": []
  }
 ],
 "metadata": {
  "kernelspec": {
   "display_name": "Python 3 (ipykernel)",
   "language": "python",
   "name": "python3"
  },
  "language_info": {
   "codemirror_mode": {
    "name": "ipython",
    "version": 3
   },
   "file_extension": ".py",
   "mimetype": "text/x-python",
   "name": "python",
   "nbconvert_exporter": "python",
   "pygments_lexer": "ipython3",
   "version": "3.11.5"
  }
 },
 "nbformat": 4,
 "nbformat_minor": 5
}
