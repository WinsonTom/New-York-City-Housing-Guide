{
 "cells": [
  {
   "cell_type": "markdown",
   "id": "747c97ed",
   "metadata": {},
   "source": [
    "## 6.4 Task"
   ]
  },
  {
   "cell_type": "markdown",
   "id": "be6ad79d",
   "metadata": {},
   "source": [
    "#### 1. Importing libraries and data\n",
    "#### 2. Data cleaning\n",
    "#### 3. Data prep for regression analysis\n",
    "#### 4. Regression analysis"
   ]
  },
  {
   "cell_type": "markdown",
   "id": "4be0009b",
   "metadata": {},
   "source": [
    "## 1. Importing Libraries and Data"
   ]
  },
  {
   "cell_type": "code",
   "execution_count": 3,
   "id": "223cd86e",
   "metadata": {},
   "outputs": [],
   "source": [
    "import pandas as pd\n",
    "import numpy as np\n",
    "import seaborn as sns\n",
    "import matplotlib\n",
    "import matplotlib.pyplot as plt\n",
    "import os\n",
    "import sklearn\n",
    "from sklearn.model_selection import train_test_split \n",
    "from sklearn.linear_model import LinearRegression\n",
    "from sklearn.metrics import mean_squared_error, r2_score"
   ]
  },
  {
   "cell_type": "code",
   "execution_count": 4,
   "id": "5e1eaaa7",
   "metadata": {},
   "outputs": [],
   "source": [
    "# This option ensures that the graphs you create are displayed within the notebook without the need to \"call\" them specifically.\n",
    "\n",
    "%matplotlib inline"
   ]
  },
  {
   "cell_type": "code",
   "execution_count": 39,
   "id": "a5161e60",
   "metadata": {},
   "outputs": [],
   "source": [
    "DF = pd.read_csv(r'/Users/winsontom/Desktop/Career Foundry/Final CF Immersion/02 Data/4.0 Cleaned further.csv')"
   ]
  },
  {
   "cell_type": "markdown",
   "id": "2f303518",
   "metadata": {},
   "source": [
    "## Data Cleaning"
   ]
  },
  {
   "cell_type": "code",
   "execution_count": 40,
   "id": "873524d3",
   "metadata": {},
   "outputs": [
    {
     "data": {
      "text/html": [
       "<div>\n",
       "<style scoped>\n",
       "    .dataframe tbody tr th:only-of-type {\n",
       "        vertical-align: middle;\n",
       "    }\n",
       "\n",
       "    .dataframe tbody tr th {\n",
       "        vertical-align: top;\n",
       "    }\n",
       "\n",
       "    .dataframe thead th {\n",
       "        text-align: right;\n",
       "    }\n",
       "</style>\n",
       "<table border=\"1\" class=\"dataframe\">\n",
       "  <thead>\n",
       "    <tr style=\"text-align: right;\">\n",
       "      <th></th>\n",
       "      <th>Address</th>\n",
       "      <th>Borough</th>\n",
       "      <th>Property Type</th>\n",
       "      <th>Bedrooms</th>\n",
       "      <th>Bathrooms</th>\n",
       "      <th>Price</th>\n",
       "      <th>Square Footage</th>\n",
       "      <th>Price Per Square Feet</th>\n",
       "      <th>Exact Address</th>\n",
       "      <th>Neighborhood</th>\n",
       "      <th>County</th>\n",
       "      <th>Zipcode</th>\n",
       "      <th>Brokerage</th>\n",
       "    </tr>\n",
       "  </thead>\n",
       "  <tbody>\n",
       "    <tr>\n",
       "      <th>0</th>\n",
       "      <td>2 E 55th St Unit 803</td>\n",
       "      <td>Manhattan</td>\n",
       "      <td>Condo</td>\n",
       "      <td>2</td>\n",
       "      <td>2</td>\n",
       "      <td>315000</td>\n",
       "      <td>1400</td>\n",
       "      <td>225.00</td>\n",
       "      <td>Regis Residence, 2 E 55th St #803, New York, N...</td>\n",
       "      <td>New York</td>\n",
       "      <td>New York County</td>\n",
       "      <td>10022</td>\n",
       "      <td>Douglas Elliman  -111 Fifth Ave</td>\n",
       "    </tr>\n",
       "    <tr>\n",
       "      <th>1</th>\n",
       "      <td>Central Park Tower Penthouse-217 W 57th  St Un...</td>\n",
       "      <td>Manhattan</td>\n",
       "      <td>Condo</td>\n",
       "      <td>7</td>\n",
       "      <td>10</td>\n",
       "      <td>195000000</td>\n",
       "      <td>17545</td>\n",
       "      <td>11114.28</td>\n",
       "      <td>217 W 57th St, New York, NY 10019, USA</td>\n",
       "      <td>New York</td>\n",
       "      <td>New York County</td>\n",
       "      <td>10019</td>\n",
       "      <td>Serhant</td>\n",
       "    </tr>\n",
       "    <tr>\n",
       "      <th>2</th>\n",
       "      <td>620 Sinclair Ave</td>\n",
       "      <td>Staten Island</td>\n",
       "      <td>House</td>\n",
       "      <td>4</td>\n",
       "      <td>2</td>\n",
       "      <td>260000</td>\n",
       "      <td>2015</td>\n",
       "      <td>129.03</td>\n",
       "      <td>620 Sinclair Ave, Staten Island, NY 10312, USA</td>\n",
       "      <td>Staten Island</td>\n",
       "      <td>Richmond County</td>\n",
       "      <td>10312</td>\n",
       "      <td>Sowae Corp</td>\n",
       "    </tr>\n",
       "    <tr>\n",
       "      <th>3</th>\n",
       "      <td>2 E 55th St Unit 908W33</td>\n",
       "      <td>Manhattan</td>\n",
       "      <td>Condo</td>\n",
       "      <td>3</td>\n",
       "      <td>1</td>\n",
       "      <td>69000</td>\n",
       "      <td>445</td>\n",
       "      <td>155.06</td>\n",
       "      <td>2 E 55th St, New York, NY 10022, USA</td>\n",
       "      <td>New York</td>\n",
       "      <td>New York County</td>\n",
       "      <td>10022</td>\n",
       "      <td>COMPASS</td>\n",
       "    </tr>\n",
       "    <tr>\n",
       "      <th>4</th>\n",
       "      <td>5 E 64th St</td>\n",
       "      <td>Manhattan</td>\n",
       "      <td>Townhouse</td>\n",
       "      <td>7</td>\n",
       "      <td>2</td>\n",
       "      <td>55000000</td>\n",
       "      <td>14175</td>\n",
       "      <td>3880.07</td>\n",
       "      <td>5 E 64th St, New York, NY 10065, USA</td>\n",
       "      <td>New York</td>\n",
       "      <td>New York County</td>\n",
       "      <td>10065</td>\n",
       "      <td>Sotheby's International Realty - East Side Ma...</td>\n",
       "    </tr>\n",
       "  </tbody>\n",
       "</table>\n",
       "</div>"
      ],
      "text/plain": [
       "                                             Address        Borough  \\\n",
       "0                              2 E 55th St Unit 803       Manhattan   \n",
       "1  Central Park Tower Penthouse-217 W 57th  St Un...      Manhattan   \n",
       "2                                  620 Sinclair Ave   Staten Island   \n",
       "3                           2 E 55th St Unit 908W33       Manhattan   \n",
       "4                                       5 E 64th St       Manhattan   \n",
       "\n",
       "  Property Type  Bedrooms  Bathrooms      Price  Square Footage  \\\n",
       "0         Condo         2          2     315000            1400   \n",
       "1         Condo         7         10  195000000           17545   \n",
       "2        House          4          2     260000            2015   \n",
       "3         Condo         3          1      69000             445   \n",
       "4    Townhouse          7          2   55000000           14175   \n",
       "\n",
       "   Price Per Square Feet                                      Exact Address  \\\n",
       "0                 225.00  Regis Residence, 2 E 55th St #803, New York, N...   \n",
       "1               11114.28             217 W 57th St, New York, NY 10019, USA   \n",
       "2                 129.03     620 Sinclair Ave, Staten Island, NY 10312, USA   \n",
       "3                 155.06               2 E 55th St, New York, NY 10022, USA   \n",
       "4                3880.07               5 E 64th St, New York, NY 10065, USA   \n",
       "\n",
       "    Neighborhood           County  Zipcode  \\\n",
       "0       New York  New York County    10022   \n",
       "1       New York  New York County    10019   \n",
       "2  Staten Island  Richmond County    10312   \n",
       "3       New York  New York County    10022   \n",
       "4       New York  New York County    10065   \n",
       "\n",
       "                                           Brokerage  \n",
       "0                    Douglas Elliman  -111 Fifth Ave  \n",
       "1                                            Serhant  \n",
       "2                                         Sowae Corp  \n",
       "3                                            COMPASS  \n",
       "4   Sotheby's International Realty - East Side Ma...  "
      ]
     },
     "execution_count": 40,
     "metadata": {},
     "output_type": "execute_result"
    }
   ],
   "source": [
    "DF.head()"
   ]
  },
  {
   "cell_type": "code",
   "execution_count": 41,
   "id": "d679495d",
   "metadata": {},
   "outputs": [
    {
     "data": {
      "text/plain": [
       "Index(['Address', 'Borough', 'Property Type', 'Bedrooms', 'Bathrooms', 'Price',\n",
       "       'Square Footage', 'Price Per Square Feet', 'Exact Address',\n",
       "       'Neighborhood', 'County', 'Zipcode', 'Brokerage'],\n",
       "      dtype='object')"
      ]
     },
     "execution_count": 41,
     "metadata": {},
     "output_type": "execute_result"
    }
   ],
   "source": [
    "DF.columns"
   ]
  },
  {
   "cell_type": "code",
   "execution_count": 42,
   "id": "ea074a55",
   "metadata": {},
   "outputs": [
    {
     "data": {
      "text/plain": [
       "(4552, 13)"
      ]
     },
     "execution_count": 42,
     "metadata": {},
     "output_type": "execute_result"
    }
   ],
   "source": [
    "DF.shape"
   ]
  },
  {
   "cell_type": "code",
   "execution_count": 43,
   "id": "279d76af",
   "metadata": {},
   "outputs": [
    {
     "data": {
      "text/plain": [
       "Address                  0\n",
       "Borough                  0\n",
       "Property Type            0\n",
       "Bedrooms                 0\n",
       "Bathrooms                0\n",
       "Price                    0\n",
       "Square Footage           0\n",
       "Price Per Square Feet    0\n",
       "Exact Address            0\n",
       "Neighborhood             0\n",
       "County                   0\n",
       "Zipcode                  0\n",
       "Brokerage                0\n",
       "dtype: int64"
      ]
     },
     "execution_count": 43,
     "metadata": {},
     "output_type": "execute_result"
    }
   ],
   "source": [
    "#Cleaned out any missing values\n",
    "\n",
    "DF.isnull().sum()"
   ]
  },
  {
   "cell_type": "code",
   "execution_count": 44,
   "id": "9a054979",
   "metadata": {},
   "outputs": [
    {
     "data": {
      "text/plain": [
       "0       False\n",
       "1       False\n",
       "2       False\n",
       "3       False\n",
       "4       False\n",
       "        ...  \n",
       "4547    False\n",
       "4548    False\n",
       "4549    False\n",
       "4550    False\n",
       "4551    False\n",
       "Length: 4552, dtype: bool"
      ]
     },
     "execution_count": 44,
     "metadata": {},
     "output_type": "execute_result"
    }
   ],
   "source": [
    "DF.duplicated()"
   ]
  },
  {
   "cell_type": "code",
   "execution_count": 45,
   "id": "70bc40dc",
   "metadata": {},
   "outputs": [
    {
     "name": "stderr",
     "output_type": "stream",
     "text": [
      "/var/folders/yj/v30db1v90zs0p0pvttp796cm0000gp/T/ipykernel_76111/1757314254.py:1: UserWarning: \n",
      "\n",
      "`distplot` is a deprecated function and will be removed in seaborn v0.14.0.\n",
      "\n",
      "Please adapt your code to use either `displot` (a figure-level function with\n",
      "similar flexibility) or `histplot` (an axes-level function for histograms).\n",
      "\n",
      "For a guide to updating your code to use the new functions, please see\n",
      "https://gist.github.com/mwaskom/de44147ed2974457ad6372750bbe5751\n",
      "\n",
      "  sns.distplot(DF['Price Per Square Feet'], bins=30) # Shows extreme values\n",
      "/Users/winsontom/anaconda3/lib/python3.11/site-packages/seaborn/_oldcore.py:1498: FutureWarning: is_categorical_dtype is deprecated and will be removed in a future version. Use isinstance(dtype, CategoricalDtype) instead\n",
      "  if pd.api.types.is_categorical_dtype(vector):\n",
      "/Users/winsontom/anaconda3/lib/python3.11/site-packages/seaborn/_oldcore.py:1119: FutureWarning: use_inf_as_na option is deprecated and will be removed in a future version. Convert inf values to NaN before operating instead.\n",
      "  with pd.option_context('mode.use_inf_as_na', True):\n"
     ]
    },
    {
     "data": {
      "text/plain": [
       "<Axes: xlabel='Price Per Square Feet', ylabel='Density'>"
      ]
     },
     "execution_count": 45,
     "metadata": {},
     "output_type": "execute_result"
    },
    {
     "data": {
      "image/png": "[encoded data removed]",
      "text/plain": [
       "<Figure size 640x480 with 1 Axes>"
      ]
     },
     "metadata": {},
     "output_type": "display_data"
    }
   ],
   "source": [
    "sns.distplot(DF['Price Per Square Feet'], bins=30) # Shows extreme values"
   ]
  },
  {
   "cell_type": "code",
   "execution_count": 46,
   "id": "ce4acabe",
   "metadata": {},
   "outputs": [
    {
     "data": {
      "text/plain": [
       "780.2086401581721"
      ]
     },
     "execution_count": 46,
     "metadata": {},
     "output_type": "execute_result"
    }
   ],
   "source": [
    "#Average price per square foot for ALL properties\n",
    "# $780.20 dollars\n",
    "\n",
    "DF['Price Per Square Feet'].mean()"
   ]
  },
  {
   "cell_type": "code",
   "execution_count": 47,
   "id": "3ccb8004",
   "metadata": {},
   "outputs": [
    {
     "data": {
      "text/plain": [
       "492.125"
      ]
     },
     "execution_count": 47,
     "metadata": {},
     "output_type": "execute_result"
    }
   ],
   "source": [
    "#Median price per square feet\n",
    "# $492.13 dollars, much smaller than the mean amount\n",
    "\n",
    "DF['Price Per Square Feet'].median()"
   ]
  },
  {
   "cell_type": "code",
   "execution_count": 48,
   "id": "5aa3154d",
   "metadata": {},
   "outputs": [
    {
     "data": {
      "text/plain": [
       "27472.53"
      ]
     },
     "execution_count": 48,
     "metadata": {},
     "output_type": "execute_result"
    }
   ],
   "source": [
    "#Max price per square feet\n",
    "#Most expensive price per square feet\n",
    "# $27,472.53 per square feet\n",
    "\n",
    "DF['Price Per Square Feet'].max()"
   ]
  },
  {
   "cell_type": "markdown",
   "id": "d9adca69",
   "metadata": {},
   "source": [
    "## 3. Data prep for regression analysis"
   ]
  },
  {
   "cell_type": "code",
   "execution_count": null,
   "id": "53179c0e",
   "metadata": {},
   "outputs": [],
   "source": [
    "#Making Scatter Plot"
   ]
  },
  {
   "cell_type": "code",
   "execution_count": null,
   "id": "f6b710d5",
   "metadata": {},
   "outputs": [],
   "source": [
    "#X variable - independant variable - 'Square Footage'\n",
    "#Y variable - dependant variable - 'Price'"
   ]
  },
  {
   "cell_type": "code",
   "execution_count": 51,
   "id": "59bfda16",
   "metadata": {},
   "outputs": [
    {
     "data": {
      "image/png": "[encoded data removed]",
      "text/plain": [
       "<Figure size 640x480 with 1 Axes>"
      ]
     },
     "metadata": {},
     "output_type": "display_data"
    }
   ],
   "source": [
    "#Small positive relationship\n",
    "#As Square Footage goes up, prices go up (some times), we will find out more on how much it effects\n",
    "\n",
    "DF.plot(x = 'Square Footage', y='Price', style='o') \n",
    "plt.title('Price vs Square Footage')  \n",
    "plt.xlabel('Square Footage')  \n",
    "plt.ylabel('Price')  \n",
    "plt.show()"
   ]
  },
  {
   "cell_type": "code",
   "execution_count": 53,
   "id": "a01e7443",
   "metadata": {},
   "outputs": [],
   "source": [
    "X = DF['Square Footage'].values.reshape(-1,1)\n",
    "y = DF['Price'].values.reshape(-1,1)"
   ]
  },
  {
   "cell_type": "code",
   "execution_count": 54,
   "id": "70c56f14",
   "metadata": {},
   "outputs": [
    {
     "data": {
      "text/plain": [
       "array([[ 1400],\n",
       "       [17545],\n",
       "       [ 2015],\n",
       "       ...,\n",
       "       [ 2184],\n",
       "       [  655],\n",
       "       [  750]])"
      ]
     },
     "execution_count": 54,
     "metadata": {},
     "output_type": "execute_result"
    }
   ],
   "source": [
    "X"
   ]
  },
  {
   "cell_type": "code",
   "execution_count": 56,
   "id": "d999d64a",
   "metadata": {},
   "outputs": [
    {
     "data": {
      "text/plain": [
       "array([[   315000],\n",
       "       [195000000],\n",
       "       [   260000],\n",
       "       ...,\n",
       "       [  1275000],\n",
       "       [   598125],\n",
       "       [   349000]])"
      ]
     },
     "execution_count": 56,
     "metadata": {},
     "output_type": "execute_result"
    }
   ],
   "source": [
    "y"
   ]
  },
  {
   "cell_type": "code",
   "execution_count": 57,
   "id": "fe84b9c0",
   "metadata": {},
   "outputs": [],
   "source": [
    "# Split data into a training set and a test set.\n",
    "\n",
    "X_train, X_test, y_train, y_test = train_test_split(X, y, test_size=0.3, random_state=0)"
   ]
  },
  {
   "cell_type": "markdown",
   "id": "8b6f24e7",
   "metadata": {},
   "source": [
    "## 4. Regression Analysis - Test Set"
   ]
  },
  {
   "cell_type": "code",
   "execution_count": 59,
   "id": "8952618f",
   "metadata": {},
   "outputs": [],
   "source": [
    "regression = LinearRegression()"
   ]
  },
  {
   "cell_type": "code",
   "execution_count": 60,
   "id": "0cd56af6",
   "metadata": {},
   "outputs": [
    {
     "data": {
      "text/html": [
       "<style>#sk-container-id-1 {color: black;}#sk-container-id-1 pre{padding: 0;}#sk-container-id-1 div.sk-toggleable {background-color: white;}#sk-container-id-1 label.sk-toggleable__label {cursor: pointer;display: block;width: 100%;margin-bottom: 0;padding: 0.3em;box-sizing: border-box;text-align: center;}#sk-container-id-1 label.sk-toggleable__label-arrow:before {content: \"▸\";float: left;margin-right: 0.25em;color: #696969;}#sk-container-id-1 label.sk-toggleable__label-arrow:hover:before {color: black;}#sk-container-id-1 div.sk-estimator:hover label.sk-toggleable__label-arrow:before {color: black;}#sk-container-id-1 div.sk-toggleable__content {max-height: 0;max-width: 0;overflow: hidden;text-align: left;background-color: #f0f8ff;}#sk-container-id-1 div.sk-toggleable__content pre {margin: 0.2em;color: black;border-radius: 0.25em;background-color: #f0f8ff;}#sk-container-id-1 input.sk-toggleable__control:checked~div.sk-toggleable__content {max-height: 200px;max-width: 100%;overflow: auto;}#sk-container-id-1 input.sk-toggleable__control:checked~label.sk-toggleable__label-arrow:before {content: \"▾\";}#sk-container-id-1 div.sk-estimator input.sk-toggleable__control:checked~label.sk-toggleable__label {background-color: #d4ebff;}#sk-container-id-1 div.sk-label input.sk-toggleable__control:checked~label.sk-toggleable__label {background-color: #d4ebff;}#sk-container-id-1 input.sk-hidden--visually {border: 0;clip: rect(1px 1px 1px 1px);clip: rect(1px, 1px, 1px, 1px);height: 1px;margin: -1px;overflow: hidden;padding: 0;position: absolute;width: 1px;}#sk-container-id-1 div.sk-estimator {font-family: monospace;background-color: #f0f8ff;border: 1px dotted black;border-radius: 0.25em;box-sizing: border-box;margin-bottom: 0.5em;}#sk-container-id-1 div.sk-estimator:hover {background-color: #d4ebff;}#sk-container-id-1 div.sk-parallel-item::after {content: \"\";width: 100%;border-bottom: 1px solid gray;flex-grow: 1;}#sk-container-id-1 div.sk-label:hover label.sk-toggleable__label {background-color: #d4ebff;}#sk-container-id-1 div.sk-serial::before {content: \"\";position: absolute;border-left: 1px solid gray;box-sizing: border-box;top: 0;bottom: 0;left: 50%;z-index: 0;}#sk-container-id-1 div.sk-serial {display: flex;flex-direction: column;align-items: center;background-color: white;padding-right: 0.2em;padding-left: 0.2em;position: relative;}#sk-container-id-1 div.sk-item {position: relative;z-index: 1;}#sk-container-id-1 div.sk-parallel {display: flex;align-items: stretch;justify-content: center;background-color: white;position: relative;}#sk-container-id-1 div.sk-item::before, #sk-container-id-1 div.sk-parallel-item::before {content: \"\";position: absolute;border-left: 1px solid gray;box-sizing: border-box;top: 0;bottom: 0;left: 50%;z-index: -1;}#sk-container-id-1 div.sk-parallel-item {display: flex;flex-direction: column;z-index: 1;position: relative;background-color: white;}#sk-container-id-1 div.sk-parallel-item:first-child::after {align-self: flex-end;width: 50%;}#sk-container-id-1 div.sk-parallel-item:last-child::after {align-self: flex-start;width: 50%;}#sk-container-id-1 div.sk-parallel-item:only-child::after {width: 0;}#sk-container-id-1 div.sk-dashed-wrapped {border: 1px dashed gray;margin: 0 0.4em 0.5em 0.4em;box-sizing: border-box;padding-bottom: 0.4em;background-color: white;}#sk-container-id-1 div.sk-label label {font-family: monospace;font-weight: bold;display: inline-block;line-height: 1.2em;}#sk-container-id-1 div.sk-label-container {text-align: center;}#sk-container-id-1 div.sk-container {/* jupyter's `normalize.less` sets `[hidden] { display: none; }` but bootstrap.min.css set `[hidden] { display: none !important; }` so we also need the `!important` here to be able to override the default hidden behavior on the sphinx rendered scikit-learn.org. See: https://github.com/scikit-learn/scikit-learn/issues/21755 */display: inline-block !important;position: relative;}#sk-container-id-1 div.sk-text-repr-fallback {display: none;}</style><div id=\"sk-container-id-1\" class=\"sk-top-container\"><div class=\"sk-text-repr-fallback\"><pre>LinearRegression()</pre><b>In a Jupyter environment, please rerun this cell to show the HTML representation or trust the notebook. <br />On GitHub, the HTML representation is unable to render, please try loading this page with nbviewer.org.</b></div><div class=\"sk-container\" hidden><div class=\"sk-item\"><div class=\"sk-estimator sk-toggleable\"><input class=\"sk-toggleable__control sk-hidden--visually\" id=\"sk-estimator-id-1\" type=\"checkbox\" checked><label for=\"sk-estimator-id-1\" class=\"sk-toggleable__label sk-toggleable__label-arrow\">LinearRegression</label><div class=\"sk-toggleable__content\"><pre>LinearRegression()</pre></div></div></div></div></div>"
      ],
      "text/plain": [
       "LinearRegression()"
      ]
     },
     "execution_count": 60,
     "metadata": {},
     "output_type": "execute_result"
    }
   ],
   "source": [
    "regression.fit(X_train, y_train)"
   ]
  },
  {
   "cell_type": "code",
   "execution_count": 61,
   "id": "161b4949",
   "metadata": {},
   "outputs": [],
   "source": [
    "y_predicted = regression.predict(X_test)"
   ]
  },
  {
   "cell_type": "code",
   "execution_count": 62,
   "id": "4bf44e92",
   "metadata": {},
   "outputs": [
    {
     "data": {
      "image/png": "[encoded data removed]",
      "text/plain": [
       "<Figure size 640x480 with 1 Axes>"
      ]
     },
     "metadata": {},
     "output_type": "display_data"
    }
   ],
   "source": [
    "# Create a plot that shows the regression line from the model on the test set.\n",
    "\n",
    "plot_test = plt\n",
    "plot_test.scatter(X_test, y_test, color='gray', s = 15)\n",
    "plot_test.plot(X_test, y_predicted, color='red', linewidth =3)\n",
    "plot_test.title('Price vs Square Footage (Test set)')\n",
    "plot_test.xlabel('Square Footage')\n",
    "plot_test.ylabel('Price')\n",
    "plot_test.show()"
   ]
  },
  {
   "cell_type": "code",
   "execution_count": 63,
   "id": "c8fbcc3b",
   "metadata": {},
   "outputs": [
    {
     "name": "stdout",
     "output_type": "stream",
     "text": [
      "Slope: [[727.52977267]]\n",
      "Mean squared error:  38225184152381.09\n",
      "R2 score:  0.14730221234990615\n"
     ]
    }
   ],
   "source": [
    "# Create objects that contain the model summary statistics.\n",
    "\n",
    "rmse = mean_squared_error(y_test, y_predicted) # This is the mean squared error\n",
    "r2 = r2_score(y_test, y_predicted) # This is the R2 score. \n",
    "\n",
    "print('Slope:' ,regression.coef_)\n",
    "print('Mean squared error: ', rmse)\n",
    "print('R2 score: ', r2)"
   ]
  },
  {
   "cell_type": "code",
   "execution_count": null,
   "id": "ddb8c475",
   "metadata": {},
   "outputs": [],
   "source": [
    "#Slope Makes sense as it is almost the same # as the Price per Square Foot mean\n",
    "#Slope says as the square footage increases by 1 , the price increases by $727. \n",
    "#Similarly the prime per square foot mean is $780, meaning on average 1 more square foot is $780.\n",
    "\n",
    "#Mean Squared Error of 38,225,184,152,381.09 is huge indicating the regression line is not close to the points.\n",
    "#This tells us there is a poor relationship between increase in square footage as there is an increase in price.\n",
    "#It is not as simple as big home is more expensive home as one may assume\n",
    "\n",
    "#R2 scores range from 0-1, with closer to 1 having a strong correlation\n",
    "#The R2 score here is 0.15 , when rounded up. This is a \"15%\" which shows the relationship is not strong.\n",
    "\n"
   ]
  },
  {
   "cell_type": "code",
   "execution_count": 64,
   "id": "2a235f9c",
   "metadata": {},
   "outputs": [
    {
     "data": {
      "text/plain": [
       "array([[1867166.40974696],\n",
       "       [1867166.40974696],\n",
       "       [1867166.40974696],\n",
       "       ...,\n",
       "       [3079231.0110098 ],\n",
       "       [1045057.7666335 ],\n",
       "       [1867166.40974696]])"
      ]
     },
     "execution_count": 64,
     "metadata": {},
     "output_type": "execute_result"
    }
   ],
   "source": [
    "y_predicted"
   ]
  },
  {
   "cell_type": "code",
   "execution_count": 65,
   "id": "8cf58d48",
   "metadata": {},
   "outputs": [
    {
     "data": {
      "text/html": [
       "<div>\n",
       "<style scoped>\n",
       "    .dataframe tbody tr th:only-of-type {\n",
       "        vertical-align: middle;\n",
       "    }\n",
       "\n",
       "    .dataframe tbody tr th {\n",
       "        vertical-align: top;\n",
       "    }\n",
       "\n",
       "    .dataframe thead th {\n",
       "        text-align: right;\n",
       "    }\n",
       "</style>\n",
       "<table border=\"1\" class=\"dataframe\">\n",
       "  <thead>\n",
       "    <tr style=\"text-align: right;\">\n",
       "      <th></th>\n",
       "      <th>Actual</th>\n",
       "      <th>Predicted</th>\n",
       "    </tr>\n",
       "  </thead>\n",
       "  <tbody>\n",
       "    <tr>\n",
       "      <th>0</th>\n",
       "      <td>1780000</td>\n",
       "      <td>1.867166e+06</td>\n",
       "    </tr>\n",
       "    <tr>\n",
       "      <th>1</th>\n",
       "      <td>650000</td>\n",
       "      <td>1.867166e+06</td>\n",
       "    </tr>\n",
       "    <tr>\n",
       "      <th>2</th>\n",
       "      <td>1528000</td>\n",
       "      <td>1.867166e+06</td>\n",
       "    </tr>\n",
       "    <tr>\n",
       "      <th>3</th>\n",
       "      <td>825000</td>\n",
       "      <td>1.296783e+06</td>\n",
       "    </tr>\n",
       "    <tr>\n",
       "      <th>4</th>\n",
       "      <td>1650000</td>\n",
       "      <td>1.587795e+06</td>\n",
       "    </tr>\n",
       "    <tr>\n",
       "      <th>5</th>\n",
       "      <td>349980</td>\n",
       "      <td>1.867166e+06</td>\n",
       "    </tr>\n",
       "    <tr>\n",
       "      <th>6</th>\n",
       "      <td>799900</td>\n",
       "      <td>1.599435e+06</td>\n",
       "    </tr>\n",
       "    <tr>\n",
       "      <th>7</th>\n",
       "      <td>668888</td>\n",
       "      <td>1.867166e+06</td>\n",
       "    </tr>\n",
       "    <tr>\n",
       "      <th>8</th>\n",
       "      <td>199000</td>\n",
       "      <td>1.867166e+06</td>\n",
       "    </tr>\n",
       "    <tr>\n",
       "      <th>9</th>\n",
       "      <td>369000</td>\n",
       "      <td>9.330182e+05</td>\n",
       "    </tr>\n",
       "    <tr>\n",
       "      <th>10</th>\n",
       "      <td>278000</td>\n",
       "      <td>8.238887e+05</td>\n",
       "    </tr>\n",
       "    <tr>\n",
       "      <th>11</th>\n",
       "      <td>625000</td>\n",
       "      <td>1.867166e+06</td>\n",
       "    </tr>\n",
       "    <tr>\n",
       "      <th>12</th>\n",
       "      <td>8250000</td>\n",
       "      <td>3.130158e+06</td>\n",
       "    </tr>\n",
       "    <tr>\n",
       "      <th>13</th>\n",
       "      <td>825000</td>\n",
       "      <td>1.867166e+06</td>\n",
       "    </tr>\n",
       "    <tr>\n",
       "      <th>14</th>\n",
       "      <td>950000</td>\n",
       "      <td>1.005771e+06</td>\n",
       "    </tr>\n",
       "    <tr>\n",
       "      <th>15</th>\n",
       "      <td>1395000</td>\n",
       "      <td>1.007954e+06</td>\n",
       "    </tr>\n",
       "    <tr>\n",
       "      <th>16</th>\n",
       "      <td>279000</td>\n",
       "      <td>1.867166e+06</td>\n",
       "    </tr>\n",
       "    <tr>\n",
       "      <th>17</th>\n",
       "      <td>188000</td>\n",
       "      <td>4.965003e+05</td>\n",
       "    </tr>\n",
       "    <tr>\n",
       "      <th>18</th>\n",
       "      <td>825000</td>\n",
       "      <td>2.056324e+06</td>\n",
       "    </tr>\n",
       "    <tr>\n",
       "      <th>19</th>\n",
       "      <td>1499000</td>\n",
       "      <td>2.606337e+06</td>\n",
       "    </tr>\n",
       "    <tr>\n",
       "      <th>20</th>\n",
       "      <td>599999</td>\n",
       "      <td>1.867166e+06</td>\n",
       "    </tr>\n",
       "    <tr>\n",
       "      <th>21</th>\n",
       "      <td>686000</td>\n",
       "      <td>1.867166e+06</td>\n",
       "    </tr>\n",
       "    <tr>\n",
       "      <th>22</th>\n",
       "      <td>594900</td>\n",
       "      <td>1.168738e+06</td>\n",
       "    </tr>\n",
       "    <tr>\n",
       "      <th>23</th>\n",
       "      <td>4999000</td>\n",
       "      <td>1.490306e+06</td>\n",
       "    </tr>\n",
       "    <tr>\n",
       "      <th>24</th>\n",
       "      <td>593000</td>\n",
       "      <td>1.232760e+06</td>\n",
       "    </tr>\n",
       "    <tr>\n",
       "      <th>25</th>\n",
       "      <td>2099000</td>\n",
       "      <td>1.867166e+06</td>\n",
       "    </tr>\n",
       "    <tr>\n",
       "      <th>26</th>\n",
       "      <td>1739888</td>\n",
       "      <td>2.733654e+06</td>\n",
       "    </tr>\n",
       "    <tr>\n",
       "      <th>27</th>\n",
       "      <td>1250000</td>\n",
       "      <td>2.687820e+06</td>\n",
       "    </tr>\n",
       "    <tr>\n",
       "      <th>28</th>\n",
       "      <td>1400000</td>\n",
       "      <td>1.867166e+06</td>\n",
       "    </tr>\n",
       "    <tr>\n",
       "      <th>29</th>\n",
       "      <td>680000</td>\n",
       "      <td>1.867166e+06</td>\n",
       "    </tr>\n",
       "    <tr>\n",
       "      <th>30</th>\n",
       "      <td>1095000</td>\n",
       "      <td>1.867166e+06</td>\n",
       "    </tr>\n",
       "    <tr>\n",
       "      <th>31</th>\n",
       "      <td>293000</td>\n",
       "      <td>7.504082e+05</td>\n",
       "    </tr>\n",
       "    <tr>\n",
       "      <th>32</th>\n",
       "      <td>589000</td>\n",
       "      <td>1.078524e+06</td>\n",
       "    </tr>\n",
       "    <tr>\n",
       "      <th>33</th>\n",
       "      <td>279000</td>\n",
       "      <td>1.867166e+06</td>\n",
       "    </tr>\n",
       "    <tr>\n",
       "      <th>34</th>\n",
       "      <td>309000</td>\n",
       "      <td>1.867166e+06</td>\n",
       "    </tr>\n",
       "    <tr>\n",
       "      <th>35</th>\n",
       "      <td>575000</td>\n",
       "      <td>1.867166e+06</td>\n",
       "    </tr>\n",
       "    <tr>\n",
       "      <th>36</th>\n",
       "      <td>250000</td>\n",
       "      <td>8.166134e+05</td>\n",
       "    </tr>\n",
       "    <tr>\n",
       "      <th>37</th>\n",
       "      <td>220000</td>\n",
       "      <td>9.330182e+05</td>\n",
       "    </tr>\n",
       "    <tr>\n",
       "      <th>38</th>\n",
       "      <td>1325000</td>\n",
       "      <td>1.867166e+06</td>\n",
       "    </tr>\n",
       "    <tr>\n",
       "      <th>39</th>\n",
       "      <td>1090000</td>\n",
       "      <td>1.867166e+06</td>\n",
       "    </tr>\n",
       "    <tr>\n",
       "      <th>40</th>\n",
       "      <td>899000</td>\n",
       "      <td>1.867166e+06</td>\n",
       "    </tr>\n",
       "    <tr>\n",
       "      <th>41</th>\n",
       "      <td>700000</td>\n",
       "      <td>6.420063e+05</td>\n",
       "    </tr>\n",
       "    <tr>\n",
       "      <th>42</th>\n",
       "      <td>575000</td>\n",
       "      <td>1.289508e+06</td>\n",
       "    </tr>\n",
       "    <tr>\n",
       "      <th>43</th>\n",
       "      <td>2649000</td>\n",
       "      <td>1.369536e+06</td>\n",
       "    </tr>\n",
       "    <tr>\n",
       "      <th>44</th>\n",
       "      <td>5999000</td>\n",
       "      <td>3.115607e+06</td>\n",
       "    </tr>\n",
       "    <tr>\n",
       "      <th>45</th>\n",
       "      <td>550000</td>\n",
       "      <td>8.027904e+05</td>\n",
       "    </tr>\n",
       "    <tr>\n",
       "      <th>46</th>\n",
       "      <td>1400000</td>\n",
       "      <td>1.442289e+06</td>\n",
       "    </tr>\n",
       "    <tr>\n",
       "      <th>47</th>\n",
       "      <td>299999</td>\n",
       "      <td>9.060996e+05</td>\n",
       "    </tr>\n",
       "    <tr>\n",
       "      <th>48</th>\n",
       "      <td>1288888</td>\n",
       "      <td>1.494671e+06</td>\n",
       "    </tr>\n",
       "    <tr>\n",
       "      <th>49</th>\n",
       "      <td>475000</td>\n",
       "      <td>1.867166e+06</td>\n",
       "    </tr>\n",
       "  </tbody>\n",
       "</table>\n",
       "</div>"
      ],
      "text/plain": [
       "     Actual     Predicted\n",
       "0   1780000  1.867166e+06\n",
       "1    650000  1.867166e+06\n",
       "2   1528000  1.867166e+06\n",
       "3    825000  1.296783e+06\n",
       "4   1650000  1.587795e+06\n",
       "5    349980  1.867166e+06\n",
       "6    799900  1.599435e+06\n",
       "7    668888  1.867166e+06\n",
       "8    199000  1.867166e+06\n",
       "9    369000  9.330182e+05\n",
       "10   278000  8.238887e+05\n",
       "11   625000  1.867166e+06\n",
       "12  8250000  3.130158e+06\n",
       "13   825000  1.867166e+06\n",
       "14   950000  1.005771e+06\n",
       "15  1395000  1.007954e+06\n",
       "16   279000  1.867166e+06\n",
       "17   188000  4.965003e+05\n",
       "18   825000  2.056324e+06\n",
       "19  1499000  2.606337e+06\n",
       "20   599999  1.867166e+06\n",
       "21   686000  1.867166e+06\n",
       "22   594900  1.168738e+06\n",
       "23  4999000  1.490306e+06\n",
       "24   593000  1.232760e+06\n",
       "25  2099000  1.867166e+06\n",
       "26  1739888  2.733654e+06\n",
       "27  1250000  2.687820e+06\n",
       "28  1400000  1.867166e+06\n",
       "29   680000  1.867166e+06\n",
       "30  1095000  1.867166e+06\n",
       "31   293000  7.504082e+05\n",
       "32   589000  1.078524e+06\n",
       "33   279000  1.867166e+06\n",
       "34   309000  1.867166e+06\n",
       "35   575000  1.867166e+06\n",
       "36   250000  8.166134e+05\n",
       "37   220000  9.330182e+05\n",
       "38  1325000  1.867166e+06\n",
       "39  1090000  1.867166e+06\n",
       "40   899000  1.867166e+06\n",
       "41   700000  6.420063e+05\n",
       "42   575000  1.289508e+06\n",
       "43  2649000  1.369536e+06\n",
       "44  5999000  3.115607e+06\n",
       "45   550000  8.027904e+05\n",
       "46  1400000  1.442289e+06\n",
       "47   299999  9.060996e+05\n",
       "48  1288888  1.494671e+06\n",
       "49   475000  1.867166e+06"
      ]
     },
     "execution_count": 65,
     "metadata": {},
     "output_type": "execute_result"
    }
   ],
   "source": [
    "data = pd.DataFrame({'Actual': y_test.flatten(), 'Predicted': y_predicted.flatten()})\n",
    "data.head(50)"
   ]
  },
  {
   "cell_type": "markdown",
   "id": "b617991f",
   "metadata": {},
   "source": [
    "## 4. Regression Analysis - Train Set"
   ]
  },
  {
   "cell_type": "code",
   "execution_count": 66,
   "id": "c9d30f1b",
   "metadata": {},
   "outputs": [],
   "source": [
    "# Predict.\n",
    "\n",
    "y_predicted_train = regression.predict(X_train) # This is predicting X_train!"
   ]
  },
  {
   "cell_type": "code",
   "execution_count": 67,
   "id": "08c2e79b",
   "metadata": {},
   "outputs": [],
   "source": [
    "rmse = mean_squared_error(y_train, y_predicted_train)\n",
    "r2 = r2_score(y_train, y_predicted_train)"
   ]
  },
  {
   "cell_type": "code",
   "execution_count": 68,
   "id": "0b2af895",
   "metadata": {},
   "outputs": [
    {
     "name": "stdout",
     "output_type": "stream",
     "text": [
      "Slope: [[727.52977267]]\n",
      "Mean squared error:  13153969986496.396\n",
      "R2 score:  0.19934922551917722\n"
     ]
    }
   ],
   "source": [
    "print('Slope:' ,regression.coef_)\n",
    "print('Mean squared error: ', rmse)\n",
    "print('R2 score: ', r2)"
   ]
  },
  {
   "cell_type": "code",
   "execution_count": null,
   "id": "f67faf47",
   "metadata": {},
   "outputs": [],
   "source": [
    "#Slightly better R2 score when using set, but ultimately still low as it is from 0-1."
   ]
  },
  {
   "cell_type": "code",
   "execution_count": 69,
   "id": "2234f619",
   "metadata": {},
   "outputs": [
    {
     "data": {
      "image/png": "[encoded data removed]",
      "text/plain": [
       "<Figure size 640x480 with 1 Axes>"
      ]
     },
     "metadata": {},
     "output_type": "display_data"
    }
   ],
   "source": [
    "# Visualizing the training set results.\n",
    "\n",
    "plot_test = plt\n",
    "plot_test.scatter(X_train, y_train, color='green', s = 15)\n",
    "plot_test.plot(X_train, y_predicted_train, color='red', linewidth =3)\n",
    "plot_test.title('Price vs Square Footage (Train set)')\n",
    "plot_test.xlabel('Square Footage')\n",
    "plot_test.ylabel('Price')\n",
    "plot_test.show()"
   ]
  },
  {
   "cell_type": "code",
   "execution_count": null,
   "id": "94a19096",
   "metadata": {},
   "outputs": [],
   "source": [
    "#Slope from Train set is  the same as Test set\n",
    "\n",
    "\n",
    "#Mean Squared Error still extremely high indicating there is a poor relationship \n",
    "\n",
    "#Slightly greater R2 score, not much difference though.\n",
    "\n",
    "#Can conclude there is very minor correlation that as square footage increases price increases. \n",
    "#Size is not the primary determination of the Price.\n",
    "\n"
   ]
  },
  {
   "cell_type": "code",
   "execution_count": null,
   "id": "0ed98e49",
   "metadata": {},
   "outputs": [],
   "source": []
  },
  {
   "cell_type": "code",
   "execution_count": null,
   "id": "e97ebcd9",
   "metadata": {},
   "outputs": [],
   "source": []
  }
 ],
 "metadata": {
  "kernelspec": {
   "display_name": "Python 3 (ipykernel)",
   "language": "python",
   "name": "python3"
  },
  "language_info": {
   "codemirror_mode": {
    "name": "ipython",
    "version": 3
   },
   "file_extension": ".py",
   "mimetype": "text/x-python",
   "name": "python",
   "nbconvert_exporter": "python",
   "pygments_lexer": "ipython3",
   "version": "3.11.5"
  }
 },
 "nbformat": 4,
 "nbformat_minor": 5
}
