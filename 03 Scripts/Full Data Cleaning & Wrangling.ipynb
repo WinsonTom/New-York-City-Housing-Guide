{
 "cells": [
  {
   "cell_type": "code",
   "execution_count": 2,
   "id": "5d9a70dd",
   "metadata": {},
   "outputs": [],
   "source": [
    "import pandas as pd\n",
    "import numpy as np\n",
    "import os"
   ]
  },
  {
   "cell_type": "markdown",
   "id": "63089ca3",
   "metadata": {},
   "source": [
    "## Loading Files"
   ]
  },
  {
   "cell_type": "code",
   "execution_count": 3,
   "id": "4d76ab0a",
   "metadata": {},
   "outputs": [],
   "source": [
    "#Load File\n",
    "\n",
    "DF = pd.read_csv(r'/Users/winsontom/Desktop/Career Foundry/Part 8- Final CF Immersion/01 Project Management/Original Data set NY-House-Dataset.csv')"
   ]
  },
  {
   "cell_type": "code",
   "execution_count": 4,
   "id": "ccdda640",
   "metadata": {},
   "outputs": [
    {
     "data": {
      "text/html": [
       "<div>\n",
       "<style scoped>\n",
       "    .dataframe tbody tr th:only-of-type {\n",
       "        vertical-align: middle;\n",
       "    }\n",
       "\n",
       "    .dataframe tbody tr th {\n",
       "        vertical-align: top;\n",
       "    }\n",
       "\n",
       "    .dataframe thead th {\n",
       "        text-align: right;\n",
       "    }\n",
       "</style>\n",
       "<table border=\"1\" class=\"dataframe\">\n",
       "  <thead>\n",
       "    <tr style=\"text-align: right;\">\n",
       "      <th></th>\n",
       "      <th>BROKERTITLE</th>\n",
       "      <th>TYPE</th>\n",
       "      <th>PRICE</th>\n",
       "      <th>BEDS</th>\n",
       "      <th>BATH</th>\n",
       "      <th>PROPERTYSQFT</th>\n",
       "      <th>ADDRESS</th>\n",
       "      <th>STATE</th>\n",
       "      <th>MAIN_ADDRESS</th>\n",
       "      <th>ADMINISTRATIVE_AREA_LEVEL_2</th>\n",
       "      <th>LOCALITY</th>\n",
       "      <th>SUBLOCALITY</th>\n",
       "      <th>STREET_NAME</th>\n",
       "      <th>LONG_NAME</th>\n",
       "      <th>FORMATTED_ADDRESS</th>\n",
       "      <th>LATITUDE</th>\n",
       "      <th>LONGITUDE</th>\n",
       "    </tr>\n",
       "  </thead>\n",
       "  <tbody>\n",
       "    <tr>\n",
       "      <th>0</th>\n",
       "      <td>Brokered by Douglas Elliman  -111 Fifth Ave</td>\n",
       "      <td>Condo for sale</td>\n",
       "      <td>315000</td>\n",
       "      <td>2</td>\n",
       "      <td>2.0</td>\n",
       "      <td>1400.0</td>\n",
       "      <td>2 E 55th St Unit 803</td>\n",
       "      <td>New York, NY 10022</td>\n",
       "      <td>2 E 55th St Unit 803New York, NY 10022</td>\n",
       "      <td>New York County</td>\n",
       "      <td>New York</td>\n",
       "      <td>Manhattan</td>\n",
       "      <td>East 55th Street</td>\n",
       "      <td>Regis Residence</td>\n",
       "      <td>Regis Residence, 2 E 55th St #803, New York, N...</td>\n",
       "      <td>40.761255</td>\n",
       "      <td>-73.974483</td>\n",
       "    </tr>\n",
       "  </tbody>\n",
       "</table>\n",
       "</div>"
      ],
      "text/plain": [
       "                                   BROKERTITLE            TYPE   PRICE  BEDS  \\\n",
       "0  Brokered by Douglas Elliman  -111 Fifth Ave  Condo for sale  315000     2   \n",
       "\n",
       "   BATH  PROPERTYSQFT               ADDRESS               STATE  \\\n",
       "0   2.0        1400.0  2 E 55th St Unit 803  New York, NY 10022   \n",
       "\n",
       "                             MAIN_ADDRESS ADMINISTRATIVE_AREA_LEVEL_2  \\\n",
       "0  2 E 55th St Unit 803New York, NY 10022             New York County   \n",
       "\n",
       "   LOCALITY SUBLOCALITY       STREET_NAME        LONG_NAME  \\\n",
       "0  New York   Manhattan  East 55th Street  Regis Residence   \n",
       "\n",
       "                                   FORMATTED_ADDRESS   LATITUDE  LONGITUDE  \n",
       "0  Regis Residence, 2 E 55th St #803, New York, N...  40.761255 -73.974483  "
      ]
     },
     "execution_count": 4,
     "metadata": {},
     "output_type": "execute_result"
    }
   ],
   "source": [
    "#Checking to see file is sucesfully loaded\n",
    "\n",
    "DF.head(1)"
   ]
  },
  {
   "cell_type": "code",
   "execution_count": 5,
   "id": "ebf26d00",
   "metadata": {},
   "outputs": [
    {
     "data": {
      "text/plain": [
       "(4801, 17)"
      ]
     },
     "execution_count": 5,
     "metadata": {},
     "output_type": "execute_result"
    }
   ],
   "source": [
    "#Checking to see if everything is loaded\n",
    "\n",
    "# 4801 rows and 17 columns\n",
    "DF.shape"
   ]
  },
  {
   "cell_type": "markdown",
   "id": "2bfab636",
   "metadata": {},
   "source": [
    "## Removing Duplicates"
   ]
  },
  {
   "cell_type": "code",
   "execution_count": 6,
   "id": "3c1152bf",
   "metadata": {},
   "outputs": [
    {
     "data": {
      "text/html": [
       "<div>\n",
       "<style scoped>\n",
       "    .dataframe tbody tr th:only-of-type {\n",
       "        vertical-align: middle;\n",
       "    }\n",
       "\n",
       "    .dataframe tbody tr th {\n",
       "        vertical-align: top;\n",
       "    }\n",
       "\n",
       "    .dataframe thead th {\n",
       "        text-align: right;\n",
       "    }\n",
       "</style>\n",
       "<table border=\"1\" class=\"dataframe\">\n",
       "  <thead>\n",
       "    <tr style=\"text-align: right;\">\n",
       "      <th></th>\n",
       "      <th>BROKERTITLE</th>\n",
       "      <th>TYPE</th>\n",
       "      <th>PRICE</th>\n",
       "      <th>BEDS</th>\n",
       "      <th>BATH</th>\n",
       "      <th>PROPERTYSQFT</th>\n",
       "      <th>ADDRESS</th>\n",
       "      <th>STATE</th>\n",
       "      <th>MAIN_ADDRESS</th>\n",
       "      <th>ADMINISTRATIVE_AREA_LEVEL_2</th>\n",
       "      <th>LOCALITY</th>\n",
       "      <th>SUBLOCALITY</th>\n",
       "      <th>STREET_NAME</th>\n",
       "      <th>LONG_NAME</th>\n",
       "      <th>FORMATTED_ADDRESS</th>\n",
       "      <th>LATITUDE</th>\n",
       "      <th>LONGITUDE</th>\n",
       "    </tr>\n",
       "  </thead>\n",
       "  <tbody>\n",
       "    <tr>\n",
       "      <th>0</th>\n",
       "      <td>Brokered by Douglas Elliman  -111 Fifth Ave</td>\n",
       "      <td>Condo for sale</td>\n",
       "      <td>315000</td>\n",
       "      <td>2</td>\n",
       "      <td>2.000000</td>\n",
       "      <td>1400.000000</td>\n",
       "      <td>2 E 55th St Unit 803</td>\n",
       "      <td>New York, NY 10022</td>\n",
       "      <td>2 E 55th St Unit 803New York, NY 10022</td>\n",
       "      <td>New York County</td>\n",
       "      <td>New York</td>\n",
       "      <td>Manhattan</td>\n",
       "      <td>East 55th Street</td>\n",
       "      <td>Regis Residence</td>\n",
       "      <td>Regis Residence, 2 E 55th St #803, New York, N...</td>\n",
       "      <td>40.761255</td>\n",
       "      <td>-73.974483</td>\n",
       "    </tr>\n",
       "    <tr>\n",
       "      <th>1</th>\n",
       "      <td>Brokered by Serhant</td>\n",
       "      <td>Condo for sale</td>\n",
       "      <td>195000000</td>\n",
       "      <td>7</td>\n",
       "      <td>10.000000</td>\n",
       "      <td>17545.000000</td>\n",
       "      <td>Central Park Tower Penthouse-217 W 57th New Yo...</td>\n",
       "      <td>New York, NY 10019</td>\n",
       "      <td>Central Park Tower Penthouse-217 W 57th New Yo...</td>\n",
       "      <td>United States</td>\n",
       "      <td>New York</td>\n",
       "      <td>New York County</td>\n",
       "      <td>New York</td>\n",
       "      <td>West 57th Street</td>\n",
       "      <td>217 W 57th St, New York, NY 10019, USA</td>\n",
       "      <td>40.766393</td>\n",
       "      <td>-73.980991</td>\n",
       "    </tr>\n",
       "    <tr>\n",
       "      <th>2</th>\n",
       "      <td>Brokered by Sowae Corp</td>\n",
       "      <td>House for sale</td>\n",
       "      <td>260000</td>\n",
       "      <td>4</td>\n",
       "      <td>2.000000</td>\n",
       "      <td>2015.000000</td>\n",
       "      <td>620 Sinclair Ave</td>\n",
       "      <td>Staten Island, NY 10312</td>\n",
       "      <td>620 Sinclair AveStaten Island, NY 10312</td>\n",
       "      <td>United States</td>\n",
       "      <td>New York</td>\n",
       "      <td>Richmond County</td>\n",
       "      <td>Staten Island</td>\n",
       "      <td>Sinclair Avenue</td>\n",
       "      <td>620 Sinclair Ave, Staten Island, NY 10312, USA</td>\n",
       "      <td>40.541805</td>\n",
       "      <td>-74.196109</td>\n",
       "    </tr>\n",
       "    <tr>\n",
       "      <th>3</th>\n",
       "      <td>Brokered by COMPASS</td>\n",
       "      <td>Condo for sale</td>\n",
       "      <td>69000</td>\n",
       "      <td>3</td>\n",
       "      <td>1.000000</td>\n",
       "      <td>445.000000</td>\n",
       "      <td>2 E 55th St Unit 908W33</td>\n",
       "      <td>Manhattan, NY 10022</td>\n",
       "      <td>2 E 55th St Unit 908W33Manhattan, NY 10022</td>\n",
       "      <td>United States</td>\n",
       "      <td>New York</td>\n",
       "      <td>New York County</td>\n",
       "      <td>New York</td>\n",
       "      <td>East 55th Street</td>\n",
       "      <td>2 E 55th St, New York, NY 10022, USA</td>\n",
       "      <td>40.761398</td>\n",
       "      <td>-73.974613</td>\n",
       "    </tr>\n",
       "    <tr>\n",
       "      <th>4</th>\n",
       "      <td>Brokered by Sotheby's International Realty - E...</td>\n",
       "      <td>Townhouse for sale</td>\n",
       "      <td>55000000</td>\n",
       "      <td>7</td>\n",
       "      <td>2.373861</td>\n",
       "      <td>14175.000000</td>\n",
       "      <td>5 E 64th St</td>\n",
       "      <td>New York, NY 10065</td>\n",
       "      <td>5 E 64th StNew York, NY 10065</td>\n",
       "      <td>United States</td>\n",
       "      <td>New York</td>\n",
       "      <td>New York County</td>\n",
       "      <td>New York</td>\n",
       "      <td>East 64th Street</td>\n",
       "      <td>5 E 64th St, New York, NY 10065, USA</td>\n",
       "      <td>40.767224</td>\n",
       "      <td>-73.969856</td>\n",
       "    </tr>\n",
       "    <tr>\n",
       "      <th>5</th>\n",
       "      <td>Brokered by Sowae Corp</td>\n",
       "      <td>House for sale</td>\n",
       "      <td>690000</td>\n",
       "      <td>5</td>\n",
       "      <td>2.000000</td>\n",
       "      <td>4004.000000</td>\n",
       "      <td>584 Park Pl</td>\n",
       "      <td>Brooklyn, NY 11238</td>\n",
       "      <td>584 Park PlBrooklyn, NY 11238</td>\n",
       "      <td>United States</td>\n",
       "      <td>New York</td>\n",
       "      <td>Kings County</td>\n",
       "      <td>Brooklyn</td>\n",
       "      <td>Park Place</td>\n",
       "      <td>584 Park Pl, Brooklyn, NY 11238, USA</td>\n",
       "      <td>40.674363</td>\n",
       "      <td>-73.958725</td>\n",
       "    </tr>\n",
       "    <tr>\n",
       "      <th>6</th>\n",
       "      <td>Brokered by Douglas Elliman - 575 Madison Ave</td>\n",
       "      <td>Condo for sale</td>\n",
       "      <td>899500</td>\n",
       "      <td>2</td>\n",
       "      <td>2.000000</td>\n",
       "      <td>2184.207862</td>\n",
       "      <td>157 W 126th St Unit 1B</td>\n",
       "      <td>New York, NY 10027</td>\n",
       "      <td>157 W 126th St Unit 1BNew York, NY 10027</td>\n",
       "      <td>New York</td>\n",
       "      <td>New York County</td>\n",
       "      <td>New York</td>\n",
       "      <td>Manhattan</td>\n",
       "      <td>157</td>\n",
       "      <td>157 W 126th St #1b, New York, NY 10027, USA</td>\n",
       "      <td>40.809448</td>\n",
       "      <td>-73.946777</td>\n",
       "    </tr>\n",
       "    <tr>\n",
       "      <th>7</th>\n",
       "      <td>Brokered by Connie Profaci Realty</td>\n",
       "      <td>House for sale</td>\n",
       "      <td>16800000</td>\n",
       "      <td>8</td>\n",
       "      <td>16.000000</td>\n",
       "      <td>33000.000000</td>\n",
       "      <td>177 Benedict Rd</td>\n",
       "      <td>Staten Island, NY 10304</td>\n",
       "      <td>177 Benedict RdStaten Island, NY 10304</td>\n",
       "      <td>United States</td>\n",
       "      <td>New York</td>\n",
       "      <td>Richmond County</td>\n",
       "      <td>Staten Island</td>\n",
       "      <td>Benedict Road</td>\n",
       "      <td>177 Benedict Rd, Staten Island, NY 10304, USA</td>\n",
       "      <td>40.595002</td>\n",
       "      <td>-74.106424</td>\n",
       "    </tr>\n",
       "    <tr>\n",
       "      <th>8</th>\n",
       "      <td>Brokered by Pantiga Group Inc.</td>\n",
       "      <td>Co-op for sale</td>\n",
       "      <td>265000</td>\n",
       "      <td>1</td>\n",
       "      <td>1.000000</td>\n",
       "      <td>750.000000</td>\n",
       "      <td>875 Morrison Ave Apt 3M</td>\n",
       "      <td>Bronx, NY 10473</td>\n",
       "      <td>875 Morrison Ave Apt 3MBronx, NY 10473</td>\n",
       "      <td>Bronx County</td>\n",
       "      <td>The Bronx</td>\n",
       "      <td>East Bronx</td>\n",
       "      <td>Morrison Avenue</td>\n",
       "      <td>Parking lot</td>\n",
       "      <td>Parking lot, 875 Morrison Ave #3m, Bronx, NY 1...</td>\n",
       "      <td>40.821586</td>\n",
       "      <td>-73.874089</td>\n",
       "    </tr>\n",
       "    <tr>\n",
       "      <th>9</th>\n",
       "      <td>Brokered by CENTURY 21 MK Realty</td>\n",
       "      <td>Co-op for sale</td>\n",
       "      <td>440000</td>\n",
       "      <td>2</td>\n",
       "      <td>1.000000</td>\n",
       "      <td>978.000000</td>\n",
       "      <td>1350 Ocean Pkwy Apt 5G</td>\n",
       "      <td>Brooklyn, NY 11230</td>\n",
       "      <td>1350 Ocean Pkwy Apt 5GBrooklyn, NY 11230</td>\n",
       "      <td>New York</td>\n",
       "      <td>Kings County</td>\n",
       "      <td>Brooklyn</td>\n",
       "      <td>Midwood</td>\n",
       "      <td>1350</td>\n",
       "      <td>1350 Ocean Pkwy #5g, Brooklyn, NY 11230, USA</td>\n",
       "      <td>40.615738</td>\n",
       "      <td>-73.969694</td>\n",
       "    </tr>\n",
       "  </tbody>\n",
       "</table>\n",
       "</div>"
      ],
      "text/plain": [
       "                                         BROKERTITLE                TYPE  \\\n",
       "0        Brokered by Douglas Elliman  -111 Fifth Ave      Condo for sale   \n",
       "1                                Brokered by Serhant      Condo for sale   \n",
       "2                             Brokered by Sowae Corp      House for sale   \n",
       "3                                Brokered by COMPASS      Condo for sale   \n",
       "4  Brokered by Sotheby's International Realty - E...  Townhouse for sale   \n",
       "5                             Brokered by Sowae Corp      House for sale   \n",
       "6      Brokered by Douglas Elliman - 575 Madison Ave      Condo for sale   \n",
       "7                  Brokered by Connie Profaci Realty      House for sale   \n",
       "8                     Brokered by Pantiga Group Inc.      Co-op for sale   \n",
       "9                   Brokered by CENTURY 21 MK Realty      Co-op for sale   \n",
       "\n",
       "       PRICE  BEDS       BATH  PROPERTYSQFT  \\\n",
       "0     315000     2   2.000000   1400.000000   \n",
       "1  195000000     7  10.000000  17545.000000   \n",
       "2     260000     4   2.000000   2015.000000   \n",
       "3      69000     3   1.000000    445.000000   \n",
       "4   55000000     7   2.373861  14175.000000   \n",
       "5     690000     5   2.000000   4004.000000   \n",
       "6     899500     2   2.000000   2184.207862   \n",
       "7   16800000     8  16.000000  33000.000000   \n",
       "8     265000     1   1.000000    750.000000   \n",
       "9     440000     2   1.000000    978.000000   \n",
       "\n",
       "                                             ADDRESS                    STATE  \\\n",
       "0                               2 E 55th St Unit 803       New York, NY 10022   \n",
       "1  Central Park Tower Penthouse-217 W 57th New Yo...       New York, NY 10019   \n",
       "2                                   620 Sinclair Ave  Staten Island, NY 10312   \n",
       "3                            2 E 55th St Unit 908W33      Manhattan, NY 10022   \n",
       "4                                        5 E 64th St       New York, NY 10065   \n",
       "5                                        584 Park Pl       Brooklyn, NY 11238   \n",
       "6                             157 W 126th St Unit 1B       New York, NY 10027   \n",
       "7                                    177 Benedict Rd  Staten Island, NY 10304   \n",
       "8                            875 Morrison Ave Apt 3M          Bronx, NY 10473   \n",
       "9                             1350 Ocean Pkwy Apt 5G       Brooklyn, NY 11230   \n",
       "\n",
       "                                        MAIN_ADDRESS  \\\n",
       "0             2 E 55th St Unit 803New York, NY 10022   \n",
       "1  Central Park Tower Penthouse-217 W 57th New Yo...   \n",
       "2            620 Sinclair AveStaten Island, NY 10312   \n",
       "3         2 E 55th St Unit 908W33Manhattan, NY 10022   \n",
       "4                      5 E 64th StNew York, NY 10065   \n",
       "5                      584 Park PlBrooklyn, NY 11238   \n",
       "6           157 W 126th St Unit 1BNew York, NY 10027   \n",
       "7             177 Benedict RdStaten Island, NY 10304   \n",
       "8             875 Morrison Ave Apt 3MBronx, NY 10473   \n",
       "9           1350 Ocean Pkwy Apt 5GBrooklyn, NY 11230   \n",
       "\n",
       "  ADMINISTRATIVE_AREA_LEVEL_2         LOCALITY      SUBLOCALITY  \\\n",
       "0             New York County         New York        Manhattan   \n",
       "1               United States         New York  New York County   \n",
       "2               United States         New York  Richmond County   \n",
       "3               United States         New York  New York County   \n",
       "4               United States         New York  New York County   \n",
       "5               United States         New York     Kings County   \n",
       "6                    New York  New York County         New York   \n",
       "7               United States         New York  Richmond County   \n",
       "8                Bronx County        The Bronx       East Bronx   \n",
       "9                    New York     Kings County         Brooklyn   \n",
       "\n",
       "        STREET_NAME         LONG_NAME  \\\n",
       "0  East 55th Street   Regis Residence   \n",
       "1          New York  West 57th Street   \n",
       "2     Staten Island   Sinclair Avenue   \n",
       "3          New York  East 55th Street   \n",
       "4          New York  East 64th Street   \n",
       "5          Brooklyn        Park Place   \n",
       "6         Manhattan               157   \n",
       "7     Staten Island     Benedict Road   \n",
       "8   Morrison Avenue       Parking lot   \n",
       "9           Midwood              1350   \n",
       "\n",
       "                                   FORMATTED_ADDRESS   LATITUDE  LONGITUDE  \n",
       "0  Regis Residence, 2 E 55th St #803, New York, N...  40.761255 -73.974483  \n",
       "1             217 W 57th St, New York, NY 10019, USA  40.766393 -73.980991  \n",
       "2     620 Sinclair Ave, Staten Island, NY 10312, USA  40.541805 -74.196109  \n",
       "3               2 E 55th St, New York, NY 10022, USA  40.761398 -73.974613  \n",
       "4               5 E 64th St, New York, NY 10065, USA  40.767224 -73.969856  \n",
       "5               584 Park Pl, Brooklyn, NY 11238, USA  40.674363 -73.958725  \n",
       "6        157 W 126th St #1b, New York, NY 10027, USA  40.809448 -73.946777  \n",
       "7      177 Benedict Rd, Staten Island, NY 10304, USA  40.595002 -74.106424  \n",
       "8  Parking lot, 875 Morrison Ave #3m, Bronx, NY 1...  40.821586 -73.874089  \n",
       "9       1350 Ocean Pkwy #5g, Brooklyn, NY 11230, USA  40.615738 -73.969694  "
      ]
     },
     "execution_count": 6,
     "metadata": {},
     "output_type": "execute_result"
    }
   ],
   "source": [
    "#First impression of data\n",
    "\n",
    "DF.head(10)"
   ]
  },
  {
   "cell_type": "code",
   "execution_count": 7,
   "id": "6b1a265f",
   "metadata": {},
   "outputs": [],
   "source": [
    "#Removing Duplicates\n",
    "\n",
    "DF1 = DF.drop_duplicates()"
   ]
  },
  {
   "cell_type": "code",
   "execution_count": 8,
   "id": "4dc0255d",
   "metadata": {},
   "outputs": [
    {
     "data": {
      "text/plain": [
       "(4587, 17)"
      ]
     },
     "execution_count": 8,
     "metadata": {},
     "output_type": "execute_result"
    }
   ],
   "source": [
    "#Checking row and columns after removing duplicates\n",
    "\n",
    "DF1.shape"
   ]
  },
  {
   "cell_type": "code",
   "execution_count": 9,
   "id": "069125b2",
   "metadata": {},
   "outputs": [],
   "source": [
    "#Previously we had (# 4801 rows and 17 columns).\n",
    "#Now we have (# 4587 rows and 17 columns).\n",
    "\n",
    "#We deleted 214 rows of duplicates"
   ]
  },
  {
   "cell_type": "markdown",
   "id": "bb4d46c3",
   "metadata": {},
   "source": [
    "## Exploring Overall data "
   ]
  },
  {
   "cell_type": "code",
   "execution_count": 10,
   "id": "f6961c9c",
   "metadata": {},
   "outputs": [
    {
     "name": "stdout",
     "output_type": "stream",
     "text": [
      "<class 'pandas.core.frame.DataFrame'>\n",
      "Index: 4587 entries, 0 to 4800\n",
      "Data columns (total 17 columns):\n",
      " #   Column                       Non-Null Count  Dtype  \n",
      "---  ------                       --------------  -----  \n",
      " 0   BROKERTITLE                  4587 non-null   object \n",
      " 1   TYPE                         4587 non-null   object \n",
      " 2   PRICE                        4587 non-null   int64  \n",
      " 3   BEDS                         4587 non-null   int64  \n",
      " 4   BATH                         4587 non-null   float64\n",
      " 5   PROPERTYSQFT                 4587 non-null   float64\n",
      " 6   ADDRESS                      4587 non-null   object \n",
      " 7   STATE                        4587 non-null   object \n",
      " 8   MAIN_ADDRESS                 4587 non-null   object \n",
      " 9   ADMINISTRATIVE_AREA_LEVEL_2  4587 non-null   object \n",
      " 10  LOCALITY                     4587 non-null   object \n",
      " 11  SUBLOCALITY                  4587 non-null   object \n",
      " 12  STREET_NAME                  4587 non-null   object \n",
      " 13  LONG_NAME                    4587 non-null   object \n",
      " 14  FORMATTED_ADDRESS            4587 non-null   object \n",
      " 15  LATITUDE                     4587 non-null   float64\n",
      " 16  LONGITUDE                    4587 non-null   float64\n",
      "dtypes: float64(4), int64(2), object(11)\n",
      "memory usage: 645.0+ KB\n"
     ]
    }
   ],
   "source": [
    "#Identifying if all cells/rows are filled out. They are all containing a value\n",
    "\n",
    "DF1.info()"
   ]
  },
  {
   "cell_type": "code",
   "execution_count": 11,
   "id": "619e0bb7",
   "metadata": {},
   "outputs": [
    {
     "data": {
      "text/plain": [
       "BROKERTITLE                     object\n",
       "TYPE                            object\n",
       "PRICE                            int64\n",
       "BEDS                             int64\n",
       "BATH                           float64\n",
       "PROPERTYSQFT                   float64\n",
       "ADDRESS                         object\n",
       "STATE                           object\n",
       "MAIN_ADDRESS                    object\n",
       "ADMINISTRATIVE_AREA_LEVEL_2     object\n",
       "LOCALITY                        object\n",
       "SUBLOCALITY                     object\n",
       "STREET_NAME                     object\n",
       "LONG_NAME                       object\n",
       "FORMATTED_ADDRESS               object\n",
       "LATITUDE                       float64\n",
       "LONGITUDE                      float64\n",
       "dtype: object"
      ]
     },
     "execution_count": 11,
     "metadata": {},
     "output_type": "execute_result"
    }
   ],
   "source": [
    "#Checking the types of data in each column\n",
    "\n",
    "DF1.dtypes"
   ]
  },
  {
   "cell_type": "code",
   "execution_count": 13,
   "id": "9c25ff26",
   "metadata": {},
   "outputs": [
    {
     "ename": "SyntaxError",
     "evalue": "invalid syntax (3188327947.py, line 3)",
     "output_type": "error",
     "traceback": [
      "\u001b[0;36m  Cell \u001b[0;32mIn[13], line 3\u001b[0;36m\u001b[0m\n\u001b[0;31m    Price, Beds are integers\u001b[0m\n\u001b[0m                ^\u001b[0m\n\u001b[0;31mSyntaxError\u001b[0m\u001b[0;31m:\u001b[0m invalid syntax\n"
     ]
    }
   ],
   "source": [
    "#Variations in data type detected, even among numerical values.\n",
    "\n",
    "Price, Beds are integers\n",
    "Bath, Property SQFT are float64\n",
    "Latitude & Longitude are float64\n",
    "\n",
    "This leads to the question, what is the difference?\n",
    "float values  have potential decimal places\n",
    "int only stores whole numbers\n",
    "\n",
    "Property SqFt should have decimal places, although we should round to the nearest whole number.\n",
    "Bath should be a whole number, will need to inspect further.\n",
    "\n",
    "Latitude and Longitude should remain float64 with decimal places for mapping purposes"
   ]
  },
  {
   "cell_type": "markdown",
   "id": "bae1b377",
   "metadata": {},
   "source": [
    "## Exploring Bathroom numbers "
   ]
  },
  {
   "cell_type": "code",
   "execution_count": 16,
   "id": "96b06b79",
   "metadata": {},
   "outputs": [
    {
     "data": {
      "text/plain": [
       "Index(['BROKERTITLE', 'TYPE', 'PRICE', 'BEDS', 'BATH', 'PROPERTYSQFT',\n",
       "       'ADDRESS', 'STATE', 'MAIN_ADDRESS', 'ADMINISTRATIVE_AREA_LEVEL_2',\n",
       "       'LOCALITY', 'SUBLOCALITY', 'STREET_NAME', 'LONG_NAME',\n",
       "       'FORMATTED_ADDRESS', 'LATITUDE', 'LONGITUDE'],\n",
       "      dtype='object')"
      ]
     },
     "execution_count": 16,
     "metadata": {},
     "output_type": "execute_result"
    }
   ],
   "source": [
    "#Identifying the specific column name for Bath\n",
    "\n",
    "DF1.columns"
   ]
  },
  {
   "cell_type": "code",
   "execution_count": 17,
   "id": "64dd1bed",
   "metadata": {},
   "outputs": [
    {
     "data": {
      "text/plain": [
       "BATH\n",
       "2.000000     1593\n",
       "1.000000     1456\n",
       "4.000000      464\n",
       "3.000000      447\n",
       "2.373861      288\n",
       "6.000000      134\n",
       "5.000000       95\n",
       "8.000000       43\n",
       "7.000000       23\n",
       "10.000000      16\n",
       "9.000000        7\n",
       "16.000000       5\n",
       "20.000000       3\n",
       "12.000000       3\n",
       "11.000000       2\n",
       "0.000000        2\n",
       "32.000000       1\n",
       "13.000000       1\n",
       "50.000000       1\n",
       "24.000000       1\n",
       "43.000000       1\n",
       "17.000000       1\n",
       "Name: count, dtype: int64"
      ]
     },
     "execution_count": 17,
     "metadata": {},
     "output_type": "execute_result"
    }
   ],
   "source": [
    "#Checking BATH column values\n",
    "\n",
    "DF1['BATH'].value_counts(dropna = False)"
   ]
  },
  {
   "cell_type": "code",
   "execution_count": null,
   "id": "512cf8c0",
   "metadata": {},
   "outputs": [],
   "source": [
    "# Why are there 288 results for 2.3738608579684373 bathrooms?"
   ]
  },
  {
   "cell_type": "markdown",
   "id": "3bc24f12",
   "metadata": {},
   "source": [
    "## Converting Data Types (Int64 to Strings)"
   ]
  },
  {
   "cell_type": "code",
   "execution_count": null,
   "id": "35d7c96d",
   "metadata": {},
   "outputs": [],
   "source": [
    "# Select dataframe where BATH result is 2.2.3738608579684373. \n",
    "#In order to do this we had to convert the data type from int64 to strings"
   ]
  },
  {
   "cell_type": "code",
   "execution_count": 18,
   "id": "3917ad00",
   "metadata": {},
   "outputs": [
    {
     "name": "stderr",
     "output_type": "stream",
     "text": [
      "/var/folders/yj/v30db1v90zs0p0pvttp796cm0000gp/T/ipykernel_4917/3611742715.py:1: SettingWithCopyWarning: \n",
      "A value is trying to be set on a copy of a slice from a DataFrame.\n",
      "Try using .loc[row_indexer,col_indexer] = value instead\n",
      "\n",
      "See the caveats in the documentation: https://pandas.pydata.org/pandas-docs/stable/user_guide/indexing.html#returning-a-view-versus-a-copy\n",
      "  DF1['BATH'] = DF1['BATH'].astype('str')\n"
     ]
    }
   ],
   "source": [
    "#Changing Bath to String\n",
    "\n",
    "DF1['BATH'] = DF1['BATH'].astype('str')"
   ]
  },
  {
   "cell_type": "code",
   "execution_count": 19,
   "id": "fc60aa2b",
   "metadata": {},
   "outputs": [
    {
     "name": "stderr",
     "output_type": "stream",
     "text": [
      "/var/folders/yj/v30db1v90zs0p0pvttp796cm0000gp/T/ipykernel_4917/2704713290.py:1: SettingWithCopyWarning: \n",
      "A value is trying to be set on a copy of a slice from a DataFrame.\n",
      "Try using .loc[row_indexer,col_indexer] = value instead\n",
      "\n",
      "See the caveats in the documentation: https://pandas.pydata.org/pandas-docs/stable/user_guide/indexing.html#returning-a-view-versus-a-copy\n",
      "  DF1['BEDS'] = DF1['BEDS'].astype('str')\n"
     ]
    }
   ],
   "source": [
    "DF1['BEDS'] = DF1['BEDS'].astype('str')"
   ]
  },
  {
   "cell_type": "code",
   "execution_count": 20,
   "id": "9a8d896d",
   "metadata": {
    "scrolled": true
   },
   "outputs": [
    {
     "data": {
      "text/plain": [
       "BROKERTITLE                     object\n",
       "TYPE                            object\n",
       "PRICE                            int64\n",
       "BEDS                            object\n",
       "BATH                            object\n",
       "PROPERTYSQFT                   float64\n",
       "ADDRESS                         object\n",
       "STATE                           object\n",
       "MAIN_ADDRESS                    object\n",
       "ADMINISTRATIVE_AREA_LEVEL_2     object\n",
       "LOCALITY                        object\n",
       "SUBLOCALITY                     object\n",
       "STREET_NAME                     object\n",
       "LONG_NAME                       object\n",
       "FORMATTED_ADDRESS               object\n",
       "LATITUDE                       float64\n",
       "LONGITUDE                      float64\n",
       "dtype: object"
      ]
     },
     "execution_count": 20,
     "metadata": {},
     "output_type": "execute_result"
    }
   ],
   "source": [
    "DF1.dtypes"
   ]
  },
  {
   "cell_type": "code",
   "execution_count": 21,
   "id": "3f2c8acd",
   "metadata": {
    "scrolled": true
   },
   "outputs": [],
   "source": [
    "#Create a filter for all BATH Results of 2.3738608579684373\n",
    "\n",
    "filt = DF1['BATH'].str.contains('2.3738608579684373', na=False)"
   ]
  },
  {
   "cell_type": "code",
   "execution_count": 22,
   "id": "70021aa0",
   "metadata": {},
   "outputs": [
    {
     "data": {
      "text/html": [
       "<div>\n",
       "<style scoped>\n",
       "    .dataframe tbody tr th:only-of-type {\n",
       "        vertical-align: middle;\n",
       "    }\n",
       "\n",
       "    .dataframe tbody tr th {\n",
       "        vertical-align: top;\n",
       "    }\n",
       "\n",
       "    .dataframe thead th {\n",
       "        text-align: right;\n",
       "    }\n",
       "</style>\n",
       "<table border=\"1\" class=\"dataframe\">\n",
       "  <thead>\n",
       "    <tr style=\"text-align: right;\">\n",
       "      <th></th>\n",
       "      <th>BROKERTITLE</th>\n",
       "      <th>TYPE</th>\n",
       "      <th>PRICE</th>\n",
       "      <th>BEDS</th>\n",
       "      <th>BATH</th>\n",
       "      <th>PROPERTYSQFT</th>\n",
       "      <th>ADDRESS</th>\n",
       "      <th>STATE</th>\n",
       "      <th>MAIN_ADDRESS</th>\n",
       "      <th>ADMINISTRATIVE_AREA_LEVEL_2</th>\n",
       "      <th>LOCALITY</th>\n",
       "      <th>SUBLOCALITY</th>\n",
       "      <th>STREET_NAME</th>\n",
       "      <th>LONG_NAME</th>\n",
       "      <th>FORMATTED_ADDRESS</th>\n",
       "      <th>LATITUDE</th>\n",
       "      <th>LONGITUDE</th>\n",
       "    </tr>\n",
       "  </thead>\n",
       "  <tbody>\n",
       "    <tr>\n",
       "      <th>4</th>\n",
       "      <td>Brokered by Sotheby's International Realty - E...</td>\n",
       "      <td>Townhouse for sale</td>\n",
       "      <td>55000000</td>\n",
       "      <td>7</td>\n",
       "      <td>2.3738608579684373</td>\n",
       "      <td>14175.000000</td>\n",
       "      <td>5 E 64th St</td>\n",
       "      <td>New York, NY 10065</td>\n",
       "      <td>5 E 64th StNew York, NY 10065</td>\n",
       "      <td>United States</td>\n",
       "      <td>New York</td>\n",
       "      <td>New York County</td>\n",
       "      <td>New York</td>\n",
       "      <td>East 64th Street</td>\n",
       "      <td>5 E 64th St, New York, NY 10065, USA</td>\n",
       "      <td>40.767224</td>\n",
       "      <td>-73.969856</td>\n",
       "    </tr>\n",
       "    <tr>\n",
       "      <th>11</th>\n",
       "      <td>Brokered by Re/Max Edge</td>\n",
       "      <td>Townhouse for sale</td>\n",
       "      <td>689000</td>\n",
       "      <td>3</td>\n",
       "      <td>2.3738608579684373</td>\n",
       "      <td>1162.000000</td>\n",
       "      <td>456 Van Name Ave</td>\n",
       "      <td>Staten Island, NY 10303</td>\n",
       "      <td>456 Van Name AveStaten Island, NY 10303</td>\n",
       "      <td>United States</td>\n",
       "      <td>New York</td>\n",
       "      <td>Richmond County</td>\n",
       "      <td>Staten Island</td>\n",
       "      <td>Van Name Avenue</td>\n",
       "      <td>456 Van Name Ave, Staten Island, NY 10303, USA</td>\n",
       "      <td>40.624996</td>\n",
       "      <td>-74.155306</td>\n",
       "    </tr>\n",
       "    <tr>\n",
       "      <th>27</th>\n",
       "      <td>Brokered by Century 21 Realty First</td>\n",
       "      <td>Multi-family home for sale</td>\n",
       "      <td>2250000</td>\n",
       "      <td>12</td>\n",
       "      <td>2.3738608579684373</td>\n",
       "      <td>5670.000000</td>\n",
       "      <td>2361 81st St</td>\n",
       "      <td>Brooklyn, NY 11214</td>\n",
       "      <td>2361 81st StBrooklyn, NY 11214</td>\n",
       "      <td>11214</td>\n",
       "      <td>United States</td>\n",
       "      <td>New York</td>\n",
       "      <td>Kings County</td>\n",
       "      <td>81st Street</td>\n",
       "      <td>2361 81st St, Brooklyn, NY 11214, USA</td>\n",
       "      <td>40.602654</td>\n",
       "      <td>-73.986940</td>\n",
       "    </tr>\n",
       "    <tr>\n",
       "      <th>68</th>\n",
       "      <td>Brokered by Ashford Homes</td>\n",
       "      <td>Multi-family home for sale</td>\n",
       "      <td>1489000</td>\n",
       "      <td>6</td>\n",
       "      <td>2.3738608579684373</td>\n",
       "      <td>3780.000000</td>\n",
       "      <td>205 Wiman Ave</td>\n",
       "      <td>Staten Island, NY 10308</td>\n",
       "      <td>205 Wiman AveStaten Island, NY 10308</td>\n",
       "      <td>United States</td>\n",
       "      <td>New York</td>\n",
       "      <td>Richmond County</td>\n",
       "      <td>Staten Island</td>\n",
       "      <td>Wiman Avenue</td>\n",
       "      <td>205 Wiman Ave, Staten Island, NY 10308, USA</td>\n",
       "      <td>40.539532</td>\n",
       "      <td>-74.145088</td>\n",
       "    </tr>\n",
       "    <tr>\n",
       "      <th>69</th>\n",
       "      <td>Brokered by Sotheby's International Realty - E...</td>\n",
       "      <td>Townhouse for sale</td>\n",
       "      <td>65000000</td>\n",
       "      <td>3</td>\n",
       "      <td>2.3738608579684373</td>\n",
       "      <td>15200.000000</td>\n",
       "      <td>4 E 79th St</td>\n",
       "      <td>New York, NY 10075</td>\n",
       "      <td>4 E 79th StNew York, NY 10075</td>\n",
       "      <td>United States</td>\n",
       "      <td>New York</td>\n",
       "      <td>New York County</td>\n",
       "      <td>New York</td>\n",
       "      <td>East 79th Street</td>\n",
       "      <td>4 E 79th St, New York, NY 10075, USA</td>\n",
       "      <td>40.776561</td>\n",
       "      <td>-73.963317</td>\n",
       "    </tr>\n",
       "    <tr>\n",
       "      <th>...</th>\n",
       "      <td>...</td>\n",
       "      <td>...</td>\n",
       "      <td>...</td>\n",
       "      <td>...</td>\n",
       "      <td>...</td>\n",
       "      <td>...</td>\n",
       "      <td>...</td>\n",
       "      <td>...</td>\n",
       "      <td>...</td>\n",
       "      <td>...</td>\n",
       "      <td>...</td>\n",
       "      <td>...</td>\n",
       "      <td>...</td>\n",
       "      <td>...</td>\n",
       "      <td>...</td>\n",
       "      <td>...</td>\n",
       "      <td>...</td>\n",
       "    </tr>\n",
       "    <tr>\n",
       "      <th>4760</th>\n",
       "      <td>NoBroker</td>\n",
       "      <td>Multi-family home for sale</td>\n",
       "      <td>2000000</td>\n",
       "      <td>8</td>\n",
       "      <td>2.3738608579684373</td>\n",
       "      <td>2184.207862</td>\n",
       "      <td>2324 60th St</td>\n",
       "      <td>Brooklyn, NY 11204</td>\n",
       "      <td>2324 60th StBrooklyn, NY 11204</td>\n",
       "      <td>United States</td>\n",
       "      <td>New York</td>\n",
       "      <td>Kings County</td>\n",
       "      <td>Brooklyn</td>\n",
       "      <td>60th Street</td>\n",
       "      <td>2324 60th St, Brooklyn, NY 11204, USA</td>\n",
       "      <td>40.614758</td>\n",
       "      <td>-73.975714</td>\n",
       "    </tr>\n",
       "    <tr>\n",
       "      <th>4776</th>\n",
       "      <td>Brokered by CENTURY 21 KR REALTY</td>\n",
       "      <td>Pending</td>\n",
       "      <td>555000</td>\n",
       "      <td>3</td>\n",
       "      <td>2.3738608579684373</td>\n",
       "      <td>2184.207862</td>\n",
       "      <td>780 Stafford Ave</td>\n",
       "      <td>Staten Island, NY 10309</td>\n",
       "      <td>780 Stafford AveStaten Island, NY 10309</td>\n",
       "      <td>United States</td>\n",
       "      <td>New York</td>\n",
       "      <td>Richmond County</td>\n",
       "      <td>Staten Island</td>\n",
       "      <td>Stafford Avenue</td>\n",
       "      <td>780 Stafford Ave, Staten Island, NY 10309, USA</td>\n",
       "      <td>40.540344</td>\n",
       "      <td>-74.204106</td>\n",
       "    </tr>\n",
       "    <tr>\n",
       "      <th>4783</th>\n",
       "      <td>Brokered by Silverside Realty LLC</td>\n",
       "      <td>Multi-family home for sale</td>\n",
       "      <td>799000</td>\n",
       "      <td>6</td>\n",
       "      <td>2.3738608579684373</td>\n",
       "      <td>2000.000000</td>\n",
       "      <td>4568 Carpenter Ave</td>\n",
       "      <td>Bronx, NY 10470</td>\n",
       "      <td>4568 Carpenter AveBronx, NY 10470</td>\n",
       "      <td>United States</td>\n",
       "      <td>New York</td>\n",
       "      <td>Bronx County</td>\n",
       "      <td>The Bronx</td>\n",
       "      <td>Carpenter Avenue</td>\n",
       "      <td>4568 Carpenter Ave, Bronx, NY 10470, USA</td>\n",
       "      <td>40.902780</td>\n",
       "      <td>-73.854059</td>\n",
       "    </tr>\n",
       "    <tr>\n",
       "      <th>4788</th>\n",
       "      <td>Brokered by J Shayovitz Real Estate Corp</td>\n",
       "      <td>Co-op for sale</td>\n",
       "      <td>4750000</td>\n",
       "      <td>3</td>\n",
       "      <td>2.3738608579684373</td>\n",
       "      <td>2969.000000</td>\n",
       "      <td>1175 Park Ave Unit 1C</td>\n",
       "      <td>New York, NY 10128</td>\n",
       "      <td>1175 Park Ave Unit 1CNew York, NY 10128</td>\n",
       "      <td>New York</td>\n",
       "      <td>New York County</td>\n",
       "      <td>New York</td>\n",
       "      <td>Manhattan</td>\n",
       "      <td>1175</td>\n",
       "      <td>1175 Park Ave #1c, New York, NY 10128, USA</td>\n",
       "      <td>40.784392</td>\n",
       "      <td>-73.953840</td>\n",
       "    </tr>\n",
       "    <tr>\n",
       "      <th>4790</th>\n",
       "      <td>Brokered by Serhant</td>\n",
       "      <td>Condo for sale</td>\n",
       "      <td>789000</td>\n",
       "      <td>3</td>\n",
       "      <td>2.3738608579684373</td>\n",
       "      <td>800.000000</td>\n",
       "      <td>109 Lafayette St Rm 502</td>\n",
       "      <td>New York, NY 10013</td>\n",
       "      <td>109 Lafayette St Rm 502New York, NY 10013</td>\n",
       "      <td>New York</td>\n",
       "      <td>New York County</td>\n",
       "      <td>New York</td>\n",
       "      <td>Manhattan</td>\n",
       "      <td>109</td>\n",
       "      <td>109 Lafayette St RM 502, New York, NY 10013, USA</td>\n",
       "      <td>40.717926</td>\n",
       "      <td>-74.000594</td>\n",
       "    </tr>\n",
       "  </tbody>\n",
       "</table>\n",
       "<p>288 rows × 17 columns</p>\n",
       "</div>"
      ],
      "text/plain": [
       "                                            BROKERTITLE  \\\n",
       "4     Brokered by Sotheby's International Realty - E...   \n",
       "11                              Brokered by Re/Max Edge   \n",
       "27                  Brokered by Century 21 Realty First   \n",
       "68                            Brokered by Ashford Homes   \n",
       "69    Brokered by Sotheby's International Realty - E...   \n",
       "...                                                 ...   \n",
       "4760                                           NoBroker   \n",
       "4776                   Brokered by CENTURY 21 KR REALTY   \n",
       "4783                  Brokered by Silverside Realty LLC   \n",
       "4788           Brokered by J Shayovitz Real Estate Corp   \n",
       "4790                                Brokered by Serhant   \n",
       "\n",
       "                            TYPE     PRICE BEDS                BATH  \\\n",
       "4             Townhouse for sale  55000000    7  2.3738608579684373   \n",
       "11            Townhouse for sale    689000    3  2.3738608579684373   \n",
       "27    Multi-family home for sale   2250000   12  2.3738608579684373   \n",
       "68    Multi-family home for sale   1489000    6  2.3738608579684373   \n",
       "69            Townhouse for sale  65000000    3  2.3738608579684373   \n",
       "...                          ...       ...  ...                 ...   \n",
       "4760  Multi-family home for sale   2000000    8  2.3738608579684373   \n",
       "4776                     Pending    555000    3  2.3738608579684373   \n",
       "4783  Multi-family home for sale    799000    6  2.3738608579684373   \n",
       "4788              Co-op for sale   4750000    3  2.3738608579684373   \n",
       "4790              Condo for sale    789000    3  2.3738608579684373   \n",
       "\n",
       "      PROPERTYSQFT                  ADDRESS                    STATE  \\\n",
       "4     14175.000000              5 E 64th St       New York, NY 10065   \n",
       "11     1162.000000         456 Van Name Ave  Staten Island, NY 10303   \n",
       "27     5670.000000             2361 81st St       Brooklyn, NY 11214   \n",
       "68     3780.000000            205 Wiman Ave  Staten Island, NY 10308   \n",
       "69    15200.000000              4 E 79th St       New York, NY 10075   \n",
       "...            ...                      ...                      ...   \n",
       "4760   2184.207862             2324 60th St       Brooklyn, NY 11204   \n",
       "4776   2184.207862         780 Stafford Ave  Staten Island, NY 10309   \n",
       "4783   2000.000000       4568 Carpenter Ave          Bronx, NY 10470   \n",
       "4788   2969.000000    1175 Park Ave Unit 1C       New York, NY 10128   \n",
       "4790    800.000000  109 Lafayette St Rm 502       New York, NY 10013   \n",
       "\n",
       "                                   MAIN_ADDRESS ADMINISTRATIVE_AREA_LEVEL_2  \\\n",
       "4                 5 E 64th StNew York, NY 10065               United States   \n",
       "11      456 Van Name AveStaten Island, NY 10303               United States   \n",
       "27               2361 81st StBrooklyn, NY 11214                       11214   \n",
       "68         205 Wiman AveStaten Island, NY 10308               United States   \n",
       "69                4 E 79th StNew York, NY 10075               United States   \n",
       "...                                         ...                         ...   \n",
       "4760             2324 60th StBrooklyn, NY 11204               United States   \n",
       "4776    780 Stafford AveStaten Island, NY 10309               United States   \n",
       "4783          4568 Carpenter AveBronx, NY 10470               United States   \n",
       "4788    1175 Park Ave Unit 1CNew York, NY 10128                    New York   \n",
       "4790  109 Lafayette St Rm 502New York, NY 10013                    New York   \n",
       "\n",
       "             LOCALITY      SUBLOCALITY    STREET_NAME         LONG_NAME  \\\n",
       "4            New York  New York County       New York  East 64th Street   \n",
       "11           New York  Richmond County  Staten Island   Van Name Avenue   \n",
       "27      United States         New York   Kings County       81st Street   \n",
       "68           New York  Richmond County  Staten Island      Wiman Avenue   \n",
       "69           New York  New York County       New York  East 79th Street   \n",
       "...               ...              ...            ...               ...   \n",
       "4760         New York     Kings County       Brooklyn       60th Street   \n",
       "4776         New York  Richmond County  Staten Island   Stafford Avenue   \n",
       "4783         New York     Bronx County      The Bronx  Carpenter Avenue   \n",
       "4788  New York County         New York      Manhattan              1175   \n",
       "4790  New York County         New York      Manhattan               109   \n",
       "\n",
       "                                     FORMATTED_ADDRESS   LATITUDE  LONGITUDE  \n",
       "4                 5 E 64th St, New York, NY 10065, USA  40.767224 -73.969856  \n",
       "11      456 Van Name Ave, Staten Island, NY 10303, USA  40.624996 -74.155306  \n",
       "27               2361 81st St, Brooklyn, NY 11214, USA  40.602654 -73.986940  \n",
       "68         205 Wiman Ave, Staten Island, NY 10308, USA  40.539532 -74.145088  \n",
       "69                4 E 79th St, New York, NY 10075, USA  40.776561 -73.963317  \n",
       "...                                                ...        ...        ...  \n",
       "4760             2324 60th St, Brooklyn, NY 11204, USA  40.614758 -73.975714  \n",
       "4776    780 Stafford Ave, Staten Island, NY 10309, USA  40.540344 -74.204106  \n",
       "4783          4568 Carpenter Ave, Bronx, NY 10470, USA  40.902780 -73.854059  \n",
       "4788        1175 Park Ave #1c, New York, NY 10128, USA  40.784392 -73.953840  \n",
       "4790  109 Lafayette St RM 502, New York, NY 10013, USA  40.717926 -74.000594  \n",
       "\n",
       "[288 rows x 17 columns]"
      ]
     },
     "execution_count": 22,
     "metadata": {},
     "output_type": "execute_result"
    }
   ],
   "source": [
    "#Viewing the filter results from DF1, all of these are the properties with this strange bath number\n",
    "\n",
    "DF1.loc[filt]"
   ]
  },
  {
   "cell_type": "code",
   "execution_count": null,
   "id": "ccba7a7a",
   "metadata": {},
   "outputs": [],
   "source": [
    "#Problem\n",
    "Exploring what these \"half\" bathrooms are online. \n",
    "\n",
    "Per the MLS \"to qualify as a full bathroom ... the bathroom must comprise of at least three \n",
    "of the following components: a bath, a shower (showerhead or shower stall), a sink, [and] a toilet.\"\n",
    "    \n",
    "#Answer: \n",
    "Basically it has to have toilet, sink, AND bath to qualify as a full bathroom. \n",
    "Otherwise you will end up with these decimal point amount of bathrooms\n",
    "After searching up the properties , these properties all fall within this technicality.\n",
    "Has toilet and sink but not a full bathroom.\n",
    "\n",
    "\n",
    "#Decision\n",
    "\n",
    "Change all the values that have 2.3738608579684373 to 2.5 to standardize numbers."
   ]
  },
  {
   "cell_type": "markdown",
   "id": "7e45434b",
   "metadata": {},
   "source": [
    "## Replacing Bathroom Value "
   ]
  },
  {
   "cell_type": "code",
   "execution_count": 23,
   "id": "0593f670",
   "metadata": {},
   "outputs": [
    {
     "data": {
      "text/plain": [
       "BATH\n",
       "2.0                   1593\n",
       "1.0                   1456\n",
       "4.0                    464\n",
       "3.0                    447\n",
       "2.3738608579684373     288\n",
       "6.0                    134\n",
       "5.0                     95\n",
       "8.0                     43\n",
       "7.0                     23\n",
       "10.0                    16\n",
       "9.0                      7\n",
       "16.0                     5\n",
       "20.0                     3\n",
       "12.0                     3\n",
       "11.0                     2\n",
       "0.0                      2\n",
       "32.0                     1\n",
       "13.0                     1\n",
       "50.0                     1\n",
       "24.0                     1\n",
       "43.0                     1\n",
       "17.0                     1\n",
       "Name: count, dtype: int64"
      ]
     },
     "execution_count": 23,
     "metadata": {},
     "output_type": "execute_result"
    }
   ],
   "source": [
    "#Showing current values before fixing\n",
    "\n",
    "DF1['BATH'].value_counts(dropna = False)"
   ]
  },
  {
   "cell_type": "code",
   "execution_count": 24,
   "id": "c040c139",
   "metadata": {},
   "outputs": [
    {
     "name": "stderr",
     "output_type": "stream",
     "text": [
      "/var/folders/yj/v30db1v90zs0p0pvttp796cm0000gp/T/ipykernel_4917/1191576343.py:3: SettingWithCopyWarning: \n",
      "A value is trying to be set on a copy of a slice from a DataFrame.\n",
      "Try using .loc[row_indexer,col_indexer] = value instead\n",
      "\n",
      "See the caveats in the documentation: https://pandas.pydata.org/pandas-docs/stable/user_guide/indexing.html#returning-a-view-versus-a-copy\n",
      "  DF1['BATH'] = DF1['BATH'].str.replace('2.3738608579684373','2.5')\n"
     ]
    }
   ],
   "source": [
    "#Replaced all 2.3738608579684373 to 2.5 instead\n",
    "\n",
    "DF1['BATH'] = DF1['BATH'].str.replace('2.3738608579684373','2.5')"
   ]
  },
  {
   "cell_type": "code",
   "execution_count": 25,
   "id": "ff17ac56",
   "metadata": {},
   "outputs": [
    {
     "data": {
      "text/plain": [
       "BATH\n",
       "2.0     1593\n",
       "1.0     1456\n",
       "4.0      464\n",
       "3.0      447\n",
       "2.5      288\n",
       "6.0      134\n",
       "5.0       95\n",
       "8.0       43\n",
       "7.0       23\n",
       "10.0      16\n",
       "9.0        7\n",
       "16.0       5\n",
       "20.0       3\n",
       "12.0       3\n",
       "11.0       2\n",
       "0.0        2\n",
       "32.0       1\n",
       "13.0       1\n",
       "50.0       1\n",
       "24.0       1\n",
       "43.0       1\n",
       "17.0       1\n",
       "Name: count, dtype: int64"
      ]
     },
     "execution_count": 25,
     "metadata": {},
     "output_type": "execute_result"
    }
   ],
   "source": [
    "#Result New value is full 2.5 value rather than the decimal value \n",
    "#Once again 2.5 represents 2 full bathrooms, then 1 \"toilet and sink without shower/bath\"\n",
    "\n",
    "DF1['BATH'].value_counts(dropna = False)"
   ]
  },
  {
   "cell_type": "markdown",
   "id": "8ffe84b5",
   "metadata": {},
   "source": [
    "## Re-Formating \"BROKERTITLE\""
   ]
  },
  {
   "cell_type": "code",
   "execution_count": 26,
   "id": "387198ae",
   "metadata": {},
   "outputs": [
    {
     "data": {
      "text/html": [
       "<div>\n",
       "<style scoped>\n",
       "    .dataframe tbody tr th:only-of-type {\n",
       "        vertical-align: middle;\n",
       "    }\n",
       "\n",
       "    .dataframe tbody tr th {\n",
       "        vertical-align: top;\n",
       "    }\n",
       "\n",
       "    .dataframe thead th {\n",
       "        text-align: right;\n",
       "    }\n",
       "</style>\n",
       "<table border=\"1\" class=\"dataframe\">\n",
       "  <thead>\n",
       "    <tr style=\"text-align: right;\">\n",
       "      <th></th>\n",
       "      <th>BROKERTITLE</th>\n",
       "      <th>TYPE</th>\n",
       "      <th>PRICE</th>\n",
       "      <th>BEDS</th>\n",
       "      <th>BATH</th>\n",
       "      <th>PROPERTYSQFT</th>\n",
       "      <th>ADDRESS</th>\n",
       "      <th>STATE</th>\n",
       "      <th>MAIN_ADDRESS</th>\n",
       "      <th>ADMINISTRATIVE_AREA_LEVEL_2</th>\n",
       "      <th>LOCALITY</th>\n",
       "      <th>SUBLOCALITY</th>\n",
       "      <th>STREET_NAME</th>\n",
       "      <th>LONG_NAME</th>\n",
       "      <th>FORMATTED_ADDRESS</th>\n",
       "      <th>LATITUDE</th>\n",
       "      <th>LONGITUDE</th>\n",
       "    </tr>\n",
       "  </thead>\n",
       "  <tbody>\n",
       "    <tr>\n",
       "      <th>4796</th>\n",
       "      <td>Brokered by COMPASS</td>\n",
       "      <td>Co-op for sale</td>\n",
       "      <td>599000</td>\n",
       "      <td>1</td>\n",
       "      <td>1.0</td>\n",
       "      <td>2184.207862</td>\n",
       "      <td>222 E 80th St Apt 3A</td>\n",
       "      <td>Manhattan, NY 10075</td>\n",
       "      <td>222 E 80th St Apt 3AManhattan, NY 10075</td>\n",
       "      <td>New York</td>\n",
       "      <td>New York County</td>\n",
       "      <td>New York</td>\n",
       "      <td>Manhattan</td>\n",
       "      <td>222</td>\n",
       "      <td>222 E 80th St #3a, New York, NY 10075, USA</td>\n",
       "      <td>40.774350</td>\n",
       "      <td>-73.955879</td>\n",
       "    </tr>\n",
       "    <tr>\n",
       "      <th>4797</th>\n",
       "      <td>Brokered by Mjr Real Estate Llc</td>\n",
       "      <td>Co-op for sale</td>\n",
       "      <td>245000</td>\n",
       "      <td>1</td>\n",
       "      <td>1.0</td>\n",
       "      <td>2184.207862</td>\n",
       "      <td>97-40 62 Dr Unit Lg</td>\n",
       "      <td>Rego Park, NY 11374</td>\n",
       "      <td>97-40 62 Dr Unit LgRego Park, NY 11374</td>\n",
       "      <td>United States</td>\n",
       "      <td>New York</td>\n",
       "      <td>Queens County</td>\n",
       "      <td>Queens</td>\n",
       "      <td>62nd Drive</td>\n",
       "      <td>97-40 62nd Dr, Rego Park, NY 11374, USA</td>\n",
       "      <td>40.732538</td>\n",
       "      <td>-73.860152</td>\n",
       "    </tr>\n",
       "    <tr>\n",
       "      <th>4798</th>\n",
       "      <td>Brokered by Douglas Elliman - 575 Madison Ave</td>\n",
       "      <td>Co-op for sale</td>\n",
       "      <td>1275000</td>\n",
       "      <td>1</td>\n",
       "      <td>1.0</td>\n",
       "      <td>2184.207862</td>\n",
       "      <td>427 W 21st St Unit Garden</td>\n",
       "      <td>New York, NY 10011</td>\n",
       "      <td>427 W 21st St Unit GardenNew York, NY 10011</td>\n",
       "      <td>United States</td>\n",
       "      <td>New York</td>\n",
       "      <td>New York County</td>\n",
       "      <td>New York</td>\n",
       "      <td>West 21st Street</td>\n",
       "      <td>427 W 21st St, New York, NY 10011, USA</td>\n",
       "      <td>40.745882</td>\n",
       "      <td>-74.003398</td>\n",
       "    </tr>\n",
       "    <tr>\n",
       "      <th>4799</th>\n",
       "      <td>Brokered by E Realty International Corp</td>\n",
       "      <td>Condo for sale</td>\n",
       "      <td>598125</td>\n",
       "      <td>2</td>\n",
       "      <td>1.0</td>\n",
       "      <td>655.000000</td>\n",
       "      <td>91-23 Corona Ave Unit 4G</td>\n",
       "      <td>Elmhurst, NY 11373</td>\n",
       "      <td>91-23 Corona Ave Unit 4GElmhurst, NY 11373</td>\n",
       "      <td>New York</td>\n",
       "      <td>Queens County</td>\n",
       "      <td>Queens</td>\n",
       "      <td>Flushing</td>\n",
       "      <td>91-23</td>\n",
       "      <td>91-23 Corona Ave. #4b, Flushing, NY 11373, USA</td>\n",
       "      <td>40.742770</td>\n",
       "      <td>-73.872752</td>\n",
       "    </tr>\n",
       "    <tr>\n",
       "      <th>4800</th>\n",
       "      <td>Brokered by Nyc Realty Brokers Llc</td>\n",
       "      <td>Co-op for sale</td>\n",
       "      <td>349000</td>\n",
       "      <td>1</td>\n",
       "      <td>1.0</td>\n",
       "      <td>750.000000</td>\n",
       "      <td>460 Neptune Ave Apt 14O</td>\n",
       "      <td>Brooklyn, NY 11224</td>\n",
       "      <td>460 Neptune Ave Apt 14OBrooklyn, NY 11224</td>\n",
       "      <td>New York</td>\n",
       "      <td>Kings County</td>\n",
       "      <td>Brooklyn</td>\n",
       "      <td>Coney Island</td>\n",
       "      <td>460</td>\n",
       "      <td>460 Neptune Ave #14a, Brooklyn, NY 11224, USA</td>\n",
       "      <td>40.579147</td>\n",
       "      <td>-73.970949</td>\n",
       "    </tr>\n",
       "  </tbody>\n",
       "</table>\n",
       "</div>"
      ],
      "text/plain": [
       "                                        BROKERTITLE            TYPE    PRICE  \\\n",
       "4796                            Brokered by COMPASS  Co-op for sale   599000   \n",
       "4797                Brokered by Mjr Real Estate Llc  Co-op for sale   245000   \n",
       "4798  Brokered by Douglas Elliman - 575 Madison Ave  Co-op for sale  1275000   \n",
       "4799        Brokered by E Realty International Corp  Condo for sale   598125   \n",
       "4800             Brokered by Nyc Realty Brokers Llc  Co-op for sale   349000   \n",
       "\n",
       "     BEDS BATH  PROPERTYSQFT                    ADDRESS                STATE  \\\n",
       "4796    1  1.0   2184.207862       222 E 80th St Apt 3A  Manhattan, NY 10075   \n",
       "4797    1  1.0   2184.207862        97-40 62 Dr Unit Lg  Rego Park, NY 11374   \n",
       "4798    1  1.0   2184.207862  427 W 21st St Unit Garden   New York, NY 10011   \n",
       "4799    2  1.0    655.000000   91-23 Corona Ave Unit 4G   Elmhurst, NY 11373   \n",
       "4800    1  1.0    750.000000    460 Neptune Ave Apt 14O   Brooklyn, NY 11224   \n",
       "\n",
       "                                     MAIN_ADDRESS ADMINISTRATIVE_AREA_LEVEL_2  \\\n",
       "4796      222 E 80th St Apt 3AManhattan, NY 10075                    New York   \n",
       "4797       97-40 62 Dr Unit LgRego Park, NY 11374               United States   \n",
       "4798  427 W 21st St Unit GardenNew York, NY 10011               United States   \n",
       "4799   91-23 Corona Ave Unit 4GElmhurst, NY 11373                    New York   \n",
       "4800    460 Neptune Ave Apt 14OBrooklyn, NY 11224                    New York   \n",
       "\n",
       "             LOCALITY      SUBLOCALITY   STREET_NAME         LONG_NAME  \\\n",
       "4796  New York County         New York     Manhattan               222   \n",
       "4797         New York    Queens County        Queens        62nd Drive   \n",
       "4798         New York  New York County      New York  West 21st Street   \n",
       "4799    Queens County           Queens      Flushing             91-23   \n",
       "4800     Kings County         Brooklyn  Coney Island               460   \n",
       "\n",
       "                                   FORMATTED_ADDRESS   LATITUDE  LONGITUDE  \n",
       "4796      222 E 80th St #3a, New York, NY 10075, USA  40.774350 -73.955879  \n",
       "4797         97-40 62nd Dr, Rego Park, NY 11374, USA  40.732538 -73.860152  \n",
       "4798          427 W 21st St, New York, NY 10011, USA  40.745882 -74.003398  \n",
       "4799  91-23 Corona Ave. #4b, Flushing, NY 11373, USA  40.742770 -73.872752  \n",
       "4800   460 Neptune Ave #14a, Brooklyn, NY 11224, USA  40.579147 -73.970949  "
      ]
     },
     "execution_count": 26,
     "metadata": {},
     "output_type": "execute_result"
    }
   ],
   "source": [
    "#BROKERTITLE right now\n",
    "\n",
    "DF1.tail(5)"
   ]
  },
  {
   "cell_type": "code",
   "execution_count": null,
   "id": "41e034d9",
   "metadata": {},
   "outputs": [],
   "source": [
    "#Problem is BROKERTITLE is \"Brokered by COMPASS\" rather than \"COMPASS\" \n",
    "#Resolution using "
   ]
  },
  {
   "cell_type": "code",
   "execution_count": 27,
   "id": "a7201ed5",
   "metadata": {},
   "outputs": [
    {
     "data": {
      "text/html": [
       "<div>\n",
       "<style scoped>\n",
       "    .dataframe tbody tr th:only-of-type {\n",
       "        vertical-align: middle;\n",
       "    }\n",
       "\n",
       "    .dataframe tbody tr th {\n",
       "        vertical-align: top;\n",
       "    }\n",
       "\n",
       "    .dataframe thead th {\n",
       "        text-align: right;\n",
       "    }\n",
       "</style>\n",
       "<table border=\"1\" class=\"dataframe\">\n",
       "  <thead>\n",
       "    <tr style=\"text-align: right;\">\n",
       "      <th></th>\n",
       "      <th>0</th>\n",
       "      <th>1</th>\n",
       "    </tr>\n",
       "  </thead>\n",
       "  <tbody>\n",
       "    <tr>\n",
       "      <th>0</th>\n",
       "      <td>Brokered</td>\n",
       "      <td>Douglas Elliman  -111 Fifth Ave</td>\n",
       "    </tr>\n",
       "    <tr>\n",
       "      <th>1</th>\n",
       "      <td>Brokered</td>\n",
       "      <td>Serhant</td>\n",
       "    </tr>\n",
       "    <tr>\n",
       "      <th>2</th>\n",
       "      <td>Brokered</td>\n",
       "      <td>Sowae Corp</td>\n",
       "    </tr>\n",
       "    <tr>\n",
       "      <th>3</th>\n",
       "      <td>Brokered</td>\n",
       "      <td>COMPASS</td>\n",
       "    </tr>\n",
       "    <tr>\n",
       "      <th>4</th>\n",
       "      <td>Brokered</td>\n",
       "      <td>Sotheby's International Realty - East Side Ma...</td>\n",
       "    </tr>\n",
       "    <tr>\n",
       "      <th>...</th>\n",
       "      <td>...</td>\n",
       "      <td>...</td>\n",
       "    </tr>\n",
       "    <tr>\n",
       "      <th>4796</th>\n",
       "      <td>Brokered</td>\n",
       "      <td>COMPASS</td>\n",
       "    </tr>\n",
       "    <tr>\n",
       "      <th>4797</th>\n",
       "      <td>Brokered</td>\n",
       "      <td>Mjr Real Estate Llc</td>\n",
       "    </tr>\n",
       "    <tr>\n",
       "      <th>4798</th>\n",
       "      <td>Brokered</td>\n",
       "      <td>Douglas Elliman - 575 Madison Ave</td>\n",
       "    </tr>\n",
       "    <tr>\n",
       "      <th>4799</th>\n",
       "      <td>Brokered</td>\n",
       "      <td>E Realty International Corp</td>\n",
       "    </tr>\n",
       "    <tr>\n",
       "      <th>4800</th>\n",
       "      <td>Brokered</td>\n",
       "      <td>Nyc Realty Brokers Llc</td>\n",
       "    </tr>\n",
       "  </tbody>\n",
       "</table>\n",
       "<p>4587 rows × 2 columns</p>\n",
       "</div>"
      ],
      "text/plain": [
       "              0                                                  1\n",
       "0     Brokered                     Douglas Elliman  -111 Fifth Ave\n",
       "1     Brokered                                             Serhant\n",
       "2     Brokered                                          Sowae Corp\n",
       "3     Brokered                                             COMPASS\n",
       "4     Brokered    Sotheby's International Realty - East Side Ma...\n",
       "...         ...                                                ...\n",
       "4796  Brokered                                             COMPASS\n",
       "4797  Brokered                                 Mjr Real Estate Llc\n",
       "4798  Brokered                   Douglas Elliman - 575 Madison Ave\n",
       "4799  Brokered                         E Realty International Corp\n",
       "4800  Brokered                              Nyc Realty Brokers Llc\n",
       "\n",
       "[4587 rows x 2 columns]"
      ]
     },
     "execution_count": 27,
     "metadata": {},
     "output_type": "execute_result"
    }
   ],
   "source": [
    "#This is what we want it to look like, column 1 just having the Brokerage information nothing more.\n",
    "\n",
    "DF1['BROKERTITLE'].str.split('by',n=1, expand=True)"
   ]
  },
  {
   "cell_type": "code",
   "execution_count": 28,
   "id": "5a7e6997",
   "metadata": {},
   "outputs": [
    {
     "name": "stderr",
     "output_type": "stream",
     "text": [
      "/var/folders/yj/v30db1v90zs0p0pvttp796cm0000gp/T/ipykernel_4917/2684002906.py:3: SettingWithCopyWarning: \n",
      "A value is trying to be set on a copy of a slice from a DataFrame.\n",
      "Try using .loc[row_indexer,col_indexer] = value instead\n",
      "\n",
      "See the caveats in the documentation: https://pandas.pydata.org/pandas-docs/stable/user_guide/indexing.html#returning-a-view-versus-a-copy\n",
      "  DF1[['0','Brokerage']]= DF1['BROKERTITLE'].str.split('by',n=1, expand=True)\n",
      "/var/folders/yj/v30db1v90zs0p0pvttp796cm0000gp/T/ipykernel_4917/2684002906.py:3: SettingWithCopyWarning: \n",
      "A value is trying to be set on a copy of a slice from a DataFrame.\n",
      "Try using .loc[row_indexer,col_indexer] = value instead\n",
      "\n",
      "See the caveats in the documentation: https://pandas.pydata.org/pandas-docs/stable/user_guide/indexing.html#returning-a-view-versus-a-copy\n",
      "  DF1[['0','Brokerage']]= DF1['BROKERTITLE'].str.split('by',n=1, expand=True)\n"
     ]
    },
    {
     "data": {
      "text/html": [
       "<div>\n",
       "<style scoped>\n",
       "    .dataframe tbody tr th:only-of-type {\n",
       "        vertical-align: middle;\n",
       "    }\n",
       "\n",
       "    .dataframe tbody tr th {\n",
       "        vertical-align: top;\n",
       "    }\n",
       "\n",
       "    .dataframe thead th {\n",
       "        text-align: right;\n",
       "    }\n",
       "</style>\n",
       "<table border=\"1\" class=\"dataframe\">\n",
       "  <thead>\n",
       "    <tr style=\"text-align: right;\">\n",
       "      <th></th>\n",
       "      <th>BROKERTITLE</th>\n",
       "      <th>TYPE</th>\n",
       "      <th>PRICE</th>\n",
       "      <th>BEDS</th>\n",
       "      <th>BATH</th>\n",
       "      <th>PROPERTYSQFT</th>\n",
       "      <th>ADDRESS</th>\n",
       "      <th>STATE</th>\n",
       "      <th>MAIN_ADDRESS</th>\n",
       "      <th>ADMINISTRATIVE_AREA_LEVEL_2</th>\n",
       "      <th>LOCALITY</th>\n",
       "      <th>SUBLOCALITY</th>\n",
       "      <th>STREET_NAME</th>\n",
       "      <th>LONG_NAME</th>\n",
       "      <th>FORMATTED_ADDRESS</th>\n",
       "      <th>LATITUDE</th>\n",
       "      <th>LONGITUDE</th>\n",
       "      <th>0</th>\n",
       "      <th>Brokerage</th>\n",
       "    </tr>\n",
       "  </thead>\n",
       "  <tbody>\n",
       "    <tr>\n",
       "      <th>0</th>\n",
       "      <td>Brokered by Douglas Elliman  -111 Fifth Ave</td>\n",
       "      <td>Condo for sale</td>\n",
       "      <td>315000</td>\n",
       "      <td>2</td>\n",
       "      <td>2.0</td>\n",
       "      <td>1400.000000</td>\n",
       "      <td>2 E 55th St Unit 803</td>\n",
       "      <td>New York, NY 10022</td>\n",
       "      <td>2 E 55th St Unit 803New York, NY 10022</td>\n",
       "      <td>New York County</td>\n",
       "      <td>New York</td>\n",
       "      <td>Manhattan</td>\n",
       "      <td>East 55th Street</td>\n",
       "      <td>Regis Residence</td>\n",
       "      <td>Regis Residence, 2 E 55th St #803, New York, N...</td>\n",
       "      <td>40.761255</td>\n",
       "      <td>-73.974483</td>\n",
       "      <td>Brokered</td>\n",
       "      <td>Douglas Elliman  -111 Fifth Ave</td>\n",
       "    </tr>\n",
       "    <tr>\n",
       "      <th>1</th>\n",
       "      <td>Brokered by Serhant</td>\n",
       "      <td>Condo for sale</td>\n",
       "      <td>195000000</td>\n",
       "      <td>7</td>\n",
       "      <td>10.0</td>\n",
       "      <td>17545.000000</td>\n",
       "      <td>Central Park Tower Penthouse-217 W 57th New Yo...</td>\n",
       "      <td>New York, NY 10019</td>\n",
       "      <td>Central Park Tower Penthouse-217 W 57th New Yo...</td>\n",
       "      <td>United States</td>\n",
       "      <td>New York</td>\n",
       "      <td>New York County</td>\n",
       "      <td>New York</td>\n",
       "      <td>West 57th Street</td>\n",
       "      <td>217 W 57th St, New York, NY 10019, USA</td>\n",
       "      <td>40.766393</td>\n",
       "      <td>-73.980991</td>\n",
       "      <td>Brokered</td>\n",
       "      <td>Serhant</td>\n",
       "    </tr>\n",
       "    <tr>\n",
       "      <th>2</th>\n",
       "      <td>Brokered by Sowae Corp</td>\n",
       "      <td>House for sale</td>\n",
       "      <td>260000</td>\n",
       "      <td>4</td>\n",
       "      <td>2.0</td>\n",
       "      <td>2015.000000</td>\n",
       "      <td>620 Sinclair Ave</td>\n",
       "      <td>Staten Island, NY 10312</td>\n",
       "      <td>620 Sinclair AveStaten Island, NY 10312</td>\n",
       "      <td>United States</td>\n",
       "      <td>New York</td>\n",
       "      <td>Richmond County</td>\n",
       "      <td>Staten Island</td>\n",
       "      <td>Sinclair Avenue</td>\n",
       "      <td>620 Sinclair Ave, Staten Island, NY 10312, USA</td>\n",
       "      <td>40.541805</td>\n",
       "      <td>-74.196109</td>\n",
       "      <td>Brokered</td>\n",
       "      <td>Sowae Corp</td>\n",
       "    </tr>\n",
       "    <tr>\n",
       "      <th>3</th>\n",
       "      <td>Brokered by COMPASS</td>\n",
       "      <td>Condo for sale</td>\n",
       "      <td>69000</td>\n",
       "      <td>3</td>\n",
       "      <td>1.0</td>\n",
       "      <td>445.000000</td>\n",
       "      <td>2 E 55th St Unit 908W33</td>\n",
       "      <td>Manhattan, NY 10022</td>\n",
       "      <td>2 E 55th St Unit 908W33Manhattan, NY 10022</td>\n",
       "      <td>United States</td>\n",
       "      <td>New York</td>\n",
       "      <td>New York County</td>\n",
       "      <td>New York</td>\n",
       "      <td>East 55th Street</td>\n",
       "      <td>2 E 55th St, New York, NY 10022, USA</td>\n",
       "      <td>40.761398</td>\n",
       "      <td>-73.974613</td>\n",
       "      <td>Brokered</td>\n",
       "      <td>COMPASS</td>\n",
       "    </tr>\n",
       "    <tr>\n",
       "      <th>4</th>\n",
       "      <td>Brokered by Sotheby's International Realty - E...</td>\n",
       "      <td>Townhouse for sale</td>\n",
       "      <td>55000000</td>\n",
       "      <td>7</td>\n",
       "      <td>2.5</td>\n",
       "      <td>14175.000000</td>\n",
       "      <td>5 E 64th St</td>\n",
       "      <td>New York, NY 10065</td>\n",
       "      <td>5 E 64th StNew York, NY 10065</td>\n",
       "      <td>United States</td>\n",
       "      <td>New York</td>\n",
       "      <td>New York County</td>\n",
       "      <td>New York</td>\n",
       "      <td>East 64th Street</td>\n",
       "      <td>5 E 64th St, New York, NY 10065, USA</td>\n",
       "      <td>40.767224</td>\n",
       "      <td>-73.969856</td>\n",
       "      <td>Brokered</td>\n",
       "      <td>Sotheby's International Realty - East Side Ma...</td>\n",
       "    </tr>\n",
       "    <tr>\n",
       "      <th>...</th>\n",
       "      <td>...</td>\n",
       "      <td>...</td>\n",
       "      <td>...</td>\n",
       "      <td>...</td>\n",
       "      <td>...</td>\n",
       "      <td>...</td>\n",
       "      <td>...</td>\n",
       "      <td>...</td>\n",
       "      <td>...</td>\n",
       "      <td>...</td>\n",
       "      <td>...</td>\n",
       "      <td>...</td>\n",
       "      <td>...</td>\n",
       "      <td>...</td>\n",
       "      <td>...</td>\n",
       "      <td>...</td>\n",
       "      <td>...</td>\n",
       "      <td>...</td>\n",
       "      <td>...</td>\n",
       "    </tr>\n",
       "    <tr>\n",
       "      <th>4796</th>\n",
       "      <td>Brokered by COMPASS</td>\n",
       "      <td>Co-op for sale</td>\n",
       "      <td>599000</td>\n",
       "      <td>1</td>\n",
       "      <td>1.0</td>\n",
       "      <td>2184.207862</td>\n",
       "      <td>222 E 80th St Apt 3A</td>\n",
       "      <td>Manhattan, NY 10075</td>\n",
       "      <td>222 E 80th St Apt 3AManhattan, NY 10075</td>\n",
       "      <td>New York</td>\n",
       "      <td>New York County</td>\n",
       "      <td>New York</td>\n",
       "      <td>Manhattan</td>\n",
       "      <td>222</td>\n",
       "      <td>222 E 80th St #3a, New York, NY 10075, USA</td>\n",
       "      <td>40.774350</td>\n",
       "      <td>-73.955879</td>\n",
       "      <td>Brokered</td>\n",
       "      <td>COMPASS</td>\n",
       "    </tr>\n",
       "    <tr>\n",
       "      <th>4797</th>\n",
       "      <td>Brokered by Mjr Real Estate Llc</td>\n",
       "      <td>Co-op for sale</td>\n",
       "      <td>245000</td>\n",
       "      <td>1</td>\n",
       "      <td>1.0</td>\n",
       "      <td>2184.207862</td>\n",
       "      <td>97-40 62 Dr Unit Lg</td>\n",
       "      <td>Rego Park, NY 11374</td>\n",
       "      <td>97-40 62 Dr Unit LgRego Park, NY 11374</td>\n",
       "      <td>United States</td>\n",
       "      <td>New York</td>\n",
       "      <td>Queens County</td>\n",
       "      <td>Queens</td>\n",
       "      <td>62nd Drive</td>\n",
       "      <td>97-40 62nd Dr, Rego Park, NY 11374, USA</td>\n",
       "      <td>40.732538</td>\n",
       "      <td>-73.860152</td>\n",
       "      <td>Brokered</td>\n",
       "      <td>Mjr Real Estate Llc</td>\n",
       "    </tr>\n",
       "    <tr>\n",
       "      <th>4798</th>\n",
       "      <td>Brokered by Douglas Elliman - 575 Madison Ave</td>\n",
       "      <td>Co-op for sale</td>\n",
       "      <td>1275000</td>\n",
       "      <td>1</td>\n",
       "      <td>1.0</td>\n",
       "      <td>2184.207862</td>\n",
       "      <td>427 W 21st St Unit Garden</td>\n",
       "      <td>New York, NY 10011</td>\n",
       "      <td>427 W 21st St Unit GardenNew York, NY 10011</td>\n",
       "      <td>United States</td>\n",
       "      <td>New York</td>\n",
       "      <td>New York County</td>\n",
       "      <td>New York</td>\n",
       "      <td>West 21st Street</td>\n",
       "      <td>427 W 21st St, New York, NY 10011, USA</td>\n",
       "      <td>40.745882</td>\n",
       "      <td>-74.003398</td>\n",
       "      <td>Brokered</td>\n",
       "      <td>Douglas Elliman - 575 Madison Ave</td>\n",
       "    </tr>\n",
       "    <tr>\n",
       "      <th>4799</th>\n",
       "      <td>Brokered by E Realty International Corp</td>\n",
       "      <td>Condo for sale</td>\n",
       "      <td>598125</td>\n",
       "      <td>2</td>\n",
       "      <td>1.0</td>\n",
       "      <td>655.000000</td>\n",
       "      <td>91-23 Corona Ave Unit 4G</td>\n",
       "      <td>Elmhurst, NY 11373</td>\n",
       "      <td>91-23 Corona Ave Unit 4GElmhurst, NY 11373</td>\n",
       "      <td>New York</td>\n",
       "      <td>Queens County</td>\n",
       "      <td>Queens</td>\n",
       "      <td>Flushing</td>\n",
       "      <td>91-23</td>\n",
       "      <td>91-23 Corona Ave. #4b, Flushing, NY 11373, USA</td>\n",
       "      <td>40.742770</td>\n",
       "      <td>-73.872752</td>\n",
       "      <td>Brokered</td>\n",
       "      <td>E Realty International Corp</td>\n",
       "    </tr>\n",
       "    <tr>\n",
       "      <th>4800</th>\n",
       "      <td>Brokered by Nyc Realty Brokers Llc</td>\n",
       "      <td>Co-op for sale</td>\n",
       "      <td>349000</td>\n",
       "      <td>1</td>\n",
       "      <td>1.0</td>\n",
       "      <td>750.000000</td>\n",
       "      <td>460 Neptune Ave Apt 14O</td>\n",
       "      <td>Brooklyn, NY 11224</td>\n",
       "      <td>460 Neptune Ave Apt 14OBrooklyn, NY 11224</td>\n",
       "      <td>New York</td>\n",
       "      <td>Kings County</td>\n",
       "      <td>Brooklyn</td>\n",
       "      <td>Coney Island</td>\n",
       "      <td>460</td>\n",
       "      <td>460 Neptune Ave #14a, Brooklyn, NY 11224, USA</td>\n",
       "      <td>40.579147</td>\n",
       "      <td>-73.970949</td>\n",
       "      <td>Brokered</td>\n",
       "      <td>Nyc Realty Brokers Llc</td>\n",
       "    </tr>\n",
       "  </tbody>\n",
       "</table>\n",
       "<p>4587 rows × 19 columns</p>\n",
       "</div>"
      ],
      "text/plain": [
       "                                            BROKERTITLE                TYPE  \\\n",
       "0           Brokered by Douglas Elliman  -111 Fifth Ave      Condo for sale   \n",
       "1                                   Brokered by Serhant      Condo for sale   \n",
       "2                                Brokered by Sowae Corp      House for sale   \n",
       "3                                   Brokered by COMPASS      Condo for sale   \n",
       "4     Brokered by Sotheby's International Realty - E...  Townhouse for sale   \n",
       "...                                                 ...                 ...   \n",
       "4796                                Brokered by COMPASS      Co-op for sale   \n",
       "4797                    Brokered by Mjr Real Estate Llc      Co-op for sale   \n",
       "4798      Brokered by Douglas Elliman - 575 Madison Ave      Co-op for sale   \n",
       "4799            Brokered by E Realty International Corp      Condo for sale   \n",
       "4800                 Brokered by Nyc Realty Brokers Llc      Co-op for sale   \n",
       "\n",
       "          PRICE BEDS  BATH  PROPERTYSQFT  \\\n",
       "0        315000    2   2.0   1400.000000   \n",
       "1     195000000    7  10.0  17545.000000   \n",
       "2        260000    4   2.0   2015.000000   \n",
       "3         69000    3   1.0    445.000000   \n",
       "4      55000000    7   2.5  14175.000000   \n",
       "...         ...  ...   ...           ...   \n",
       "4796     599000    1   1.0   2184.207862   \n",
       "4797     245000    1   1.0   2184.207862   \n",
       "4798    1275000    1   1.0   2184.207862   \n",
       "4799     598125    2   1.0    655.000000   \n",
       "4800     349000    1   1.0    750.000000   \n",
       "\n",
       "                                                ADDRESS  \\\n",
       "0                                  2 E 55th St Unit 803   \n",
       "1     Central Park Tower Penthouse-217 W 57th New Yo...   \n",
       "2                                      620 Sinclair Ave   \n",
       "3                               2 E 55th St Unit 908W33   \n",
       "4                                           5 E 64th St   \n",
       "...                                                 ...   \n",
       "4796                               222 E 80th St Apt 3A   \n",
       "4797                                97-40 62 Dr Unit Lg   \n",
       "4798                          427 W 21st St Unit Garden   \n",
       "4799                           91-23 Corona Ave Unit 4G   \n",
       "4800                            460 Neptune Ave Apt 14O   \n",
       "\n",
       "                        STATE  \\\n",
       "0          New York, NY 10022   \n",
       "1          New York, NY 10019   \n",
       "2     Staten Island, NY 10312   \n",
       "3         Manhattan, NY 10022   \n",
       "4          New York, NY 10065   \n",
       "...                       ...   \n",
       "4796      Manhattan, NY 10075   \n",
       "4797      Rego Park, NY 11374   \n",
       "4798       New York, NY 10011   \n",
       "4799       Elmhurst, NY 11373   \n",
       "4800       Brooklyn, NY 11224   \n",
       "\n",
       "                                           MAIN_ADDRESS  \\\n",
       "0                2 E 55th St Unit 803New York, NY 10022   \n",
       "1     Central Park Tower Penthouse-217 W 57th New Yo...   \n",
       "2               620 Sinclair AveStaten Island, NY 10312   \n",
       "3            2 E 55th St Unit 908W33Manhattan, NY 10022   \n",
       "4                         5 E 64th StNew York, NY 10065   \n",
       "...                                                 ...   \n",
       "4796            222 E 80th St Apt 3AManhattan, NY 10075   \n",
       "4797             97-40 62 Dr Unit LgRego Park, NY 11374   \n",
       "4798        427 W 21st St Unit GardenNew York, NY 10011   \n",
       "4799         91-23 Corona Ave Unit 4GElmhurst, NY 11373   \n",
       "4800          460 Neptune Ave Apt 14OBrooklyn, NY 11224   \n",
       "\n",
       "     ADMINISTRATIVE_AREA_LEVEL_2         LOCALITY      SUBLOCALITY  \\\n",
       "0                New York County         New York        Manhattan   \n",
       "1                  United States         New York  New York County   \n",
       "2                  United States         New York  Richmond County   \n",
       "3                  United States         New York  New York County   \n",
       "4                  United States         New York  New York County   \n",
       "...                          ...              ...              ...   \n",
       "4796                    New York  New York County         New York   \n",
       "4797               United States         New York    Queens County   \n",
       "4798               United States         New York  New York County   \n",
       "4799                    New York    Queens County           Queens   \n",
       "4800                    New York     Kings County         Brooklyn   \n",
       "\n",
       "           STREET_NAME         LONG_NAME  \\\n",
       "0     East 55th Street   Regis Residence   \n",
       "1             New York  West 57th Street   \n",
       "2        Staten Island   Sinclair Avenue   \n",
       "3             New York  East 55th Street   \n",
       "4             New York  East 64th Street   \n",
       "...                ...               ...   \n",
       "4796         Manhattan               222   \n",
       "4797            Queens        62nd Drive   \n",
       "4798          New York  West 21st Street   \n",
       "4799          Flushing             91-23   \n",
       "4800      Coney Island               460   \n",
       "\n",
       "                                      FORMATTED_ADDRESS   LATITUDE  LONGITUDE  \\\n",
       "0     Regis Residence, 2 E 55th St #803, New York, N...  40.761255 -73.974483   \n",
       "1                217 W 57th St, New York, NY 10019, USA  40.766393 -73.980991   \n",
       "2        620 Sinclair Ave, Staten Island, NY 10312, USA  40.541805 -74.196109   \n",
       "3                  2 E 55th St, New York, NY 10022, USA  40.761398 -73.974613   \n",
       "4                  5 E 64th St, New York, NY 10065, USA  40.767224 -73.969856   \n",
       "...                                                 ...        ...        ...   \n",
       "4796         222 E 80th St #3a, New York, NY 10075, USA  40.774350 -73.955879   \n",
       "4797            97-40 62nd Dr, Rego Park, NY 11374, USA  40.732538 -73.860152   \n",
       "4798             427 W 21st St, New York, NY 10011, USA  40.745882 -74.003398   \n",
       "4799     91-23 Corona Ave. #4b, Flushing, NY 11373, USA  40.742770 -73.872752   \n",
       "4800      460 Neptune Ave #14a, Brooklyn, NY 11224, USA  40.579147 -73.970949   \n",
       "\n",
       "              0                                          Brokerage  \n",
       "0     Brokered                     Douglas Elliman  -111 Fifth Ave  \n",
       "1     Brokered                                             Serhant  \n",
       "2     Brokered                                          Sowae Corp  \n",
       "3     Brokered                                             COMPASS  \n",
       "4     Brokered    Sotheby's International Realty - East Side Ma...  \n",
       "...         ...                                                ...  \n",
       "4796  Brokered                                             COMPASS  \n",
       "4797  Brokered                                 Mjr Real Estate Llc  \n",
       "4798  Brokered                   Douglas Elliman - 575 Madison Ave  \n",
       "4799  Brokered                         E Realty International Corp  \n",
       "4800  Brokered                              Nyc Realty Brokers Llc  \n",
       "\n",
       "[4587 rows x 19 columns]"
      ]
     },
     "execution_count": 28,
     "metadata": {},
     "output_type": "execute_result"
    }
   ],
   "source": [
    "#Saving the columns to 0 and Brokerage\n",
    "\n",
    "DF1[['0','Brokerage']]= DF1['BROKERTITLE'].str.split('by',n=1, expand=True)\n",
    "DF1"
   ]
  },
  {
   "cell_type": "code",
   "execution_count": 29,
   "id": "1bcf74fb",
   "metadata": {},
   "outputs": [
    {
     "data": {
      "text/html": [
       "<div>\n",
       "<style scoped>\n",
       "    .dataframe tbody tr th:only-of-type {\n",
       "        vertical-align: middle;\n",
       "    }\n",
       "\n",
       "    .dataframe tbody tr th {\n",
       "        vertical-align: top;\n",
       "    }\n",
       "\n",
       "    .dataframe thead th {\n",
       "        text-align: right;\n",
       "    }\n",
       "</style>\n",
       "<table border=\"1\" class=\"dataframe\">\n",
       "  <thead>\n",
       "    <tr style=\"text-align: right;\">\n",
       "      <th></th>\n",
       "      <th>BROKERTITLE</th>\n",
       "      <th>0</th>\n",
       "      <th>Brokerage</th>\n",
       "    </tr>\n",
       "  </thead>\n",
       "  <tbody>\n",
       "    <tr>\n",
       "      <th>0</th>\n",
       "      <td>Brokered by Douglas Elliman  -111 Fifth Ave</td>\n",
       "      <td>Brokered</td>\n",
       "      <td>Douglas Elliman  -111 Fifth Ave</td>\n",
       "    </tr>\n",
       "    <tr>\n",
       "      <th>1</th>\n",
       "      <td>Brokered by Serhant</td>\n",
       "      <td>Brokered</td>\n",
       "      <td>Serhant</td>\n",
       "    </tr>\n",
       "    <tr>\n",
       "      <th>2</th>\n",
       "      <td>Brokered by Sowae Corp</td>\n",
       "      <td>Brokered</td>\n",
       "      <td>Sowae Corp</td>\n",
       "    </tr>\n",
       "    <tr>\n",
       "      <th>3</th>\n",
       "      <td>Brokered by COMPASS</td>\n",
       "      <td>Brokered</td>\n",
       "      <td>COMPASS</td>\n",
       "    </tr>\n",
       "    <tr>\n",
       "      <th>4</th>\n",
       "      <td>Brokered by Sotheby's International Realty - E...</td>\n",
       "      <td>Brokered</td>\n",
       "      <td>Sotheby's International Realty - East Side Ma...</td>\n",
       "    </tr>\n",
       "  </tbody>\n",
       "</table>\n",
       "</div>"
      ],
      "text/plain": [
       "                                         BROKERTITLE          0  \\\n",
       "0        Brokered by Douglas Elliman  -111 Fifth Ave  Brokered    \n",
       "1                                Brokered by Serhant  Brokered    \n",
       "2                             Brokered by Sowae Corp  Brokered    \n",
       "3                                Brokered by COMPASS  Brokered    \n",
       "4  Brokered by Sotheby's International Realty - E...  Brokered    \n",
       "\n",
       "                                           Brokerage  \n",
       "0                    Douglas Elliman  -111 Fifth Ave  \n",
       "1                                            Serhant  \n",
       "2                                         Sowae Corp  \n",
       "3                                            COMPASS  \n",
       "4   Sotheby's International Realty - East Side Ma...  "
      ]
     },
     "execution_count": 29,
     "metadata": {},
     "output_type": "execute_result"
    }
   ],
   "source": [
    "#View just the columns we worked on\n",
    "\n",
    "#Before column, Column to Delete, Column to keep\n",
    "\n",
    "DF1[['BROKERTITLE','0', 'Brokerage']].head(5)"
   ]
  },
  {
   "cell_type": "code",
   "execution_count": 30,
   "id": "ddb00848",
   "metadata": {},
   "outputs": [
    {
     "data": {
      "text/plain": [
       "Brokerage\n",
       " COMPASS                                      435\n",
       " Douglas Elliman - 575 Madison Ave            109\n",
       " Brown Harris Stevens                          93\n",
       " Corcoran East Side                            86\n",
       " RE MAX Edge                                   75\n",
       "                                             ... \n",
       " Grandeur Realty, Inc.                          1\n",
       " Eva Real Estate LLC                            1\n",
       " Cruz Network The Bronx Realty                  1\n",
       " Howard Hanna Coach Realtors - Floral Park      1\n",
       " New York Way Real Estate Corp                  1\n",
       "Name: count, Length: 1036, dtype: int64"
      ]
     },
     "execution_count": 30,
     "metadata": {},
     "output_type": "execute_result"
    }
   ],
   "source": [
    "#Count of the brokerages now, after editing \n",
    "\n",
    "DF1['Brokerage'].value_counts(dropna = False)"
   ]
  },
  {
   "cell_type": "code",
   "execution_count": 32,
   "id": "fe83f557",
   "metadata": {},
   "outputs": [
    {
     "data": {
      "text/html": [
       "<div>\n",
       "<style scoped>\n",
       "    .dataframe tbody tr th:only-of-type {\n",
       "        vertical-align: middle;\n",
       "    }\n",
       "\n",
       "    .dataframe tbody tr th {\n",
       "        vertical-align: top;\n",
       "    }\n",
       "\n",
       "    .dataframe thead th {\n",
       "        text-align: right;\n",
       "    }\n",
       "</style>\n",
       "<table border=\"1\" class=\"dataframe\">\n",
       "  <thead>\n",
       "    <tr style=\"text-align: right;\">\n",
       "      <th></th>\n",
       "      <th>0</th>\n",
       "      <th>1</th>\n",
       "    </tr>\n",
       "  </thead>\n",
       "  <tbody>\n",
       "    <tr>\n",
       "      <th>0</th>\n",
       "      <td>Douglas Elliman</td>\n",
       "      <td>111 Fifth Ave</td>\n",
       "    </tr>\n",
       "    <tr>\n",
       "      <th>1</th>\n",
       "      <td>Serhant</td>\n",
       "      <td>None</td>\n",
       "    </tr>\n",
       "    <tr>\n",
       "      <th>2</th>\n",
       "      <td>Sowae Corp</td>\n",
       "      <td>None</td>\n",
       "    </tr>\n",
       "    <tr>\n",
       "      <th>3</th>\n",
       "      <td>COMPASS</td>\n",
       "      <td>None</td>\n",
       "    </tr>\n",
       "    <tr>\n",
       "      <th>4</th>\n",
       "      <td>Sotheby's International Realty</td>\n",
       "      <td>East Side Manhattan Brokerage</td>\n",
       "    </tr>\n",
       "    <tr>\n",
       "      <th>...</th>\n",
       "      <td>...</td>\n",
       "      <td>...</td>\n",
       "    </tr>\n",
       "    <tr>\n",
       "      <th>4796</th>\n",
       "      <td>COMPASS</td>\n",
       "      <td>None</td>\n",
       "    </tr>\n",
       "    <tr>\n",
       "      <th>4797</th>\n",
       "      <td>Mjr Real Estate Llc</td>\n",
       "      <td>None</td>\n",
       "    </tr>\n",
       "    <tr>\n",
       "      <th>4798</th>\n",
       "      <td>Douglas Elliman</td>\n",
       "      <td>575 Madison Ave</td>\n",
       "    </tr>\n",
       "    <tr>\n",
       "      <th>4799</th>\n",
       "      <td>E Realty International Corp</td>\n",
       "      <td>None</td>\n",
       "    </tr>\n",
       "    <tr>\n",
       "      <th>4800</th>\n",
       "      <td>Nyc Realty Brokers Llc</td>\n",
       "      <td>None</td>\n",
       "    </tr>\n",
       "  </tbody>\n",
       "</table>\n",
       "<p>4587 rows × 2 columns</p>\n",
       "</div>"
      ],
      "text/plain": [
       "                                     0                               1\n",
       "0                    Douglas Elliman                     111 Fifth Ave\n",
       "1                              Serhant                            None\n",
       "2                           Sowae Corp                            None\n",
       "3                              COMPASS                            None\n",
       "4      Sotheby's International Realty    East Side Manhattan Brokerage\n",
       "...                                ...                             ...\n",
       "4796                           COMPASS                            None\n",
       "4797               Mjr Real Estate Llc                            None\n",
       "4798                  Douglas Elliman                  575 Madison Ave\n",
       "4799       E Realty International Corp                            None\n",
       "4800            Nyc Realty Brokers Llc                            None\n",
       "\n",
       "[4587 rows x 2 columns]"
      ]
     },
     "execution_count": 32,
     "metadata": {},
     "output_type": "execute_result"
    }
   ],
   "source": [
    "#Problem - Many brokerages are also specifying the location\n",
    "\n",
    "#EX: Douglas Elliman - 575 Madison Ave can become just Douglas Elliman\n",
    "\n",
    "#We want just the Brokerage Name, regardless of its location.\n",
    "\n",
    "#Split at the - to seperate the location.\n",
    "\n",
    "DF1['Brokerage'].str.split('-',n=1, expand=True)"
   ]
  },
  {
   "cell_type": "code",
   "execution_count": 33,
   "id": "a174ddc1",
   "metadata": {},
   "outputs": [
    {
     "name": "stderr",
     "output_type": "stream",
     "text": [
      "/var/folders/yj/v30db1v90zs0p0pvttp796cm0000gp/T/ipykernel_4917/2424380679.py:1: SettingWithCopyWarning: \n",
      "A value is trying to be set on a copy of a slice from a DataFrame.\n",
      "Try using .loc[row_indexer,col_indexer] = value instead\n",
      "\n",
      "See the caveats in the documentation: https://pandas.pydata.org/pandas-docs/stable/user_guide/indexing.html#returning-a-view-versus-a-copy\n",
      "  DF1[['1','Brokerage2']]= DF1['Brokerage'].str.split('-',n=1, expand=True)\n",
      "/var/folders/yj/v30db1v90zs0p0pvttp796cm0000gp/T/ipykernel_4917/2424380679.py:1: SettingWithCopyWarning: \n",
      "A value is trying to be set on a copy of a slice from a DataFrame.\n",
      "Try using .loc[row_indexer,col_indexer] = value instead\n",
      "\n",
      "See the caveats in the documentation: https://pandas.pydata.org/pandas-docs/stable/user_guide/indexing.html#returning-a-view-versus-a-copy\n",
      "  DF1[['1','Brokerage2']]= DF1['Brokerage'].str.split('-',n=1, expand=True)\n"
     ]
    },
    {
     "data": {
      "text/html": [
       "<div>\n",
       "<style scoped>\n",
       "    .dataframe tbody tr th:only-of-type {\n",
       "        vertical-align: middle;\n",
       "    }\n",
       "\n",
       "    .dataframe tbody tr th {\n",
       "        vertical-align: top;\n",
       "    }\n",
       "\n",
       "    .dataframe thead th {\n",
       "        text-align: right;\n",
       "    }\n",
       "</style>\n",
       "<table border=\"1\" class=\"dataframe\">\n",
       "  <thead>\n",
       "    <tr style=\"text-align: right;\">\n",
       "      <th></th>\n",
       "      <th>BROKERTITLE</th>\n",
       "      <th>TYPE</th>\n",
       "      <th>PRICE</th>\n",
       "      <th>BEDS</th>\n",
       "      <th>BATH</th>\n",
       "      <th>PROPERTYSQFT</th>\n",
       "      <th>ADDRESS</th>\n",
       "      <th>STATE</th>\n",
       "      <th>MAIN_ADDRESS</th>\n",
       "      <th>ADMINISTRATIVE_AREA_LEVEL_2</th>\n",
       "      <th>...</th>\n",
       "      <th>SUBLOCALITY</th>\n",
       "      <th>STREET_NAME</th>\n",
       "      <th>LONG_NAME</th>\n",
       "      <th>FORMATTED_ADDRESS</th>\n",
       "      <th>LATITUDE</th>\n",
       "      <th>LONGITUDE</th>\n",
       "      <th>0</th>\n",
       "      <th>Brokerage</th>\n",
       "      <th>1</th>\n",
       "      <th>Brokerage2</th>\n",
       "    </tr>\n",
       "  </thead>\n",
       "  <tbody>\n",
       "    <tr>\n",
       "      <th>0</th>\n",
       "      <td>Brokered by Douglas Elliman  -111 Fifth Ave</td>\n",
       "      <td>Condo for sale</td>\n",
       "      <td>315000</td>\n",
       "      <td>2</td>\n",
       "      <td>2.0</td>\n",
       "      <td>1400.000000</td>\n",
       "      <td>2 E 55th St Unit 803</td>\n",
       "      <td>New York, NY 10022</td>\n",
       "      <td>2 E 55th St Unit 803New York, NY 10022</td>\n",
       "      <td>New York County</td>\n",
       "      <td>...</td>\n",
       "      <td>Manhattan</td>\n",
       "      <td>East 55th Street</td>\n",
       "      <td>Regis Residence</td>\n",
       "      <td>Regis Residence, 2 E 55th St #803, New York, N...</td>\n",
       "      <td>40.761255</td>\n",
       "      <td>-73.974483</td>\n",
       "      <td>Brokered</td>\n",
       "      <td>Douglas Elliman  -111 Fifth Ave</td>\n",
       "      <td>Douglas Elliman</td>\n",
       "      <td>111 Fifth Ave</td>\n",
       "    </tr>\n",
       "    <tr>\n",
       "      <th>1</th>\n",
       "      <td>Brokered by Serhant</td>\n",
       "      <td>Condo for sale</td>\n",
       "      <td>195000000</td>\n",
       "      <td>7</td>\n",
       "      <td>10.0</td>\n",
       "      <td>17545.000000</td>\n",
       "      <td>Central Park Tower Penthouse-217 W 57th New Yo...</td>\n",
       "      <td>New York, NY 10019</td>\n",
       "      <td>Central Park Tower Penthouse-217 W 57th New Yo...</td>\n",
       "      <td>United States</td>\n",
       "      <td>...</td>\n",
       "      <td>New York County</td>\n",
       "      <td>New York</td>\n",
       "      <td>West 57th Street</td>\n",
       "      <td>217 W 57th St, New York, NY 10019, USA</td>\n",
       "      <td>40.766393</td>\n",
       "      <td>-73.980991</td>\n",
       "      <td>Brokered</td>\n",
       "      <td>Serhant</td>\n",
       "      <td>Serhant</td>\n",
       "      <td>None</td>\n",
       "    </tr>\n",
       "    <tr>\n",
       "      <th>2</th>\n",
       "      <td>Brokered by Sowae Corp</td>\n",
       "      <td>House for sale</td>\n",
       "      <td>260000</td>\n",
       "      <td>4</td>\n",
       "      <td>2.0</td>\n",
       "      <td>2015.000000</td>\n",
       "      <td>620 Sinclair Ave</td>\n",
       "      <td>Staten Island, NY 10312</td>\n",
       "      <td>620 Sinclair AveStaten Island, NY 10312</td>\n",
       "      <td>United States</td>\n",
       "      <td>...</td>\n",
       "      <td>Richmond County</td>\n",
       "      <td>Staten Island</td>\n",
       "      <td>Sinclair Avenue</td>\n",
       "      <td>620 Sinclair Ave, Staten Island, NY 10312, USA</td>\n",
       "      <td>40.541805</td>\n",
       "      <td>-74.196109</td>\n",
       "      <td>Brokered</td>\n",
       "      <td>Sowae Corp</td>\n",
       "      <td>Sowae Corp</td>\n",
       "      <td>None</td>\n",
       "    </tr>\n",
       "    <tr>\n",
       "      <th>3</th>\n",
       "      <td>Brokered by COMPASS</td>\n",
       "      <td>Condo for sale</td>\n",
       "      <td>69000</td>\n",
       "      <td>3</td>\n",
       "      <td>1.0</td>\n",
       "      <td>445.000000</td>\n",
       "      <td>2 E 55th St Unit 908W33</td>\n",
       "      <td>Manhattan, NY 10022</td>\n",
       "      <td>2 E 55th St Unit 908W33Manhattan, NY 10022</td>\n",
       "      <td>United States</td>\n",
       "      <td>...</td>\n",
       "      <td>New York County</td>\n",
       "      <td>New York</td>\n",
       "      <td>East 55th Street</td>\n",
       "      <td>2 E 55th St, New York, NY 10022, USA</td>\n",
       "      <td>40.761398</td>\n",
       "      <td>-73.974613</td>\n",
       "      <td>Brokered</td>\n",
       "      <td>COMPASS</td>\n",
       "      <td>COMPASS</td>\n",
       "      <td>None</td>\n",
       "    </tr>\n",
       "    <tr>\n",
       "      <th>4</th>\n",
       "      <td>Brokered by Sotheby's International Realty - E...</td>\n",
       "      <td>Townhouse for sale</td>\n",
       "      <td>55000000</td>\n",
       "      <td>7</td>\n",
       "      <td>2.5</td>\n",
       "      <td>14175.000000</td>\n",
       "      <td>5 E 64th St</td>\n",
       "      <td>New York, NY 10065</td>\n",
       "      <td>5 E 64th StNew York, NY 10065</td>\n",
       "      <td>United States</td>\n",
       "      <td>...</td>\n",
       "      <td>New York County</td>\n",
       "      <td>New York</td>\n",
       "      <td>East 64th Street</td>\n",
       "      <td>5 E 64th St, New York, NY 10065, USA</td>\n",
       "      <td>40.767224</td>\n",
       "      <td>-73.969856</td>\n",
       "      <td>Brokered</td>\n",
       "      <td>Sotheby's International Realty - East Side Ma...</td>\n",
       "      <td>Sotheby's International Realty</td>\n",
       "      <td>East Side Manhattan Brokerage</td>\n",
       "    </tr>\n",
       "    <tr>\n",
       "      <th>...</th>\n",
       "      <td>...</td>\n",
       "      <td>...</td>\n",
       "      <td>...</td>\n",
       "      <td>...</td>\n",
       "      <td>...</td>\n",
       "      <td>...</td>\n",
       "      <td>...</td>\n",
       "      <td>...</td>\n",
       "      <td>...</td>\n",
       "      <td>...</td>\n",
       "      <td>...</td>\n",
       "      <td>...</td>\n",
       "      <td>...</td>\n",
       "      <td>...</td>\n",
       "      <td>...</td>\n",
       "      <td>...</td>\n",
       "      <td>...</td>\n",
       "      <td>...</td>\n",
       "      <td>...</td>\n",
       "      <td>...</td>\n",
       "      <td>...</td>\n",
       "    </tr>\n",
       "    <tr>\n",
       "      <th>4796</th>\n",
       "      <td>Brokered by COMPASS</td>\n",
       "      <td>Co-op for sale</td>\n",
       "      <td>599000</td>\n",
       "      <td>1</td>\n",
       "      <td>1.0</td>\n",
       "      <td>2184.207862</td>\n",
       "      <td>222 E 80th St Apt 3A</td>\n",
       "      <td>Manhattan, NY 10075</td>\n",
       "      <td>222 E 80th St Apt 3AManhattan, NY 10075</td>\n",
       "      <td>New York</td>\n",
       "      <td>...</td>\n",
       "      <td>New York</td>\n",
       "      <td>Manhattan</td>\n",
       "      <td>222</td>\n",
       "      <td>222 E 80th St #3a, New York, NY 10075, USA</td>\n",
       "      <td>40.774350</td>\n",
       "      <td>-73.955879</td>\n",
       "      <td>Brokered</td>\n",
       "      <td>COMPASS</td>\n",
       "      <td>COMPASS</td>\n",
       "      <td>None</td>\n",
       "    </tr>\n",
       "    <tr>\n",
       "      <th>4797</th>\n",
       "      <td>Brokered by Mjr Real Estate Llc</td>\n",
       "      <td>Co-op for sale</td>\n",
       "      <td>245000</td>\n",
       "      <td>1</td>\n",
       "      <td>1.0</td>\n",
       "      <td>2184.207862</td>\n",
       "      <td>97-40 62 Dr Unit Lg</td>\n",
       "      <td>Rego Park, NY 11374</td>\n",
       "      <td>97-40 62 Dr Unit LgRego Park, NY 11374</td>\n",
       "      <td>United States</td>\n",
       "      <td>...</td>\n",
       "      <td>Queens County</td>\n",
       "      <td>Queens</td>\n",
       "      <td>62nd Drive</td>\n",
       "      <td>97-40 62nd Dr, Rego Park, NY 11374, USA</td>\n",
       "      <td>40.732538</td>\n",
       "      <td>-73.860152</td>\n",
       "      <td>Brokered</td>\n",
       "      <td>Mjr Real Estate Llc</td>\n",
       "      <td>Mjr Real Estate Llc</td>\n",
       "      <td>None</td>\n",
       "    </tr>\n",
       "    <tr>\n",
       "      <th>4798</th>\n",
       "      <td>Brokered by Douglas Elliman - 575 Madison Ave</td>\n",
       "      <td>Co-op for sale</td>\n",
       "      <td>1275000</td>\n",
       "      <td>1</td>\n",
       "      <td>1.0</td>\n",
       "      <td>2184.207862</td>\n",
       "      <td>427 W 21st St Unit Garden</td>\n",
       "      <td>New York, NY 10011</td>\n",
       "      <td>427 W 21st St Unit GardenNew York, NY 10011</td>\n",
       "      <td>United States</td>\n",
       "      <td>...</td>\n",
       "      <td>New York County</td>\n",
       "      <td>New York</td>\n",
       "      <td>West 21st Street</td>\n",
       "      <td>427 W 21st St, New York, NY 10011, USA</td>\n",
       "      <td>40.745882</td>\n",
       "      <td>-74.003398</td>\n",
       "      <td>Brokered</td>\n",
       "      <td>Douglas Elliman - 575 Madison Ave</td>\n",
       "      <td>Douglas Elliman</td>\n",
       "      <td>575 Madison Ave</td>\n",
       "    </tr>\n",
       "    <tr>\n",
       "      <th>4799</th>\n",
       "      <td>Brokered by E Realty International Corp</td>\n",
       "      <td>Condo for sale</td>\n",
       "      <td>598125</td>\n",
       "      <td>2</td>\n",
       "      <td>1.0</td>\n",
       "      <td>655.000000</td>\n",
       "      <td>91-23 Corona Ave Unit 4G</td>\n",
       "      <td>Elmhurst, NY 11373</td>\n",
       "      <td>91-23 Corona Ave Unit 4GElmhurst, NY 11373</td>\n",
       "      <td>New York</td>\n",
       "      <td>...</td>\n",
       "      <td>Queens</td>\n",
       "      <td>Flushing</td>\n",
       "      <td>91-23</td>\n",
       "      <td>91-23 Corona Ave. #4b, Flushing, NY 11373, USA</td>\n",
       "      <td>40.742770</td>\n",
       "      <td>-73.872752</td>\n",
       "      <td>Brokered</td>\n",
       "      <td>E Realty International Corp</td>\n",
       "      <td>E Realty International Corp</td>\n",
       "      <td>None</td>\n",
       "    </tr>\n",
       "    <tr>\n",
       "      <th>4800</th>\n",
       "      <td>Brokered by Nyc Realty Brokers Llc</td>\n",
       "      <td>Co-op for sale</td>\n",
       "      <td>349000</td>\n",
       "      <td>1</td>\n",
       "      <td>1.0</td>\n",
       "      <td>750.000000</td>\n",
       "      <td>460 Neptune Ave Apt 14O</td>\n",
       "      <td>Brooklyn, NY 11224</td>\n",
       "      <td>460 Neptune Ave Apt 14OBrooklyn, NY 11224</td>\n",
       "      <td>New York</td>\n",
       "      <td>...</td>\n",
       "      <td>Brooklyn</td>\n",
       "      <td>Coney Island</td>\n",
       "      <td>460</td>\n",
       "      <td>460 Neptune Ave #14a, Brooklyn, NY 11224, USA</td>\n",
       "      <td>40.579147</td>\n",
       "      <td>-73.970949</td>\n",
       "      <td>Brokered</td>\n",
       "      <td>Nyc Realty Brokers Llc</td>\n",
       "      <td>Nyc Realty Brokers Llc</td>\n",
       "      <td>None</td>\n",
       "    </tr>\n",
       "  </tbody>\n",
       "</table>\n",
       "<p>4587 rows × 21 columns</p>\n",
       "</div>"
      ],
      "text/plain": [
       "                                            BROKERTITLE                TYPE  \\\n",
       "0           Brokered by Douglas Elliman  -111 Fifth Ave      Condo for sale   \n",
       "1                                   Brokered by Serhant      Condo for sale   \n",
       "2                                Brokered by Sowae Corp      House for sale   \n",
       "3                                   Brokered by COMPASS      Condo for sale   \n",
       "4     Brokered by Sotheby's International Realty - E...  Townhouse for sale   \n",
       "...                                                 ...                 ...   \n",
       "4796                                Brokered by COMPASS      Co-op for sale   \n",
       "4797                    Brokered by Mjr Real Estate Llc      Co-op for sale   \n",
       "4798      Brokered by Douglas Elliman - 575 Madison Ave      Co-op for sale   \n",
       "4799            Brokered by E Realty International Corp      Condo for sale   \n",
       "4800                 Brokered by Nyc Realty Brokers Llc      Co-op for sale   \n",
       "\n",
       "          PRICE BEDS  BATH  PROPERTYSQFT  \\\n",
       "0        315000    2   2.0   1400.000000   \n",
       "1     195000000    7  10.0  17545.000000   \n",
       "2        260000    4   2.0   2015.000000   \n",
       "3         69000    3   1.0    445.000000   \n",
       "4      55000000    7   2.5  14175.000000   \n",
       "...         ...  ...   ...           ...   \n",
       "4796     599000    1   1.0   2184.207862   \n",
       "4797     245000    1   1.0   2184.207862   \n",
       "4798    1275000    1   1.0   2184.207862   \n",
       "4799     598125    2   1.0    655.000000   \n",
       "4800     349000    1   1.0    750.000000   \n",
       "\n",
       "                                                ADDRESS  \\\n",
       "0                                  2 E 55th St Unit 803   \n",
       "1     Central Park Tower Penthouse-217 W 57th New Yo...   \n",
       "2                                      620 Sinclair Ave   \n",
       "3                               2 E 55th St Unit 908W33   \n",
       "4                                           5 E 64th St   \n",
       "...                                                 ...   \n",
       "4796                               222 E 80th St Apt 3A   \n",
       "4797                                97-40 62 Dr Unit Lg   \n",
       "4798                          427 W 21st St Unit Garden   \n",
       "4799                           91-23 Corona Ave Unit 4G   \n",
       "4800                            460 Neptune Ave Apt 14O   \n",
       "\n",
       "                        STATE  \\\n",
       "0          New York, NY 10022   \n",
       "1          New York, NY 10019   \n",
       "2     Staten Island, NY 10312   \n",
       "3         Manhattan, NY 10022   \n",
       "4          New York, NY 10065   \n",
       "...                       ...   \n",
       "4796      Manhattan, NY 10075   \n",
       "4797      Rego Park, NY 11374   \n",
       "4798       New York, NY 10011   \n",
       "4799       Elmhurst, NY 11373   \n",
       "4800       Brooklyn, NY 11224   \n",
       "\n",
       "                                           MAIN_ADDRESS  \\\n",
       "0                2 E 55th St Unit 803New York, NY 10022   \n",
       "1     Central Park Tower Penthouse-217 W 57th New Yo...   \n",
       "2               620 Sinclair AveStaten Island, NY 10312   \n",
       "3            2 E 55th St Unit 908W33Manhattan, NY 10022   \n",
       "4                         5 E 64th StNew York, NY 10065   \n",
       "...                                                 ...   \n",
       "4796            222 E 80th St Apt 3AManhattan, NY 10075   \n",
       "4797             97-40 62 Dr Unit LgRego Park, NY 11374   \n",
       "4798        427 W 21st St Unit GardenNew York, NY 10011   \n",
       "4799         91-23 Corona Ave Unit 4GElmhurst, NY 11373   \n",
       "4800          460 Neptune Ave Apt 14OBrooklyn, NY 11224   \n",
       "\n",
       "     ADMINISTRATIVE_AREA_LEVEL_2  ...      SUBLOCALITY       STREET_NAME  \\\n",
       "0                New York County  ...        Manhattan  East 55th Street   \n",
       "1                  United States  ...  New York County          New York   \n",
       "2                  United States  ...  Richmond County     Staten Island   \n",
       "3                  United States  ...  New York County          New York   \n",
       "4                  United States  ...  New York County          New York   \n",
       "...                          ...  ...              ...               ...   \n",
       "4796                    New York  ...         New York         Manhattan   \n",
       "4797               United States  ...    Queens County            Queens   \n",
       "4798               United States  ...  New York County          New York   \n",
       "4799                    New York  ...           Queens          Flushing   \n",
       "4800                    New York  ...         Brooklyn      Coney Island   \n",
       "\n",
       "             LONG_NAME                                  FORMATTED_ADDRESS  \\\n",
       "0      Regis Residence  Regis Residence, 2 E 55th St #803, New York, N...   \n",
       "1     West 57th Street             217 W 57th St, New York, NY 10019, USA   \n",
       "2      Sinclair Avenue     620 Sinclair Ave, Staten Island, NY 10312, USA   \n",
       "3     East 55th Street               2 E 55th St, New York, NY 10022, USA   \n",
       "4     East 64th Street               5 E 64th St, New York, NY 10065, USA   \n",
       "...                ...                                                ...   \n",
       "4796               222         222 E 80th St #3a, New York, NY 10075, USA   \n",
       "4797        62nd Drive            97-40 62nd Dr, Rego Park, NY 11374, USA   \n",
       "4798  West 21st Street             427 W 21st St, New York, NY 10011, USA   \n",
       "4799             91-23     91-23 Corona Ave. #4b, Flushing, NY 11373, USA   \n",
       "4800               460      460 Neptune Ave #14a, Brooklyn, NY 11224, USA   \n",
       "\n",
       "       LATITUDE  LONGITUDE          0  \\\n",
       "0     40.761255 -73.974483  Brokered    \n",
       "1     40.766393 -73.980991  Brokered    \n",
       "2     40.541805 -74.196109  Brokered    \n",
       "3     40.761398 -73.974613  Brokered    \n",
       "4     40.767224 -73.969856  Brokered    \n",
       "...         ...        ...        ...   \n",
       "4796  40.774350 -73.955879  Brokered    \n",
       "4797  40.732538 -73.860152  Brokered    \n",
       "4798  40.745882 -74.003398  Brokered    \n",
       "4799  40.742770 -73.872752  Brokered    \n",
       "4800  40.579147 -73.970949  Brokered    \n",
       "\n",
       "                                              Brokerage  \\\n",
       "0                       Douglas Elliman  -111 Fifth Ave   \n",
       "1                                               Serhant   \n",
       "2                                            Sowae Corp   \n",
       "3                                               COMPASS   \n",
       "4      Sotheby's International Realty - East Side Ma...   \n",
       "...                                                 ...   \n",
       "4796                                            COMPASS   \n",
       "4797                                Mjr Real Estate Llc   \n",
       "4798                  Douglas Elliman - 575 Madison Ave   \n",
       "4799                        E Realty International Corp   \n",
       "4800                             Nyc Realty Brokers Llc   \n",
       "\n",
       "                                     1                      Brokerage2  \n",
       "0                    Douglas Elliman                     111 Fifth Ave  \n",
       "1                              Serhant                            None  \n",
       "2                           Sowae Corp                            None  \n",
       "3                              COMPASS                            None  \n",
       "4      Sotheby's International Realty    East Side Manhattan Brokerage  \n",
       "...                                ...                             ...  \n",
       "4796                           COMPASS                            None  \n",
       "4797               Mjr Real Estate Llc                            None  \n",
       "4798                  Douglas Elliman                  575 Madison Ave  \n",
       "4799       E Realty International Corp                            None  \n",
       "4800            Nyc Realty Brokers Llc                            None  \n",
       "\n",
       "[4587 rows x 21 columns]"
      ]
     },
     "execution_count": 33,
     "metadata": {},
     "output_type": "execute_result"
    }
   ],
   "source": [
    "#Creating the 2 columns like we have above.\n",
    "# Column 1 being what we keep\n",
    "# Brokerage 2 being what we delete\n",
    "\n",
    "DF1[['1','Brokerage2']]= DF1['Brokerage'].str.split('-',n=1, expand=True)\n",
    "DF1"
   ]
  },
  {
   "cell_type": "code",
   "execution_count": 34,
   "id": "2ca49345",
   "metadata": {},
   "outputs": [
    {
     "data": {
      "text/html": [
       "<div>\n",
       "<style scoped>\n",
       "    .dataframe tbody tr th:only-of-type {\n",
       "        vertical-align: middle;\n",
       "    }\n",
       "\n",
       "    .dataframe tbody tr th {\n",
       "        vertical-align: top;\n",
       "    }\n",
       "\n",
       "    .dataframe thead th {\n",
       "        text-align: right;\n",
       "    }\n",
       "</style>\n",
       "<table border=\"1\" class=\"dataframe\">\n",
       "  <thead>\n",
       "    <tr style=\"text-align: right;\">\n",
       "      <th></th>\n",
       "      <th>BROKERTITLE</th>\n",
       "      <th>0</th>\n",
       "      <th>Brokerage</th>\n",
       "      <th>1</th>\n",
       "      <th>Brokerage2</th>\n",
       "    </tr>\n",
       "  </thead>\n",
       "  <tbody>\n",
       "    <tr>\n",
       "      <th>0</th>\n",
       "      <td>Brokered by Douglas Elliman  -111 Fifth Ave</td>\n",
       "      <td>Brokered</td>\n",
       "      <td>Douglas Elliman  -111 Fifth Ave</td>\n",
       "      <td>Douglas Elliman</td>\n",
       "      <td>111 Fifth Ave</td>\n",
       "    </tr>\n",
       "    <tr>\n",
       "      <th>1</th>\n",
       "      <td>Brokered by Serhant</td>\n",
       "      <td>Brokered</td>\n",
       "      <td>Serhant</td>\n",
       "      <td>Serhant</td>\n",
       "      <td>None</td>\n",
       "    </tr>\n",
       "    <tr>\n",
       "      <th>2</th>\n",
       "      <td>Brokered by Sowae Corp</td>\n",
       "      <td>Brokered</td>\n",
       "      <td>Sowae Corp</td>\n",
       "      <td>Sowae Corp</td>\n",
       "      <td>None</td>\n",
       "    </tr>\n",
       "    <tr>\n",
       "      <th>3</th>\n",
       "      <td>Brokered by COMPASS</td>\n",
       "      <td>Brokered</td>\n",
       "      <td>COMPASS</td>\n",
       "      <td>COMPASS</td>\n",
       "      <td>None</td>\n",
       "    </tr>\n",
       "    <tr>\n",
       "      <th>4</th>\n",
       "      <td>Brokered by Sotheby's International Realty - E...</td>\n",
       "      <td>Brokered</td>\n",
       "      <td>Sotheby's International Realty - East Side Ma...</td>\n",
       "      <td>Sotheby's International Realty</td>\n",
       "      <td>East Side Manhattan Brokerage</td>\n",
       "    </tr>\n",
       "  </tbody>\n",
       "</table>\n",
       "</div>"
      ],
      "text/plain": [
       "                                         BROKERTITLE          0  \\\n",
       "0        Brokered by Douglas Elliman  -111 Fifth Ave  Brokered    \n",
       "1                                Brokered by Serhant  Brokered    \n",
       "2                             Brokered by Sowae Corp  Brokered    \n",
       "3                                Brokered by COMPASS  Brokered    \n",
       "4  Brokered by Sotheby's International Realty - E...  Brokered    \n",
       "\n",
       "                                           Brokerage  \\\n",
       "0                    Douglas Elliman  -111 Fifth Ave   \n",
       "1                                            Serhant   \n",
       "2                                         Sowae Corp   \n",
       "3                                            COMPASS   \n",
       "4   Sotheby's International Realty - East Side Ma...   \n",
       "\n",
       "                                  1                      Brokerage2  \n",
       "0                 Douglas Elliman                     111 Fifth Ave  \n",
       "1                           Serhant                            None  \n",
       "2                        Sowae Corp                            None  \n",
       "3                           COMPASS                            None  \n",
       "4   Sotheby's International Realty    East Side Manhattan Brokerage  "
      ]
     },
     "execution_count": 34,
     "metadata": {},
     "output_type": "execute_result"
    }
   ],
   "source": [
    "#View all the columns we worked on\n",
    "\n",
    "# Brokerage full information, Brokered , Brokerage with address, just the brokerage (one we want), addresss\n",
    "\n",
    "#Keeping just '1'\n",
    "\n",
    "DF1[['BROKERTITLE','0', 'Brokerage','1','Brokerage2']].head(5)"
   ]
  },
  {
   "cell_type": "code",
   "execution_count": 35,
   "id": "6cf35184",
   "metadata": {},
   "outputs": [],
   "source": [
    "#Column 1 is the only one to keep.\n",
    "\n",
    "#Before we delete everything else, lets look at the counts of Column 1 to make sure it looks correct.\n",
    "\n",
    "#'1' contains the brokerage information with nothing else. Spelling is repeated, hence th enumber counts"
   ]
  },
  {
   "cell_type": "code",
   "execution_count": 36,
   "id": "1916e5fd",
   "metadata": {},
   "outputs": [
    {
     "data": {
      "text/plain": [
       "1\n",
       " COMPASS                            435\n",
       " Douglas Elliman                    255\n",
       " Brown Harris Stevens               101\n",
       " Sotheby's International Realty      99\n",
       " Corcoran East Side                  86\n",
       "                                   ... \n",
       " All Star Real Estate                 1\n",
       " Real Estate Trade Co Inc             1\n",
       " Neman Yoska                          1\n",
       " Elite Realty of USA Inc              1\n",
       " New York Way Real Estate Corp        1\n",
       "Name: count, Length: 994, dtype: int64"
      ]
     },
     "execution_count": 36,
     "metadata": {},
     "output_type": "execute_result"
    }
   ],
   "source": [
    "#Brokerage values look correct. We can delete the other columns created.\n",
    "\n",
    "DF1['1'].value_counts(dropna = False)"
   ]
  },
  {
   "cell_type": "code",
   "execution_count": 37,
   "id": "20994b31",
   "metadata": {},
   "outputs": [],
   "source": [
    "#Drop excess column\n",
    "\n",
    "DF1 = DF1.drop(columns = ['BROKERTITLE'])"
   ]
  },
  {
   "cell_type": "code",
   "execution_count": 38,
   "id": "beef6365",
   "metadata": {},
   "outputs": [],
   "source": [
    "#Drop excess column\n",
    "\n",
    "DF1 = DF1.drop(columns = ['Brokerage'])\n"
   ]
  },
  {
   "cell_type": "code",
   "execution_count": 39,
   "id": "be71363a",
   "metadata": {},
   "outputs": [],
   "source": [
    "#Drop excess column\n",
    "\n",
    "DF1 = DF1.drop(columns = ['Brokerage2'])"
   ]
  },
  {
   "cell_type": "code",
   "execution_count": 40,
   "id": "2830e2db",
   "metadata": {},
   "outputs": [
    {
     "data": {
      "text/plain": [
       "Index(['TYPE', 'PRICE', 'BEDS', 'BATH', 'PROPERTYSQFT', 'ADDRESS', 'STATE',\n",
       "       'MAIN_ADDRESS', 'ADMINISTRATIVE_AREA_LEVEL_2', 'LOCALITY',\n",
       "       'SUBLOCALITY', 'STREET_NAME', 'LONG_NAME', 'FORMATTED_ADDRESS',\n",
       "       'LATITUDE', 'LONGITUDE', '0', '1'],\n",
       "      dtype='object')"
      ]
     },
     "execution_count": 40,
     "metadata": {},
     "output_type": "execute_result"
    }
   ],
   "source": [
    "#Successfully deleted columns of 'BROKERTITLE','0', 'Brokerage','Brokerage2'\n",
    "DF1.columns"
   ]
  },
  {
   "cell_type": "code",
   "execution_count": 41,
   "id": "6e84afa9",
   "metadata": {},
   "outputs": [],
   "source": [
    "#Rename column '1'\n",
    "\n",
    "DF1.rename(columns = {'1' : 'Brokerages'}, inplace = True)"
   ]
  },
  {
   "cell_type": "code",
   "execution_count": 42,
   "id": "598d7e12",
   "metadata": {},
   "outputs": [
    {
     "data": {
      "text/plain": [
       "Index(['TYPE', 'PRICE', 'BEDS', 'BATH', 'PROPERTYSQFT', 'ADDRESS', 'STATE',\n",
       "       'MAIN_ADDRESS', 'ADMINISTRATIVE_AREA_LEVEL_2', 'LOCALITY',\n",
       "       'SUBLOCALITY', 'STREET_NAME', 'LONG_NAME', 'FORMATTED_ADDRESS',\n",
       "       'LATITUDE', 'LONGITUDE', '0', 'Brokerages'],\n",
       "      dtype='object')"
      ]
     },
     "execution_count": 42,
     "metadata": {},
     "output_type": "execute_result"
    }
   ],
   "source": [
    "#Checking what columns look like now.\n",
    "\n",
    "DF1.columns"
   ]
  },
  {
   "cell_type": "code",
   "execution_count": 43,
   "id": "3bd09fc2",
   "metadata": {},
   "outputs": [
    {
     "data": {
      "text/html": [
       "<div>\n",
       "<style scoped>\n",
       "    .dataframe tbody tr th:only-of-type {\n",
       "        vertical-align: middle;\n",
       "    }\n",
       "\n",
       "    .dataframe tbody tr th {\n",
       "        vertical-align: top;\n",
       "    }\n",
       "\n",
       "    .dataframe thead th {\n",
       "        text-align: right;\n",
       "    }\n",
       "</style>\n",
       "<table border=\"1\" class=\"dataframe\">\n",
       "  <thead>\n",
       "    <tr style=\"text-align: right;\">\n",
       "      <th></th>\n",
       "      <th>TYPE</th>\n",
       "      <th>PRICE</th>\n",
       "      <th>BEDS</th>\n",
       "      <th>BATH</th>\n",
       "      <th>PROPERTYSQFT</th>\n",
       "      <th>ADDRESS</th>\n",
       "      <th>STATE</th>\n",
       "      <th>MAIN_ADDRESS</th>\n",
       "      <th>ADMINISTRATIVE_AREA_LEVEL_2</th>\n",
       "      <th>LOCALITY</th>\n",
       "      <th>SUBLOCALITY</th>\n",
       "      <th>STREET_NAME</th>\n",
       "      <th>LONG_NAME</th>\n",
       "      <th>FORMATTED_ADDRESS</th>\n",
       "      <th>LATITUDE</th>\n",
       "      <th>LONGITUDE</th>\n",
       "      <th>0</th>\n",
       "      <th>Brokerages</th>\n",
       "    </tr>\n",
       "  </thead>\n",
       "  <tbody>\n",
       "    <tr>\n",
       "      <th>0</th>\n",
       "      <td>Condo for sale</td>\n",
       "      <td>315000</td>\n",
       "      <td>2</td>\n",
       "      <td>2.0</td>\n",
       "      <td>1400.0</td>\n",
       "      <td>2 E 55th St Unit 803</td>\n",
       "      <td>New York, NY 10022</td>\n",
       "      <td>2 E 55th St Unit 803New York, NY 10022</td>\n",
       "      <td>New York County</td>\n",
       "      <td>New York</td>\n",
       "      <td>Manhattan</td>\n",
       "      <td>East 55th Street</td>\n",
       "      <td>Regis Residence</td>\n",
       "      <td>Regis Residence, 2 E 55th St #803, New York, N...</td>\n",
       "      <td>40.761255</td>\n",
       "      <td>-73.974483</td>\n",
       "      <td>Brokered</td>\n",
       "      <td>Douglas Elliman</td>\n",
       "    </tr>\n",
       "  </tbody>\n",
       "</table>\n",
       "</div>"
      ],
      "text/plain": [
       "             TYPE   PRICE BEDS BATH  PROPERTYSQFT               ADDRESS  \\\n",
       "0  Condo for sale  315000    2  2.0        1400.0  2 E 55th St Unit 803   \n",
       "\n",
       "                STATE                            MAIN_ADDRESS  \\\n",
       "0  New York, NY 10022  2 E 55th St Unit 803New York, NY 10022   \n",
       "\n",
       "  ADMINISTRATIVE_AREA_LEVEL_2  LOCALITY SUBLOCALITY       STREET_NAME  \\\n",
       "0             New York County  New York   Manhattan  East 55th Street   \n",
       "\n",
       "         LONG_NAME                                  FORMATTED_ADDRESS  \\\n",
       "0  Regis Residence  Regis Residence, 2 E 55th St #803, New York, N...   \n",
       "\n",
       "    LATITUDE  LONGITUDE          0          Brokerages  \n",
       "0  40.761255 -73.974483  Brokered    Douglas Elliman    "
      ]
     },
     "execution_count": 43,
     "metadata": {},
     "output_type": "execute_result"
    }
   ],
   "source": [
    "DF1.head(1)"
   ]
  },
  {
   "cell_type": "markdown",
   "id": "5bc99e5f",
   "metadata": {},
   "source": [
    "## Further Cleaning for Specific Brokerages"
   ]
  },
  {
   "cell_type": "code",
   "execution_count": 44,
   "id": "22b43313",
   "metadata": {},
   "outputs": [
    {
     "data": {
      "text/plain": [
       "Brokerages\n",
       " COMPASS                            435\n",
       " Douglas Elliman                    255\n",
       " Brown Harris Stevens               101\n",
       " Sotheby's International Realty      99\n",
       " Corcoran East Side                  86\n",
       "                                   ... \n",
       " All Star Real Estate                 1\n",
       " Real Estate Trade Co Inc             1\n",
       " Neman Yoska                          1\n",
       " Elite Realty of USA Inc              1\n",
       " New York Way Real Estate Corp        1\n",
       "Name: count, Length: 994, dtype: int64"
      ]
     },
     "execution_count": 44,
     "metadata": {},
     "output_type": "execute_result"
    }
   ],
   "source": [
    "DF1['Brokerages'].value_counts(dropna = False)"
   ]
  },
  {
   "cell_type": "code",
   "execution_count": 45,
   "id": "8c445ad7",
   "metadata": {},
   "outputs": [],
   "source": [
    "# Problem, certain Brokerages still contain excess information seperating them\n",
    "#\"Keller Williams NYC \",\"Keller Williams Rlty Landmark\" , \" KELLER WILLIAMS REALTY LANDMARK II \", \n",
    "#\" Keller Williams Realty Greater Nassau  \" , \" Keller Williams Realty NYC Grp \", \" Keller Williams Legendary \"\n",
    "#KELLER WILLIAMS REALTY EMPIRE , # Keller Williams Realty Elite , \"Keller Williams Realty Staten Island \",\n",
    "#Keller Williams Ny Realty \n",
    "\n",
    "#all can be under Keller Williams"
   ]
  },
  {
   "cell_type": "code",
   "execution_count": 46,
   "id": "ed1e1513",
   "metadata": {},
   "outputs": [],
   "source": [
    "DF1['Brokerages'] = DF1['Brokerages'].str.replace('Keller Williams NYC','Keller Williams')"
   ]
  },
  {
   "cell_type": "code",
   "execution_count": 47,
   "id": "3d489115",
   "metadata": {},
   "outputs": [],
   "source": [
    "DF1['Brokerages'] = DF1['Brokerages'].str.replace('Keller Williams Rlty Landmark','Keller Williams')"
   ]
  },
  {
   "cell_type": "code",
   "execution_count": 48,
   "id": "2251ac3f",
   "metadata": {},
   "outputs": [],
   "source": [
    "DF1['Brokerages'] = DF1['Brokerages'].str.replace('KELLER WILLIAMS REALTY LANDMARK II','Keller Williams')"
   ]
  },
  {
   "cell_type": "code",
   "execution_count": 49,
   "id": "00bc460f",
   "metadata": {},
   "outputs": [],
   "source": [
    "DF1['Brokerages'] = DF1['Brokerages'].str.replace('Keller Williams Realty Greater Nassau','Keller Williams')"
   ]
  },
  {
   "cell_type": "code",
   "execution_count": 50,
   "id": "d61145c8",
   "metadata": {},
   "outputs": [],
   "source": [
    "DF1['Brokerages'] = DF1['Brokerages'].str.replace('Keller Williams Realty NYC Grp','Keller Williams')"
   ]
  },
  {
   "cell_type": "code",
   "execution_count": 51,
   "id": "70e7a4ba",
   "metadata": {},
   "outputs": [],
   "source": [
    "DF1['Brokerages'] = DF1['Brokerages'].str.replace('Keller Williams Legendary','Keller Williams')"
   ]
  },
  {
   "cell_type": "code",
   "execution_count": 52,
   "id": "ae9a3b4d",
   "metadata": {},
   "outputs": [],
   "source": [
    "DF1['Brokerages'] = DF1['Brokerages'].str.replace('KELLER WILLIAMS REALTY EMPIRE','Keller Williams')"
   ]
  },
  {
   "cell_type": "code",
   "execution_count": 53,
   "id": "0106490f",
   "metadata": {},
   "outputs": [],
   "source": [
    "DF1['Brokerages'] = DF1['Brokerages'].str.replace('Keller Williams Realty Elite','Keller Williams')"
   ]
  },
  {
   "cell_type": "code",
   "execution_count": 54,
   "id": "92105d94",
   "metadata": {},
   "outputs": [],
   "source": [
    "DF1['Brokerages'] = DF1['Brokerages'].str.replace('Keller Williams Realty Staten Island','Keller Williams')"
   ]
  },
  {
   "cell_type": "code",
   "execution_count": 55,
   "id": "7adc3a48",
   "metadata": {},
   "outputs": [],
   "source": [
    "DF1['Brokerages'] = DF1['Brokerages'].str.replace('Keller Williams Ny Realty','Keller Williams')"
   ]
  },
  {
   "cell_type": "code",
   "execution_count": 56,
   "id": "350693cd",
   "metadata": {},
   "outputs": [],
   "source": [
    "DF1['Brokerages'] = DF1['Brokerages'].str.replace('Keller Williams Ny Realty','Keller Williams')"
   ]
  },
  {
   "cell_type": "code",
   "execution_count": 57,
   "id": "fe2d74a1",
   "metadata": {},
   "outputs": [
    {
     "data": {
      "text/plain": [
       "Brokerages\n",
       " COMPASS                            435\n",
       " Douglas Elliman                    255\n",
       " Keller Williams                    175\n",
       " Brown Harris Stevens               101\n",
       " Sotheby's International Realty      99\n",
       "                                   ... \n",
       " River Realty Services, Inc.          1\n",
       " Century 21 Papp Realty               1\n",
       " S Sharf Realty Inc                   1\n",
       " AAA Young Shuen Realty Inc           1\n",
       " New York Way Real Estate Corp        1\n",
       "Name: count, Length: 985, dtype: int64"
      ]
     },
     "execution_count": 57,
     "metadata": {},
     "output_type": "execute_result"
    }
   ],
   "source": [
    "#Result Keller Williams is standardized and a top contributor\n",
    "\n",
    "DF1['Brokerages'].value_counts(dropna = False)"
   ]
  },
  {
   "cell_type": "code",
   "execution_count": 58,
   "id": "b84f7beb",
   "metadata": {},
   "outputs": [],
   "source": [
    "#Repeating process with Corcoran\n",
    "\n",
    "#\"Corcoran East Side\", \"Corcoran Chelsea/Flatiron\", \"Corcoran Park Slope \", \" Corcoran Brooklyn Heights \"\n",
    "#\"Corcoran West Side\", \"Corcoran Park Avenue South\", \"Corcoran SoHo\", \"Corcoran Westside Columbus\",\n",
    "#\"Corcoran Williamsburg Bedford \", \"Corcoran Long Island City\", "
   ]
  },
  {
   "cell_type": "code",
   "execution_count": 59,
   "id": "b663d684",
   "metadata": {},
   "outputs": [],
   "source": [
    "DF1['Brokerages'] = DF1['Brokerages'].str.replace('Corcoran East Side','Corcoran')"
   ]
  },
  {
   "cell_type": "code",
   "execution_count": 60,
   "id": "e2de475f",
   "metadata": {},
   "outputs": [],
   "source": [
    "DF1['Brokerages'] = DF1['Brokerages'].str.replace('Corcoran Chelsea/Flatiron','Corcoran')"
   ]
  },
  {
   "cell_type": "code",
   "execution_count": 61,
   "id": "14c8fc6d",
   "metadata": {},
   "outputs": [],
   "source": [
    "DF1['Brokerages'] = DF1['Brokerages'].str.replace('Corcoran Park Slope','Corcoran')"
   ]
  },
  {
   "cell_type": "code",
   "execution_count": 62,
   "id": "9e4c2ccd",
   "metadata": {},
   "outputs": [],
   "source": [
    "DF1['Brokerages'] = DF1['Brokerages'].str.replace('Corcoran Brooklyn Heights','Corcoran')"
   ]
  },
  {
   "cell_type": "code",
   "execution_count": 63,
   "id": "63139b88",
   "metadata": {},
   "outputs": [],
   "source": [
    "DF1['Brokerages'] = DF1['Brokerages'].str.replace('Corcoran West Side','Corcoran')"
   ]
  },
  {
   "cell_type": "code",
   "execution_count": 64,
   "id": "50dd779e",
   "metadata": {},
   "outputs": [],
   "source": [
    "DF1['Brokerages'] = DF1['Brokerages'].str.replace('Corcoran Park Avenue South','Corcoran')"
   ]
  },
  {
   "cell_type": "code",
   "execution_count": 65,
   "id": "a7cc381d",
   "metadata": {},
   "outputs": [],
   "source": [
    "DF1['Brokerages'] = DF1['Brokerages'].str.replace('Corcoran SoHo','Corcoran')"
   ]
  },
  {
   "cell_type": "code",
   "execution_count": 66,
   "id": "7e49dfc3",
   "metadata": {},
   "outputs": [],
   "source": [
    "DF1['Brokerages'] = DF1['Brokerages'].str.replace('Corcoran Westside Columbus','Corcoran')"
   ]
  },
  {
   "cell_type": "code",
   "execution_count": 67,
   "id": "7edab69e",
   "metadata": {},
   "outputs": [],
   "source": [
    "DF1['Brokerages'] = DF1['Brokerages'].str.replace('Corcoran Williamsburg Bedford','Corcoran')"
   ]
  },
  {
   "cell_type": "code",
   "execution_count": 68,
   "id": "16d23167",
   "metadata": {},
   "outputs": [],
   "source": [
    "DF1['Brokerages'] = DF1['Brokerages'].str.replace('Corcoran Long Island City','Corcoran')"
   ]
  },
  {
   "cell_type": "code",
   "execution_count": 69,
   "id": "11e9fb48",
   "metadata": {},
   "outputs": [],
   "source": [
    "DF1['Brokerages'] = DF1['Brokerages'].str.replace('Corcoran Gallery','Corcoran')"
   ]
  },
  {
   "cell_type": "code",
   "execution_count": 70,
   "id": "6bb0eec1",
   "metadata": {},
   "outputs": [],
   "source": [
    "DF1['Brokerages'] = DF1['Brokerages'].str.replace('Corcoran Bedford Stuyvesant','Corcoran')"
   ]
  },
  {
   "cell_type": "code",
   "execution_count": null,
   "id": "7afc6e8b",
   "metadata": {},
   "outputs": [],
   "source": []
  },
  {
   "cell_type": "code",
   "execution_count": 71,
   "id": "1590aeb7",
   "metadata": {},
   "outputs": [
    {
     "data": {
      "text/plain": [
       "Brokerages\n",
       " COMPASS                          435\n",
       " Corcoran                         350\n",
       " Douglas Elliman                  255\n",
       " Keller Williams                  175\n",
       " Brown Harris Stevens             101\n",
       "                                 ... \n",
       " Real Estate Trade Co Inc           1\n",
       " Neman Yoska                        1\n",
       " Elite Realty of USA Inc            1\n",
       " Arc Realty Llc                     1\n",
       " New York Way Real Estate Corp      1\n",
       "Name: count, Length: 973, dtype: int64"
      ]
     },
     "execution_count": 71,
     "metadata": {},
     "output_type": "execute_result"
    }
   ],
   "source": [
    "#Result Corcoran is standardized\n",
    "\n",
    "DF1['Brokerages'].value_counts(dropna = False)"
   ]
  },
  {
   "cell_type": "code",
   "execution_count": 72,
   "id": "ba35f25e",
   "metadata": {},
   "outputs": [],
   "source": [
    "#Repeating process with RE Max\n",
    "\n",
    "# RE MAX Edge, RE MAX Real Estate Professionals,  RE/MAX Team, Re/Max In The City, RE/MAX Elite ,\n",
    "#RE/MAX City Square "
   ]
  },
  {
   "cell_type": "code",
   "execution_count": 73,
   "id": "57c53575",
   "metadata": {},
   "outputs": [],
   "source": [
    "DF1['Brokerages'] = DF1['Brokerages'].str.replace('RE MAX Edge','RE MAX')"
   ]
  },
  {
   "cell_type": "code",
   "execution_count": 74,
   "id": "183afbb5",
   "metadata": {},
   "outputs": [],
   "source": [
    "DF1['Brokerages'] = DF1['Brokerages'].str.replace('RE MAX Real Estate Professionals','RE MAX')"
   ]
  },
  {
   "cell_type": "code",
   "execution_count": 75,
   "id": "c0398d9c",
   "metadata": {},
   "outputs": [],
   "source": [
    "DF1['Brokerages'] = DF1['Brokerages'].str.replace('RE/MAX Team','RE MAX')"
   ]
  },
  {
   "cell_type": "code",
   "execution_count": 76,
   "id": "cfa0be3e",
   "metadata": {},
   "outputs": [],
   "source": [
    "DF1['Brokerages'] = DF1['Brokerages'].str.replace('Re/Max In The City','RE MAX')"
   ]
  },
  {
   "cell_type": "code",
   "execution_count": 77,
   "id": "08c8acc6",
   "metadata": {},
   "outputs": [],
   "source": [
    "DF1['Brokerages'] = DF1['Brokerages'].str.replace('RE/MAX Elite','RE MAX')"
   ]
  },
  {
   "cell_type": "code",
   "execution_count": 78,
   "id": "40fdbae9",
   "metadata": {},
   "outputs": [],
   "source": [
    "DF1['Brokerages'] = DF1['Brokerages'].str.replace('RE/MAX City Square','RE MAX')"
   ]
  },
  {
   "cell_type": "code",
   "execution_count": 79,
   "id": "0d9571cf",
   "metadata": {},
   "outputs": [],
   "source": [
    "DF1['Brokerages'] = DF1['Brokerages'].str.replace('Re/Max Edge','RE MAX')"
   ]
  },
  {
   "cell_type": "code",
   "execution_count": 80,
   "id": "435c9ab5",
   "metadata": {},
   "outputs": [],
   "source": [
    "DF1['Brokerages'] = DF1['Brokerages'].str.replace('Remax Edge','RE MAX')"
   ]
  },
  {
   "cell_type": "code",
   "execution_count": 81,
   "id": "dea1f04b",
   "metadata": {},
   "outputs": [],
   "source": [
    "DF1['Brokerages'] = DF1['Brokerages'].str.replace('RE MAX 1st Choice','RE MAX')"
   ]
  },
  {
   "cell_type": "code",
   "execution_count": 82,
   "id": "bda6aa2f",
   "metadata": {},
   "outputs": [],
   "source": [
    "DF1['Brokerages'] = DF1['Brokerages'].str.replace('RE/MAX Team','RE MAX')"
   ]
  },
  {
   "cell_type": "code",
   "execution_count": 83,
   "id": "8b20e060",
   "metadata": {},
   "outputs": [
    {
     "data": {
      "text/plain": [
       "Brokerages\n",
       " COMPASS                          435\n",
       " Corcoran                         350\n",
       " Douglas Elliman                  255\n",
       " RE MAX                           191\n",
       " Keller Williams                  175\n",
       "                                 ... \n",
       " River Realty Services, Inc.        1\n",
       " Century 21 Papp Realty             1\n",
       " S Sharf Realty Inc                 1\n",
       " AAA Young Shuen Realty Inc         1\n",
       " New York Way Real Estate Corp      1\n",
       "Name: count, Length: 966, dtype: int64"
      ]
     },
     "execution_count": 83,
     "metadata": {},
     "output_type": "execute_result"
    }
   ],
   "source": [
    "#Result RE MAX is standardized\n",
    "\n",
    "DF1['Brokerages'].value_counts(dropna = False)"
   ]
  },
  {
   "cell_type": "code",
   "execution_count": 84,
   "id": "a716b332",
   "metadata": {},
   "outputs": [],
   "source": [
    "#Repeating process with Coldwell Banker\n",
    "\n",
    "#Coldwell Banker American Homes, Coldwell Banker Advantage, Coldwell Banker Reliable Real Estate,\n",
    "#Coldwell Banker Warburg, Coldwell Banker Reliable "
   ]
  },
  {
   "cell_type": "code",
   "execution_count": 85,
   "id": "132b0989",
   "metadata": {},
   "outputs": [],
   "source": [
    "DF1['Brokerages'] = DF1['Brokerages'].str.replace('Coldwell Banker American Homes','Coldwell Banker')"
   ]
  },
  {
   "cell_type": "code",
   "execution_count": 86,
   "id": "cb35d8e6",
   "metadata": {},
   "outputs": [],
   "source": [
    "DF1['Brokerages'] = DF1['Brokerages'].str.replace('Coldwell Banker Advantage','Coldwell Banker')"
   ]
  },
  {
   "cell_type": "code",
   "execution_count": 87,
   "id": "2be71340",
   "metadata": {},
   "outputs": [],
   "source": [
    "DF1['Brokerages'] = DF1['Brokerages'].str.replace('Coldwell Banker Reliable Real Estate','Coldwell Banker')"
   ]
  },
  {
   "cell_type": "code",
   "execution_count": 88,
   "id": "6f9cace6",
   "metadata": {},
   "outputs": [],
   "source": [
    "DF1['Brokerages'] = DF1['Brokerages'].str.replace('Coldwell Banker Warburg','Coldwell Banker')"
   ]
  },
  {
   "cell_type": "code",
   "execution_count": 89,
   "id": "43f6bb63",
   "metadata": {},
   "outputs": [],
   "source": [
    "DF1['Brokerages'] = DF1['Brokerages'].str.replace('Coldwell Banker Reliable','Coldwell Banker')"
   ]
  },
  {
   "cell_type": "code",
   "execution_count": 90,
   "id": "effb2d16",
   "metadata": {},
   "outputs": [
    {
     "data": {
      "text/plain": [
       "Brokerages\n",
       " COMPASS                          435\n",
       " Corcoran                         350\n",
       " Douglas Elliman                  255\n",
       " RE MAX                           191\n",
       " Keller Williams                  175\n",
       "                                 ... \n",
       " River Realty Services, Inc.        1\n",
       " Century 21 Papp Realty             1\n",
       " S Sharf Realty Inc                 1\n",
       " AAA Young Shuen Realty Inc         1\n",
       " New York Way Real Estate Corp      1\n",
       "Name: count, Length: 962, dtype: int64"
      ]
     },
     "execution_count": 90,
     "metadata": {},
     "output_type": "execute_result"
    }
   ],
   "source": [
    "#Result Coldwell Banker is standardized\n",
    "\n",
    "DF1['Brokerages'].value_counts(dropna = False)"
   ]
  },
  {
   "cell_type": "code",
   "execution_count": 91,
   "id": "accf156a",
   "metadata": {},
   "outputs": [],
   "source": [
    "#Repeating process with various smaller brokerages\n",
    "\n",
    "#Coldwell Banker American Homes, Coldwell Banker Advantage, Coldwell Banker Reliable Real Estate,\n",
    "#Coldwell Banker Warburg, Coldwell Banker Reliable "
   ]
  },
  {
   "cell_type": "code",
   "execution_count": 92,
   "id": "03f821bb",
   "metadata": {},
   "outputs": [],
   "source": [
    "DF1['Brokerages'] = DF1['Brokerages'].str.replace('EXP Realty','Exp Realty')"
   ]
  },
  {
   "cell_type": "code",
   "execution_count": 93,
   "id": "22c03463",
   "metadata": {},
   "outputs": [],
   "source": [
    "DF1['Brokerages'] = DF1['Brokerages'].str.replace('eXp Realty BKNY','Exp Realty')"
   ]
  },
  {
   "cell_type": "code",
   "execution_count": 94,
   "id": "00d24f46",
   "metadata": {},
   "outputs": [],
   "source": [
    "DF1['Brokerages'] = DF1['Brokerages'].str.replace('Robert DeFalco Realty, Inc.','Robert Defalco Realty, Inc.')"
   ]
  },
  {
   "cell_type": "code",
   "execution_count": 95,
   "id": "907b2550",
   "metadata": {},
   "outputs": [],
   "source": [
    "DF1['Brokerages'] = DF1['Brokerages'].str.replace('Nest Seekers International, Midtown','Nest Seekers International')"
   ]
  },
  {
   "cell_type": "code",
   "execution_count": 96,
   "id": "caaa43a2",
   "metadata": {},
   "outputs": [],
   "source": [
    "DF1['Brokerages'] = DF1['Brokerages'].str.replace('eXp Realty BKNY','eXp Realty')"
   ]
  },
  {
   "cell_type": "code",
   "execution_count": 97,
   "id": "cbfed1b9",
   "metadata": {},
   "outputs": [],
   "source": [
    "DF1['Brokerages'] = DF1['Brokerages'].str.replace('Compass Greater Ny, Llc','COMPASS')"
   ]
  },
  {
   "cell_type": "code",
   "execution_count": 98,
   "id": "0be18e8e",
   "metadata": {},
   "outputs": [],
   "source": [
    "DF1['Brokerages'] = DF1['Brokerages'].str.replace('CENTURY 21 Milestone Realty','CENTURY 21')"
   ]
  },
  {
   "cell_type": "code",
   "execution_count": 99,
   "id": "11099acb",
   "metadata": {},
   "outputs": [],
   "source": [
    "DF1['Brokerages'] = DF1['Brokerages'].str.replace('Keller Williams Realty Liberty','Keller Williams')"
   ]
  },
  {
   "cell_type": "code",
   "execution_count": 100,
   "id": "ef595ea1",
   "metadata": {},
   "outputs": [],
   "source": [
    "DF1['Brokerages'] = DF1['Brokerages'].str.replace('CENTURY 21 MK Realty','CENTURY 21')"
   ]
  },
  {
   "cell_type": "code",
   "execution_count": 101,
   "id": "ed2383d5",
   "metadata": {},
   "outputs": [],
   "source": [
    "DF1['Brokerages'] = DF1['Brokerages'].str.replace('CENTURY 21 Homefront','CENTURY 21')"
   ]
  },
  {
   "cell_type": "code",
   "execution_count": 102,
   "id": "d477e0de",
   "metadata": {},
   "outputs": [],
   "source": [
    "DF1['Brokerages'] = DF1['Brokerages'].str.replace('Compass Greater New York, LLC','COMPASS')"
   ]
  },
  {
   "cell_type": "code",
   "execution_count": 103,
   "id": "d022b08c",
   "metadata": {},
   "outputs": [],
   "source": [
    "DF1['Brokerages'] = DF1['Brokerages'].str.replace('RE MAX Elite','RE MAX')"
   ]
  },
  {
   "cell_type": "code",
   "execution_count": 104,
   "id": "db60986f",
   "metadata": {},
   "outputs": [],
   "source": [
    "DF1['Brokerages'] = DF1['Brokerages'].str.replace('RE MAX Central','RE MAX')"
   ]
  },
  {
   "cell_type": "code",
   "execution_count": 105,
   "id": "0977e5ed",
   "metadata": {},
   "outputs": [],
   "source": [
    "DF1['Brokerages'] = DF1['Brokerages'].str.replace('RE MAX Boutique Realty','RE MAX')"
   ]
  },
  {
   "cell_type": "code",
   "execution_count": 106,
   "id": "410ebece",
   "metadata": {},
   "outputs": [],
   "source": [
    "DF1['Brokerages'] = DF1['Brokerages'].str.replace('RE MAX City Square','RE MAX')"
   ]
  },
  {
   "cell_type": "code",
   "execution_count": 107,
   "id": "d7547fe3",
   "metadata": {},
   "outputs": [],
   "source": [
    "DF1['Brokerages'] = DF1['Brokerages'].str.replace('CENTURY 21 Achievers','CENTURY 21')"
   ]
  },
  {
   "cell_type": "code",
   "execution_count": 108,
   "id": "2927b62c",
   "metadata": {},
   "outputs": [],
   "source": [
    " DF1['Brokerages'] = DF1['Brokerages'].str.replace('Century 21 Amiable Realty Group II, Inc.','CENTURY 21')"
   ]
  },
  {
   "cell_type": "code",
   "execution_count": 109,
   "id": "87e78df2",
   "metadata": {},
   "outputs": [],
   "source": [
    "DF1['Brokerages'] = DF1['Brokerages'].str.replace('Century 21 Realty First','CENTURY 21')"
   ]
  },
  {
   "cell_type": "code",
   "execution_count": 110,
   "id": "9ebd35e7",
   "metadata": {},
   "outputs": [
    {
     "data": {
      "text/plain": [
       "Brokerages\n",
       " COMPASS                          446\n",
       " Corcoran                         350\n",
       " Douglas Elliman                  255\n",
       " RE MAX                           228\n",
       " Keller Williams                  189\n",
       "                                 ... \n",
       " River Realty Services, Inc.        1\n",
       " Century 21 Papp Realty             1\n",
       " S Sharf Realty Inc                 1\n",
       " AAA Young Shuen Realty Inc         1\n",
       " New York Way Real Estate Corp      1\n",
       "Name: count, Length: 947, dtype: int64"
      ]
     },
     "execution_count": 110,
     "metadata": {},
     "output_type": "execute_result"
    }
   ],
   "source": [
    "DF1['Brokerages'].value_counts(dropna = False)"
   ]
  },
  {
   "cell_type": "markdown",
   "id": "68bfce0d",
   "metadata": {},
   "source": [
    "## Re-Formating \"TYPE\""
   ]
  },
  {
   "cell_type": "code",
   "execution_count": 111,
   "id": "eaecc637",
   "metadata": {},
   "outputs": [
    {
     "data": {
      "text/html": [
       "<div>\n",
       "<style scoped>\n",
       "    .dataframe tbody tr th:only-of-type {\n",
       "        vertical-align: middle;\n",
       "    }\n",
       "\n",
       "    .dataframe tbody tr th {\n",
       "        vertical-align: top;\n",
       "    }\n",
       "\n",
       "    .dataframe thead th {\n",
       "        text-align: right;\n",
       "    }\n",
       "</style>\n",
       "<table border=\"1\" class=\"dataframe\">\n",
       "  <thead>\n",
       "    <tr style=\"text-align: right;\">\n",
       "      <th></th>\n",
       "      <th>TYPE</th>\n",
       "      <th>PRICE</th>\n",
       "      <th>BEDS</th>\n",
       "      <th>BATH</th>\n",
       "      <th>PROPERTYSQFT</th>\n",
       "      <th>ADDRESS</th>\n",
       "      <th>STATE</th>\n",
       "      <th>MAIN_ADDRESS</th>\n",
       "      <th>ADMINISTRATIVE_AREA_LEVEL_2</th>\n",
       "      <th>LOCALITY</th>\n",
       "      <th>SUBLOCALITY</th>\n",
       "      <th>STREET_NAME</th>\n",
       "      <th>LONG_NAME</th>\n",
       "      <th>FORMATTED_ADDRESS</th>\n",
       "      <th>LATITUDE</th>\n",
       "      <th>LONGITUDE</th>\n",
       "      <th>0</th>\n",
       "      <th>Brokerages</th>\n",
       "    </tr>\n",
       "  </thead>\n",
       "  <tbody>\n",
       "    <tr>\n",
       "      <th>0</th>\n",
       "      <td>Condo for sale</td>\n",
       "      <td>315000</td>\n",
       "      <td>2</td>\n",
       "      <td>2.0</td>\n",
       "      <td>1400.0</td>\n",
       "      <td>2 E 55th St Unit 803</td>\n",
       "      <td>New York, NY 10022</td>\n",
       "      <td>2 E 55th St Unit 803New York, NY 10022</td>\n",
       "      <td>New York County</td>\n",
       "      <td>New York</td>\n",
       "      <td>Manhattan</td>\n",
       "      <td>East 55th Street</td>\n",
       "      <td>Regis Residence</td>\n",
       "      <td>Regis Residence, 2 E 55th St #803, New York, N...</td>\n",
       "      <td>40.761255</td>\n",
       "      <td>-73.974483</td>\n",
       "      <td>Brokered</td>\n",
       "      <td>Douglas Elliman</td>\n",
       "    </tr>\n",
       "  </tbody>\n",
       "</table>\n",
       "</div>"
      ],
      "text/plain": [
       "             TYPE   PRICE BEDS BATH  PROPERTYSQFT               ADDRESS  \\\n",
       "0  Condo for sale  315000    2  2.0        1400.0  2 E 55th St Unit 803   \n",
       "\n",
       "                STATE                            MAIN_ADDRESS  \\\n",
       "0  New York, NY 10022  2 E 55th St Unit 803New York, NY 10022   \n",
       "\n",
       "  ADMINISTRATIVE_AREA_LEVEL_2  LOCALITY SUBLOCALITY       STREET_NAME  \\\n",
       "0             New York County  New York   Manhattan  East 55th Street   \n",
       "\n",
       "         LONG_NAME                                  FORMATTED_ADDRESS  \\\n",
       "0  Regis Residence  Regis Residence, 2 E 55th St #803, New York, N...   \n",
       "\n",
       "    LATITUDE  LONGITUDE          0          Brokerages  \n",
       "0  40.761255 -73.974483  Brokered    Douglas Elliman    "
      ]
     },
     "execution_count": 111,
     "metadata": {},
     "output_type": "execute_result"
    }
   ],
   "source": [
    "DF1.head(1)"
   ]
  },
  {
   "cell_type": "code",
   "execution_count": 112,
   "id": "03f699a0",
   "metadata": {},
   "outputs": [
    {
     "data": {
      "text/plain": [
       "TYPE\n",
       "Co-op for sale                1388\n",
       "House for sale                 966\n",
       "Condo for sale                 842\n",
       "Multi-family home for sale     699\n",
       "Townhouse for sale             288\n",
       "Pending                        229\n",
       "Contingent                      87\n",
       "Land for sale                   47\n",
       "For sale                        20\n",
       "Foreclosure                     14\n",
       "Condop for sale                  4\n",
       "Coming Soon                      2\n",
       "Mobile house for sale            1\n",
       "Name: count, dtype: int64"
      ]
     },
     "execution_count": 112,
     "metadata": {},
     "output_type": "execute_result"
    }
   ],
   "source": [
    "DF1['TYPE'].value_counts(dropna = False)"
   ]
  },
  {
   "cell_type": "code",
   "execution_count": 113,
   "id": "e8853593",
   "metadata": {},
   "outputs": [],
   "source": [
    "#TYPE is currently \"Condo for sale\". Instead we want just \"Condo\" for the Type\n"
   ]
  },
  {
   "cell_type": "code",
   "execution_count": 114,
   "id": "80e23018",
   "metadata": {},
   "outputs": [
    {
     "data": {
      "text/html": [
       "<div>\n",
       "<style scoped>\n",
       "    .dataframe tbody tr th:only-of-type {\n",
       "        vertical-align: middle;\n",
       "    }\n",
       "\n",
       "    .dataframe tbody tr th {\n",
       "        vertical-align: top;\n",
       "    }\n",
       "\n",
       "    .dataframe thead th {\n",
       "        text-align: right;\n",
       "    }\n",
       "</style>\n",
       "<table border=\"1\" class=\"dataframe\">\n",
       "  <thead>\n",
       "    <tr style=\"text-align: right;\">\n",
       "      <th></th>\n",
       "      <th>0</th>\n",
       "      <th>1</th>\n",
       "    </tr>\n",
       "  </thead>\n",
       "  <tbody>\n",
       "    <tr>\n",
       "      <th>0</th>\n",
       "      <td>Condo</td>\n",
       "      <td>sale</td>\n",
       "    </tr>\n",
       "    <tr>\n",
       "      <th>1</th>\n",
       "      <td>Condo</td>\n",
       "      <td>sale</td>\n",
       "    </tr>\n",
       "    <tr>\n",
       "      <th>2</th>\n",
       "      <td>House</td>\n",
       "      <td>sale</td>\n",
       "    </tr>\n",
       "    <tr>\n",
       "      <th>3</th>\n",
       "      <td>Condo</td>\n",
       "      <td>sale</td>\n",
       "    </tr>\n",
       "    <tr>\n",
       "      <th>4</th>\n",
       "      <td>Townhouse</td>\n",
       "      <td>sale</td>\n",
       "    </tr>\n",
       "    <tr>\n",
       "      <th>...</th>\n",
       "      <td>...</td>\n",
       "      <td>...</td>\n",
       "    </tr>\n",
       "    <tr>\n",
       "      <th>4796</th>\n",
       "      <td>Co-op</td>\n",
       "      <td>sale</td>\n",
       "    </tr>\n",
       "    <tr>\n",
       "      <th>4797</th>\n",
       "      <td>Co-op</td>\n",
       "      <td>sale</td>\n",
       "    </tr>\n",
       "    <tr>\n",
       "      <th>4798</th>\n",
       "      <td>Co-op</td>\n",
       "      <td>sale</td>\n",
       "    </tr>\n",
       "    <tr>\n",
       "      <th>4799</th>\n",
       "      <td>Condo</td>\n",
       "      <td>sale</td>\n",
       "    </tr>\n",
       "    <tr>\n",
       "      <th>4800</th>\n",
       "      <td>Co-op</td>\n",
       "      <td>sale</td>\n",
       "    </tr>\n",
       "  </tbody>\n",
       "</table>\n",
       "<p>4587 rows × 2 columns</p>\n",
       "</div>"
      ],
      "text/plain": [
       "               0      1\n",
       "0         Condo    sale\n",
       "1         Condo    sale\n",
       "2         House    sale\n",
       "3         Condo    sale\n",
       "4     Townhouse    sale\n",
       "...          ...    ...\n",
       "4796      Co-op    sale\n",
       "4797      Co-op    sale\n",
       "4798      Co-op    sale\n",
       "4799      Condo    sale\n",
       "4800      Co-op    sale\n",
       "\n",
       "[4587 rows x 2 columns]"
      ]
     },
     "execution_count": 114,
     "metadata": {},
     "output_type": "execute_result"
    }
   ],
   "source": [
    "DF1['TYPE'].str.split('for',n=1, expand=True)"
   ]
  },
  {
   "cell_type": "code",
   "execution_count": 115,
   "id": "1f95c8f5",
   "metadata": {},
   "outputs": [
    {
     "data": {
      "text/html": [
       "<div>\n",
       "<style scoped>\n",
       "    .dataframe tbody tr th:only-of-type {\n",
       "        vertical-align: middle;\n",
       "    }\n",
       "\n",
       "    .dataframe tbody tr th {\n",
       "        vertical-align: top;\n",
       "    }\n",
       "\n",
       "    .dataframe thead th {\n",
       "        text-align: right;\n",
       "    }\n",
       "</style>\n",
       "<table border=\"1\" class=\"dataframe\">\n",
       "  <thead>\n",
       "    <tr style=\"text-align: right;\">\n",
       "      <th></th>\n",
       "      <th>TYPE</th>\n",
       "      <th>PRICE</th>\n",
       "      <th>BEDS</th>\n",
       "      <th>BATH</th>\n",
       "      <th>PROPERTYSQFT</th>\n",
       "      <th>ADDRESS</th>\n",
       "      <th>STATE</th>\n",
       "      <th>MAIN_ADDRESS</th>\n",
       "      <th>ADMINISTRATIVE_AREA_LEVEL_2</th>\n",
       "      <th>LOCALITY</th>\n",
       "      <th>SUBLOCALITY</th>\n",
       "      <th>STREET_NAME</th>\n",
       "      <th>LONG_NAME</th>\n",
       "      <th>FORMATTED_ADDRESS</th>\n",
       "      <th>LATITUDE</th>\n",
       "      <th>LONGITUDE</th>\n",
       "      <th>0</th>\n",
       "      <th>Brokerages</th>\n",
       "      <th>Property Type</th>\n",
       "      <th>Delete</th>\n",
       "    </tr>\n",
       "  </thead>\n",
       "  <tbody>\n",
       "    <tr>\n",
       "      <th>0</th>\n",
       "      <td>Condo for sale</td>\n",
       "      <td>315000</td>\n",
       "      <td>2</td>\n",
       "      <td>2.0</td>\n",
       "      <td>1400.000000</td>\n",
       "      <td>2 E 55th St Unit 803</td>\n",
       "      <td>New York, NY 10022</td>\n",
       "      <td>2 E 55th St Unit 803New York, NY 10022</td>\n",
       "      <td>New York County</td>\n",
       "      <td>New York</td>\n",
       "      <td>Manhattan</td>\n",
       "      <td>East 55th Street</td>\n",
       "      <td>Regis Residence</td>\n",
       "      <td>Regis Residence, 2 E 55th St #803, New York, N...</td>\n",
       "      <td>40.761255</td>\n",
       "      <td>-73.974483</td>\n",
       "      <td>Brokered</td>\n",
       "      <td>Douglas Elliman</td>\n",
       "      <td>Condo</td>\n",
       "      <td>sale</td>\n",
       "    </tr>\n",
       "    <tr>\n",
       "      <th>1</th>\n",
       "      <td>Condo for sale</td>\n",
       "      <td>195000000</td>\n",
       "      <td>7</td>\n",
       "      <td>10.0</td>\n",
       "      <td>17545.000000</td>\n",
       "      <td>Central Park Tower Penthouse-217 W 57th New Yo...</td>\n",
       "      <td>New York, NY 10019</td>\n",
       "      <td>Central Park Tower Penthouse-217 W 57th New Yo...</td>\n",
       "      <td>United States</td>\n",
       "      <td>New York</td>\n",
       "      <td>New York County</td>\n",
       "      <td>New York</td>\n",
       "      <td>West 57th Street</td>\n",
       "      <td>217 W 57th St, New York, NY 10019, USA</td>\n",
       "      <td>40.766393</td>\n",
       "      <td>-73.980991</td>\n",
       "      <td>Brokered</td>\n",
       "      <td>Serhant</td>\n",
       "      <td>Condo</td>\n",
       "      <td>sale</td>\n",
       "    </tr>\n",
       "    <tr>\n",
       "      <th>2</th>\n",
       "      <td>House for sale</td>\n",
       "      <td>260000</td>\n",
       "      <td>4</td>\n",
       "      <td>2.0</td>\n",
       "      <td>2015.000000</td>\n",
       "      <td>620 Sinclair Ave</td>\n",
       "      <td>Staten Island, NY 10312</td>\n",
       "      <td>620 Sinclair AveStaten Island, NY 10312</td>\n",
       "      <td>United States</td>\n",
       "      <td>New York</td>\n",
       "      <td>Richmond County</td>\n",
       "      <td>Staten Island</td>\n",
       "      <td>Sinclair Avenue</td>\n",
       "      <td>620 Sinclair Ave, Staten Island, NY 10312, USA</td>\n",
       "      <td>40.541805</td>\n",
       "      <td>-74.196109</td>\n",
       "      <td>Brokered</td>\n",
       "      <td>Sowae Corp</td>\n",
       "      <td>House</td>\n",
       "      <td>sale</td>\n",
       "    </tr>\n",
       "    <tr>\n",
       "      <th>3</th>\n",
       "      <td>Condo for sale</td>\n",
       "      <td>69000</td>\n",
       "      <td>3</td>\n",
       "      <td>1.0</td>\n",
       "      <td>445.000000</td>\n",
       "      <td>2 E 55th St Unit 908W33</td>\n",
       "      <td>Manhattan, NY 10022</td>\n",
       "      <td>2 E 55th St Unit 908W33Manhattan, NY 10022</td>\n",
       "      <td>United States</td>\n",
       "      <td>New York</td>\n",
       "      <td>New York County</td>\n",
       "      <td>New York</td>\n",
       "      <td>East 55th Street</td>\n",
       "      <td>2 E 55th St, New York, NY 10022, USA</td>\n",
       "      <td>40.761398</td>\n",
       "      <td>-73.974613</td>\n",
       "      <td>Brokered</td>\n",
       "      <td>COMPASS</td>\n",
       "      <td>Condo</td>\n",
       "      <td>sale</td>\n",
       "    </tr>\n",
       "    <tr>\n",
       "      <th>4</th>\n",
       "      <td>Townhouse for sale</td>\n",
       "      <td>55000000</td>\n",
       "      <td>7</td>\n",
       "      <td>2.5</td>\n",
       "      <td>14175.000000</td>\n",
       "      <td>5 E 64th St</td>\n",
       "      <td>New York, NY 10065</td>\n",
       "      <td>5 E 64th StNew York, NY 10065</td>\n",
       "      <td>United States</td>\n",
       "      <td>New York</td>\n",
       "      <td>New York County</td>\n",
       "      <td>New York</td>\n",
       "      <td>East 64th Street</td>\n",
       "      <td>5 E 64th St, New York, NY 10065, USA</td>\n",
       "      <td>40.767224</td>\n",
       "      <td>-73.969856</td>\n",
       "      <td>Brokered</td>\n",
       "      <td>Sotheby's International Realty</td>\n",
       "      <td>Townhouse</td>\n",
       "      <td>sale</td>\n",
       "    </tr>\n",
       "    <tr>\n",
       "      <th>...</th>\n",
       "      <td>...</td>\n",
       "      <td>...</td>\n",
       "      <td>...</td>\n",
       "      <td>...</td>\n",
       "      <td>...</td>\n",
       "      <td>...</td>\n",
       "      <td>...</td>\n",
       "      <td>...</td>\n",
       "      <td>...</td>\n",
       "      <td>...</td>\n",
       "      <td>...</td>\n",
       "      <td>...</td>\n",
       "      <td>...</td>\n",
       "      <td>...</td>\n",
       "      <td>...</td>\n",
       "      <td>...</td>\n",
       "      <td>...</td>\n",
       "      <td>...</td>\n",
       "      <td>...</td>\n",
       "      <td>...</td>\n",
       "    </tr>\n",
       "    <tr>\n",
       "      <th>4796</th>\n",
       "      <td>Co-op for sale</td>\n",
       "      <td>599000</td>\n",
       "      <td>1</td>\n",
       "      <td>1.0</td>\n",
       "      <td>2184.207862</td>\n",
       "      <td>222 E 80th St Apt 3A</td>\n",
       "      <td>Manhattan, NY 10075</td>\n",
       "      <td>222 E 80th St Apt 3AManhattan, NY 10075</td>\n",
       "      <td>New York</td>\n",
       "      <td>New York County</td>\n",
       "      <td>New York</td>\n",
       "      <td>Manhattan</td>\n",
       "      <td>222</td>\n",
       "      <td>222 E 80th St #3a, New York, NY 10075, USA</td>\n",
       "      <td>40.774350</td>\n",
       "      <td>-73.955879</td>\n",
       "      <td>Brokered</td>\n",
       "      <td>COMPASS</td>\n",
       "      <td>Co-op</td>\n",
       "      <td>sale</td>\n",
       "    </tr>\n",
       "    <tr>\n",
       "      <th>4797</th>\n",
       "      <td>Co-op for sale</td>\n",
       "      <td>245000</td>\n",
       "      <td>1</td>\n",
       "      <td>1.0</td>\n",
       "      <td>2184.207862</td>\n",
       "      <td>97-40 62 Dr Unit Lg</td>\n",
       "      <td>Rego Park, NY 11374</td>\n",
       "      <td>97-40 62 Dr Unit LgRego Park, NY 11374</td>\n",
       "      <td>United States</td>\n",
       "      <td>New York</td>\n",
       "      <td>Queens County</td>\n",
       "      <td>Queens</td>\n",
       "      <td>62nd Drive</td>\n",
       "      <td>97-40 62nd Dr, Rego Park, NY 11374, USA</td>\n",
       "      <td>40.732538</td>\n",
       "      <td>-73.860152</td>\n",
       "      <td>Brokered</td>\n",
       "      <td>Mjr Real Estate Llc</td>\n",
       "      <td>Co-op</td>\n",
       "      <td>sale</td>\n",
       "    </tr>\n",
       "    <tr>\n",
       "      <th>4798</th>\n",
       "      <td>Co-op for sale</td>\n",
       "      <td>1275000</td>\n",
       "      <td>1</td>\n",
       "      <td>1.0</td>\n",
       "      <td>2184.207862</td>\n",
       "      <td>427 W 21st St Unit Garden</td>\n",
       "      <td>New York, NY 10011</td>\n",
       "      <td>427 W 21st St Unit GardenNew York, NY 10011</td>\n",
       "      <td>United States</td>\n",
       "      <td>New York</td>\n",
       "      <td>New York County</td>\n",
       "      <td>New York</td>\n",
       "      <td>West 21st Street</td>\n",
       "      <td>427 W 21st St, New York, NY 10011, USA</td>\n",
       "      <td>40.745882</td>\n",
       "      <td>-74.003398</td>\n",
       "      <td>Brokered</td>\n",
       "      <td>Douglas Elliman</td>\n",
       "      <td>Co-op</td>\n",
       "      <td>sale</td>\n",
       "    </tr>\n",
       "    <tr>\n",
       "      <th>4799</th>\n",
       "      <td>Condo for sale</td>\n",
       "      <td>598125</td>\n",
       "      <td>2</td>\n",
       "      <td>1.0</td>\n",
       "      <td>655.000000</td>\n",
       "      <td>91-23 Corona Ave Unit 4G</td>\n",
       "      <td>Elmhurst, NY 11373</td>\n",
       "      <td>91-23 Corona Ave Unit 4GElmhurst, NY 11373</td>\n",
       "      <td>New York</td>\n",
       "      <td>Queens County</td>\n",
       "      <td>Queens</td>\n",
       "      <td>Flushing</td>\n",
       "      <td>91-23</td>\n",
       "      <td>91-23 Corona Ave. #4b, Flushing, NY 11373, USA</td>\n",
       "      <td>40.742770</td>\n",
       "      <td>-73.872752</td>\n",
       "      <td>Brokered</td>\n",
       "      <td>E Realty International Corp</td>\n",
       "      <td>Condo</td>\n",
       "      <td>sale</td>\n",
       "    </tr>\n",
       "    <tr>\n",
       "      <th>4800</th>\n",
       "      <td>Co-op for sale</td>\n",
       "      <td>349000</td>\n",
       "      <td>1</td>\n",
       "      <td>1.0</td>\n",
       "      <td>750.000000</td>\n",
       "      <td>460 Neptune Ave Apt 14O</td>\n",
       "      <td>Brooklyn, NY 11224</td>\n",
       "      <td>460 Neptune Ave Apt 14OBrooklyn, NY 11224</td>\n",
       "      <td>New York</td>\n",
       "      <td>Kings County</td>\n",
       "      <td>Brooklyn</td>\n",
       "      <td>Coney Island</td>\n",
       "      <td>460</td>\n",
       "      <td>460 Neptune Ave #14a, Brooklyn, NY 11224, USA</td>\n",
       "      <td>40.579147</td>\n",
       "      <td>-73.970949</td>\n",
       "      <td>Brokered</td>\n",
       "      <td>Nyc Realty Brokers Llc</td>\n",
       "      <td>Co-op</td>\n",
       "      <td>sale</td>\n",
       "    </tr>\n",
       "  </tbody>\n",
       "</table>\n",
       "<p>4587 rows × 20 columns</p>\n",
       "</div>"
      ],
      "text/plain": [
       "                    TYPE      PRICE BEDS  BATH  PROPERTYSQFT  \\\n",
       "0         Condo for sale     315000    2   2.0   1400.000000   \n",
       "1         Condo for sale  195000000    7  10.0  17545.000000   \n",
       "2         House for sale     260000    4   2.0   2015.000000   \n",
       "3         Condo for sale      69000    3   1.0    445.000000   \n",
       "4     Townhouse for sale   55000000    7   2.5  14175.000000   \n",
       "...                  ...        ...  ...   ...           ...   \n",
       "4796      Co-op for sale     599000    1   1.0   2184.207862   \n",
       "4797      Co-op for sale     245000    1   1.0   2184.207862   \n",
       "4798      Co-op for sale    1275000    1   1.0   2184.207862   \n",
       "4799      Condo for sale     598125    2   1.0    655.000000   \n",
       "4800      Co-op for sale     349000    1   1.0    750.000000   \n",
       "\n",
       "                                                ADDRESS  \\\n",
       "0                                  2 E 55th St Unit 803   \n",
       "1     Central Park Tower Penthouse-217 W 57th New Yo...   \n",
       "2                                      620 Sinclair Ave   \n",
       "3                               2 E 55th St Unit 908W33   \n",
       "4                                           5 E 64th St   \n",
       "...                                                 ...   \n",
       "4796                               222 E 80th St Apt 3A   \n",
       "4797                                97-40 62 Dr Unit Lg   \n",
       "4798                          427 W 21st St Unit Garden   \n",
       "4799                           91-23 Corona Ave Unit 4G   \n",
       "4800                            460 Neptune Ave Apt 14O   \n",
       "\n",
       "                        STATE  \\\n",
       "0          New York, NY 10022   \n",
       "1          New York, NY 10019   \n",
       "2     Staten Island, NY 10312   \n",
       "3         Manhattan, NY 10022   \n",
       "4          New York, NY 10065   \n",
       "...                       ...   \n",
       "4796      Manhattan, NY 10075   \n",
       "4797      Rego Park, NY 11374   \n",
       "4798       New York, NY 10011   \n",
       "4799       Elmhurst, NY 11373   \n",
       "4800       Brooklyn, NY 11224   \n",
       "\n",
       "                                           MAIN_ADDRESS  \\\n",
       "0                2 E 55th St Unit 803New York, NY 10022   \n",
       "1     Central Park Tower Penthouse-217 W 57th New Yo...   \n",
       "2               620 Sinclair AveStaten Island, NY 10312   \n",
       "3            2 E 55th St Unit 908W33Manhattan, NY 10022   \n",
       "4                         5 E 64th StNew York, NY 10065   \n",
       "...                                                 ...   \n",
       "4796            222 E 80th St Apt 3AManhattan, NY 10075   \n",
       "4797             97-40 62 Dr Unit LgRego Park, NY 11374   \n",
       "4798        427 W 21st St Unit GardenNew York, NY 10011   \n",
       "4799         91-23 Corona Ave Unit 4GElmhurst, NY 11373   \n",
       "4800          460 Neptune Ave Apt 14OBrooklyn, NY 11224   \n",
       "\n",
       "     ADMINISTRATIVE_AREA_LEVEL_2         LOCALITY      SUBLOCALITY  \\\n",
       "0                New York County         New York        Manhattan   \n",
       "1                  United States         New York  New York County   \n",
       "2                  United States         New York  Richmond County   \n",
       "3                  United States         New York  New York County   \n",
       "4                  United States         New York  New York County   \n",
       "...                          ...              ...              ...   \n",
       "4796                    New York  New York County         New York   \n",
       "4797               United States         New York    Queens County   \n",
       "4798               United States         New York  New York County   \n",
       "4799                    New York    Queens County           Queens   \n",
       "4800                    New York     Kings County         Brooklyn   \n",
       "\n",
       "           STREET_NAME         LONG_NAME  \\\n",
       "0     East 55th Street   Regis Residence   \n",
       "1             New York  West 57th Street   \n",
       "2        Staten Island   Sinclair Avenue   \n",
       "3             New York  East 55th Street   \n",
       "4             New York  East 64th Street   \n",
       "...                ...               ...   \n",
       "4796         Manhattan               222   \n",
       "4797            Queens        62nd Drive   \n",
       "4798          New York  West 21st Street   \n",
       "4799          Flushing             91-23   \n",
       "4800      Coney Island               460   \n",
       "\n",
       "                                      FORMATTED_ADDRESS   LATITUDE  LONGITUDE  \\\n",
       "0     Regis Residence, 2 E 55th St #803, New York, N...  40.761255 -73.974483   \n",
       "1                217 W 57th St, New York, NY 10019, USA  40.766393 -73.980991   \n",
       "2        620 Sinclair Ave, Staten Island, NY 10312, USA  40.541805 -74.196109   \n",
       "3                  2 E 55th St, New York, NY 10022, USA  40.761398 -73.974613   \n",
       "4                  5 E 64th St, New York, NY 10065, USA  40.767224 -73.969856   \n",
       "...                                                 ...        ...        ...   \n",
       "4796         222 E 80th St #3a, New York, NY 10075, USA  40.774350 -73.955879   \n",
       "4797            97-40 62nd Dr, Rego Park, NY 11374, USA  40.732538 -73.860152   \n",
       "4798             427 W 21st St, New York, NY 10011, USA  40.745882 -74.003398   \n",
       "4799     91-23 Corona Ave. #4b, Flushing, NY 11373, USA  40.742770 -73.872752   \n",
       "4800      460 Neptune Ave #14a, Brooklyn, NY 11224, USA  40.579147 -73.970949   \n",
       "\n",
       "              0                        Brokerages Property Type Delete  \n",
       "0     Brokered                  Douglas Elliman          Condo    sale  \n",
       "1     Brokered                            Serhant        Condo    sale  \n",
       "2     Brokered                         Sowae Corp        House    sale  \n",
       "3     Brokered                            COMPASS        Condo    sale  \n",
       "4     Brokered    Sotheby's International Realty     Townhouse    sale  \n",
       "...         ...                               ...           ...    ...  \n",
       "4796  Brokered                            COMPASS        Co-op    sale  \n",
       "4797  Brokered                Mjr Real Estate Llc        Co-op    sale  \n",
       "4798  Brokered                   Douglas Elliman         Co-op    sale  \n",
       "4799  Brokered        E Realty International Corp        Condo    sale  \n",
       "4800  Brokered             Nyc Realty Brokers Llc        Co-op    sale  \n",
       "\n",
       "[4587 rows x 20 columns]"
      ]
     },
     "execution_count": 115,
     "metadata": {},
     "output_type": "execute_result"
    }
   ],
   "source": [
    "#Saving the 2 seperate columns we made above\n",
    "\n",
    "DF1[['Property Type','Delete']]= DF1['TYPE'].str.split('for',n=1, expand=True)\n",
    "DF1"
   ]
  },
  {
   "cell_type": "code",
   "execution_count": 116,
   "id": "fd80d324",
   "metadata": {},
   "outputs": [
    {
     "data": {
      "text/html": [
       "<div>\n",
       "<style scoped>\n",
       "    .dataframe tbody tr th:only-of-type {\n",
       "        vertical-align: middle;\n",
       "    }\n",
       "\n",
       "    .dataframe tbody tr th {\n",
       "        vertical-align: top;\n",
       "    }\n",
       "\n",
       "    .dataframe thead th {\n",
       "        text-align: right;\n",
       "    }\n",
       "</style>\n",
       "<table border=\"1\" class=\"dataframe\">\n",
       "  <thead>\n",
       "    <tr style=\"text-align: right;\">\n",
       "      <th></th>\n",
       "      <th>TYPE</th>\n",
       "      <th>Property Type</th>\n",
       "      <th>Delete</th>\n",
       "    </tr>\n",
       "  </thead>\n",
       "  <tbody>\n",
       "    <tr>\n",
       "      <th>0</th>\n",
       "      <td>Condo for sale</td>\n",
       "      <td>Condo</td>\n",
       "      <td>sale</td>\n",
       "    </tr>\n",
       "    <tr>\n",
       "      <th>1</th>\n",
       "      <td>Condo for sale</td>\n",
       "      <td>Condo</td>\n",
       "      <td>sale</td>\n",
       "    </tr>\n",
       "    <tr>\n",
       "      <th>2</th>\n",
       "      <td>House for sale</td>\n",
       "      <td>House</td>\n",
       "      <td>sale</td>\n",
       "    </tr>\n",
       "    <tr>\n",
       "      <th>3</th>\n",
       "      <td>Condo for sale</td>\n",
       "      <td>Condo</td>\n",
       "      <td>sale</td>\n",
       "    </tr>\n",
       "    <tr>\n",
       "      <th>4</th>\n",
       "      <td>Townhouse for sale</td>\n",
       "      <td>Townhouse</td>\n",
       "      <td>sale</td>\n",
       "    </tr>\n",
       "  </tbody>\n",
       "</table>\n",
       "</div>"
      ],
      "text/plain": [
       "                 TYPE Property Type Delete\n",
       "0      Condo for sale        Condo    sale\n",
       "1      Condo for sale        Condo    sale\n",
       "2      House for sale        House    sale\n",
       "3      Condo for sale        Condo    sale\n",
       "4  Townhouse for sale    Townhouse    sale"
      ]
     },
     "execution_count": 116,
     "metadata": {},
     "output_type": "execute_result"
    }
   ],
   "source": [
    "#Shown below is the columns we worked on\n",
    "#only keep Property Type, remove the other 2 columns\n",
    "\n",
    "DF1[['TYPE','Property Type', 'Delete']].head(5)"
   ]
  },
  {
   "cell_type": "code",
   "execution_count": 117,
   "id": "2c8c310d",
   "metadata": {},
   "outputs": [],
   "source": [
    "#Drop Excess Column\n",
    "\n",
    "DF1 = DF1.drop(columns=['TYPE'])"
   ]
  },
  {
   "cell_type": "code",
   "execution_count": 118,
   "id": "0e6c8b9d",
   "metadata": {},
   "outputs": [],
   "source": [
    "#Drop Excess Column \n",
    "\n",
    "DF1 = DF1.drop(columns=['Delete'])"
   ]
  },
  {
   "cell_type": "code",
   "execution_count": 119,
   "id": "37671a8f",
   "metadata": {},
   "outputs": [
    {
     "data": {
      "text/plain": [
       "Index(['PRICE', 'BEDS', 'BATH', 'PROPERTYSQFT', 'ADDRESS', 'STATE',\n",
       "       'MAIN_ADDRESS', 'ADMINISTRATIVE_AREA_LEVEL_2', 'LOCALITY',\n",
       "       'SUBLOCALITY', 'STREET_NAME', 'LONG_NAME', 'FORMATTED_ADDRESS',\n",
       "       'LATITUDE', 'LONGITUDE', '0', 'Brokerages', 'Property Type'],\n",
       "      dtype='object')"
      ]
     },
     "execution_count": 119,
     "metadata": {},
     "output_type": "execute_result"
    }
   ],
   "source": [
    "#Only Property Type remains\n",
    "\n",
    "DF1.columns"
   ]
  },
  {
   "cell_type": "code",
   "execution_count": 120,
   "id": "00402c77",
   "metadata": {},
   "outputs": [
    {
     "data": {
      "text/plain": [
       "Property Type\n",
       "Co-op                 1388\n",
       "House                  966\n",
       "Condo                  842\n",
       "Multi-family home      699\n",
       "Townhouse              288\n",
       "Pending                229\n",
       "Contingent              87\n",
       "Land                    47\n",
       "For sale                20\n",
       "Foreclosure             14\n",
       "Condop                   4\n",
       "Coming Soon              2\n",
       "Mobile house             1\n",
       "Name: count, dtype: int64"
      ]
     },
     "execution_count": 120,
     "metadata": {},
     "output_type": "execute_result"
    }
   ],
   "source": [
    "#Property Types Check\n",
    "\n",
    "DF1['Property Type'].value_counts(dropna = False)"
   ]
  },
  {
   "cell_type": "code",
   "execution_count": 121,
   "id": "9beea883",
   "metadata": {},
   "outputs": [
    {
     "data": {
      "text/html": [
       "<div>\n",
       "<style scoped>\n",
       "    .dataframe tbody tr th:only-of-type {\n",
       "        vertical-align: middle;\n",
       "    }\n",
       "\n",
       "    .dataframe tbody tr th {\n",
       "        vertical-align: top;\n",
       "    }\n",
       "\n",
       "    .dataframe thead th {\n",
       "        text-align: right;\n",
       "    }\n",
       "</style>\n",
       "<table border=\"1\" class=\"dataframe\">\n",
       "  <thead>\n",
       "    <tr style=\"text-align: right;\">\n",
       "      <th></th>\n",
       "      <th>PRICE</th>\n",
       "      <th>BEDS</th>\n",
       "      <th>BATH</th>\n",
       "      <th>PROPERTYSQFT</th>\n",
       "      <th>ADDRESS</th>\n",
       "      <th>STATE</th>\n",
       "      <th>MAIN_ADDRESS</th>\n",
       "      <th>ADMINISTRATIVE_AREA_LEVEL_2</th>\n",
       "      <th>LOCALITY</th>\n",
       "      <th>SUBLOCALITY</th>\n",
       "      <th>STREET_NAME</th>\n",
       "      <th>LONG_NAME</th>\n",
       "      <th>FORMATTED_ADDRESS</th>\n",
       "      <th>LATITUDE</th>\n",
       "      <th>LONGITUDE</th>\n",
       "      <th>0</th>\n",
       "      <th>Brokerages</th>\n",
       "      <th>Property Type</th>\n",
       "    </tr>\n",
       "  </thead>\n",
       "  <tbody>\n",
       "    <tr>\n",
       "      <th>0</th>\n",
       "      <td>315000</td>\n",
       "      <td>2</td>\n",
       "      <td>2.0</td>\n",
       "      <td>1400.0</td>\n",
       "      <td>2 E 55th St Unit 803</td>\n",
       "      <td>New York, NY 10022</td>\n",
       "      <td>2 E 55th St Unit 803New York, NY 10022</td>\n",
       "      <td>New York County</td>\n",
       "      <td>New York</td>\n",
       "      <td>Manhattan</td>\n",
       "      <td>East 55th Street</td>\n",
       "      <td>Regis Residence</td>\n",
       "      <td>Regis Residence, 2 E 55th St #803, New York, N...</td>\n",
       "      <td>40.761255</td>\n",
       "      <td>-73.974483</td>\n",
       "      <td>Brokered</td>\n",
       "      <td>Douglas Elliman</td>\n",
       "      <td>Condo</td>\n",
       "    </tr>\n",
       "    <tr>\n",
       "      <th>1</th>\n",
       "      <td>195000000</td>\n",
       "      <td>7</td>\n",
       "      <td>10.0</td>\n",
       "      <td>17545.0</td>\n",
       "      <td>Central Park Tower Penthouse-217 W 57th New Yo...</td>\n",
       "      <td>New York, NY 10019</td>\n",
       "      <td>Central Park Tower Penthouse-217 W 57th New Yo...</td>\n",
       "      <td>United States</td>\n",
       "      <td>New York</td>\n",
       "      <td>New York County</td>\n",
       "      <td>New York</td>\n",
       "      <td>West 57th Street</td>\n",
       "      <td>217 W 57th St, New York, NY 10019, USA</td>\n",
       "      <td>40.766393</td>\n",
       "      <td>-73.980991</td>\n",
       "      <td>Brokered</td>\n",
       "      <td>Serhant</td>\n",
       "      <td>Condo</td>\n",
       "    </tr>\n",
       "    <tr>\n",
       "      <th>2</th>\n",
       "      <td>260000</td>\n",
       "      <td>4</td>\n",
       "      <td>2.0</td>\n",
       "      <td>2015.0</td>\n",
       "      <td>620 Sinclair Ave</td>\n",
       "      <td>Staten Island, NY 10312</td>\n",
       "      <td>620 Sinclair AveStaten Island, NY 10312</td>\n",
       "      <td>United States</td>\n",
       "      <td>New York</td>\n",
       "      <td>Richmond County</td>\n",
       "      <td>Staten Island</td>\n",
       "      <td>Sinclair Avenue</td>\n",
       "      <td>620 Sinclair Ave, Staten Island, NY 10312, USA</td>\n",
       "      <td>40.541805</td>\n",
       "      <td>-74.196109</td>\n",
       "      <td>Brokered</td>\n",
       "      <td>Sowae Corp</td>\n",
       "      <td>House</td>\n",
       "    </tr>\n",
       "    <tr>\n",
       "      <th>3</th>\n",
       "      <td>69000</td>\n",
       "      <td>3</td>\n",
       "      <td>1.0</td>\n",
       "      <td>445.0</td>\n",
       "      <td>2 E 55th St Unit 908W33</td>\n",
       "      <td>Manhattan, NY 10022</td>\n",
       "      <td>2 E 55th St Unit 908W33Manhattan, NY 10022</td>\n",
       "      <td>United States</td>\n",
       "      <td>New York</td>\n",
       "      <td>New York County</td>\n",
       "      <td>New York</td>\n",
       "      <td>East 55th Street</td>\n",
       "      <td>2 E 55th St, New York, NY 10022, USA</td>\n",
       "      <td>40.761398</td>\n",
       "      <td>-73.974613</td>\n",
       "      <td>Brokered</td>\n",
       "      <td>COMPASS</td>\n",
       "      <td>Condo</td>\n",
       "    </tr>\n",
       "    <tr>\n",
       "      <th>4</th>\n",
       "      <td>55000000</td>\n",
       "      <td>7</td>\n",
       "      <td>2.5</td>\n",
       "      <td>14175.0</td>\n",
       "      <td>5 E 64th St</td>\n",
       "      <td>New York, NY 10065</td>\n",
       "      <td>5 E 64th StNew York, NY 10065</td>\n",
       "      <td>United States</td>\n",
       "      <td>New York</td>\n",
       "      <td>New York County</td>\n",
       "      <td>New York</td>\n",
       "      <td>East 64th Street</td>\n",
       "      <td>5 E 64th St, New York, NY 10065, USA</td>\n",
       "      <td>40.767224</td>\n",
       "      <td>-73.969856</td>\n",
       "      <td>Brokered</td>\n",
       "      <td>Sotheby's International Realty</td>\n",
       "      <td>Townhouse</td>\n",
       "    </tr>\n",
       "  </tbody>\n",
       "</table>\n",
       "</div>"
      ],
      "text/plain": [
       "       PRICE BEDS  BATH  PROPERTYSQFT  \\\n",
       "0     315000    2   2.0        1400.0   \n",
       "1  195000000    7  10.0       17545.0   \n",
       "2     260000    4   2.0        2015.0   \n",
       "3      69000    3   1.0         445.0   \n",
       "4   55000000    7   2.5       14175.0   \n",
       "\n",
       "                                             ADDRESS                    STATE  \\\n",
       "0                               2 E 55th St Unit 803       New York, NY 10022   \n",
       "1  Central Park Tower Penthouse-217 W 57th New Yo...       New York, NY 10019   \n",
       "2                                   620 Sinclair Ave  Staten Island, NY 10312   \n",
       "3                            2 E 55th St Unit 908W33      Manhattan, NY 10022   \n",
       "4                                        5 E 64th St       New York, NY 10065   \n",
       "\n",
       "                                        MAIN_ADDRESS  \\\n",
       "0             2 E 55th St Unit 803New York, NY 10022   \n",
       "1  Central Park Tower Penthouse-217 W 57th New Yo...   \n",
       "2            620 Sinclair AveStaten Island, NY 10312   \n",
       "3         2 E 55th St Unit 908W33Manhattan, NY 10022   \n",
       "4                      5 E 64th StNew York, NY 10065   \n",
       "\n",
       "  ADMINISTRATIVE_AREA_LEVEL_2  LOCALITY      SUBLOCALITY       STREET_NAME  \\\n",
       "0             New York County  New York        Manhattan  East 55th Street   \n",
       "1               United States  New York  New York County          New York   \n",
       "2               United States  New York  Richmond County     Staten Island   \n",
       "3               United States  New York  New York County          New York   \n",
       "4               United States  New York  New York County          New York   \n",
       "\n",
       "          LONG_NAME                                  FORMATTED_ADDRESS  \\\n",
       "0   Regis Residence  Regis Residence, 2 E 55th St #803, New York, N...   \n",
       "1  West 57th Street             217 W 57th St, New York, NY 10019, USA   \n",
       "2   Sinclair Avenue     620 Sinclair Ave, Staten Island, NY 10312, USA   \n",
       "3  East 55th Street               2 E 55th St, New York, NY 10022, USA   \n",
       "4  East 64th Street               5 E 64th St, New York, NY 10065, USA   \n",
       "\n",
       "    LATITUDE  LONGITUDE          0                        Brokerages  \\\n",
       "0  40.761255 -73.974483  Brokered                  Douglas Elliman     \n",
       "1  40.766393 -73.980991  Brokered                            Serhant   \n",
       "2  40.541805 -74.196109  Brokered                         Sowae Corp   \n",
       "3  40.761398 -73.974613  Brokered                            COMPASS   \n",
       "4  40.767224 -73.969856  Brokered    Sotheby's International Realty    \n",
       "\n",
       "  Property Type  \n",
       "0        Condo   \n",
       "1        Condo   \n",
       "2        House   \n",
       "3        Condo   \n",
       "4    Townhouse   "
      ]
     },
     "execution_count": 121,
     "metadata": {},
     "output_type": "execute_result"
    }
   ],
   "source": [
    "DF1.head(5)"
   ]
  },
  {
   "cell_type": "code",
   "execution_count": 122,
   "id": "921594a6",
   "metadata": {},
   "outputs": [],
   "source": [
    "DF1 = DF1.drop(columns=['0'])"
   ]
  },
  {
   "cell_type": "markdown",
   "id": "a40dc1cf",
   "metadata": {},
   "source": [
    "## Removing Unnecessary Columns "
   ]
  },
  {
   "cell_type": "code",
   "execution_count": 123,
   "id": "b4618805",
   "metadata": {},
   "outputs": [],
   "source": [
    "# Some columns are excessive as the information is repeated\n",
    "# Let identify what these columns are"
   ]
  },
  {
   "cell_type": "code",
   "execution_count": 124,
   "id": "59bbc5fd",
   "metadata": {},
   "outputs": [
    {
     "data": {
      "text/plain": [
       "ADMINISTRATIVE_AREA_LEVEL_2\n",
       "United States      2374\n",
       "New York           2138\n",
       "New York County      21\n",
       "11214                 8\n",
       "Queens County         6\n",
       "Kings County          6\n",
       "Bronx County          4\n",
       "11229                 3\n",
       "10017                 2\n",
       "10310                 2\n",
       "10003                 2\n",
       "10002                 2\n",
       "10306                 2\n",
       "10471                 2\n",
       "11237                 1\n",
       "10466                 1\n",
       "Brooklyn              1\n",
       "10465                 1\n",
       "11412                 1\n",
       "10312                 1\n",
       "10309                 1\n",
       "10303                 1\n",
       "10463                 1\n",
       "10301                 1\n",
       "10304                 1\n",
       "11417                 1\n",
       "11414                 1\n",
       "11234                 1\n",
       "11218                 1\n",
       "Name: count, dtype: int64"
      ]
     },
     "execution_count": 124,
     "metadata": {},
     "output_type": "execute_result"
    }
   ],
   "source": [
    "DF1['ADMINISTRATIVE_AREA_LEVEL_2'].value_counts(dropna = False)"
   ]
  },
  {
   "cell_type": "code",
   "execution_count": 125,
   "id": "e7eab2b1",
   "metadata": {},
   "outputs": [
    {
     "data": {
      "text/plain": [
       "LOCALITY\n",
       "New York           2395\n",
       "New York County     930\n",
       "Queens County       536\n",
       "Kings County        442\n",
       "Bronx County        172\n",
       "Richmond County      58\n",
       "United States        37\n",
       "Brooklyn              6\n",
       "Queens                6\n",
       "The Bronx             4\n",
       "Flatbush              1\n",
       "Name: count, dtype: int64"
      ]
     },
     "execution_count": 125,
     "metadata": {},
     "output_type": "execute_result"
    }
   ],
   "source": [
    "DF1['LOCALITY'].value_counts(dropna = False)"
   ]
  },
  {
   "cell_type": "code",
   "execution_count": 126,
   "id": "5940a274",
   "metadata": {},
   "outputs": [
    {
     "data": {
      "text/plain": [
       "SUBLOCALITY\n",
       "New York            967\n",
       "Kings County        696\n",
       "Queens County       655\n",
       "Queens              534\n",
       "Richmond County     461\n",
       "Brooklyn            442\n",
       "Bronx County        291\n",
       "New York County     271\n",
       "The Bronx           174\n",
       "Staten Island        58\n",
       "Manhattan            21\n",
       "Flushing              4\n",
       "Coney Island          3\n",
       "Riverdale             3\n",
       "East Bronx            1\n",
       "Brooklyn Heights      1\n",
       "Jackson Heights       1\n",
       "Rego Park             1\n",
       "Fort Hamilton         1\n",
       "Dumbo                 1\n",
       "Snyder Avenue         1\n",
       "Name: count, dtype: int64"
      ]
     },
     "execution_count": 126,
     "metadata": {},
     "output_type": "execute_result"
    }
   ],
   "source": [
    "DF1['SUBLOCALITY'].value_counts(dropna = False)"
   ]
  },
  {
   "cell_type": "code",
   "execution_count": 127,
   "id": "41e84ede",
   "metadata": {},
   "outputs": [
    {
     "data": {
      "text/plain": [
       "4791                 342\n",
       "4792         40th Street\n",
       "4793                 700\n",
       "4794                2351\n",
       "4795    West 15th Street\n",
       "4796                 222\n",
       "4797          62nd Drive\n",
       "4798    West 21st Street\n",
       "4799               91-23\n",
       "4800                 460\n",
       "Name: LONG_NAME, dtype: object"
      ]
     },
     "execution_count": 127,
     "metadata": {},
     "output_type": "execute_result"
    }
   ],
   "source": [
    "DF['LONG_NAME'].tail(10)"
   ]
  },
  {
   "cell_type": "code",
   "execution_count": 128,
   "id": "0c1f9e51",
   "metadata": {},
   "outputs": [
    {
     "data": {
      "text/plain": [
       "0    Regis Residence, 2 E 55th St #803, New York, N...\n",
       "1               217 W 57th St, New York, NY 10019, USA\n",
       "2       620 Sinclair Ave, Staten Island, NY 10312, USA\n",
       "3                 2 E 55th St, New York, NY 10022, USA\n",
       "4                 5 E 64th St, New York, NY 10065, USA\n",
       "5                 584 Park Pl, Brooklyn, NY 11238, USA\n",
       "6          157 W 126th St #1b, New York, NY 10027, USA\n",
       "7        177 Benedict Rd, Staten Island, NY 10304, USA\n",
       "8    Parking lot, 875 Morrison Ave #3m, Bronx, NY 1...\n",
       "9         1350 Ocean Pkwy #5g, Brooklyn, NY 11230, USA\n",
       "Name: FORMATTED_ADDRESS, dtype: object"
      ]
     },
     "execution_count": 128,
     "metadata": {},
     "output_type": "execute_result"
    }
   ],
   "source": [
    "DF['FORMATTED_ADDRESS'].head(10)"
   ]
  },
  {
   "cell_type": "code",
   "execution_count": 129,
   "id": "671188d3",
   "metadata": {},
   "outputs": [],
   "source": [
    "# \"ADDRESS\" is not needed we have MAIN_ADDRESS\n",
    "#\"ADMINISTRATIVE_AREA_LEVEL_2\" is not needed as this is all US / NY focused, we don't need this information\n",
    "#\"SUBLOCALITY\" is also excessive, keeping STATE which has (borough) is all that is needed\n",
    "#LOCALITY is also excessive, state has this info. we can seperate later\n",
    "#\"LONG_NAME\" is also excessive, no additional information seperate from Main Address\n",
    "#\"FORMATTED_ADDRESS\" is also repeated information , this is in MAIN_ADDRESS\n",
    "#STREET_NAME is also repeated, this is in MAIN_ADDRESS\n",
    "\n",
    "#All other columns may have their use, so keeping all others\n",
    "\n",
    "#Delete ADDRESS, ADMINISTRATIVE_AREA_LEVEL_2, SUBLOCALITY, LONG_NAME, FORMATTED_ADDRESS"
   ]
  },
  {
   "cell_type": "code",
   "execution_count": 130,
   "id": "37eb9ba4",
   "metadata": {},
   "outputs": [],
   "source": [
    "DF1 = DF1.drop(columns=['ADDRESS'])"
   ]
  },
  {
   "cell_type": "code",
   "execution_count": 131,
   "id": "48dbcb0b",
   "metadata": {},
   "outputs": [],
   "source": [
    "DF1 = DF1.drop(columns=['ADMINISTRATIVE_AREA_LEVEL_2'])"
   ]
  },
  {
   "cell_type": "code",
   "execution_count": 132,
   "id": "4b8aa6e0",
   "metadata": {},
   "outputs": [],
   "source": [
    "DF1 = DF1.drop(columns=['SUBLOCALITY'])"
   ]
  },
  {
   "cell_type": "code",
   "execution_count": 133,
   "id": "b04d4676",
   "metadata": {},
   "outputs": [],
   "source": [
    "DF1 = DF1.drop(columns=['LONG_NAME'])"
   ]
  },
  {
   "cell_type": "code",
   "execution_count": 134,
   "id": "559916fb",
   "metadata": {},
   "outputs": [],
   "source": [
    "DF1 = DF1.drop(columns=['FORMATTED_ADDRESS'])"
   ]
  },
  {
   "cell_type": "code",
   "execution_count": 135,
   "id": "89de3d01",
   "metadata": {},
   "outputs": [],
   "source": [
    "DF1 = DF1.drop(columns=['STREET_NAME'])"
   ]
  },
  {
   "cell_type": "code",
   "execution_count": 136,
   "id": "99da818a",
   "metadata": {},
   "outputs": [],
   "source": [
    "DF1 = DF1.drop(columns=['LOCALITY'])"
   ]
  },
  {
   "cell_type": "code",
   "execution_count": 138,
   "id": "33628c9e",
   "metadata": {},
   "outputs": [
    {
     "data": {
      "text/plain": [
       "Index(['PRICE', 'BEDS', 'BATH', 'PROPERTYSQFT', 'STATE', 'MAIN_ADDRESS',\n",
       "       'LATITUDE', 'LONGITUDE', 'Brokerages', 'Property Type'],\n",
       "      dtype='object')"
      ]
     },
     "execution_count": 138,
     "metadata": {},
     "output_type": "execute_result"
    }
   ],
   "source": [
    "DF1.columns"
   ]
  },
  {
   "cell_type": "code",
   "execution_count": 139,
   "id": "75d4d09a",
   "metadata": {},
   "outputs": [
    {
     "data": {
      "text/html": [
       "<div>\n",
       "<style scoped>\n",
       "    .dataframe tbody tr th:only-of-type {\n",
       "        vertical-align: middle;\n",
       "    }\n",
       "\n",
       "    .dataframe tbody tr th {\n",
       "        vertical-align: top;\n",
       "    }\n",
       "\n",
       "    .dataframe thead th {\n",
       "        text-align: right;\n",
       "    }\n",
       "</style>\n",
       "<table border=\"1\" class=\"dataframe\">\n",
       "  <thead>\n",
       "    <tr style=\"text-align: right;\">\n",
       "      <th></th>\n",
       "      <th>PRICE</th>\n",
       "      <th>BEDS</th>\n",
       "      <th>BATH</th>\n",
       "      <th>PROPERTYSQFT</th>\n",
       "      <th>STATE</th>\n",
       "      <th>MAIN_ADDRESS</th>\n",
       "      <th>LATITUDE</th>\n",
       "      <th>LONGITUDE</th>\n",
       "      <th>Brokerages</th>\n",
       "      <th>Property Type</th>\n",
       "    </tr>\n",
       "  </thead>\n",
       "  <tbody>\n",
       "    <tr>\n",
       "      <th>0</th>\n",
       "      <td>315000</td>\n",
       "      <td>2</td>\n",
       "      <td>2.0</td>\n",
       "      <td>1400.0</td>\n",
       "      <td>New York, NY 10022</td>\n",
       "      <td>2 E 55th St Unit 803New York, NY 10022</td>\n",
       "      <td>40.761255</td>\n",
       "      <td>-73.974483</td>\n",
       "      <td>Douglas Elliman</td>\n",
       "      <td>Condo</td>\n",
       "    </tr>\n",
       "  </tbody>\n",
       "</table>\n",
       "</div>"
      ],
      "text/plain": [
       "    PRICE BEDS BATH  PROPERTYSQFT               STATE  \\\n",
       "0  315000    2  2.0        1400.0  New York, NY 10022   \n",
       "\n",
       "                             MAIN_ADDRESS   LATITUDE  LONGITUDE  \\\n",
       "0  2 E 55th St Unit 803New York, NY 10022  40.761255 -73.974483   \n",
       "\n",
       "           Brokerages Property Type  \n",
       "0   Douglas Elliman          Condo   "
      ]
     },
     "execution_count": 139,
     "metadata": {},
     "output_type": "execute_result"
    }
   ],
   "source": [
    "DF1.head(1)"
   ]
  },
  {
   "cell_type": "code",
   "execution_count": null,
   "id": "00ac76a4",
   "metadata": {},
   "outputs": [],
   "source": [
    "# Cleared out all unncessary columns"
   ]
  },
  {
   "cell_type": "markdown",
   "id": "4b7fb9d7",
   "metadata": {},
   "source": [
    "## Reorder Columns"
   ]
  },
  {
   "cell_type": "code",
   "execution_count": 140,
   "id": "abcc4198",
   "metadata": {},
   "outputs": [
    {
     "data": {
      "text/html": [
       "<div>\n",
       "<style scoped>\n",
       "    .dataframe tbody tr th:only-of-type {\n",
       "        vertical-align: middle;\n",
       "    }\n",
       "\n",
       "    .dataframe tbody tr th {\n",
       "        vertical-align: top;\n",
       "    }\n",
       "\n",
       "    .dataframe thead th {\n",
       "        text-align: right;\n",
       "    }\n",
       "</style>\n",
       "<table border=\"1\" class=\"dataframe\">\n",
       "  <thead>\n",
       "    <tr style=\"text-align: right;\">\n",
       "      <th></th>\n",
       "      <th>MAIN_ADDRESS</th>\n",
       "      <th>Property Type</th>\n",
       "      <th>PRICE</th>\n",
       "      <th>BEDS</th>\n",
       "      <th>BATH</th>\n",
       "      <th>PROPERTYSQFT</th>\n",
       "      <th>STATE</th>\n",
       "      <th>Brokerages</th>\n",
       "      <th>LATITUDE</th>\n",
       "      <th>LATITUDE</th>\n",
       "    </tr>\n",
       "  </thead>\n",
       "  <tbody>\n",
       "    <tr>\n",
       "      <th>0</th>\n",
       "      <td>2 E 55th St Unit 803New York, NY 10022</td>\n",
       "      <td>Condo</td>\n",
       "      <td>315000</td>\n",
       "      <td>2</td>\n",
       "      <td>2.0</td>\n",
       "      <td>1400.000000</td>\n",
       "      <td>New York, NY 10022</td>\n",
       "      <td>Douglas Elliman</td>\n",
       "      <td>40.761255</td>\n",
       "      <td>40.761255</td>\n",
       "    </tr>\n",
       "    <tr>\n",
       "      <th>1</th>\n",
       "      <td>Central Park Tower Penthouse-217 W 57th New Yo...</td>\n",
       "      <td>Condo</td>\n",
       "      <td>195000000</td>\n",
       "      <td>7</td>\n",
       "      <td>10.0</td>\n",
       "      <td>17545.000000</td>\n",
       "      <td>New York, NY 10019</td>\n",
       "      <td>Serhant</td>\n",
       "      <td>40.766393</td>\n",
       "      <td>40.766393</td>\n",
       "    </tr>\n",
       "    <tr>\n",
       "      <th>2</th>\n",
       "      <td>620 Sinclair AveStaten Island, NY 10312</td>\n",
       "      <td>House</td>\n",
       "      <td>260000</td>\n",
       "      <td>4</td>\n",
       "      <td>2.0</td>\n",
       "      <td>2015.000000</td>\n",
       "      <td>Staten Island, NY 10312</td>\n",
       "      <td>Sowae Corp</td>\n",
       "      <td>40.541805</td>\n",
       "      <td>40.541805</td>\n",
       "    </tr>\n",
       "    <tr>\n",
       "      <th>3</th>\n",
       "      <td>2 E 55th St Unit 908W33Manhattan, NY 10022</td>\n",
       "      <td>Condo</td>\n",
       "      <td>69000</td>\n",
       "      <td>3</td>\n",
       "      <td>1.0</td>\n",
       "      <td>445.000000</td>\n",
       "      <td>Manhattan, NY 10022</td>\n",
       "      <td>COMPASS</td>\n",
       "      <td>40.761398</td>\n",
       "      <td>40.761398</td>\n",
       "    </tr>\n",
       "    <tr>\n",
       "      <th>4</th>\n",
       "      <td>5 E 64th StNew York, NY 10065</td>\n",
       "      <td>Townhouse</td>\n",
       "      <td>55000000</td>\n",
       "      <td>7</td>\n",
       "      <td>2.5</td>\n",
       "      <td>14175.000000</td>\n",
       "      <td>New York, NY 10065</td>\n",
       "      <td>Sotheby's International Realty</td>\n",
       "      <td>40.767224</td>\n",
       "      <td>40.767224</td>\n",
       "    </tr>\n",
       "    <tr>\n",
       "      <th>...</th>\n",
       "      <td>...</td>\n",
       "      <td>...</td>\n",
       "      <td>...</td>\n",
       "      <td>...</td>\n",
       "      <td>...</td>\n",
       "      <td>...</td>\n",
       "      <td>...</td>\n",
       "      <td>...</td>\n",
       "      <td>...</td>\n",
       "      <td>...</td>\n",
       "    </tr>\n",
       "    <tr>\n",
       "      <th>4796</th>\n",
       "      <td>222 E 80th St Apt 3AManhattan, NY 10075</td>\n",
       "      <td>Co-op</td>\n",
       "      <td>599000</td>\n",
       "      <td>1</td>\n",
       "      <td>1.0</td>\n",
       "      <td>2184.207862</td>\n",
       "      <td>Manhattan, NY 10075</td>\n",
       "      <td>COMPASS</td>\n",
       "      <td>40.774350</td>\n",
       "      <td>40.774350</td>\n",
       "    </tr>\n",
       "    <tr>\n",
       "      <th>4797</th>\n",
       "      <td>97-40 62 Dr Unit LgRego Park, NY 11374</td>\n",
       "      <td>Co-op</td>\n",
       "      <td>245000</td>\n",
       "      <td>1</td>\n",
       "      <td>1.0</td>\n",
       "      <td>2184.207862</td>\n",
       "      <td>Rego Park, NY 11374</td>\n",
       "      <td>Mjr Real Estate Llc</td>\n",
       "      <td>40.732538</td>\n",
       "      <td>40.732538</td>\n",
       "    </tr>\n",
       "    <tr>\n",
       "      <th>4798</th>\n",
       "      <td>427 W 21st St Unit GardenNew York, NY 10011</td>\n",
       "      <td>Co-op</td>\n",
       "      <td>1275000</td>\n",
       "      <td>1</td>\n",
       "      <td>1.0</td>\n",
       "      <td>2184.207862</td>\n",
       "      <td>New York, NY 10011</td>\n",
       "      <td>Douglas Elliman</td>\n",
       "      <td>40.745882</td>\n",
       "      <td>40.745882</td>\n",
       "    </tr>\n",
       "    <tr>\n",
       "      <th>4799</th>\n",
       "      <td>91-23 Corona Ave Unit 4GElmhurst, NY 11373</td>\n",
       "      <td>Condo</td>\n",
       "      <td>598125</td>\n",
       "      <td>2</td>\n",
       "      <td>1.0</td>\n",
       "      <td>655.000000</td>\n",
       "      <td>Elmhurst, NY 11373</td>\n",
       "      <td>E Realty International Corp</td>\n",
       "      <td>40.742770</td>\n",
       "      <td>40.742770</td>\n",
       "    </tr>\n",
       "    <tr>\n",
       "      <th>4800</th>\n",
       "      <td>460 Neptune Ave Apt 14OBrooklyn, NY 11224</td>\n",
       "      <td>Co-op</td>\n",
       "      <td>349000</td>\n",
       "      <td>1</td>\n",
       "      <td>1.0</td>\n",
       "      <td>750.000000</td>\n",
       "      <td>Brooklyn, NY 11224</td>\n",
       "      <td>Nyc Realty Brokers Llc</td>\n",
       "      <td>40.579147</td>\n",
       "      <td>40.579147</td>\n",
       "    </tr>\n",
       "  </tbody>\n",
       "</table>\n",
       "<p>4587 rows × 10 columns</p>\n",
       "</div>"
      ],
      "text/plain": [
       "                                           MAIN_ADDRESS Property Type  \\\n",
       "0                2 E 55th St Unit 803New York, NY 10022        Condo    \n",
       "1     Central Park Tower Penthouse-217 W 57th New Yo...        Condo    \n",
       "2               620 Sinclair AveStaten Island, NY 10312        House    \n",
       "3            2 E 55th St Unit 908W33Manhattan, NY 10022        Condo    \n",
       "4                         5 E 64th StNew York, NY 10065    Townhouse    \n",
       "...                                                 ...           ...   \n",
       "4796            222 E 80th St Apt 3AManhattan, NY 10075        Co-op    \n",
       "4797             97-40 62 Dr Unit LgRego Park, NY 11374        Co-op    \n",
       "4798        427 W 21st St Unit GardenNew York, NY 10011        Co-op    \n",
       "4799         91-23 Corona Ave Unit 4GElmhurst, NY 11373        Condo    \n",
       "4800          460 Neptune Ave Apt 14OBrooklyn, NY 11224        Co-op    \n",
       "\n",
       "          PRICE BEDS  BATH  PROPERTYSQFT                    STATE  \\\n",
       "0        315000    2   2.0   1400.000000       New York, NY 10022   \n",
       "1     195000000    7  10.0  17545.000000       New York, NY 10019   \n",
       "2        260000    4   2.0   2015.000000  Staten Island, NY 10312   \n",
       "3         69000    3   1.0    445.000000      Manhattan, NY 10022   \n",
       "4      55000000    7   2.5  14175.000000       New York, NY 10065   \n",
       "...         ...  ...   ...           ...                      ...   \n",
       "4796     599000    1   1.0   2184.207862      Manhattan, NY 10075   \n",
       "4797     245000    1   1.0   2184.207862      Rego Park, NY 11374   \n",
       "4798    1275000    1   1.0   2184.207862       New York, NY 10011   \n",
       "4799     598125    2   1.0    655.000000       Elmhurst, NY 11373   \n",
       "4800     349000    1   1.0    750.000000       Brooklyn, NY 11224   \n",
       "\n",
       "                            Brokerages   LATITUDE   LATITUDE  \n",
       "0                    Douglas Elliman    40.761255  40.761255  \n",
       "1                              Serhant  40.766393  40.766393  \n",
       "2                           Sowae Corp  40.541805  40.541805  \n",
       "3                              COMPASS  40.761398  40.761398  \n",
       "4      Sotheby's International Realty   40.767224  40.767224  \n",
       "...                                ...        ...        ...  \n",
       "4796                           COMPASS  40.774350  40.774350  \n",
       "4797               Mjr Real Estate Llc  40.732538  40.732538  \n",
       "4798                  Douglas Elliman   40.745882  40.745882  \n",
       "4799       E Realty International Corp  40.742770  40.742770  \n",
       "4800            Nyc Realty Brokers Llc  40.579147  40.579147  \n",
       "\n",
       "[4587 rows x 10 columns]"
      ]
     },
     "execution_count": 140,
     "metadata": {},
     "output_type": "execute_result"
    }
   ],
   "source": [
    "#Reordering based on order of importance for user\n",
    "\n",
    "DF1 = DF1.reindex(columns=['MAIN_ADDRESS','Property Type','PRICE','BEDS','BATH','PROPERTYSQFT','STATE','Brokerages','LATITUDE','LATITUDE'])\n",
    "DF1"
   ]
  },
  {
   "cell_type": "markdown",
   "id": "174ed915",
   "metadata": {},
   "source": [
    "## Identifying Borough"
   ]
  },
  {
   "cell_type": "code",
   "execution_count": null,
   "id": "c5b8751c",
   "metadata": {},
   "outputs": [],
   "source": [
    "#We had removed SUBLOCALITY & LOCALITY, which provided the borough information. \n",
    "#This is valuable information, but due to how unorganized these were, it would be inefficient to clean\n",
    "#Rather lets extract the information we already have from the \"STATE\" column"
   ]
  },
  {
   "cell_type": "code",
   "execution_count": 142,
   "id": "31bf7927",
   "metadata": {},
   "outputs": [
    {
     "data": {
      "text/plain": [
       "STATE\n",
       "Brooklyn, NY 11235            99\n",
       "Brooklyn, NY 11209            91\n",
       "Forest Hills, NY 11375        88\n",
       "Brooklyn, NY 11234            87\n",
       "Staten Island, NY 10314       80\n",
       "                              ..\n",
       "Ny, NY 10017                   1\n",
       "Queens, NY 11427               1\n",
       "Queens, NY 11429               1\n",
       "Long Island City, NY 11109     1\n",
       "Ozone Park, NY 11416           1\n",
       "Name: count, Length: 308, dtype: int64"
      ]
     },
     "execution_count": 142,
     "metadata": {},
     "output_type": "execute_result"
    }
   ],
   "source": [
    "#Identifying what is in STATE\n",
    "\n",
    "DF1['STATE'].value_counts(dropna = False)"
   ]
  },
  {
   "cell_type": "code",
   "execution_count": 143,
   "id": "d4944120",
   "metadata": {},
   "outputs": [
    {
     "data": {
      "text/html": [
       "<div>\n",
       "<style scoped>\n",
       "    .dataframe tbody tr th:only-of-type {\n",
       "        vertical-align: middle;\n",
       "    }\n",
       "\n",
       "    .dataframe tbody tr th {\n",
       "        vertical-align: top;\n",
       "    }\n",
       "\n",
       "    .dataframe thead th {\n",
       "        text-align: right;\n",
       "    }\n",
       "</style>\n",
       "<table border=\"1\" class=\"dataframe\">\n",
       "  <thead>\n",
       "    <tr style=\"text-align: right;\">\n",
       "      <th></th>\n",
       "      <th>0</th>\n",
       "      <th>1</th>\n",
       "    </tr>\n",
       "  </thead>\n",
       "  <tbody>\n",
       "    <tr>\n",
       "      <th>0</th>\n",
       "      <td>New York</td>\n",
       "      <td>NY 10022</td>\n",
       "    </tr>\n",
       "    <tr>\n",
       "      <th>1</th>\n",
       "      <td>New York</td>\n",
       "      <td>NY 10019</td>\n",
       "    </tr>\n",
       "    <tr>\n",
       "      <th>2</th>\n",
       "      <td>Staten Island</td>\n",
       "      <td>NY 10312</td>\n",
       "    </tr>\n",
       "    <tr>\n",
       "      <th>3</th>\n",
       "      <td>Manhattan</td>\n",
       "      <td>NY 10022</td>\n",
       "    </tr>\n",
       "    <tr>\n",
       "      <th>4</th>\n",
       "      <td>New York</td>\n",
       "      <td>NY 10065</td>\n",
       "    </tr>\n",
       "    <tr>\n",
       "      <th>...</th>\n",
       "      <td>...</td>\n",
       "      <td>...</td>\n",
       "    </tr>\n",
       "    <tr>\n",
       "      <th>4796</th>\n",
       "      <td>Manhattan</td>\n",
       "      <td>NY 10075</td>\n",
       "    </tr>\n",
       "    <tr>\n",
       "      <th>4797</th>\n",
       "      <td>Rego Park</td>\n",
       "      <td>NY 11374</td>\n",
       "    </tr>\n",
       "    <tr>\n",
       "      <th>4798</th>\n",
       "      <td>New York</td>\n",
       "      <td>NY 10011</td>\n",
       "    </tr>\n",
       "    <tr>\n",
       "      <th>4799</th>\n",
       "      <td>Elmhurst</td>\n",
       "      <td>NY 11373</td>\n",
       "    </tr>\n",
       "    <tr>\n",
       "      <th>4800</th>\n",
       "      <td>Brooklyn</td>\n",
       "      <td>NY 11224</td>\n",
       "    </tr>\n",
       "  </tbody>\n",
       "</table>\n",
       "<p>4587 rows × 2 columns</p>\n",
       "</div>"
      ],
      "text/plain": [
       "                  0          1\n",
       "0          New York   NY 10022\n",
       "1          New York   NY 10019\n",
       "2     Staten Island   NY 10312\n",
       "3         Manhattan   NY 10022\n",
       "4          New York   NY 10065\n",
       "...             ...        ...\n",
       "4796      Manhattan   NY 10075\n",
       "4797      Rego Park   NY 11374\n",
       "4798       New York   NY 10011\n",
       "4799       Elmhurst   NY 11373\n",
       "4800       Brooklyn   NY 11224\n",
       "\n",
       "[4587 rows x 2 columns]"
      ]
     },
     "execution_count": 143,
     "metadata": {},
     "output_type": "execute_result"
    }
   ],
   "source": [
    "#Seperate columns\n",
    "\n",
    "DF1['STATE'].str.split(',',n=1, expand=True)"
   ]
  },
  {
   "cell_type": "code",
   "execution_count": 144,
   "id": "1861d29d",
   "metadata": {},
   "outputs": [
    {
     "data": {
      "text/html": [
       "<div>\n",
       "<style scoped>\n",
       "    .dataframe tbody tr th:only-of-type {\n",
       "        vertical-align: middle;\n",
       "    }\n",
       "\n",
       "    .dataframe tbody tr th {\n",
       "        vertical-align: top;\n",
       "    }\n",
       "\n",
       "    .dataframe thead th {\n",
       "        text-align: right;\n",
       "    }\n",
       "</style>\n",
       "<table border=\"1\" class=\"dataframe\">\n",
       "  <thead>\n",
       "    <tr style=\"text-align: right;\">\n",
       "      <th></th>\n",
       "      <th>MAIN_ADDRESS</th>\n",
       "      <th>Property Type</th>\n",
       "      <th>PRICE</th>\n",
       "      <th>BEDS</th>\n",
       "      <th>BATH</th>\n",
       "      <th>PROPERTYSQFT</th>\n",
       "      <th>STATE</th>\n",
       "      <th>Brokerages</th>\n",
       "      <th>LATITUDE</th>\n",
       "      <th>LATITUDE</th>\n",
       "      <th>Borough</th>\n",
       "      <th>Delete</th>\n",
       "    </tr>\n",
       "  </thead>\n",
       "  <tbody>\n",
       "    <tr>\n",
       "      <th>0</th>\n",
       "      <td>2 E 55th St Unit 803New York, NY 10022</td>\n",
       "      <td>Condo</td>\n",
       "      <td>315000</td>\n",
       "      <td>2</td>\n",
       "      <td>2.0</td>\n",
       "      <td>1400.000000</td>\n",
       "      <td>New York, NY 10022</td>\n",
       "      <td>Douglas Elliman</td>\n",
       "      <td>40.761255</td>\n",
       "      <td>40.761255</td>\n",
       "      <td>New York</td>\n",
       "      <td>NY 10022</td>\n",
       "    </tr>\n",
       "    <tr>\n",
       "      <th>1</th>\n",
       "      <td>Central Park Tower Penthouse-217 W 57th New Yo...</td>\n",
       "      <td>Condo</td>\n",
       "      <td>195000000</td>\n",
       "      <td>7</td>\n",
       "      <td>10.0</td>\n",
       "      <td>17545.000000</td>\n",
       "      <td>New York, NY 10019</td>\n",
       "      <td>Serhant</td>\n",
       "      <td>40.766393</td>\n",
       "      <td>40.766393</td>\n",
       "      <td>New York</td>\n",
       "      <td>NY 10019</td>\n",
       "    </tr>\n",
       "    <tr>\n",
       "      <th>2</th>\n",
       "      <td>620 Sinclair AveStaten Island, NY 10312</td>\n",
       "      <td>House</td>\n",
       "      <td>260000</td>\n",
       "      <td>4</td>\n",
       "      <td>2.0</td>\n",
       "      <td>2015.000000</td>\n",
       "      <td>Staten Island, NY 10312</td>\n",
       "      <td>Sowae Corp</td>\n",
       "      <td>40.541805</td>\n",
       "      <td>40.541805</td>\n",
       "      <td>Staten Island</td>\n",
       "      <td>NY 10312</td>\n",
       "    </tr>\n",
       "    <tr>\n",
       "      <th>3</th>\n",
       "      <td>2 E 55th St Unit 908W33Manhattan, NY 10022</td>\n",
       "      <td>Condo</td>\n",
       "      <td>69000</td>\n",
       "      <td>3</td>\n",
       "      <td>1.0</td>\n",
       "      <td>445.000000</td>\n",
       "      <td>Manhattan, NY 10022</td>\n",
       "      <td>COMPASS</td>\n",
       "      <td>40.761398</td>\n",
       "      <td>40.761398</td>\n",
       "      <td>Manhattan</td>\n",
       "      <td>NY 10022</td>\n",
       "    </tr>\n",
       "    <tr>\n",
       "      <th>4</th>\n",
       "      <td>5 E 64th StNew York, NY 10065</td>\n",
       "      <td>Townhouse</td>\n",
       "      <td>55000000</td>\n",
       "      <td>7</td>\n",
       "      <td>2.5</td>\n",
       "      <td>14175.000000</td>\n",
       "      <td>New York, NY 10065</td>\n",
       "      <td>Sotheby's International Realty</td>\n",
       "      <td>40.767224</td>\n",
       "      <td>40.767224</td>\n",
       "      <td>New York</td>\n",
       "      <td>NY 10065</td>\n",
       "    </tr>\n",
       "    <tr>\n",
       "      <th>...</th>\n",
       "      <td>...</td>\n",
       "      <td>...</td>\n",
       "      <td>...</td>\n",
       "      <td>...</td>\n",
       "      <td>...</td>\n",
       "      <td>...</td>\n",
       "      <td>...</td>\n",
       "      <td>...</td>\n",
       "      <td>...</td>\n",
       "      <td>...</td>\n",
       "      <td>...</td>\n",
       "      <td>...</td>\n",
       "    </tr>\n",
       "    <tr>\n",
       "      <th>4796</th>\n",
       "      <td>222 E 80th St Apt 3AManhattan, NY 10075</td>\n",
       "      <td>Co-op</td>\n",
       "      <td>599000</td>\n",
       "      <td>1</td>\n",
       "      <td>1.0</td>\n",
       "      <td>2184.207862</td>\n",
       "      <td>Manhattan, NY 10075</td>\n",
       "      <td>COMPASS</td>\n",
       "      <td>40.774350</td>\n",
       "      <td>40.774350</td>\n",
       "      <td>Manhattan</td>\n",
       "      <td>NY 10075</td>\n",
       "    </tr>\n",
       "    <tr>\n",
       "      <th>4797</th>\n",
       "      <td>97-40 62 Dr Unit LgRego Park, NY 11374</td>\n",
       "      <td>Co-op</td>\n",
       "      <td>245000</td>\n",
       "      <td>1</td>\n",
       "      <td>1.0</td>\n",
       "      <td>2184.207862</td>\n",
       "      <td>Rego Park, NY 11374</td>\n",
       "      <td>Mjr Real Estate Llc</td>\n",
       "      <td>40.732538</td>\n",
       "      <td>40.732538</td>\n",
       "      <td>Rego Park</td>\n",
       "      <td>NY 11374</td>\n",
       "    </tr>\n",
       "    <tr>\n",
       "      <th>4798</th>\n",
       "      <td>427 W 21st St Unit GardenNew York, NY 10011</td>\n",
       "      <td>Co-op</td>\n",
       "      <td>1275000</td>\n",
       "      <td>1</td>\n",
       "      <td>1.0</td>\n",
       "      <td>2184.207862</td>\n",
       "      <td>New York, NY 10011</td>\n",
       "      <td>Douglas Elliman</td>\n",
       "      <td>40.745882</td>\n",
       "      <td>40.745882</td>\n",
       "      <td>New York</td>\n",
       "      <td>NY 10011</td>\n",
       "    </tr>\n",
       "    <tr>\n",
       "      <th>4799</th>\n",
       "      <td>91-23 Corona Ave Unit 4GElmhurst, NY 11373</td>\n",
       "      <td>Condo</td>\n",
       "      <td>598125</td>\n",
       "      <td>2</td>\n",
       "      <td>1.0</td>\n",
       "      <td>655.000000</td>\n",
       "      <td>Elmhurst, NY 11373</td>\n",
       "      <td>E Realty International Corp</td>\n",
       "      <td>40.742770</td>\n",
       "      <td>40.742770</td>\n",
       "      <td>Elmhurst</td>\n",
       "      <td>NY 11373</td>\n",
       "    </tr>\n",
       "    <tr>\n",
       "      <th>4800</th>\n",
       "      <td>460 Neptune Ave Apt 14OBrooklyn, NY 11224</td>\n",
       "      <td>Co-op</td>\n",
       "      <td>349000</td>\n",
       "      <td>1</td>\n",
       "      <td>1.0</td>\n",
       "      <td>750.000000</td>\n",
       "      <td>Brooklyn, NY 11224</td>\n",
       "      <td>Nyc Realty Brokers Llc</td>\n",
       "      <td>40.579147</td>\n",
       "      <td>40.579147</td>\n",
       "      <td>Brooklyn</td>\n",
       "      <td>NY 11224</td>\n",
       "    </tr>\n",
       "  </tbody>\n",
       "</table>\n",
       "<p>4587 rows × 12 columns</p>\n",
       "</div>"
      ],
      "text/plain": [
       "                                           MAIN_ADDRESS Property Type  \\\n",
       "0                2 E 55th St Unit 803New York, NY 10022        Condo    \n",
       "1     Central Park Tower Penthouse-217 W 57th New Yo...        Condo    \n",
       "2               620 Sinclair AveStaten Island, NY 10312        House    \n",
       "3            2 E 55th St Unit 908W33Manhattan, NY 10022        Condo    \n",
       "4                         5 E 64th StNew York, NY 10065    Townhouse    \n",
       "...                                                 ...           ...   \n",
       "4796            222 E 80th St Apt 3AManhattan, NY 10075        Co-op    \n",
       "4797             97-40 62 Dr Unit LgRego Park, NY 11374        Co-op    \n",
       "4798        427 W 21st St Unit GardenNew York, NY 10011        Co-op    \n",
       "4799         91-23 Corona Ave Unit 4GElmhurst, NY 11373        Condo    \n",
       "4800          460 Neptune Ave Apt 14OBrooklyn, NY 11224        Co-op    \n",
       "\n",
       "          PRICE BEDS  BATH  PROPERTYSQFT                    STATE  \\\n",
       "0        315000    2   2.0   1400.000000       New York, NY 10022   \n",
       "1     195000000    7  10.0  17545.000000       New York, NY 10019   \n",
       "2        260000    4   2.0   2015.000000  Staten Island, NY 10312   \n",
       "3         69000    3   1.0    445.000000      Manhattan, NY 10022   \n",
       "4      55000000    7   2.5  14175.000000       New York, NY 10065   \n",
       "...         ...  ...   ...           ...                      ...   \n",
       "4796     599000    1   1.0   2184.207862      Manhattan, NY 10075   \n",
       "4797     245000    1   1.0   2184.207862      Rego Park, NY 11374   \n",
       "4798    1275000    1   1.0   2184.207862       New York, NY 10011   \n",
       "4799     598125    2   1.0    655.000000       Elmhurst, NY 11373   \n",
       "4800     349000    1   1.0    750.000000       Brooklyn, NY 11224   \n",
       "\n",
       "                            Brokerages   LATITUDE   LATITUDE        Borough  \\\n",
       "0                    Douglas Elliman    40.761255  40.761255       New York   \n",
       "1                              Serhant  40.766393  40.766393       New York   \n",
       "2                           Sowae Corp  40.541805  40.541805  Staten Island   \n",
       "3                              COMPASS  40.761398  40.761398      Manhattan   \n",
       "4      Sotheby's International Realty   40.767224  40.767224       New York   \n",
       "...                                ...        ...        ...            ...   \n",
       "4796                           COMPASS  40.774350  40.774350      Manhattan   \n",
       "4797               Mjr Real Estate Llc  40.732538  40.732538      Rego Park   \n",
       "4798                  Douglas Elliman   40.745882  40.745882       New York   \n",
       "4799       E Realty International Corp  40.742770  40.742770       Elmhurst   \n",
       "4800            Nyc Realty Brokers Llc  40.579147  40.579147       Brooklyn   \n",
       "\n",
       "         Delete  \n",
       "0      NY 10022  \n",
       "1      NY 10019  \n",
       "2      NY 10312  \n",
       "3      NY 10022  \n",
       "4      NY 10065  \n",
       "...         ...  \n",
       "4796   NY 10075  \n",
       "4797   NY 11374  \n",
       "4798   NY 10011  \n",
       "4799   NY 11373  \n",
       "4800   NY 11224  \n",
       "\n",
       "[4587 rows x 12 columns]"
      ]
     },
     "execution_count": 144,
     "metadata": {},
     "output_type": "execute_result"
    }
   ],
   "source": [
    "#Seperate columns to Borough & Delete\n",
    "#We only want to extract the Borough here\n",
    "\n",
    "DF1[['Borough','Delete']]= DF1['STATE'].str.split(',',n=1, expand=True)\n",
    "DF1"
   ]
  },
  {
   "cell_type": "code",
   "execution_count": 145,
   "id": "b3e4daa0",
   "metadata": {},
   "outputs": [],
   "source": [
    "#Delete Excess Column\n",
    "\n",
    "DF1 = DF1.drop(columns=['Delete'])"
   ]
  },
  {
   "cell_type": "code",
   "execution_count": 146,
   "id": "6f51ade7",
   "metadata": {},
   "outputs": [
    {
     "data": {
      "text/html": [
       "<div>\n",
       "<style scoped>\n",
       "    .dataframe tbody tr th:only-of-type {\n",
       "        vertical-align: middle;\n",
       "    }\n",
       "\n",
       "    .dataframe tbody tr th {\n",
       "        vertical-align: top;\n",
       "    }\n",
       "\n",
       "    .dataframe thead th {\n",
       "        text-align: right;\n",
       "    }\n",
       "</style>\n",
       "<table border=\"1\" class=\"dataframe\">\n",
       "  <thead>\n",
       "    <tr style=\"text-align: right;\">\n",
       "      <th></th>\n",
       "      <th>MAIN_ADDRESS</th>\n",
       "      <th>Property Type</th>\n",
       "      <th>PRICE</th>\n",
       "      <th>BEDS</th>\n",
       "      <th>BATH</th>\n",
       "      <th>PROPERTYSQFT</th>\n",
       "      <th>STATE</th>\n",
       "      <th>Brokerages</th>\n",
       "      <th>LATITUDE</th>\n",
       "      <th>LATITUDE</th>\n",
       "      <th>Borough</th>\n",
       "    </tr>\n",
       "  </thead>\n",
       "  <tbody>\n",
       "    <tr>\n",
       "      <th>0</th>\n",
       "      <td>2 E 55th St Unit 803New York, NY 10022</td>\n",
       "      <td>Condo</td>\n",
       "      <td>315000</td>\n",
       "      <td>2</td>\n",
       "      <td>2.0</td>\n",
       "      <td>1400.0</td>\n",
       "      <td>New York, NY 10022</td>\n",
       "      <td>Douglas Elliman</td>\n",
       "      <td>40.761255</td>\n",
       "      <td>40.761255</td>\n",
       "      <td>New York</td>\n",
       "    </tr>\n",
       "  </tbody>\n",
       "</table>\n",
       "</div>"
      ],
      "text/plain": [
       "                             MAIN_ADDRESS Property Type   PRICE BEDS BATH  \\\n",
       "0  2 E 55th St Unit 803New York, NY 10022        Condo   315000    2  2.0   \n",
       "\n",
       "   PROPERTYSQFT               STATE          Brokerages   LATITUDE   LATITUDE  \\\n",
       "0        1400.0  New York, NY 10022   Douglas Elliman    40.761255  40.761255   \n",
       "\n",
       "    Borough  \n",
       "0  New York  "
      ]
     },
     "execution_count": 146,
     "metadata": {},
     "output_type": "execute_result"
    }
   ],
   "source": [
    "#Checking DF now\n",
    "\n",
    "DF1.head(1)"
   ]
  },
  {
   "cell_type": "code",
   "execution_count": 147,
   "id": "d72292e6",
   "metadata": {},
   "outputs": [
    {
     "data": {
      "text/plain": [
       "Borough\n",
       "Brooklyn                     1131\n",
       "New York                      832\n",
       "Staten Island                 524\n",
       "Bronx                         468\n",
       "Manhattan                     393\n",
       "                             ... \n",
       "Brooklyn Heights                1\n",
       "Kew Garden Hills                1\n",
       "Ditmas Park                     1\n",
       "Brighton Beach                  1\n",
       "Prospect Lefferts Gardens       1\n",
       "Name: count, Length: 71, dtype: int64"
      ]
     },
     "execution_count": 147,
     "metadata": {},
     "output_type": "execute_result"
    }
   ],
   "source": [
    "#Counting Boroughs.\n",
    "#Result has not only boroughs, but also alot of specific neighborhoods\n",
    "#This is unncessary information, we only want the 5 boroughs.\n",
    "\n",
    "DF1['Borough'].value_counts(dropna = False)"
   ]
  },
  {
   "cell_type": "code",
   "execution_count": 148,
   "id": "fcca678f",
   "metadata": {},
   "outputs": [],
   "source": [
    "#To replace all these extra borough informations we can continue to use replace\n",
    "\n",
    "#DF1['Borough'] = DF1['Borough'].str.replace('Old','New')\n",
    "\n",
    "#Replace Neighborhood with the Borough it is."
   ]
  },
  {
   "cell_type": "code",
   "execution_count": 149,
   "id": "57b7e2de",
   "metadata": {},
   "outputs": [],
   "source": [
    "DF1['Borough'] = DF1['Borough'].str.replace('Forest Hills','Queens')"
   ]
  },
  {
   "cell_type": "code",
   "execution_count": 150,
   "id": "1bc87de1",
   "metadata": {},
   "outputs": [],
   "source": [
    "DF1['Borough'] = DF1['Borough'].str.replace('Flushing','Queens')"
   ]
  },
  {
   "cell_type": "code",
   "execution_count": 151,
   "id": "7d44fc39",
   "metadata": {},
   "outputs": [],
   "source": [
    "DF1['Borough'] = DF1['Borough'].str.replace('Bayside','Queens')"
   ]
  },
  {
   "cell_type": "code",
   "execution_count": 152,
   "id": "eeb63f2c",
   "metadata": {},
   "outputs": [],
   "source": [
    "DF1['Borough'] = DF1['Borough'].str.replace('Jamaica','Queens')"
   ]
  },
  {
   "cell_type": "code",
   "execution_count": 153,
   "id": "aba49775",
   "metadata": {},
   "outputs": [],
   "source": [
    "DF1['Borough'] = DF1['Borough'].str.replace('Jackson Heights','Queens')"
   ]
  },
  {
   "cell_type": "code",
   "execution_count": 154,
   "id": "2a304f92",
   "metadata": {},
   "outputs": [],
   "source": [
    "DF1['Borough'] = DF1['Borough'].str.replace('Rego Park','Queens')"
   ]
  },
  {
   "cell_type": "code",
   "execution_count": 155,
   "id": "065aef46",
   "metadata": {},
   "outputs": [],
   "source": [
    "DF1['Borough'] = DF1['Borough'].str.replace('Elmhurst','Queens')"
   ]
  },
  {
   "cell_type": "code",
   "execution_count": 156,
   "id": "6368d921",
   "metadata": {},
   "outputs": [],
   "source": [
    "DF1['Borough'] = DF1['Borough'].str.replace('Woodside','Queens')"
   ]
  },
  {
   "cell_type": "code",
   "execution_count": 157,
   "id": "b60e05f1",
   "metadata": {},
   "outputs": [],
   "source": [
    "DF1['Borough'] = DF1['Borough'].str.replace('Whitestone','Queens')"
   ]
  },
  {
   "cell_type": "code",
   "execution_count": 158,
   "id": "cd59603e",
   "metadata": {},
   "outputs": [],
   "source": [
    "DF1['Borough'] = DF1['Borough'].str.replace('Astoria','Queens')"
   ]
  },
  {
   "cell_type": "code",
   "execution_count": 159,
   "id": "6faaa7da",
   "metadata": {},
   "outputs": [],
   "source": [
    "DF1['Borough'] = DF1['Borough'].str.replace('Corona','Queens')"
   ]
  },
  {
   "cell_type": "code",
   "execution_count": 160,
   "id": "2f2c7429",
   "metadata": {},
   "outputs": [],
   "source": [
    "#Floral Park is on the verge of Queens & Long Island. As we are doing NYC listings we will include this as Queens\n",
    "DF1['Borough'] = DF1['Borough'].str.replace('Floral Park','Queens')"
   ]
  },
  {
   "cell_type": "code",
   "execution_count": 161,
   "id": "cf45ff22",
   "metadata": {},
   "outputs": [],
   "source": [
    "DF1['Borough'] = DF1['Borough'].str.replace('Middle Village','Queens')"
   ]
  },
  {
   "cell_type": "code",
   "execution_count": 162,
   "id": "7302df44",
   "metadata": {},
   "outputs": [],
   "source": [
    "DF1['Borough'] = DF1['Borough'].str.replace('Fresh Meadows','Queens')"
   ]
  },
  {
   "cell_type": "code",
   "execution_count": 163,
   "id": "68955610",
   "metadata": {},
   "outputs": [],
   "source": [
    "DF1['Borough'] = DF1['Borough'].str.replace('Kew Gardens','Queens')"
   ]
  },
  {
   "cell_type": "code",
   "execution_count": 164,
   "id": "ebafb273",
   "metadata": {},
   "outputs": [],
   "source": [
    "DF1['Borough'] = DF1['Borough'].str.replace('East Elmhurst','Queens')"
   ]
  },
  {
   "cell_type": "code",
   "execution_count": 165,
   "id": "95a059c4",
   "metadata": {},
   "outputs": [],
   "source": [
    "DF1['Borough'] = DF1['Borough'].str.replace('College Point','Queens')"
   ]
  },
  {
   "cell_type": "code",
   "execution_count": 166,
   "id": "7434b61b",
   "metadata": {},
   "outputs": [],
   "source": [
    "DF1['Borough'] = DF1['Borough'].str.replace('Far Rockaway','Queens')"
   ]
  },
  {
   "cell_type": "code",
   "execution_count": 167,
   "id": "3971b148",
   "metadata": {},
   "outputs": [],
   "source": [
    "DF1['Borough'] = DF1['Borough'].str.replace('South Ozone Park','Queens')"
   ]
  },
  {
   "cell_type": "code",
   "execution_count": 168,
   "id": "c05e58aa",
   "metadata": {},
   "outputs": [],
   "source": [
    "DF1['Borough'] = DF1['Borough'].str.replace('Little Neck','Queens')"
   ]
  },
  {
   "cell_type": "code",
   "execution_count": 169,
   "id": "59bb9c4d",
   "metadata": {},
   "outputs": [],
   "source": [
    "DF1['Borough'] = DF1['Borough'].str.replace('Ridgewood','Queens')"
   ]
  },
  {
   "cell_type": "code",
   "execution_count": 170,
   "id": "b32ec262",
   "metadata": {},
   "outputs": [],
   "source": [
    "DF1['Borough'] = DF1['Borough'].str.replace('Saint Albans','Queens')"
   ]
  },
  {
   "cell_type": "code",
   "execution_count": 171,
   "id": "ac962b5c",
   "metadata": {},
   "outputs": [],
   "source": [
    "DF1['Borough'] = DF1['Borough'].str.replace('Queens Village','Queens')"
   ]
  },
  {
   "cell_type": "code",
   "execution_count": 172,
   "id": "dbb94883",
   "metadata": {},
   "outputs": [],
   "source": [
    "DF1['Borough'] = DF1['Borough'].str.replace('Woodhaven','Queens')"
   ]
  },
  {
   "cell_type": "code",
   "execution_count": 173,
   "id": "7506fbc0",
   "metadata": {},
   "outputs": [],
   "source": [
    "DF1['Borough'] = DF1['Borough'].str.replace('Springfield Gardens','Queens')"
   ]
  },
  {
   "cell_type": "code",
   "execution_count": 174,
   "id": "55f79e3b",
   "metadata": {},
   "outputs": [],
   "source": [
    "DF1['Borough'] = DF1['Borough'].str.replace('Rockaway Park','Queens')"
   ]
  },
  {
   "cell_type": "code",
   "execution_count": 175,
   "id": "e11312fc",
   "metadata": {},
   "outputs": [],
   "source": [
    "DF1['Borough'] = DF1['Borough'].str.replace('Maspeth','Queens')"
   ]
  },
  {
   "cell_type": "code",
   "execution_count": 176,
   "id": "f705253c",
   "metadata": {},
   "outputs": [],
   "source": [
    "DF1['Borough'] = DF1['Borough'].str.replace('Bellerose','Queens')"
   ]
  },
  {
   "cell_type": "code",
   "execution_count": 177,
   "id": "f07dbf1d",
   "metadata": {},
   "outputs": [],
   "source": [
    "DF1['Borough'] = DF1['Borough'].str.replace('Ozone Park','Queens')"
   ]
  },
  {
   "cell_type": "code",
   "execution_count": 178,
   "id": "a13c3504",
   "metadata": {},
   "outputs": [],
   "source": [
    "DF1['Borough'] = DF1['Borough'].str.replace('Hollis','Queens')"
   ]
  },
  {
   "cell_type": "code",
   "execution_count": 179,
   "id": "ff3d6a1d",
   "metadata": {},
   "outputs": [],
   "source": [
    "DF1['Borough'] = DF1['Borough'].str.replace('Glen Oaks','Queens')"
   ]
  },
  {
   "cell_type": "code",
   "execution_count": 180,
   "id": "fe8d0e15",
   "metadata": {},
   "outputs": [],
   "source": [
    "DF1['Borough'] = DF1['Borough'].str.replace('Long Island City','Queens')"
   ]
  },
  {
   "cell_type": "code",
   "execution_count": 181,
   "id": "07559467",
   "metadata": {},
   "outputs": [],
   "source": [
    "DF1['Borough'] = DF1['Borough'].str.replace('Richmond Hill','Queens')"
   ]
  },
  {
   "cell_type": "code",
   "execution_count": 182,
   "id": "80640981",
   "metadata": {},
   "outputs": [],
   "source": [
    "DF1['Borough'] = DF1['Borough'].str.replace('Douglaston','Queens')"
   ]
  },
  {
   "cell_type": "code",
   "execution_count": 183,
   "id": "234934a5",
   "metadata": {},
   "outputs": [],
   "source": [
    "DF1['Borough'] = DF1['Borough'].str.replace('Rosedale','Queens')"
   ]
  },
  {
   "cell_type": "code",
   "execution_count": 184,
   "id": "17fd3374",
   "metadata": {},
   "outputs": [],
   "source": [
    "DF1['Borough'] = DF1['Borough'].str.replace('Bedford Stuyvesant','Brooklyn')"
   ]
  },
  {
   "cell_type": "code",
   "execution_count": 185,
   "id": "80c3e042",
   "metadata": {},
   "outputs": [],
   "source": [
    "DF1['Borough'] = DF1['Borough'].str.replace('Glendale','Queens')"
   ]
  },
  {
   "cell_type": "code",
   "execution_count": 186,
   "id": "6bbc0ccd",
   "metadata": {},
   "outputs": [],
   "source": [
    "DF1['Borough'] = DF1['Borough'].str.replace('Cambria Heights','Queens')"
   ]
  },
  {
   "cell_type": "code",
   "execution_count": 187,
   "id": "49e8b7ad",
   "metadata": {},
   "outputs": [],
   "source": [
    "DF1['Borough'] = DF1['Borough'].str.replace('Arvene','Queens')"
   ]
  },
  {
   "cell_type": "code",
   "execution_count": 188,
   "id": "b14fbd83",
   "metadata": {},
   "outputs": [],
   "source": [
    "DF1['Borough'] = DF1['Borough'].str.replace('Beechhurst','Queens')"
   ]
  },
  {
   "cell_type": "code",
   "execution_count": 189,
   "id": "764967e5",
   "metadata": {},
   "outputs": [],
   "source": [
    "DF1['Borough'] = DF1['Borough'].str.replace('New York City','Manhattan')"
   ]
  },
  {
   "cell_type": "code",
   "execution_count": 190,
   "id": "b76e65fa",
   "metadata": {},
   "outputs": [],
   "source": [
    "DF1['Borough'] = DF1['Borough'].str.replace('Crown Heights','Brooklyn')"
   ]
  },
  {
   "cell_type": "code",
   "execution_count": 191,
   "id": "72efd723",
   "metadata": {},
   "outputs": [],
   "source": [
    "DF1['Borough'] = DF1['Borough'].str.replace('Briarwood','Queens')"
   ]
  },
  {
   "cell_type": "code",
   "execution_count": 192,
   "id": "61a9b358",
   "metadata": {},
   "outputs": [],
   "source": [
    "DF1['Borough'] = DF1['Borough'].str.replace('Brownville','Brooklyn')"
   ]
  },
  {
   "cell_type": "code",
   "execution_count": 193,
   "id": "d481adbe",
   "metadata": {},
   "outputs": [],
   "source": [
    "DF1['Borough'] = DF1['Borough'].str.replace('Sunnyside','Queens')"
   ]
  },
  {
   "cell_type": "code",
   "execution_count": 194,
   "id": "64b2006d",
   "metadata": {},
   "outputs": [],
   "source": [
    "DF1['Borough'] = DF1['Borough'].str.replace('Malba','Queens')"
   ]
  },
  {
   "cell_type": "code",
   "execution_count": 195,
   "id": "40c41bc9",
   "metadata": {},
   "outputs": [],
   "source": [
    "DF1['Borough'] = DF1['Borough'].str.replace('Kew Garden Hills','Queens')"
   ]
  },
  {
   "cell_type": "code",
   "execution_count": 196,
   "id": "7ad6e8d6",
   "metadata": {},
   "outputs": [],
   "source": [
    "DF1['Borough'] = DF1['Borough'].str.replace('Kensington','Brooklyn')"
   ]
  },
  {
   "cell_type": "code",
   "execution_count": 197,
   "id": "80be3c01",
   "metadata": {},
   "outputs": [],
   "source": [
    "DF1['Borough'] = DF1['Borough'].str.replace('Old Mill Basin','Queens')"
   ]
  },
  {
   "cell_type": "code",
   "execution_count": 198,
   "id": "23ec88f5",
   "metadata": {},
   "outputs": [],
   "source": [
    "DF1['Borough'] = DF1['Borough'].str.replace('Stuyvesant Heights','Brooklyn')"
   ]
  },
  {
   "cell_type": "code",
   "execution_count": 199,
   "id": "a549f708",
   "metadata": {},
   "outputs": [],
   "source": [
    "DF1['Borough'] = DF1['Borough'].str.replace('Nyc','Manhattan')"
   ]
  },
  {
   "cell_type": "code",
   "execution_count": 200,
   "id": "9111c5bf",
   "metadata": {},
   "outputs": [],
   "source": [
    "DF1['Borough'] = DF1['Borough'].str.replace('East Flatbush','Brooklyn')"
   ]
  },
  {
   "cell_type": "code",
   "execution_count": 201,
   "id": "6216cb56",
   "metadata": {},
   "outputs": [],
   "source": [
    "DF1['Borough'] = DF1['Borough'].str.replace('Richmond Hill South','Manhattan')"
   ]
  },
  {
   "cell_type": "code",
   "execution_count": 202,
   "id": "7fd51c52",
   "metadata": {},
   "outputs": [],
   "source": [
    "DF1['Borough'] = DF1['Borough'].str.replace('Ny','Manhattan')"
   ]
  },
  {
   "cell_type": "code",
   "execution_count": 203,
   "id": "4b659bc9",
   "metadata": {},
   "outputs": [],
   "source": [
    "DF1['Borough'] = DF1['Borough'].str.replace('Roosevelet Island','Manhattan')"
   ]
  },
  {
   "cell_type": "code",
   "execution_count": 204,
   "id": "3ad5c4cc",
   "metadata": {},
   "outputs": [],
   "source": [
    "DF1['Borough'] = DF1['Borough'].str.replace('Bronx Ny','Bronx')"
   ]
  },
  {
   "cell_type": "code",
   "execution_count": 205,
   "id": "64c0eabe",
   "metadata": {},
   "outputs": [],
   "source": [
    "DF1['Borough'] = DF1['Borough'].str.replace('New Hyde Park','Queens')"
   ]
  },
  {
   "cell_type": "code",
   "execution_count": 206,
   "id": "5f0a3a9c",
   "metadata": {},
   "outputs": [],
   "source": [
    "DF1['Borough'] = DF1['Borough'].str.replace('Canarsie','Brooklyn')"
   ]
  },
  {
   "cell_type": "code",
   "execution_count": 207,
   "id": "3461fb9e",
   "metadata": {},
   "outputs": [],
   "source": [
    "DF1['Borough'] = DF1['Borough'].str.replace('Belle Harbor','Queens')"
   ]
  },
  {
   "cell_type": "code",
   "execution_count": 208,
   "id": "ad49e031",
   "metadata": {},
   "outputs": [],
   "source": [
    "DF1['Borough'] = DF1['Borough'].str.replace('Brooklyn Heights','Brooklyn')"
   ]
  },
  {
   "cell_type": "code",
   "execution_count": 209,
   "id": "b618f546",
   "metadata": {},
   "outputs": [],
   "source": [
    "DF1['Borough'] = DF1['Borough'].str.replace('Kew Garden Hills','Queens')"
   ]
  },
  {
   "cell_type": "code",
   "execution_count": 210,
   "id": "438b7843",
   "metadata": {},
   "outputs": [],
   "source": [
    "DF1['Borough'] = DF1['Borough'].str.replace('Ditmas Park','Brooklyn')"
   ]
  },
  {
   "cell_type": "code",
   "execution_count": 211,
   "id": "7db59e91",
   "metadata": {},
   "outputs": [],
   "source": [
    "DF1['Borough'] = DF1['Borough'].str.replace('Brighton Beach','Brooklyn')"
   ]
  },
  {
   "cell_type": "code",
   "execution_count": 212,
   "id": "721aaf05",
   "metadata": {},
   "outputs": [],
   "source": [
    "DF1['Borough'] = DF1['Borough'].str.replace('Prospect Lefferts Gardens','Brooklyn')"
   ]
  },
  {
   "cell_type": "code",
   "execution_count": 213,
   "id": "aa07dfbf",
   "metadata": {},
   "outputs": [
    {
     "data": {
      "text/plain": [
       "Borough\n",
       "Brooklyn            1156\n",
       "Queens              1128\n",
       "New York             832\n",
       "Staten Island        524\n",
       "Bronx                468\n",
       "Manhattan            402\n",
       "Howard Beach          39\n",
       "East Queens           25\n",
       "Arverne                6\n",
       "Queens Hills           3\n",
       "Queens South           2\n",
       "Roosevelt Island       1\n",
       "Bronx Manhattan        1\n",
       "Name: count, dtype: int64"
      ]
     },
     "execution_count": 213,
     "metadata": {},
     "output_type": "execute_result"
    }
   ],
   "source": [
    "DF1['Borough'].value_counts(dropna = False)"
   ]
  },
  {
   "cell_type": "code",
   "execution_count": 214,
   "id": "dba37b08",
   "metadata": {},
   "outputs": [],
   "source": [
    "DF1['Borough'] = DF1['Borough'].str.replace('New York','Manhattan')"
   ]
  },
  {
   "cell_type": "code",
   "execution_count": 215,
   "id": "31182024",
   "metadata": {},
   "outputs": [],
   "source": [
    "DF1['Borough'] = DF1['Borough'].str.replace('Howard Beach','Queens')"
   ]
  },
  {
   "cell_type": "code",
   "execution_count": 216,
   "id": "ecbeae80",
   "metadata": {},
   "outputs": [],
   "source": [
    "DF1['Borough'] = DF1['Borough'].str.replace('East Queens','Queens')"
   ]
  },
  {
   "cell_type": "code",
   "execution_count": 217,
   "id": "679893bf",
   "metadata": {},
   "outputs": [],
   "source": [
    "DF1['Borough'] = DF1['Borough'].str.replace('Queensn','Queens')"
   ]
  },
  {
   "cell_type": "code",
   "execution_count": 218,
   "id": "277aa4e4",
   "metadata": {},
   "outputs": [],
   "source": [
    "DF1['Borough'] = DF1['Borough'].str.replace('Arverne','Queens')"
   ]
  },
  {
   "cell_type": "code",
   "execution_count": 219,
   "id": "975f5028",
   "metadata": {},
   "outputs": [],
   "source": [
    "DF1['Borough'] = DF1['Borough'].str.replace('Queens Hills','Queens')"
   ]
  },
  {
   "cell_type": "code",
   "execution_count": 220,
   "id": "12e030d6",
   "metadata": {},
   "outputs": [],
   "source": [
    "DF1['Borough'] = DF1['Borough'].str.replace('Roosevelt Island','Manhattan')"
   ]
  },
  {
   "cell_type": "code",
   "execution_count": 221,
   "id": "8d6e639f",
   "metadata": {},
   "outputs": [],
   "source": [
    "DF1['Borough'] = DF1['Borough'].str.replace('Bronx Manhattan','Bronx')"
   ]
  },
  {
   "cell_type": "code",
   "execution_count": 222,
   "id": "98b28b6e",
   "metadata": {},
   "outputs": [],
   "source": [
    "DF1['Borough'] = DF1['Borough'].str.replace('Ditmas Park','Brooklyn')"
   ]
  },
  {
   "cell_type": "code",
   "execution_count": 832,
   "id": "8bbb703d",
   "metadata": {},
   "outputs": [],
   "source": [
    "DF1['Borough'] = DF1['Borough'].str.replace('Queens South','Queens')"
   ]
  },
  {
   "cell_type": "code",
   "execution_count": 833,
   "id": "659dfd4f",
   "metadata": {},
   "outputs": [
    {
     "data": {
      "text/plain": [
       "Borough\n",
       "Manhattan        1228\n",
       "Queens           1189\n",
       "Brooklyn         1149\n",
       "Staten Island     521\n",
       "Bronx             467\n",
       "Name: count, dtype: int64"
      ]
     },
     "execution_count": 833,
     "metadata": {},
     "output_type": "execute_result"
    }
   ],
   "source": [
    "#5 boroughs only now. \n",
    "\n",
    "DF1['Borough'].value_counts(dropna = False)"
   ]
  },
  {
   "cell_type": "code",
   "execution_count": 226,
   "id": "07cd0c6d",
   "metadata": {
    "scrolled": true
   },
   "outputs": [
    {
     "data": {
      "text/plain": [
       "Index(['MAIN_ADDRESS', 'Property Type', 'PRICE', 'BEDS', 'BATH',\n",
       "       'PROPERTYSQFT', 'STATE', 'Brokerages', 'LATITUDE', 'LATITUDE',\n",
       "       'Borough'],\n",
       "      dtype='object')"
      ]
     },
     "execution_count": 226,
     "metadata": {},
     "output_type": "execute_result"
    }
   ],
   "source": [
    "DF1.columns"
   ]
  },
  {
   "cell_type": "code",
   "execution_count": 227,
   "id": "be295ed6",
   "metadata": {},
   "outputs": [
    {
     "data": {
      "text/html": [
       "<div>\n",
       "<style scoped>\n",
       "    .dataframe tbody tr th:only-of-type {\n",
       "        vertical-align: middle;\n",
       "    }\n",
       "\n",
       "    .dataframe tbody tr th {\n",
       "        vertical-align: top;\n",
       "    }\n",
       "\n",
       "    .dataframe thead th {\n",
       "        text-align: right;\n",
       "    }\n",
       "</style>\n",
       "<table border=\"1\" class=\"dataframe\">\n",
       "  <thead>\n",
       "    <tr style=\"text-align: right;\">\n",
       "      <th></th>\n",
       "      <th>MAIN_ADDRESS</th>\n",
       "      <th>Property Type</th>\n",
       "      <th>PRICE</th>\n",
       "      <th>BEDS</th>\n",
       "      <th>BATH</th>\n",
       "      <th>PROPERTYSQFT</th>\n",
       "      <th>STATE</th>\n",
       "      <th>Brokerages</th>\n",
       "      <th>LATITUDE</th>\n",
       "      <th>LATITUDE</th>\n",
       "      <th>Borough</th>\n",
       "    </tr>\n",
       "  </thead>\n",
       "  <tbody>\n",
       "    <tr>\n",
       "      <th>0</th>\n",
       "      <td>2 E 55th St Unit 803New York, NY 10022</td>\n",
       "      <td>Condo</td>\n",
       "      <td>315000</td>\n",
       "      <td>2</td>\n",
       "      <td>2.0</td>\n",
       "      <td>1400.0</td>\n",
       "      <td>New York, NY 10022</td>\n",
       "      <td>Douglas Elliman</td>\n",
       "      <td>40.761255</td>\n",
       "      <td>40.761255</td>\n",
       "      <td>Manhattan</td>\n",
       "    </tr>\n",
       "    <tr>\n",
       "      <th>1</th>\n",
       "      <td>Central Park Tower Penthouse-217 W 57th New Yo...</td>\n",
       "      <td>Condo</td>\n",
       "      <td>195000000</td>\n",
       "      <td>7</td>\n",
       "      <td>10.0</td>\n",
       "      <td>17545.0</td>\n",
       "      <td>New York, NY 10019</td>\n",
       "      <td>Serhant</td>\n",
       "      <td>40.766393</td>\n",
       "      <td>40.766393</td>\n",
       "      <td>Manhattan</td>\n",
       "    </tr>\n",
       "    <tr>\n",
       "      <th>2</th>\n",
       "      <td>620 Sinclair AveStaten Island, NY 10312</td>\n",
       "      <td>House</td>\n",
       "      <td>260000</td>\n",
       "      <td>4</td>\n",
       "      <td>2.0</td>\n",
       "      <td>2015.0</td>\n",
       "      <td>Staten Island, NY 10312</td>\n",
       "      <td>Sowae Corp</td>\n",
       "      <td>40.541805</td>\n",
       "      <td>40.541805</td>\n",
       "      <td>Staten Island</td>\n",
       "    </tr>\n",
       "    <tr>\n",
       "      <th>3</th>\n",
       "      <td>2 E 55th St Unit 908W33Manhattan, NY 10022</td>\n",
       "      <td>Condo</td>\n",
       "      <td>69000</td>\n",
       "      <td>3</td>\n",
       "      <td>1.0</td>\n",
       "      <td>445.0</td>\n",
       "      <td>Manhattan, NY 10022</td>\n",
       "      <td>COMPASS</td>\n",
       "      <td>40.761398</td>\n",
       "      <td>40.761398</td>\n",
       "      <td>Manhattan</td>\n",
       "    </tr>\n",
       "    <tr>\n",
       "      <th>4</th>\n",
       "      <td>5 E 64th StNew York, NY 10065</td>\n",
       "      <td>Townhouse</td>\n",
       "      <td>55000000</td>\n",
       "      <td>7</td>\n",
       "      <td>2.5</td>\n",
       "      <td>14175.0</td>\n",
       "      <td>New York, NY 10065</td>\n",
       "      <td>Sotheby's International Realty</td>\n",
       "      <td>40.767224</td>\n",
       "      <td>40.767224</td>\n",
       "      <td>Manhattan</td>\n",
       "    </tr>\n",
       "  </tbody>\n",
       "</table>\n",
       "</div>"
      ],
      "text/plain": [
       "                                        MAIN_ADDRESS Property Type      PRICE  \\\n",
       "0             2 E 55th St Unit 803New York, NY 10022        Condo      315000   \n",
       "1  Central Park Tower Penthouse-217 W 57th New Yo...        Condo   195000000   \n",
       "2            620 Sinclair AveStaten Island, NY 10312        House      260000   \n",
       "3         2 E 55th St Unit 908W33Manhattan, NY 10022        Condo       69000   \n",
       "4                      5 E 64th StNew York, NY 10065    Townhouse    55000000   \n",
       "\n",
       "  BEDS  BATH  PROPERTYSQFT                    STATE  \\\n",
       "0    2   2.0        1400.0       New York, NY 10022   \n",
       "1    7  10.0       17545.0       New York, NY 10019   \n",
       "2    4   2.0        2015.0  Staten Island, NY 10312   \n",
       "3    3   1.0         445.0      Manhattan, NY 10022   \n",
       "4    7   2.5       14175.0       New York, NY 10065   \n",
       "\n",
       "                         Brokerages   LATITUDE   LATITUDE        Borough  \n",
       "0                 Douglas Elliman    40.761255  40.761255      Manhattan  \n",
       "1                           Serhant  40.766393  40.766393      Manhattan  \n",
       "2                        Sowae Corp  40.541805  40.541805  Staten Island  \n",
       "3                           COMPASS  40.761398  40.761398      Manhattan  \n",
       "4   Sotheby's International Realty   40.767224  40.767224      Manhattan  "
      ]
     },
     "execution_count": 227,
     "metadata": {},
     "output_type": "execute_result"
    }
   ],
   "source": [
    "DF1.head(5)"
   ]
  },
  {
   "cell_type": "markdown",
   "id": "1faac361",
   "metadata": {},
   "source": [
    "## Replacing State with Zipcode"
   ]
  },
  {
   "cell_type": "code",
   "execution_count": null,
   "id": "7ba4e331",
   "metadata": {},
   "outputs": [],
   "source": [
    "#State information is not necessary here. We know all of these are referring to New York data. \n",
    "# We also have the borough included\n",
    "# The information we want from the 'STATE' column is the zipcode. \n",
    "\n",
    "#Extracting Zipcode out and removing state column"
   ]
  },
  {
   "cell_type": "code",
   "execution_count": 229,
   "id": "cdc85641",
   "metadata": {},
   "outputs": [
    {
     "data": {
      "text/html": [
       "<div>\n",
       "<style scoped>\n",
       "    .dataframe tbody tr th:only-of-type {\n",
       "        vertical-align: middle;\n",
       "    }\n",
       "\n",
       "    .dataframe tbody tr th {\n",
       "        vertical-align: top;\n",
       "    }\n",
       "\n",
       "    .dataframe thead th {\n",
       "        text-align: right;\n",
       "    }\n",
       "</style>\n",
       "<table border=\"1\" class=\"dataframe\">\n",
       "  <thead>\n",
       "    <tr style=\"text-align: right;\">\n",
       "      <th></th>\n",
       "      <th>0</th>\n",
       "      <th>1</th>\n",
       "    </tr>\n",
       "  </thead>\n",
       "  <tbody>\n",
       "    <tr>\n",
       "      <th>0</th>\n",
       "      <td>New York,</td>\n",
       "      <td>10022</td>\n",
       "    </tr>\n",
       "    <tr>\n",
       "      <th>1</th>\n",
       "      <td>New York,</td>\n",
       "      <td>10019</td>\n",
       "    </tr>\n",
       "    <tr>\n",
       "      <th>2</th>\n",
       "      <td>Staten Island,</td>\n",
       "      <td>10312</td>\n",
       "    </tr>\n",
       "    <tr>\n",
       "      <th>3</th>\n",
       "      <td>Manhattan,</td>\n",
       "      <td>10022</td>\n",
       "    </tr>\n",
       "    <tr>\n",
       "      <th>4</th>\n",
       "      <td>New York,</td>\n",
       "      <td>10065</td>\n",
       "    </tr>\n",
       "    <tr>\n",
       "      <th>...</th>\n",
       "      <td>...</td>\n",
       "      <td>...</td>\n",
       "    </tr>\n",
       "    <tr>\n",
       "      <th>4796</th>\n",
       "      <td>Manhattan,</td>\n",
       "      <td>10075</td>\n",
       "    </tr>\n",
       "    <tr>\n",
       "      <th>4797</th>\n",
       "      <td>Rego Park,</td>\n",
       "      <td>11374</td>\n",
       "    </tr>\n",
       "    <tr>\n",
       "      <th>4798</th>\n",
       "      <td>New York,</td>\n",
       "      <td>10011</td>\n",
       "    </tr>\n",
       "    <tr>\n",
       "      <th>4799</th>\n",
       "      <td>Elmhurst,</td>\n",
       "      <td>11373</td>\n",
       "    </tr>\n",
       "    <tr>\n",
       "      <th>4800</th>\n",
       "      <td>Brooklyn,</td>\n",
       "      <td>11224</td>\n",
       "    </tr>\n",
       "  </tbody>\n",
       "</table>\n",
       "<p>4587 rows × 2 columns</p>\n",
       "</div>"
      ],
      "text/plain": [
       "                    0       1\n",
       "0          New York,    10022\n",
       "1          New York,    10019\n",
       "2     Staten Island,    10312\n",
       "3         Manhattan,    10022\n",
       "4          New York,    10065\n",
       "...               ...     ...\n",
       "4796      Manhattan,    10075\n",
       "4797      Rego Park,    11374\n",
       "4798       New York,    10011\n",
       "4799       Elmhurst,    11373\n",
       "4800       Brooklyn,    11224\n",
       "\n",
       "[4587 rows x 2 columns]"
      ]
     },
     "execution_count": 229,
     "metadata": {},
     "output_type": "execute_result"
    }
   ],
   "source": [
    "DF1['STATE'].str.split('NY',n=1, expand=True)"
   ]
  },
  {
   "cell_type": "code",
   "execution_count": 230,
   "id": "d3c1d17c",
   "metadata": {},
   "outputs": [
    {
     "data": {
      "text/html": [
       "<div>\n",
       "<style scoped>\n",
       "    .dataframe tbody tr th:only-of-type {\n",
       "        vertical-align: middle;\n",
       "    }\n",
       "\n",
       "    .dataframe tbody tr th {\n",
       "        vertical-align: top;\n",
       "    }\n",
       "\n",
       "    .dataframe thead th {\n",
       "        text-align: right;\n",
       "    }\n",
       "</style>\n",
       "<table border=\"1\" class=\"dataframe\">\n",
       "  <thead>\n",
       "    <tr style=\"text-align: right;\">\n",
       "      <th></th>\n",
       "      <th>MAIN_ADDRESS</th>\n",
       "      <th>Property Type</th>\n",
       "      <th>PRICE</th>\n",
       "      <th>BEDS</th>\n",
       "      <th>BATH</th>\n",
       "      <th>PROPERTYSQFT</th>\n",
       "      <th>STATE</th>\n",
       "      <th>Brokerages</th>\n",
       "      <th>LATITUDE</th>\n",
       "      <th>LATITUDE</th>\n",
       "      <th>Borough</th>\n",
       "      <th>Delete</th>\n",
       "      <th>Zipcode</th>\n",
       "    </tr>\n",
       "  </thead>\n",
       "  <tbody>\n",
       "    <tr>\n",
       "      <th>0</th>\n",
       "      <td>2 E 55th St Unit 803New York, NY 10022</td>\n",
       "      <td>Condo</td>\n",
       "      <td>315000</td>\n",
       "      <td>2</td>\n",
       "      <td>2.0</td>\n",
       "      <td>1400.000000</td>\n",
       "      <td>New York, NY 10022</td>\n",
       "      <td>Douglas Elliman</td>\n",
       "      <td>40.761255</td>\n",
       "      <td>40.761255</td>\n",
       "      <td>Manhattan</td>\n",
       "      <td>New York,</td>\n",
       "      <td>10022</td>\n",
       "    </tr>\n",
       "    <tr>\n",
       "      <th>1</th>\n",
       "      <td>Central Park Tower Penthouse-217 W 57th New Yo...</td>\n",
       "      <td>Condo</td>\n",
       "      <td>195000000</td>\n",
       "      <td>7</td>\n",
       "      <td>10.0</td>\n",
       "      <td>17545.000000</td>\n",
       "      <td>New York, NY 10019</td>\n",
       "      <td>Serhant</td>\n",
       "      <td>40.766393</td>\n",
       "      <td>40.766393</td>\n",
       "      <td>Manhattan</td>\n",
       "      <td>New York,</td>\n",
       "      <td>10019</td>\n",
       "    </tr>\n",
       "    <tr>\n",
       "      <th>2</th>\n",
       "      <td>620 Sinclair AveStaten Island, NY 10312</td>\n",
       "      <td>House</td>\n",
       "      <td>260000</td>\n",
       "      <td>4</td>\n",
       "      <td>2.0</td>\n",
       "      <td>2015.000000</td>\n",
       "      <td>Staten Island, NY 10312</td>\n",
       "      <td>Sowae Corp</td>\n",
       "      <td>40.541805</td>\n",
       "      <td>40.541805</td>\n",
       "      <td>Staten Island</td>\n",
       "      <td>Staten Island,</td>\n",
       "      <td>10312</td>\n",
       "    </tr>\n",
       "    <tr>\n",
       "      <th>3</th>\n",
       "      <td>2 E 55th St Unit 908W33Manhattan, NY 10022</td>\n",
       "      <td>Condo</td>\n",
       "      <td>69000</td>\n",
       "      <td>3</td>\n",
       "      <td>1.0</td>\n",
       "      <td>445.000000</td>\n",
       "      <td>Manhattan, NY 10022</td>\n",
       "      <td>COMPASS</td>\n",
       "      <td>40.761398</td>\n",
       "      <td>40.761398</td>\n",
       "      <td>Manhattan</td>\n",
       "      <td>Manhattan,</td>\n",
       "      <td>10022</td>\n",
       "    </tr>\n",
       "    <tr>\n",
       "      <th>4</th>\n",
       "      <td>5 E 64th StNew York, NY 10065</td>\n",
       "      <td>Townhouse</td>\n",
       "      <td>55000000</td>\n",
       "      <td>7</td>\n",
       "      <td>2.5</td>\n",
       "      <td>14175.000000</td>\n",
       "      <td>New York, NY 10065</td>\n",
       "      <td>Sotheby's International Realty</td>\n",
       "      <td>40.767224</td>\n",
       "      <td>40.767224</td>\n",
       "      <td>Manhattan</td>\n",
       "      <td>New York,</td>\n",
       "      <td>10065</td>\n",
       "    </tr>\n",
       "    <tr>\n",
       "      <th>...</th>\n",
       "      <td>...</td>\n",
       "      <td>...</td>\n",
       "      <td>...</td>\n",
       "      <td>...</td>\n",
       "      <td>...</td>\n",
       "      <td>...</td>\n",
       "      <td>...</td>\n",
       "      <td>...</td>\n",
       "      <td>...</td>\n",
       "      <td>...</td>\n",
       "      <td>...</td>\n",
       "      <td>...</td>\n",
       "      <td>...</td>\n",
       "    </tr>\n",
       "    <tr>\n",
       "      <th>4796</th>\n",
       "      <td>222 E 80th St Apt 3AManhattan, NY 10075</td>\n",
       "      <td>Co-op</td>\n",
       "      <td>599000</td>\n",
       "      <td>1</td>\n",
       "      <td>1.0</td>\n",
       "      <td>2184.207862</td>\n",
       "      <td>Manhattan, NY 10075</td>\n",
       "      <td>COMPASS</td>\n",
       "      <td>40.774350</td>\n",
       "      <td>40.774350</td>\n",
       "      <td>Manhattan</td>\n",
       "      <td>Manhattan,</td>\n",
       "      <td>10075</td>\n",
       "    </tr>\n",
       "    <tr>\n",
       "      <th>4797</th>\n",
       "      <td>97-40 62 Dr Unit LgRego Park, NY 11374</td>\n",
       "      <td>Co-op</td>\n",
       "      <td>245000</td>\n",
       "      <td>1</td>\n",
       "      <td>1.0</td>\n",
       "      <td>2184.207862</td>\n",
       "      <td>Rego Park, NY 11374</td>\n",
       "      <td>Mjr Real Estate Llc</td>\n",
       "      <td>40.732538</td>\n",
       "      <td>40.732538</td>\n",
       "      <td>Queens</td>\n",
       "      <td>Rego Park,</td>\n",
       "      <td>11374</td>\n",
       "    </tr>\n",
       "    <tr>\n",
       "      <th>4798</th>\n",
       "      <td>427 W 21st St Unit GardenNew York, NY 10011</td>\n",
       "      <td>Co-op</td>\n",
       "      <td>1275000</td>\n",
       "      <td>1</td>\n",
       "      <td>1.0</td>\n",
       "      <td>2184.207862</td>\n",
       "      <td>New York, NY 10011</td>\n",
       "      <td>Douglas Elliman</td>\n",
       "      <td>40.745882</td>\n",
       "      <td>40.745882</td>\n",
       "      <td>Manhattan</td>\n",
       "      <td>New York,</td>\n",
       "      <td>10011</td>\n",
       "    </tr>\n",
       "    <tr>\n",
       "      <th>4799</th>\n",
       "      <td>91-23 Corona Ave Unit 4GElmhurst, NY 11373</td>\n",
       "      <td>Condo</td>\n",
       "      <td>598125</td>\n",
       "      <td>2</td>\n",
       "      <td>1.0</td>\n",
       "      <td>655.000000</td>\n",
       "      <td>Elmhurst, NY 11373</td>\n",
       "      <td>E Realty International Corp</td>\n",
       "      <td>40.742770</td>\n",
       "      <td>40.742770</td>\n",
       "      <td>Queens</td>\n",
       "      <td>Elmhurst,</td>\n",
       "      <td>11373</td>\n",
       "    </tr>\n",
       "    <tr>\n",
       "      <th>4800</th>\n",
       "      <td>460 Neptune Ave Apt 14OBrooklyn, NY 11224</td>\n",
       "      <td>Co-op</td>\n",
       "      <td>349000</td>\n",
       "      <td>1</td>\n",
       "      <td>1.0</td>\n",
       "      <td>750.000000</td>\n",
       "      <td>Brooklyn, NY 11224</td>\n",
       "      <td>Nyc Realty Brokers Llc</td>\n",
       "      <td>40.579147</td>\n",
       "      <td>40.579147</td>\n",
       "      <td>Brooklyn</td>\n",
       "      <td>Brooklyn,</td>\n",
       "      <td>11224</td>\n",
       "    </tr>\n",
       "  </tbody>\n",
       "</table>\n",
       "<p>4587 rows × 13 columns</p>\n",
       "</div>"
      ],
      "text/plain": [
       "                                           MAIN_ADDRESS Property Type  \\\n",
       "0                2 E 55th St Unit 803New York, NY 10022        Condo    \n",
       "1     Central Park Tower Penthouse-217 W 57th New Yo...        Condo    \n",
       "2               620 Sinclair AveStaten Island, NY 10312        House    \n",
       "3            2 E 55th St Unit 908W33Manhattan, NY 10022        Condo    \n",
       "4                         5 E 64th StNew York, NY 10065    Townhouse    \n",
       "...                                                 ...           ...   \n",
       "4796            222 E 80th St Apt 3AManhattan, NY 10075        Co-op    \n",
       "4797             97-40 62 Dr Unit LgRego Park, NY 11374        Co-op    \n",
       "4798        427 W 21st St Unit GardenNew York, NY 10011        Co-op    \n",
       "4799         91-23 Corona Ave Unit 4GElmhurst, NY 11373        Condo    \n",
       "4800          460 Neptune Ave Apt 14OBrooklyn, NY 11224        Co-op    \n",
       "\n",
       "          PRICE BEDS  BATH  PROPERTYSQFT                    STATE  \\\n",
       "0        315000    2   2.0   1400.000000       New York, NY 10022   \n",
       "1     195000000    7  10.0  17545.000000       New York, NY 10019   \n",
       "2        260000    4   2.0   2015.000000  Staten Island, NY 10312   \n",
       "3         69000    3   1.0    445.000000      Manhattan, NY 10022   \n",
       "4      55000000    7   2.5  14175.000000       New York, NY 10065   \n",
       "...         ...  ...   ...           ...                      ...   \n",
       "4796     599000    1   1.0   2184.207862      Manhattan, NY 10075   \n",
       "4797     245000    1   1.0   2184.207862      Rego Park, NY 11374   \n",
       "4798    1275000    1   1.0   2184.207862       New York, NY 10011   \n",
       "4799     598125    2   1.0    655.000000       Elmhurst, NY 11373   \n",
       "4800     349000    1   1.0    750.000000       Brooklyn, NY 11224   \n",
       "\n",
       "                            Brokerages   LATITUDE   LATITUDE        Borough  \\\n",
       "0                    Douglas Elliman    40.761255  40.761255      Manhattan   \n",
       "1                              Serhant  40.766393  40.766393      Manhattan   \n",
       "2                           Sowae Corp  40.541805  40.541805  Staten Island   \n",
       "3                              COMPASS  40.761398  40.761398      Manhattan   \n",
       "4      Sotheby's International Realty   40.767224  40.767224      Manhattan   \n",
       "...                                ...        ...        ...            ...   \n",
       "4796                           COMPASS  40.774350  40.774350      Manhattan   \n",
       "4797               Mjr Real Estate Llc  40.732538  40.732538         Queens   \n",
       "4798                  Douglas Elliman   40.745882  40.745882      Manhattan   \n",
       "4799       E Realty International Corp  40.742770  40.742770         Queens   \n",
       "4800            Nyc Realty Brokers Llc  40.579147  40.579147       Brooklyn   \n",
       "\n",
       "               Delete Zipcode  \n",
       "0          New York,    10022  \n",
       "1          New York,    10019  \n",
       "2     Staten Island,    10312  \n",
       "3         Manhattan,    10022  \n",
       "4          New York,    10065  \n",
       "...               ...     ...  \n",
       "4796      Manhattan,    10075  \n",
       "4797      Rego Park,    11374  \n",
       "4798       New York,    10011  \n",
       "4799       Elmhurst,    11373  \n",
       "4800       Brooklyn,    11224  \n",
       "\n",
       "[4587 rows x 13 columns]"
      ]
     },
     "execution_count": 230,
     "metadata": {},
     "output_type": "execute_result"
    }
   ],
   "source": [
    "DF1[['Delete','Zipcode']] = DF1['STATE'].str.split('NY',n=1, expand=True)\n",
    "DF1"
   ]
  },
  {
   "cell_type": "code",
   "execution_count": 231,
   "id": "25f8ba01",
   "metadata": {},
   "outputs": [],
   "source": [
    "DF1 = DF1.drop(columns=['Delete'])"
   ]
  },
  {
   "cell_type": "code",
   "execution_count": 233,
   "id": "c0121cb2",
   "metadata": {},
   "outputs": [],
   "source": [
    "DF1 = DF1.drop(columns=['STATE'])"
   ]
  },
  {
   "cell_type": "code",
   "execution_count": 234,
   "id": "a44be5b3",
   "metadata": {},
   "outputs": [
    {
     "data": {
      "text/html": [
       "<div>\n",
       "<style scoped>\n",
       "    .dataframe tbody tr th:only-of-type {\n",
       "        vertical-align: middle;\n",
       "    }\n",
       "\n",
       "    .dataframe tbody tr th {\n",
       "        vertical-align: top;\n",
       "    }\n",
       "\n",
       "    .dataframe thead th {\n",
       "        text-align: right;\n",
       "    }\n",
       "</style>\n",
       "<table border=\"1\" class=\"dataframe\">\n",
       "  <thead>\n",
       "    <tr style=\"text-align: right;\">\n",
       "      <th></th>\n",
       "      <th>MAIN_ADDRESS</th>\n",
       "      <th>Property Type</th>\n",
       "      <th>PRICE</th>\n",
       "      <th>BEDS</th>\n",
       "      <th>BATH</th>\n",
       "      <th>PROPERTYSQFT</th>\n",
       "      <th>Brokerages</th>\n",
       "      <th>LATITUDE</th>\n",
       "      <th>LATITUDE</th>\n",
       "      <th>Borough</th>\n",
       "      <th>Zipcode</th>\n",
       "    </tr>\n",
       "  </thead>\n",
       "  <tbody>\n",
       "    <tr>\n",
       "      <th>0</th>\n",
       "      <td>2 E 55th St Unit 803New York, NY 10022</td>\n",
       "      <td>Condo</td>\n",
       "      <td>315000</td>\n",
       "      <td>2</td>\n",
       "      <td>2.0</td>\n",
       "      <td>1400.0</td>\n",
       "      <td>Douglas Elliman</td>\n",
       "      <td>40.761255</td>\n",
       "      <td>40.761255</td>\n",
       "      <td>Manhattan</td>\n",
       "      <td>10022</td>\n",
       "    </tr>\n",
       "  </tbody>\n",
       "</table>\n",
       "</div>"
      ],
      "text/plain": [
       "                             MAIN_ADDRESS Property Type   PRICE BEDS BATH  \\\n",
       "0  2 E 55th St Unit 803New York, NY 10022        Condo   315000    2  2.0   \n",
       "\n",
       "   PROPERTYSQFT          Brokerages   LATITUDE   LATITUDE    Borough Zipcode  \n",
       "0        1400.0   Douglas Elliman    40.761255  40.761255  Manhattan   10022  "
      ]
     },
     "execution_count": 234,
     "metadata": {},
     "output_type": "execute_result"
    }
   ],
   "source": [
    "DF1.head(1)"
   ]
  },
  {
   "cell_type": "markdown",
   "id": "0506b984",
   "metadata": {},
   "source": [
    "## Inputting Neighborhoods to match Zipcodes"
   ]
  },
  {
   "cell_type": "code",
   "execution_count": 413,
   "id": "a5f09096",
   "metadata": {},
   "outputs": [
    {
     "data": {
      "text/html": [
       "<div>\n",
       "<style scoped>\n",
       "    .dataframe tbody tr th:only-of-type {\n",
       "        vertical-align: middle;\n",
       "    }\n",
       "\n",
       "    .dataframe tbody tr th {\n",
       "        vertical-align: top;\n",
       "    }\n",
       "\n",
       "    .dataframe thead th {\n",
       "        text-align: right;\n",
       "    }\n",
       "</style>\n",
       "<table border=\"1\" class=\"dataframe\">\n",
       "  <thead>\n",
       "    <tr style=\"text-align: right;\">\n",
       "      <th></th>\n",
       "      <th>MAIN_ADDRESS</th>\n",
       "      <th>Property Type</th>\n",
       "      <th>PRICE</th>\n",
       "      <th>BEDS</th>\n",
       "      <th>BATH</th>\n",
       "      <th>PROPERTYSQFT</th>\n",
       "      <th>Brokerages</th>\n",
       "      <th>LATITUDE</th>\n",
       "      <th>LATITUDE</th>\n",
       "      <th>Borough</th>\n",
       "      <th>Zipcode</th>\n",
       "    </tr>\n",
       "  </thead>\n",
       "  <tbody>\n",
       "    <tr>\n",
       "      <th>0</th>\n",
       "      <td>2 E 55th St Unit 803New York, NY 10022</td>\n",
       "      <td>Condo</td>\n",
       "      <td>315000</td>\n",
       "      <td>2</td>\n",
       "      <td>2.0</td>\n",
       "      <td>1400.0</td>\n",
       "      <td>Douglas Elliman</td>\n",
       "      <td>40.761255</td>\n",
       "      <td>40.761255</td>\n",
       "      <td>Manhattan</td>\n",
       "      <td>10022</td>\n",
       "    </tr>\n",
       "  </tbody>\n",
       "</table>\n",
       "</div>"
      ],
      "text/plain": [
       "                             MAIN_ADDRESS Property Type   PRICE BEDS BATH  \\\n",
       "0  2 E 55th St Unit 803New York, NY 10022        Condo   315000    2  2.0   \n",
       "\n",
       "   PROPERTYSQFT          Brokerages   LATITUDE   LATITUDE    Borough Zipcode  \n",
       "0        1400.0   Douglas Elliman    40.761255  40.761255  Manhattan   10022  "
      ]
     },
     "execution_count": 413,
     "metadata": {},
     "output_type": "execute_result"
    }
   ],
   "source": [
    "#Checking to see Columns. \n",
    "\n",
    "#Goal is to add a column to identify what Neighborhood within NYC this is within\n",
    "\n",
    "DF1.head(1)"
   ]
  },
  {
   "cell_type": "code",
   "execution_count": 512,
   "id": "ffed132f",
   "metadata": {
    "scrolled": true
   },
   "outputs": [
    {
     "name": "stderr",
     "output_type": "stream",
     "text": [
      "/var/folders/yj/v30db1v90zs0p0pvttp796cm0000gp/T/ipykernel_4917/4205792331.py:1: FutureWarning: Setting an item of incompatible dtype is deprecated and will raise in a future error of pandas. Value 'Gramercy Park' has dtype incompatible with float64, please explicitly cast to a compatible dtype first.\n",
      "  DF1.loc[DF1.Zipcode == 10022, \"Neighborhood\"] = 'Gramercy Park'\n"
     ]
    }
   ],
   "source": [
    "#Problem 1 - Neighborhood column would not show up as 'Gramercy Park'\n",
    "#Error shows the data type is wrong\n",
    "\n",
    "DF1.loc[DF1.Zipcode == 10022, \"Neighborhood\"] = 'Gramercy Park'"
   ]
  },
  {
   "cell_type": "code",
   "execution_count": 527,
   "id": "6f54c31a",
   "metadata": {},
   "outputs": [],
   "source": [
    "#Change the Zipcode column's data type to an integer rather than a object\n",
    "\n",
    "DF1['Zipcode'] = DF1['Zipcode'].astype(int)"
   ]
  },
  {
   "cell_type": "code",
   "execution_count": 528,
   "id": "1dc9d621",
   "metadata": {},
   "outputs": [
    {
     "data": {
      "text/plain": [
       "MAIN_ADDRESS      object\n",
       "Property Type     object\n",
       "PRICE              int64\n",
       "BEDS              object\n",
       "BATH              object\n",
       "PROPERTYSQFT     float64\n",
       "Brokerages        object\n",
       "LATITUDE         float64\n",
       "LATITUDE         float64\n",
       "Borough           object\n",
       "Zipcode            int64\n",
       "Neighborhood      object\n",
       "dtype: object"
      ]
     },
     "execution_count": 528,
     "metadata": {},
     "output_type": "execute_result"
    }
   ],
   "source": [
    "#Checking data types. Specifically Zipcode is now int64\n",
    "\n",
    "DF1.dtypes"
   ]
  },
  {
   "cell_type": "code",
   "execution_count": 530,
   "id": "35ab2c40",
   "metadata": {},
   "outputs": [],
   "source": [
    "#Testing on row 0 's Neighborhood to see if it is working.\n",
    "#Success its now working when Zipcode is int64 and Neihgborhood is Object\n",
    "\n",
    "DF1.loc[DF1.Zipcode == 10022, \"Neighborhood\"] = 'Gramercy Park'"
   ]
  },
  {
   "cell_type": "code",
   "execution_count": 532,
   "id": "8663963f",
   "metadata": {},
   "outputs": [
    {
     "data": {
      "text/html": [
       "<div>\n",
       "<style scoped>\n",
       "    .dataframe tbody tr th:only-of-type {\n",
       "        vertical-align: middle;\n",
       "    }\n",
       "\n",
       "    .dataframe tbody tr th {\n",
       "        vertical-align: top;\n",
       "    }\n",
       "\n",
       "    .dataframe thead th {\n",
       "        text-align: right;\n",
       "    }\n",
       "</style>\n",
       "<table border=\"1\" class=\"dataframe\">\n",
       "  <thead>\n",
       "    <tr style=\"text-align: right;\">\n",
       "      <th></th>\n",
       "      <th>MAIN_ADDRESS</th>\n",
       "      <th>Property Type</th>\n",
       "      <th>PRICE</th>\n",
       "      <th>BEDS</th>\n",
       "      <th>BATH</th>\n",
       "      <th>PROPERTYSQFT</th>\n",
       "      <th>Brokerages</th>\n",
       "      <th>LATITUDE</th>\n",
       "      <th>LATITUDE</th>\n",
       "      <th>Borough</th>\n",
       "      <th>Zipcode</th>\n",
       "      <th>Neighborhood</th>\n",
       "    </tr>\n",
       "  </thead>\n",
       "  <tbody>\n",
       "    <tr>\n",
       "      <th>0</th>\n",
       "      <td>2 E 55th St Unit 803New York, NY 10022</td>\n",
       "      <td>Condo</td>\n",
       "      <td>315000</td>\n",
       "      <td>2</td>\n",
       "      <td>2.0</td>\n",
       "      <td>1400.0</td>\n",
       "      <td>Douglas Elliman</td>\n",
       "      <td>40.761255</td>\n",
       "      <td>40.761255</td>\n",
       "      <td>Manhattan</td>\n",
       "      <td>10022</td>\n",
       "      <td>Gramercy Park</td>\n",
       "    </tr>\n",
       "  </tbody>\n",
       "</table>\n",
       "</div>"
      ],
      "text/plain": [
       "                             MAIN_ADDRESS Property Type   PRICE BEDS BATH  \\\n",
       "0  2 E 55th St Unit 803New York, NY 10022        Condo   315000    2  2.0   \n",
       "\n",
       "   PROPERTYSQFT          Brokerages   LATITUDE   LATITUDE    Borough  Zipcode  \\\n",
       "0        1400.0   Douglas Elliman    40.761255  40.761255  Manhattan    10022   \n",
       "\n",
       "    Neighborhood  \n",
       "0  Gramercy Park  "
      ]
     },
     "execution_count": 532,
     "metadata": {},
     "output_type": "execute_result"
    }
   ],
   "source": [
    "DF1.head(1)"
   ]
  },
  {
   "cell_type": "code",
   "execution_count": null,
   "id": "20282020",
   "metadata": {},
   "outputs": [],
   "source": [
    "#Adding Zipcodes that will demonstrate the Neighborhood,\n",
    "#Result will be a filled out Neighborhood column based on the row's zipcode."
   ]
  },
  {
   "cell_type": "code",
   "execution_count": 533,
   "id": "0e8d0447",
   "metadata": {},
   "outputs": [],
   "source": [
    "#Central Bronx Zipcodes"
   ]
  },
  {
   "cell_type": "code",
   "execution_count": 534,
   "id": "0dc76f7f",
   "metadata": {},
   "outputs": [],
   "source": [
    "DF1.loc[DF1[\"Zipcode\"] == 10453, 'Neighborhood'] = 'Central Bronx'"
   ]
  },
  {
   "cell_type": "code",
   "execution_count": 535,
   "id": "77d95d46",
   "metadata": {},
   "outputs": [],
   "source": [
    "DF1.loc[DF1[\"Zipcode\"] == 10453, 'Neighborhood'] = 'Central Bronx'"
   ]
  },
  {
   "cell_type": "code",
   "execution_count": 536,
   "id": "ec7784be",
   "metadata": {},
   "outputs": [],
   "source": [
    "DF1.loc[DF1['Zipcode'] ==10457, 'Neighborhood'] = 'Central Bronx'"
   ]
  },
  {
   "cell_type": "code",
   "execution_count": 537,
   "id": "fec57385",
   "metadata": {},
   "outputs": [],
   "source": [
    "DF1.loc[DF1['Zipcode'] ==10460, 'Neighborhood'] = 'Central Bronx'"
   ]
  },
  {
   "cell_type": "code",
   "execution_count": 538,
   "id": "1af2340d",
   "metadata": {},
   "outputs": [],
   "source": [
    "#Fordham Zipcodes"
   ]
  },
  {
   "cell_type": "code",
   "execution_count": 539,
   "id": "9ee3560f",
   "metadata": {},
   "outputs": [],
   "source": [
    "DF1.loc[DF1['Zipcode'] ==10458, 'Neighborhood'] = 'Fordham'"
   ]
  },
  {
   "cell_type": "code",
   "execution_count": 540,
   "id": "50dd4da8",
   "metadata": {},
   "outputs": [],
   "source": [
    "DF1.loc[DF1['Zipcode'] ==10467, 'Neighborhood'] = 'Fordham'"
   ]
  },
  {
   "cell_type": "code",
   "execution_count": 541,
   "id": "08461be1",
   "metadata": {},
   "outputs": [],
   "source": [
    "DF1.loc[DF1['Zipcode'] ==10468, 'Neighborhood'] = 'Fordham'"
   ]
  },
  {
   "cell_type": "code",
   "execution_count": 542,
   "id": "10d914b6",
   "metadata": {},
   "outputs": [],
   "source": [
    "#High Bridge Zipcodes"
   ]
  },
  {
   "cell_type": "code",
   "execution_count": 543,
   "id": "8c53f3c3",
   "metadata": {},
   "outputs": [],
   "source": [
    "DF1.loc[DF1['Zipcode'] ==10451, 'Neighborhood'] = 'High Bridge'"
   ]
  },
  {
   "cell_type": "code",
   "execution_count": 544,
   "id": "054748f7",
   "metadata": {},
   "outputs": [],
   "source": [
    "DF1.loc[DF1['Zipcode'] ==10452, 'Neighborhood'] = 'High Bridge'"
   ]
  },
  {
   "cell_type": "code",
   "execution_count": 545,
   "id": "52901367",
   "metadata": {},
   "outputs": [],
   "source": [
    "DF1.loc[DF1['Zipcode'] ==10456, 'Neighborhood'] = 'High Bridge'"
   ]
  },
  {
   "cell_type": "code",
   "execution_count": 546,
   "id": "d1656758",
   "metadata": {},
   "outputs": [],
   "source": [
    "#Hunts Point Zipcodes"
   ]
  },
  {
   "cell_type": "code",
   "execution_count": 547,
   "id": "1474f71d",
   "metadata": {},
   "outputs": [],
   "source": [
    "DF1.loc[DF1['Zipcode'] ==10454, 'Neighborhood'] = 'Hunts Point'"
   ]
  },
  {
   "cell_type": "code",
   "execution_count": 548,
   "id": "c4bf14f8",
   "metadata": {},
   "outputs": [],
   "source": [
    "DF1.loc[DF1['Zipcode'] ==10455, 'Neighborhood'] = 'Hunts Point'"
   ]
  },
  {
   "cell_type": "code",
   "execution_count": 549,
   "id": "ddea3c0e",
   "metadata": {},
   "outputs": [],
   "source": [
    "DF1.loc[DF1['Zipcode'] ==10459, 'Neighborhood'] = 'Hunts Point'"
   ]
  },
  {
   "cell_type": "code",
   "execution_count": 550,
   "id": "b923756d",
   "metadata": {},
   "outputs": [],
   "source": [
    "DF1.loc[DF1['Zipcode'] ==10474, 'Neighborhood'] = 'Hunts Point'"
   ]
  },
  {
   "cell_type": "code",
   "execution_count": 551,
   "id": "72217b26",
   "metadata": {},
   "outputs": [],
   "source": [
    "#Riverdale Zipcodes"
   ]
  },
  {
   "cell_type": "code",
   "execution_count": 552,
   "id": "deebaaa1",
   "metadata": {},
   "outputs": [],
   "source": [
    "DF1.loc[DF1['Zipcode'] ==10463, 'Neighborhood'] = 'Riverdale'"
   ]
  },
  {
   "cell_type": "code",
   "execution_count": 553,
   "id": "ab04502b",
   "metadata": {},
   "outputs": [],
   "source": [
    "DF1.loc[DF1['Zipcode'] ==10471, 'Neighborhood'] = 'Riverdale'"
   ]
  },
  {
   "cell_type": "code",
   "execution_count": 554,
   "id": "fed44d8e",
   "metadata": {},
   "outputs": [],
   "source": [
    "#Northeast Bronx Zipcodes"
   ]
  },
  {
   "cell_type": "code",
   "execution_count": 555,
   "id": "cd028515",
   "metadata": {},
   "outputs": [],
   "source": [
    "DF1.loc[DF1['Zipcode'] ==10466, 'Neighborhood'] = 'Northeast Bronx'"
   ]
  },
  {
   "cell_type": "code",
   "execution_count": 556,
   "id": "d8744641",
   "metadata": {},
   "outputs": [],
   "source": [
    "DF1.loc[DF1['Zipcode'] ==10469, 'Neighborhood'] = 'Northeast Bronx'"
   ]
  },
  {
   "cell_type": "code",
   "execution_count": 557,
   "id": "1d3b120d",
   "metadata": {},
   "outputs": [],
   "source": [
    "DF1.loc[DF1['Zipcode'] ==10470, 'Neighborhood'] = 'Northeast Bronx'"
   ]
  },
  {
   "cell_type": "code",
   "execution_count": 558,
   "id": "e1ae2ce9",
   "metadata": {},
   "outputs": [],
   "source": [
    "DF1.loc[DF1['Zipcode'] ==10475, 'Neighborhood'] = 'Northeast Bronx'"
   ]
  },
  {
   "cell_type": "code",
   "execution_count": 559,
   "id": "a03a30da",
   "metadata": {},
   "outputs": [],
   "source": [
    "#Southeast Bronx Zipcodes"
   ]
  },
  {
   "cell_type": "code",
   "execution_count": 560,
   "id": "0094be66",
   "metadata": {},
   "outputs": [],
   "source": [
    "DF1.loc[DF1['Zipcode'] ==10461, 'Neighborhood'] = 'Southeast Bronx'"
   ]
  },
  {
   "cell_type": "code",
   "execution_count": 561,
   "id": "d6ab8523",
   "metadata": {},
   "outputs": [],
   "source": [
    "DF1.loc[DF1['Zipcode'] ==10462, 'Neighborhood'] = 'Southeast Bronx'"
   ]
  },
  {
   "cell_type": "code",
   "execution_count": 562,
   "id": "d89d1313",
   "metadata": {},
   "outputs": [],
   "source": [
    "DF1.loc[DF1['Zipcode'] ==10464, 'Neighborhood'] = 'Southeast Bronx'"
   ]
  },
  {
   "cell_type": "code",
   "execution_count": 563,
   "id": "0bd475a5",
   "metadata": {},
   "outputs": [],
   "source": [
    "DF1.loc[DF1['Zipcode'] ==10465, 'Neighborhood'] = 'Southeast Bronx'"
   ]
  },
  {
   "cell_type": "code",
   "execution_count": 564,
   "id": "ef96f97e",
   "metadata": {},
   "outputs": [],
   "source": [
    "DF1.loc[DF1['Zipcode'] ==10472, 'Neighborhood'] = 'Southeast Bronx'"
   ]
  },
  {
   "cell_type": "code",
   "execution_count": 565,
   "id": "8ef481be",
   "metadata": {},
   "outputs": [],
   "source": [
    "DF1.loc[DF1['Zipcode'] ==10473, 'Neighborhood'] = 'Southeast Bronx'"
   ]
  },
  {
   "cell_type": "code",
   "execution_count": 567,
   "id": "336a7cf1",
   "metadata": {},
   "outputs": [],
   "source": [
    "#Central Brooklyn Zipcodes"
   ]
  },
  {
   "cell_type": "code",
   "execution_count": 568,
   "id": "5e5701d4",
   "metadata": {},
   "outputs": [],
   "source": [
    "DF1.loc[DF1['Zipcode'] ==11212, 'Neighborhood'] = 'Central Brooklyn'"
   ]
  },
  {
   "cell_type": "code",
   "execution_count": 569,
   "id": "5bf1e559",
   "metadata": {},
   "outputs": [],
   "source": [
    "DF1.loc[DF1['Zipcode'] ==11213, 'Neighborhood'] = 'Central Brooklyn'"
   ]
  },
  {
   "cell_type": "code",
   "execution_count": 570,
   "id": "9e54351e",
   "metadata": {},
   "outputs": [],
   "source": [
    "DF1.loc[DF1['Zipcode'] ==11216, 'Neighborhood'] = 'Central Brooklyn'"
   ]
  },
  {
   "cell_type": "code",
   "execution_count": 571,
   "id": "2d9d9219",
   "metadata": {},
   "outputs": [],
   "source": [
    "DF1.loc[DF1['Zipcode'] ==11233, 'Neighborhood'] = 'Central Brooklyn'"
   ]
  },
  {
   "cell_type": "code",
   "execution_count": 572,
   "id": "d7383542",
   "metadata": {},
   "outputs": [],
   "source": [
    "DF1.loc[DF1['Zipcode'] ==11238, 'Neighborhood'] = 'Central Brooklyn'"
   ]
  },
  {
   "cell_type": "code",
   "execution_count": 573,
   "id": "e2f19dcd",
   "metadata": {},
   "outputs": [],
   "source": [
    "#Southwest Brooklyn Zipcodes"
   ]
  },
  {
   "cell_type": "code",
   "execution_count": 574,
   "id": "b2eac5fb",
   "metadata": {},
   "outputs": [],
   "source": [
    "DF1.loc[DF1['Zipcode'] ==11209, 'Neighborhood'] = 'Southwest Brooklyn'"
   ]
  },
  {
   "cell_type": "code",
   "execution_count": 575,
   "id": "9f59f324",
   "metadata": {},
   "outputs": [],
   "source": [
    "DF1.loc[DF1['Zipcode'] ==11214, 'Neighborhood'] = 'Southwest Brooklyn'"
   ]
  },
  {
   "cell_type": "code",
   "execution_count": 576,
   "id": "08554770",
   "metadata": {},
   "outputs": [],
   "source": [
    "DF1.loc[DF1['Zipcode'] ==11228, 'Neighborhood'] = 'Southwest Brooklyn'"
   ]
  },
  {
   "cell_type": "code",
   "execution_count": 577,
   "id": "ca8448e8",
   "metadata": {},
   "outputs": [],
   "source": [
    "#Borough Park Zipcodes"
   ]
  },
  {
   "cell_type": "code",
   "execution_count": 578,
   "id": "69000cd4",
   "metadata": {},
   "outputs": [],
   "source": [
    "DF1.loc[DF1['Zipcode'] ==11204, 'Neighborhood'] = 'Borough Park'"
   ]
  },
  {
   "cell_type": "code",
   "execution_count": 579,
   "id": "064dfff9",
   "metadata": {},
   "outputs": [],
   "source": [
    "DF1.loc[DF1['Zipcode'] ==11218, 'Neighborhood'] = 'Borough Park'"
   ]
  },
  {
   "cell_type": "code",
   "execution_count": 580,
   "id": "c67d1d8d",
   "metadata": {},
   "outputs": [],
   "source": [
    "DF1.loc[DF1['Zipcode'] ==11219, 'Neighborhood'] = 'Borough Park'"
   ]
  },
  {
   "cell_type": "code",
   "execution_count": 581,
   "id": "655005da",
   "metadata": {},
   "outputs": [],
   "source": [
    "DF1.loc[DF1['Zipcode'] ==11230, 'Neighborhood'] = 'Borough Park'"
   ]
  },
  {
   "cell_type": "code",
   "execution_count": 582,
   "id": "7ae18550",
   "metadata": {},
   "outputs": [],
   "source": [
    "#Canarsie Zipcodes"
   ]
  },
  {
   "cell_type": "code",
   "execution_count": 583,
   "id": "b12e3f6a",
   "metadata": {},
   "outputs": [],
   "source": [
    "DF1.loc[DF1['Zipcode'] ==11234, 'Neighborhood'] = 'Canarsie'"
   ]
  },
  {
   "cell_type": "code",
   "execution_count": 584,
   "id": "baaf30cd",
   "metadata": {},
   "outputs": [],
   "source": [
    "DF1.loc[DF1['Zipcode'] ==11236, 'Neighborhood'] = 'Canarsie'"
   ]
  },
  {
   "cell_type": "code",
   "execution_count": 585,
   "id": "5543b4c4",
   "metadata": {},
   "outputs": [],
   "source": [
    "DF1.loc[DF1['Zipcode'] ==11239, 'Neighborhood'] = 'Canarsie'"
   ]
  },
  {
   "cell_type": "code",
   "execution_count": 586,
   "id": "4effccea",
   "metadata": {},
   "outputs": [],
   "source": [
    "#South Brooklyn Zipcodes"
   ]
  },
  {
   "cell_type": "code",
   "execution_count": 587,
   "id": "47afe086",
   "metadata": {},
   "outputs": [],
   "source": [
    "DF1.loc[DF1['Zipcode'] ==11223, 'Neighborhood'] = 'South Brooklyn'"
   ]
  },
  {
   "cell_type": "code",
   "execution_count": 588,
   "id": "b9929781",
   "metadata": {},
   "outputs": [],
   "source": [
    "DF1.loc[DF1['Zipcode'] ==11224, 'Neighborhood'] = 'South Brooklyn'"
   ]
  },
  {
   "cell_type": "code",
   "execution_count": 589,
   "id": "76b700ec",
   "metadata": {},
   "outputs": [],
   "source": [
    "DF1.loc[DF1['Zipcode'] ==11229, 'Neighborhood'] = 'South Brooklyn'"
   ]
  },
  {
   "cell_type": "code",
   "execution_count": 590,
   "id": "4c8f4407",
   "metadata": {},
   "outputs": [],
   "source": [
    "DF1.loc[DF1['Zipcode'] ==11235, 'Neighborhood'] = 'South Brooklyn'"
   ]
  },
  {
   "cell_type": "code",
   "execution_count": 591,
   "id": "42a39c58",
   "metadata": {},
   "outputs": [],
   "source": [
    "#Northwest Brooklyn Zipcodes"
   ]
  },
  {
   "cell_type": "code",
   "execution_count": 592,
   "id": "dd0d66c4",
   "metadata": {},
   "outputs": [],
   "source": [
    "DF1.loc[DF1['Zipcode'] ==11201, 'Neighborhood'] = 'Northwest Brooklyn'"
   ]
  },
  {
   "cell_type": "code",
   "execution_count": 593,
   "id": "64d28376",
   "metadata": {},
   "outputs": [],
   "source": [
    "DF1.loc[DF1['Zipcode'] ==11205, 'Neighborhood'] = 'Northwest Brooklyn'"
   ]
  },
  {
   "cell_type": "code",
   "execution_count": 594,
   "id": "e4fb5be1",
   "metadata": {},
   "outputs": [],
   "source": [
    "DF1.loc[DF1['Zipcode'] ==11215, 'Neighborhood'] = 'Northwest Brooklyn'"
   ]
  },
  {
   "cell_type": "code",
   "execution_count": 595,
   "id": "29c7e536",
   "metadata": {},
   "outputs": [],
   "source": [
    "DF1.loc[DF1['Zipcode'] ==11217, 'Neighborhood'] = 'Northwest Brooklyn'"
   ]
  },
  {
   "cell_type": "code",
   "execution_count": 596,
   "id": "4c8379d4",
   "metadata": {},
   "outputs": [],
   "source": [
    "DF1.loc[DF1['Zipcode'] ==11231, 'Neighborhood'] = 'Northwest Brooklyn'"
   ]
  },
  {
   "cell_type": "code",
   "execution_count": 597,
   "id": "0fcf89e6",
   "metadata": {},
   "outputs": [],
   "source": [
    "#Flatbush Zipcodes"
   ]
  },
  {
   "cell_type": "code",
   "execution_count": 598,
   "id": "b8fadedb",
   "metadata": {},
   "outputs": [],
   "source": [
    "DF1.loc[DF1['Zipcode'] ==11203, 'Neighborhood'] = 'Flatbush'"
   ]
  },
  {
   "cell_type": "code",
   "execution_count": 599,
   "id": "f11880b9",
   "metadata": {},
   "outputs": [],
   "source": [
    "DF1.loc[DF1['Zipcode'] ==11210, 'Neighborhood'] = 'Flatbush'"
   ]
  },
  {
   "cell_type": "code",
   "execution_count": 600,
   "id": "c93ab9ba",
   "metadata": {},
   "outputs": [],
   "source": [
    "DF1.loc[DF1['Zipcode'] ==11225, 'Neighborhood'] = 'Flatbush'"
   ]
  },
  {
   "cell_type": "code",
   "execution_count": 601,
   "id": "7fef10b4",
   "metadata": {},
   "outputs": [],
   "source": [
    "DF1.loc[DF1['Zipcode'] ==11226, 'Neighborhood'] = 'Flatbush'"
   ]
  },
  {
   "cell_type": "code",
   "execution_count": 602,
   "id": "f75bcf1a",
   "metadata": {},
   "outputs": [],
   "source": [
    "#East New York"
   ]
  },
  {
   "cell_type": "code",
   "execution_count": 603,
   "id": "bf5e7514",
   "metadata": {},
   "outputs": [],
   "source": [
    "DF1.loc[DF1['Zipcode'] ==11207, 'Neighborhood'] = 'East New York'"
   ]
  },
  {
   "cell_type": "code",
   "execution_count": 604,
   "id": "36fa5aaf",
   "metadata": {},
   "outputs": [],
   "source": [
    "DF1.loc[DF1['Zipcode'] ==11208, 'Neighborhood'] = 'East New York'"
   ]
  },
  {
   "cell_type": "code",
   "execution_count": 605,
   "id": "4511ddb1",
   "metadata": {},
   "outputs": [],
   "source": [
    "#Greenpoint"
   ]
  },
  {
   "cell_type": "code",
   "execution_count": 606,
   "id": "d1601d45",
   "metadata": {},
   "outputs": [],
   "source": [
    "DF1.loc[DF1['Zipcode'] ==11211, 'Neighborhood'] = 'Green Point'"
   ]
  },
  {
   "cell_type": "code",
   "execution_count": 607,
   "id": "70a1c880",
   "metadata": {},
   "outputs": [],
   "source": [
    "DF1.loc[DF1['Zipcode'] ==11222, 'Neighborhood'] = 'Green Point'"
   ]
  },
  {
   "cell_type": "code",
   "execution_count": 608,
   "id": "c69bb4e0",
   "metadata": {},
   "outputs": [],
   "source": [
    "#Sunset Park"
   ]
  },
  {
   "cell_type": "code",
   "execution_count": 609,
   "id": "0b5aaaa2",
   "metadata": {},
   "outputs": [],
   "source": [
    "DF1.loc[DF1['Zipcode'] ==11220, 'Neighborhood'] = 'Sunset Park'"
   ]
  },
  {
   "cell_type": "code",
   "execution_count": 610,
   "id": "e216c191",
   "metadata": {},
   "outputs": [],
   "source": [
    "DF1.loc[DF1['Zipcode'] ==11232, 'Neighborhood'] = 'Sunset Park'"
   ]
  },
  {
   "cell_type": "code",
   "execution_count": 611,
   "id": "4d9dcea4",
   "metadata": {},
   "outputs": [],
   "source": [
    "#Williamsburg"
   ]
  },
  {
   "cell_type": "code",
   "execution_count": 612,
   "id": "9dc30fca",
   "metadata": {},
   "outputs": [],
   "source": [
    "DF1.loc[DF1['Zipcode'] ==11206, 'Neighborhood'] = 'Williamsburg'"
   ]
  },
  {
   "cell_type": "code",
   "execution_count": 613,
   "id": "e9c8dac3",
   "metadata": {},
   "outputs": [],
   "source": [
    "DF1.loc[DF1['Zipcode'] ==11221, 'Neighborhood'] = 'Williamsburg'"
   ]
  },
  {
   "cell_type": "code",
   "execution_count": 614,
   "id": "1f70c00e",
   "metadata": {},
   "outputs": [],
   "source": [
    "DF1.loc[DF1['Zipcode'] ==11237, 'Neighborhood'] = 'Williamsburg'"
   ]
  },
  {
   "cell_type": "code",
   "execution_count": 619,
   "id": "423a9dc5",
   "metadata": {},
   "outputs": [
    {
     "data": {
      "text/plain": [
       "Zipcode\n",
       "11375    102\n",
       "11235    100\n",
       "11209     91\n",
       "11234     90\n",
       "10314     81\n",
       "        ... \n",
       "11040      1\n",
       "11364      1\n",
       "10475      1\n",
       "11693      1\n",
       "11416      1\n",
       "Name: count, Length: 178, dtype: int64"
      ]
     },
     "execution_count": 619,
     "metadata": {},
     "output_type": "execute_result"
    }
   ],
   "source": [
    "#Checking to see if everything is working.\n",
    "#Process is working.\n",
    "\n",
    "DF1['Zipcode'].value_counts(dropna = False)"
   ]
  },
  {
   "cell_type": "code",
   "execution_count": 620,
   "id": "a0426faa",
   "metadata": {},
   "outputs": [],
   "source": [
    "#Central Harlem"
   ]
  },
  {
   "cell_type": "code",
   "execution_count": 621,
   "id": "b3d5280f",
   "metadata": {},
   "outputs": [],
   "source": [
    "DF1.loc[DF1['Zipcode'] ==10026, 'Neighborhood'] = 'Central Harlem'"
   ]
  },
  {
   "cell_type": "code",
   "execution_count": 622,
   "id": "4ecdc9a9",
   "metadata": {},
   "outputs": [],
   "source": [
    "DF1.loc[DF1['Zipcode'] ==10027, 'Neighborhood'] = 'Central Harlem'"
   ]
  },
  {
   "cell_type": "code",
   "execution_count": 623,
   "id": "05566a22",
   "metadata": {},
   "outputs": [],
   "source": [
    "DF1.loc[DF1['Zipcode'] ==10030, 'Neighborhood'] = 'Central Harlem'"
   ]
  },
  {
   "cell_type": "code",
   "execution_count": 624,
   "id": "0108d0ae",
   "metadata": {},
   "outputs": [],
   "source": [
    "DF1.loc[DF1['Zipcode'] ==10037, 'Neighborhood'] = 'Central Harlem'"
   ]
  },
  {
   "cell_type": "code",
   "execution_count": 625,
   "id": "9363b250",
   "metadata": {},
   "outputs": [],
   "source": [
    "DF1.loc[DF1['Zipcode'] ==10039, 'Neighborhood'] = 'Central Harlem'"
   ]
  },
  {
   "cell_type": "code",
   "execution_count": 626,
   "id": "2049dae3",
   "metadata": {},
   "outputs": [],
   "source": [
    "#Chelsea "
   ]
  },
  {
   "cell_type": "code",
   "execution_count": 627,
   "id": "e19eaf1f",
   "metadata": {},
   "outputs": [],
   "source": [
    "DF1.loc[DF1['Zipcode'] ==10001, 'Neighborhood'] = 'Chelsea'"
   ]
  },
  {
   "cell_type": "code",
   "execution_count": 628,
   "id": "6f71de69",
   "metadata": {},
   "outputs": [],
   "source": [
    "DF1.loc[DF1['Zipcode'] ==10011, 'Neighborhood'] = 'Chelsea'"
   ]
  },
  {
   "cell_type": "code",
   "execution_count": 629,
   "id": "d35512d0",
   "metadata": {},
   "outputs": [],
   "source": [
    "DF1.loc[DF1['Zipcode'] ==10018, 'Neighborhood'] = 'Chelsea'"
   ]
  },
  {
   "cell_type": "code",
   "execution_count": 630,
   "id": "8fcea7e0",
   "metadata": {},
   "outputs": [],
   "source": [
    "DF1.loc[DF1['Zipcode'] ==10019, 'Neighborhood'] = 'Chelsea'"
   ]
  },
  {
   "cell_type": "code",
   "execution_count": 631,
   "id": "d7a5a775",
   "metadata": {},
   "outputs": [],
   "source": [
    "DF1.loc[DF1['Zipcode'] ==10020, 'Neighborhood'] = 'Chelsea'"
   ]
  },
  {
   "cell_type": "code",
   "execution_count": 632,
   "id": "87b5d61e",
   "metadata": {},
   "outputs": [],
   "source": [
    "DF1.loc[DF1['Zipcode'] ==10036, 'Neighborhood'] = 'Chelsea'"
   ]
  },
  {
   "cell_type": "code",
   "execution_count": 633,
   "id": "c9887bdd",
   "metadata": {},
   "outputs": [],
   "source": [
    "#East Harlem"
   ]
  },
  {
   "cell_type": "code",
   "execution_count": 634,
   "id": "be36f7e0",
   "metadata": {},
   "outputs": [],
   "source": [
    "DF1.loc[DF1['Zipcode'] ==10029, 'Neighborhood'] = 'East Harlem'"
   ]
  },
  {
   "cell_type": "code",
   "execution_count": 635,
   "id": "cd97df14",
   "metadata": {},
   "outputs": [],
   "source": [
    "DF1.loc[DF1['Zipcode'] ==10035, 'Neighborhood'] = 'East Harlem'"
   ]
  },
  {
   "cell_type": "code",
   "execution_count": 636,
   "id": "1b7faa18",
   "metadata": {},
   "outputs": [],
   "source": [
    "#Gramercy Park"
   ]
  },
  {
   "cell_type": "code",
   "execution_count": 637,
   "id": "ca2f26d7",
   "metadata": {},
   "outputs": [],
   "source": [
    "DF1.loc[DF1['Zipcode'] ==10010, 'Neighborhood'] = 'Gramercy Park'"
   ]
  },
  {
   "cell_type": "code",
   "execution_count": 638,
   "id": "601ecd54",
   "metadata": {},
   "outputs": [],
   "source": [
    "DF1.loc[DF1['Zipcode'] ==10016, 'Neighborhood'] = 'Gramercy Park'"
   ]
  },
  {
   "cell_type": "code",
   "execution_count": 639,
   "id": "b2eb3cf1",
   "metadata": {},
   "outputs": [],
   "source": [
    "DF1.loc[DF1['Zipcode'] ==10017, 'Neighborhood'] = 'Gramercy Park'"
   ]
  },
  {
   "cell_type": "code",
   "execution_count": 640,
   "id": "227ce7f8",
   "metadata": {},
   "outputs": [],
   "source": [
    "DF1.loc[DF1['Zipcode'] ==10022, 'Neighborhood'] = 'Gramercy Park'"
   ]
  },
  {
   "cell_type": "code",
   "execution_count": 641,
   "id": "9249cd6e",
   "metadata": {},
   "outputs": [],
   "source": [
    "#Soho"
   ]
  },
  {
   "cell_type": "code",
   "execution_count": 642,
   "id": "0b19ea39",
   "metadata": {},
   "outputs": [],
   "source": [
    "DF1.loc[DF1['Zipcode'] ==10012, 'Neighborhood'] = 'Soho'"
   ]
  },
  {
   "cell_type": "code",
   "execution_count": 643,
   "id": "b102bdb7",
   "metadata": {},
   "outputs": [],
   "source": [
    "DF1.loc[DF1['Zipcode'] ==10013, 'Neighborhood'] = 'Soho'"
   ]
  },
  {
   "cell_type": "code",
   "execution_count": 644,
   "id": "8bd41195",
   "metadata": {},
   "outputs": [],
   "source": [
    "DF1.loc[DF1['Zipcode'] ==10014, 'Neighborhood'] = 'Soho'"
   ]
  },
  {
   "cell_type": "code",
   "execution_count": 645,
   "id": "58335367",
   "metadata": {},
   "outputs": [],
   "source": [
    "#Lower Manhattan"
   ]
  },
  {
   "cell_type": "code",
   "execution_count": 646,
   "id": "3ccb02bf",
   "metadata": {},
   "outputs": [],
   "source": [
    "DF1.loc[DF1['Zipcode'] ==10004, 'Neighborhood'] = 'Lower Manhattan'"
   ]
  },
  {
   "cell_type": "code",
   "execution_count": 647,
   "id": "5f980972",
   "metadata": {},
   "outputs": [],
   "source": [
    "DF1.loc[DF1['Zipcode'] ==10005, 'Neighborhood'] = 'Lower Manhattan'"
   ]
  },
  {
   "cell_type": "code",
   "execution_count": 648,
   "id": "b45158ad",
   "metadata": {},
   "outputs": [],
   "source": [
    "DF1.loc[DF1['Zipcode'] ==10006, 'Neighborhood'] = 'Lower Manhattan'"
   ]
  },
  {
   "cell_type": "code",
   "execution_count": 649,
   "id": "b3993030",
   "metadata": {},
   "outputs": [],
   "source": [
    "DF1.loc[DF1['Zipcode'] ==10007, 'Neighborhood'] = 'Lower Manhattan'"
   ]
  },
  {
   "cell_type": "code",
   "execution_count": 650,
   "id": "04d498bc",
   "metadata": {},
   "outputs": [],
   "source": [
    "DF1.loc[DF1['Zipcode'] ==10038, 'Neighborhood'] = 'Lower Manhattan'"
   ]
  },
  {
   "cell_type": "code",
   "execution_count": 651,
   "id": "a1a06004",
   "metadata": {},
   "outputs": [],
   "source": [
    "DF1.loc[DF1['Zipcode'] ==10280, 'Neighborhood'] = 'Lower Manhattan'"
   ]
  },
  {
   "cell_type": "code",
   "execution_count": 652,
   "id": "459b9cad",
   "metadata": {},
   "outputs": [],
   "source": [
    "#Lower East Side"
   ]
  },
  {
   "cell_type": "code",
   "execution_count": 653,
   "id": "b959135e",
   "metadata": {},
   "outputs": [],
   "source": [
    "DF1.loc[DF1['Zipcode'] ==10002, 'Neighborhood'] = 'Lower East Side'"
   ]
  },
  {
   "cell_type": "code",
   "execution_count": 654,
   "id": "af1240cc",
   "metadata": {},
   "outputs": [],
   "source": [
    "DF1.loc[DF1['Zipcode'] ==10003, 'Neighborhood'] = 'Lower East Side'"
   ]
  },
  {
   "cell_type": "code",
   "execution_count": 655,
   "id": "db84a4fc",
   "metadata": {},
   "outputs": [],
   "source": [
    "DF1.loc[DF1['Zipcode'] ==10009, 'Neighborhood'] = 'Lower East Side'"
   ]
  },
  {
   "cell_type": "code",
   "execution_count": 657,
   "id": "200c9aa8",
   "metadata": {},
   "outputs": [],
   "source": [
    "#Upper East Side"
   ]
  },
  {
   "cell_type": "code",
   "execution_count": 658,
   "id": "68ad30e8",
   "metadata": {},
   "outputs": [],
   "source": [
    "DF1.loc[DF1['Zipcode'] ==10021, 'Neighborhood'] = 'Upper East Side'"
   ]
  },
  {
   "cell_type": "code",
   "execution_count": 659,
   "id": "5ebf4854",
   "metadata": {},
   "outputs": [],
   "source": [
    "DF1.loc[DF1['Zipcode'] ==10028, 'Neighborhood'] = 'Upper East Side'"
   ]
  },
  {
   "cell_type": "code",
   "execution_count": 660,
   "id": "21f4df92",
   "metadata": {},
   "outputs": [],
   "source": [
    "DF1.loc[DF1['Zipcode'] ==10044, 'Neighborhood'] = 'Upper East Side'"
   ]
  },
  {
   "cell_type": "code",
   "execution_count": 661,
   "id": "0b4e57ed",
   "metadata": {},
   "outputs": [],
   "source": [
    "DF1.loc[DF1['Zipcode'] ==10065, 'Neighborhood'] = 'Upper East Side'"
   ]
  },
  {
   "cell_type": "code",
   "execution_count": 662,
   "id": "992f5c0c",
   "metadata": {},
   "outputs": [],
   "source": [
    "DF1.loc[DF1['Zipcode'] ==10075, 'Neighborhood'] = 'Upper East Side'"
   ]
  },
  {
   "cell_type": "code",
   "execution_count": 663,
   "id": "9fae027b",
   "metadata": {},
   "outputs": [],
   "source": [
    "DF1.loc[DF1['Zipcode'] ==10128, 'Neighborhood'] = 'Upper East Side'"
   ]
  },
  {
   "cell_type": "code",
   "execution_count": 664,
   "id": "0b0c2074",
   "metadata": {},
   "outputs": [],
   "source": [
    "#Upper West Side"
   ]
  },
  {
   "cell_type": "code",
   "execution_count": 665,
   "id": "ed12ba4e",
   "metadata": {},
   "outputs": [],
   "source": [
    "DF1.loc[DF1['Zipcode'] ==10023, 'Neighborhood'] = 'Upper East Side'"
   ]
  },
  {
   "cell_type": "code",
   "execution_count": 666,
   "id": "a71ed17a",
   "metadata": {},
   "outputs": [],
   "source": [
    "DF1.loc[DF1['Zipcode'] ==10024, 'Neighborhood'] = 'Upper East Side'"
   ]
  },
  {
   "cell_type": "code",
   "execution_count": 667,
   "id": "81e94890",
   "metadata": {},
   "outputs": [],
   "source": [
    "DF1.loc[DF1['Zipcode'] ==10025, 'Neighborhood'] = 'Upper East Side'"
   ]
  },
  {
   "cell_type": "code",
   "execution_count": 668,
   "id": "937549bd",
   "metadata": {},
   "outputs": [],
   "source": [
    "#Washington Heights"
   ]
  },
  {
   "cell_type": "code",
   "execution_count": 669,
   "id": "24bec18c",
   "metadata": {},
   "outputs": [],
   "source": [
    "DF1.loc[DF1['Zipcode'] ==10031, 'Neighborhood'] = 'Washington Heights'"
   ]
  },
  {
   "cell_type": "code",
   "execution_count": 670,
   "id": "53152553",
   "metadata": {},
   "outputs": [],
   "source": [
    "DF1.loc[DF1['Zipcode'] ==10032, 'Neighborhood'] = 'Washington Heights'"
   ]
  },
  {
   "cell_type": "code",
   "execution_count": 671,
   "id": "909dc21d",
   "metadata": {},
   "outputs": [],
   "source": [
    "DF1.loc[DF1['Zipcode'] ==10033, 'Neighborhood'] = 'Washington Heights'"
   ]
  },
  {
   "cell_type": "code",
   "execution_count": 672,
   "id": "a257044a",
   "metadata": {},
   "outputs": [],
   "source": [
    "DF1.loc[DF1['Zipcode'] ==10034, 'Neighborhood'] = 'Washington Heights'"
   ]
  },
  {
   "cell_type": "code",
   "execution_count": 673,
   "id": "febe4258",
   "metadata": {},
   "outputs": [],
   "source": [
    "DF1.loc[DF1['Zipcode'] ==10040, 'Neighborhood'] = 'Washington Heights'"
   ]
  },
  {
   "cell_type": "code",
   "execution_count": 674,
   "id": "9690b184",
   "metadata": {},
   "outputs": [],
   "source": [
    "#Northeast Queens"
   ]
  },
  {
   "cell_type": "code",
   "execution_count": 773,
   "id": "7135eda1",
   "metadata": {},
   "outputs": [],
   "source": [
    "DF1.loc[DF1['Zipcode'] ==11361, 'Neighborhood'] = 'Northeast Queens'"
   ]
  },
  {
   "cell_type": "code",
   "execution_count": 774,
   "id": "5319d4eb",
   "metadata": {},
   "outputs": [],
   "source": [
    "DF1.loc[DF1['Zipcode'] ==11362, 'Neighborhood'] = 'Northeast Queens'"
   ]
  },
  {
   "cell_type": "code",
   "execution_count": 775,
   "id": "4f7bb0a1",
   "metadata": {},
   "outputs": [],
   "source": [
    "DF1.loc[DF1['Zipcode'] ==11363, 'Neighborhood'] = 'Northeast Queens'"
   ]
  },
  {
   "cell_type": "code",
   "execution_count": 776,
   "id": "9cfe4ed5",
   "metadata": {},
   "outputs": [],
   "source": [
    "DF1.loc[DF1['Zipcode'] ==11364, 'Neighborhood'] = 'Northeast Queens'"
   ]
  },
  {
   "cell_type": "code",
   "execution_count": null,
   "id": "54dcb62d",
   "metadata": {},
   "outputs": [],
   "source": [
    "#Central Queens"
   ]
  },
  {
   "cell_type": "code",
   "execution_count": 777,
   "id": "213202c3",
   "metadata": {},
   "outputs": [],
   "source": [
    "DF1.loc[DF1['Zipcode'] ==11365, 'Neighborhood'] = 'Central Queens'"
   ]
  },
  {
   "cell_type": "code",
   "execution_count": 778,
   "id": "08710e82",
   "metadata": {},
   "outputs": [],
   "source": [
    "DF1.loc[DF1['Zipcode'] ==11366, 'Neighborhood'] = 'Central Queens'"
   ]
  },
  {
   "cell_type": "code",
   "execution_count": 779,
   "id": "86badb7e",
   "metadata": {},
   "outputs": [],
   "source": [
    "DF1.loc[DF1['Zipcode'] ==11367, 'Neighborhood'] = 'Central Queens'"
   ]
  },
  {
   "cell_type": "code",
   "execution_count": null,
   "id": "e39fdcf2",
   "metadata": {},
   "outputs": [],
   "source": [
    "#Jamaica"
   ]
  },
  {
   "cell_type": "code",
   "execution_count": 676,
   "id": "e8e60290",
   "metadata": {},
   "outputs": [],
   "source": [
    "DF1.loc[DF1['Zipcode'] ==11412, 'Neighborhood'] = 'Jamaica'"
   ]
  },
  {
   "cell_type": "code",
   "execution_count": 677,
   "id": "2e36eaae",
   "metadata": {},
   "outputs": [],
   "source": [
    "DF1.loc[DF1['Zipcode'] ==11423, 'Neighborhood'] = 'Jamaica'"
   ]
  },
  {
   "cell_type": "code",
   "execution_count": 678,
   "id": "da5161f7",
   "metadata": {},
   "outputs": [],
   "source": [
    "DF1.loc[DF1['Zipcode'] ==11432, 'Neighborhood'] = 'Jamaica'"
   ]
  },
  {
   "cell_type": "code",
   "execution_count": 679,
   "id": "300d1db3",
   "metadata": {},
   "outputs": [],
   "source": [
    "DF1.loc[DF1['Zipcode'] ==11433, 'Neighborhood'] = 'Jamaica'"
   ]
  },
  {
   "cell_type": "code",
   "execution_count": 680,
   "id": "19bb74f5",
   "metadata": {},
   "outputs": [],
   "source": [
    "DF1.loc[DF1['Zipcode'] ==11434, 'Neighborhood'] = 'Jamaica'"
   ]
  },
  {
   "cell_type": "code",
   "execution_count": 681,
   "id": "414f0088",
   "metadata": {},
   "outputs": [],
   "source": [
    "DF1.loc[DF1['Zipcode'] ==11435, 'Neighborhood'] = 'Jamaica'"
   ]
  },
  {
   "cell_type": "code",
   "execution_count": 682,
   "id": "8d694c18",
   "metadata": {},
   "outputs": [],
   "source": [
    "DF1.loc[DF1['Zipcode'] ==11436, 'Neighborhood'] = 'Jamaica'"
   ]
  },
  {
   "cell_type": "code",
   "execution_count": 683,
   "id": "b7bfb051",
   "metadata": {},
   "outputs": [],
   "source": [
    "#Northwest Queens"
   ]
  },
  {
   "cell_type": "code",
   "execution_count": 685,
   "id": "deb112a8",
   "metadata": {},
   "outputs": [],
   "source": [
    "DF1.loc[DF1['Zipcode'] ==11101, 'Neighborhood'] = 'Northwest Queens'"
   ]
  },
  {
   "cell_type": "code",
   "execution_count": 686,
   "id": "f93c7f4b",
   "metadata": {},
   "outputs": [],
   "source": [
    "DF1.loc[DF1['Zipcode'] ==11102, 'Neighborhood'] = 'Northwest Queens'"
   ]
  },
  {
   "cell_type": "code",
   "execution_count": 687,
   "id": "b926fdaa",
   "metadata": {},
   "outputs": [],
   "source": [
    "DF1.loc[DF1['Zipcode'] ==11103, 'Neighborhood'] = 'Northwest Queens'"
   ]
  },
  {
   "cell_type": "code",
   "execution_count": 688,
   "id": "c03d1e11",
   "metadata": {},
   "outputs": [],
   "source": [
    "DF1.loc[DF1['Zipcode'] ==11104, 'Neighborhood'] = 'Northwest Queens'"
   ]
  },
  {
   "cell_type": "code",
   "execution_count": 689,
   "id": "7a057c3e",
   "metadata": {},
   "outputs": [],
   "source": [
    "DF1.loc[DF1['Zipcode'] ==11105, 'Neighborhood'] = 'Northwest Queens'"
   ]
  },
  {
   "cell_type": "code",
   "execution_count": 690,
   "id": "6a1b6756",
   "metadata": {},
   "outputs": [],
   "source": [
    "DF1.loc[DF1['Zipcode'] ==11106, 'Neighborhood'] = 'Northwest Queens'"
   ]
  },
  {
   "cell_type": "code",
   "execution_count": null,
   "id": "5759b379",
   "metadata": {},
   "outputs": [],
   "source": [
    "#West Central Queens"
   ]
  },
  {
   "cell_type": "code",
   "execution_count": 691,
   "id": "8b4a7c25",
   "metadata": {},
   "outputs": [],
   "source": [
    "DF1.loc[DF1['Zipcode'] ==11374, 'Neighborhood'] = 'West Central Queens'"
   ]
  },
  {
   "cell_type": "code",
   "execution_count": 692,
   "id": "469d9cb1",
   "metadata": {},
   "outputs": [],
   "source": [
    "DF1.loc[DF1['Zipcode'] ==11375, 'Neighborhood'] = 'West Central Queens'"
   ]
  },
  {
   "cell_type": "code",
   "execution_count": 693,
   "id": "4b81eab5",
   "metadata": {},
   "outputs": [],
   "source": [
    "DF1.loc[DF1['Zipcode'] ==11379, 'Neighborhood'] = 'West Central Queens'"
   ]
  },
  {
   "cell_type": "code",
   "execution_count": 694,
   "id": "7679b25a",
   "metadata": {},
   "outputs": [],
   "source": [
    "DF1.loc[DF1['Zipcode'] ==11385, 'Neighborhood'] = 'West Central Queens'"
   ]
  },
  {
   "cell_type": "code",
   "execution_count": 695,
   "id": "d86e5cae",
   "metadata": {},
   "outputs": [],
   "source": [
    "#Rockaway"
   ]
  },
  {
   "cell_type": "code",
   "execution_count": 696,
   "id": "f2029c13",
   "metadata": {},
   "outputs": [],
   "source": [
    "DF1.loc[DF1['Zipcode'] ==11691, 'Neighborhood'] = 'Rockaway'"
   ]
  },
  {
   "cell_type": "code",
   "execution_count": 697,
   "id": "45acabfa",
   "metadata": {},
   "outputs": [],
   "source": [
    "DF1.loc[DF1['Zipcode'] ==11692, 'Neighborhood'] = 'Rockaway'"
   ]
  },
  {
   "cell_type": "code",
   "execution_count": 698,
   "id": "4ce425c9",
   "metadata": {},
   "outputs": [],
   "source": [
    "DF1.loc[DF1['Zipcode'] ==11693, 'Neighborhood'] = 'Rockaway'"
   ]
  },
  {
   "cell_type": "code",
   "execution_count": 699,
   "id": "fafdd95f",
   "metadata": {},
   "outputs": [],
   "source": [
    "DF1.loc[DF1['Zipcode'] ==11694, 'Neighborhood'] = 'Rockaway'"
   ]
  },
  {
   "cell_type": "code",
   "execution_count": 700,
   "id": "c7611006",
   "metadata": {},
   "outputs": [],
   "source": [
    "DF1.loc[DF1['Zipcode'] ==11695, 'Neighborhood'] = 'Rockaway'"
   ]
  },
  {
   "cell_type": "code",
   "execution_count": 701,
   "id": "08b77df2",
   "metadata": {},
   "outputs": [],
   "source": [
    "DF1.loc[DF1['Zipcode'] ==11697, 'Neighborhood'] = 'Rockaway'"
   ]
  },
  {
   "cell_type": "code",
   "execution_count": null,
   "id": "ca2620fb",
   "metadata": {},
   "outputs": [],
   "source": [
    "#Southeast Queens"
   ]
  },
  {
   "cell_type": "code",
   "execution_count": 702,
   "id": "fd1a9276",
   "metadata": {},
   "outputs": [],
   "source": [
    "DF1.loc[DF1['Zipcode'] ==11004, 'Neighborhood'] = 'Southeast Queens'"
   ]
  },
  {
   "cell_type": "code",
   "execution_count": 703,
   "id": "0c47e48d",
   "metadata": {},
   "outputs": [],
   "source": [
    "DF1.loc[DF1['Zipcode'] ==11005, 'Neighborhood'] = 'Southeast Queens'"
   ]
  },
  {
   "cell_type": "code",
   "execution_count": 704,
   "id": "cf1df36c",
   "metadata": {},
   "outputs": [],
   "source": [
    "DF1.loc[DF1['Zipcode'] ==11411, 'Neighborhood'] = 'Southeast Queens'"
   ]
  },
  {
   "cell_type": "code",
   "execution_count": 705,
   "id": "99bd7962",
   "metadata": {},
   "outputs": [],
   "source": [
    "DF1.loc[DF1['Zipcode'] ==11413, 'Neighborhood'] = 'Southeast Queens'"
   ]
  },
  {
   "cell_type": "code",
   "execution_count": 707,
   "id": "e0eee197",
   "metadata": {},
   "outputs": [],
   "source": [
    "DF1.loc[DF1['Zipcode'] ==11422, 'Neighborhood'] = 'Southeast Queens'"
   ]
  },
  {
   "cell_type": "code",
   "execution_count": 706,
   "id": "6a409693",
   "metadata": {},
   "outputs": [],
   "source": [
    "DF1.loc[DF1['Zipcode'] ==11426, 'Neighborhood'] = 'Southeast Queens'"
   ]
  },
  {
   "cell_type": "code",
   "execution_count": 708,
   "id": "2848c953",
   "metadata": {},
   "outputs": [],
   "source": [
    "DF1.loc[DF1['Zipcode'] ==11427, 'Neighborhood'] = 'Southeast Queens'"
   ]
  },
  {
   "cell_type": "code",
   "execution_count": 709,
   "id": "5bb03369",
   "metadata": {},
   "outputs": [],
   "source": [
    "DF1.loc[DF1['Zipcode'] ==11428, 'Neighborhood'] = 'Southeast Queens'"
   ]
  },
  {
   "cell_type": "code",
   "execution_count": 710,
   "id": "cf20f057",
   "metadata": {},
   "outputs": [],
   "source": [
    "DF1.loc[DF1['Zipcode'] ==11429, 'Neighborhood'] = 'Southeast Queens'"
   ]
  },
  {
   "cell_type": "code",
   "execution_count": 711,
   "id": "33d128fb",
   "metadata": {},
   "outputs": [],
   "source": [
    "#Southwest Queens"
   ]
  },
  {
   "cell_type": "code",
   "execution_count": 712,
   "id": "749a09b1",
   "metadata": {},
   "outputs": [],
   "source": [
    "DF1.loc[DF1['Zipcode'] ==11004, 'Neighborhood'] = 'Southwest Queens'"
   ]
  },
  {
   "cell_type": "code",
   "execution_count": 713,
   "id": "d1927bea",
   "metadata": {},
   "outputs": [],
   "source": [
    "DF1.loc[DF1['Zipcode'] ==11005, 'Neighborhood'] = 'Southwest Queens'"
   ]
  },
  {
   "cell_type": "code",
   "execution_count": 714,
   "id": "1078646d",
   "metadata": {},
   "outputs": [],
   "source": [
    "DF1.loc[DF1['Zipcode'] ==11411, 'Neighborhood'] = 'Southwest Queens'"
   ]
  },
  {
   "cell_type": "code",
   "execution_count": 715,
   "id": "052d2dd7",
   "metadata": {},
   "outputs": [],
   "source": [
    "DF1.loc[DF1['Zipcode'] ==11413, 'Neighborhood'] = 'Southwest Queens'"
   ]
  },
  {
   "cell_type": "code",
   "execution_count": 716,
   "id": "2317bf3b",
   "metadata": {},
   "outputs": [],
   "source": [
    "DF1.loc[DF1['Zipcode'] ==11422, 'Neighborhood'] = 'Southwest Queens'"
   ]
  },
  {
   "cell_type": "code",
   "execution_count": 717,
   "id": "cf034149",
   "metadata": {},
   "outputs": [],
   "source": [
    "DF1.loc[DF1['Zipcode'] ==11426, 'Neighborhood'] = 'Southwest Queens'"
   ]
  },
  {
   "cell_type": "code",
   "execution_count": 718,
   "id": "e74a3b2b",
   "metadata": {},
   "outputs": [],
   "source": [
    "DF1.loc[DF1['Zipcode'] ==11427, 'Neighborhood'] = 'Southwest Queens'"
   ]
  },
  {
   "cell_type": "code",
   "execution_count": 719,
   "id": "9471da72",
   "metadata": {},
   "outputs": [],
   "source": [
    "DF1.loc[DF1['Zipcode'] ==11428, 'Neighborhood'] = 'Southwest Queens'"
   ]
  },
  {
   "cell_type": "code",
   "execution_count": 720,
   "id": "76208c22",
   "metadata": {},
   "outputs": [],
   "source": [
    "DF1.loc[DF1['Zipcode'] ==11429, 'Neighborhood'] = 'Southwest Queens'"
   ]
  },
  {
   "cell_type": "code",
   "execution_count": 721,
   "id": "26e5c1d2",
   "metadata": {},
   "outputs": [],
   "source": [
    "#West Queens"
   ]
  },
  {
   "cell_type": "code",
   "execution_count": 722,
   "id": "a45d94e9",
   "metadata": {},
   "outputs": [],
   "source": [
    "DF1.loc[DF1['Zipcode'] ==11368, 'Neighborhood'] = 'West Queens'"
   ]
  },
  {
   "cell_type": "code",
   "execution_count": 723,
   "id": "b8503b00",
   "metadata": {},
   "outputs": [],
   "source": [
    "DF1.loc[DF1['Zipcode'] ==11369, 'Neighborhood'] = 'West Queens'"
   ]
  },
  {
   "cell_type": "code",
   "execution_count": 724,
   "id": "3b8ea14f",
   "metadata": {},
   "outputs": [],
   "source": [
    "DF1.loc[DF1['Zipcode'] ==11370, 'Neighborhood'] = 'West Queens'"
   ]
  },
  {
   "cell_type": "code",
   "execution_count": 725,
   "id": "f1127c16",
   "metadata": {},
   "outputs": [],
   "source": [
    "DF1.loc[DF1['Zipcode'] ==11372, 'Neighborhood'] = 'West Queens'"
   ]
  },
  {
   "cell_type": "code",
   "execution_count": 726,
   "id": "73e15297",
   "metadata": {},
   "outputs": [],
   "source": [
    "DF1.loc[DF1['Zipcode'] ==11373, 'Neighborhood'] = 'West Queens'"
   ]
  },
  {
   "cell_type": "code",
   "execution_count": 727,
   "id": "26cde5f6",
   "metadata": {},
   "outputs": [],
   "source": [
    "DF1.loc[DF1['Zipcode'] ==11377, 'Neighborhood'] = 'West Queens'"
   ]
  },
  {
   "cell_type": "code",
   "execution_count": 728,
   "id": "90e5473d",
   "metadata": {},
   "outputs": [],
   "source": [
    "DF1.loc[DF1['Zipcode'] ==11378, 'Neighborhood'] = 'West Queens'"
   ]
  },
  {
   "cell_type": "code",
   "execution_count": 730,
   "id": "64cdbcee",
   "metadata": {},
   "outputs": [],
   "source": [
    "#Port Richmond"
   ]
  },
  {
   "cell_type": "code",
   "execution_count": 731,
   "id": "52630d2b",
   "metadata": {},
   "outputs": [],
   "source": [
    "DF1.loc[DF1['Zipcode'] ==10302, 'Neighborhood'] = 'Port Richmond'"
   ]
  },
  {
   "cell_type": "code",
   "execution_count": 732,
   "id": "2062ad49",
   "metadata": {},
   "outputs": [],
   "source": [
    "DF1.loc[DF1['Zipcode'] ==10303, 'Neighborhood'] = 'Port Richmond'"
   ]
  },
  {
   "cell_type": "code",
   "execution_count": 733,
   "id": "86d77175",
   "metadata": {},
   "outputs": [],
   "source": [
    "DF1.loc[DF1['Zipcode'] ==10310, 'Neighborhood'] = 'Port Richmond'"
   ]
  },
  {
   "cell_type": "code",
   "execution_count": 734,
   "id": "3677402a",
   "metadata": {},
   "outputs": [],
   "source": [
    "#South Shore"
   ]
  },
  {
   "cell_type": "code",
   "execution_count": 735,
   "id": "ca635312",
   "metadata": {},
   "outputs": [],
   "source": [
    "DF1.loc[DF1['Zipcode'] ==10306, 'Neighborhood'] = 'South Shore'"
   ]
  },
  {
   "cell_type": "code",
   "execution_count": 736,
   "id": "859398ce",
   "metadata": {},
   "outputs": [],
   "source": [
    "DF1.loc[DF1['Zipcode'] ==10307, 'Neighborhood'] = 'South Shore'"
   ]
  },
  {
   "cell_type": "code",
   "execution_count": 737,
   "id": "511c5a7d",
   "metadata": {},
   "outputs": [],
   "source": [
    "DF1.loc[DF1['Zipcode'] ==10308, 'Neighborhood'] = 'South Shore'"
   ]
  },
  {
   "cell_type": "code",
   "execution_count": 738,
   "id": "1f666eb5",
   "metadata": {},
   "outputs": [],
   "source": [
    "DF1.loc[DF1['Zipcode'] ==10309, 'Neighborhood'] = 'South Shore'"
   ]
  },
  {
   "cell_type": "code",
   "execution_count": 739,
   "id": "598c2de0",
   "metadata": {},
   "outputs": [],
   "source": [
    "DF1.loc[DF1['Zipcode'] ==10312, 'Neighborhood'] = 'South Shore'"
   ]
  },
  {
   "cell_type": "code",
   "execution_count": 740,
   "id": "11d4bd40",
   "metadata": {},
   "outputs": [],
   "source": [
    "#Stapleton"
   ]
  },
  {
   "cell_type": "code",
   "execution_count": 741,
   "id": "a4f2b06b",
   "metadata": {},
   "outputs": [],
   "source": [
    "DF1.loc[DF1['Zipcode'] ==10301, 'Neighborhood'] = 'Stapleton'"
   ]
  },
  {
   "cell_type": "code",
   "execution_count": 742,
   "id": "3c22bdba",
   "metadata": {},
   "outputs": [],
   "source": [
    "DF1.loc[DF1['Zipcode'] ==10304, 'Neighborhood'] = 'Stapleton'"
   ]
  },
  {
   "cell_type": "code",
   "execution_count": 743,
   "id": "0c1b213a",
   "metadata": {},
   "outputs": [],
   "source": [
    "DF1.loc[DF1['Zipcode'] ==10305, 'Neighborhood'] = 'Stapleton'"
   ]
  },
  {
   "cell_type": "code",
   "execution_count": 744,
   "id": "d6fbceb7",
   "metadata": {},
   "outputs": [],
   "source": [
    "#Mid-Island"
   ]
  },
  {
   "cell_type": "code",
   "execution_count": 745,
   "id": "b7a164f2",
   "metadata": {},
   "outputs": [],
   "source": [
    "DF1.loc[DF1['Zipcode'] ==10314, 'Neighborhood'] = 'Mid Island'"
   ]
  },
  {
   "cell_type": "code",
   "execution_count": 746,
   "id": "19675440",
   "metadata": {},
   "outputs": [
    {
     "data": {
      "text/plain": [
       "Zipcode\n",
       "11375    102\n",
       "11235    100\n",
       "11209     91\n",
       "11234     90\n",
       "10314     81\n",
       "        ... \n",
       "11040      1\n",
       "11364      1\n",
       "10475      1\n",
       "11693      1\n",
       "11416      1\n",
       "Name: count, Length: 178, dtype: int64"
      ]
     },
     "execution_count": 746,
     "metadata": {},
     "output_type": "execute_result"
    }
   ],
   "source": [
    "#Checking to see values\n",
    "\n",
    "DF1['Zipcode'].value_counts(dropna = False)"
   ]
  },
  {
   "cell_type": "code",
   "execution_count": 748,
   "id": "427ab0d4",
   "metadata": {},
   "outputs": [
    {
     "data": {
      "text/plain": [
       "0           Gramercy Park\n",
       "1                 Chelsea\n",
       "2             South Shore\n",
       "3           Gramercy Park\n",
       "4         Upper East Side\n",
       "5        Central Brooklyn\n",
       "6          Central Harlem\n",
       "7               Stapleton\n",
       "8         Southeast Bronx\n",
       "9            Borough Park\n",
       "10            High Bridge\n",
       "11          Port Richmond\n",
       "12            West Queens\n",
       "13            West Queens\n",
       "14                   Soho\n",
       "15            South Shore\n",
       "16            West Queens\n",
       "17     Southwest Brooklyn\n",
       "18              Riverdale\n",
       "19    West Central Queens\n",
       "20              Stapleton\n",
       "21    West Central Queens\n",
       "22        Southeast Bronx\n",
       "23              Stapleton\n",
       "24            South Shore\n",
       "25                Jamaica\n",
       "26            West Queens\n",
       "27     Southwest Brooklyn\n",
       "28            West Queens\n",
       "29              Stapleton\n",
       "30        Southeast Bronx\n",
       "31             Mid Island\n",
       "32          Port Richmond\n",
       "33          East New York\n",
       "34           Borough Park\n",
       "35           Borough Park\n",
       "36              Stapleton\n",
       "37                    nan\n",
       "38                    nan\n",
       "39            South Shore\n",
       "40          Central Bronx\n",
       "41           Borough Park\n",
       "42                    nan\n",
       "43            High Bridge\n",
       "44                    nan\n",
       "45                Jamaica\n",
       "46                   Soho\n",
       "47                    nan\n",
       "48              Stapleton\n",
       "49             Mid Island\n",
       "Name: Neighborhood, dtype: object"
      ]
     },
     "execution_count": 748,
     "metadata": {},
     "output_type": "execute_result"
    }
   ],
   "source": [
    "#Checking to see if all rows are filled\n",
    "\n",
    "#Some \"nan\" exist will further investigate\n",
    "\n",
    "DF1['Neighborhood'].head(50)"
   ]
  },
  {
   "cell_type": "code",
   "execution_count": 749,
   "id": "0d2bd4de",
   "metadata": {},
   "outputs": [
    {
     "data": {
      "text/plain": [
       "4741                    nan\n",
       "4743    West Central Queens\n",
       "4745        Upper East Side\n",
       "4748            South Shore\n",
       "4749        Upper East Side\n",
       "4750        Upper East Side\n",
       "4754                    nan\n",
       "4755        Lower East Side\n",
       "4756        Upper East Side\n",
       "4757            High Bridge\n",
       "4758          Gramercy Park\n",
       "4759         Central Harlem\n",
       "4760           Borough Park\n",
       "4761         South Brooklyn\n",
       "4762    West Central Queens\n",
       "4763    West Central Queens\n",
       "4764     Southwest Brooklyn\n",
       "4765        Upper East Side\n",
       "4766            West Queens\n",
       "4767                    nan\n",
       "4768       Northwest Queens\n",
       "4769                    nan\n",
       "4770        Lower East Side\n",
       "4771             Mid Island\n",
       "4772       Central Brooklyn\n",
       "4773          East New York\n",
       "4774          East New York\n",
       "4776            South Shore\n",
       "4777               Canarsie\n",
       "4778     Southwest Brooklyn\n",
       "4779       Central Brooklyn\n",
       "4781                    nan\n",
       "4783        Northeast Bronx\n",
       "4784                    nan\n",
       "4785               Rockaway\n",
       "4786                Jamaica\n",
       "4787         Central Harlem\n",
       "4788        Upper East Side\n",
       "4789            West Queens\n",
       "4790                   Soho\n",
       "4791          Gramercy Park\n",
       "4792            Sunset Park\n",
       "4793        Upper East Side\n",
       "4794         Central Harlem\n",
       "4795         South Brooklyn\n",
       "4796        Upper East Side\n",
       "4797    West Central Queens\n",
       "4798                Chelsea\n",
       "4799            West Queens\n",
       "4800         South Brooklyn\n",
       "Name: Neighborhood, dtype: object"
      ]
     },
     "execution_count": 749,
     "metadata": {},
     "output_type": "execute_result"
    }
   ],
   "source": [
    "#Checking to see if all rows are filled\n",
    "\n",
    "##Some \"nan\" exist will further investigate\n",
    "\n",
    "DF1['Neighborhood'].tail(50)"
   ]
  },
  {
   "cell_type": "code",
   "execution_count": 752,
   "id": "742a6e48",
   "metadata": {},
   "outputs": [
    {
     "data": {
      "text/plain": [
       "MAIN_ADDRESS     44-55 Kissena Blvd Unit 5FFlushing, NY 11355\n",
       "Property Type                                          Co-op \n",
       "PRICE                                                  275000\n",
       "BEDS                                                        1\n",
       "BATH                                                      1.0\n",
       "PROPERTYSQFT                                      2184.207862\n",
       "Brokerages                        E Realty International Corp\n",
       "LATITUDE                                            40.752877\n",
       "LATITUDE                                            40.752877\n",
       "Borough                                                Queens\n",
       "Zipcode                                                 11355\n",
       "Neighborhood                                              nan\n",
       "Name: 37, dtype: object"
      ]
     },
     "metadata": {},
     "output_type": "display_data"
    }
   ],
   "source": [
    "#Viewing one specific Row. Row 37 has NaN as we can see from ^^\n",
    "#Forgot to input North Queens zipcode.\n",
    "\n",
    "display(DF1.iloc[37])"
   ]
  },
  {
   "cell_type": "code",
   "execution_count": 753,
   "id": "7c41697f",
   "metadata": {},
   "outputs": [],
   "source": [
    "#North Queens Zipcode"
   ]
  },
  {
   "cell_type": "code",
   "execution_count": 754,
   "id": "42fd59fe",
   "metadata": {},
   "outputs": [],
   "source": [
    "DF1.loc[DF1['Zipcode'] ==11354, 'Neighborhood'] = 'North Queens'"
   ]
  },
  {
   "cell_type": "code",
   "execution_count": 755,
   "id": "c16bb3db",
   "metadata": {},
   "outputs": [],
   "source": [
    "DF1.loc[DF1['Zipcode'] ==11355, 'Neighborhood'] = 'North Queens'"
   ]
  },
  {
   "cell_type": "code",
   "execution_count": 756,
   "id": "645c9987",
   "metadata": {},
   "outputs": [],
   "source": [
    "DF1.loc[DF1['Zipcode'] ==11356, 'Neighborhood'] = 'North Queens'"
   ]
  },
  {
   "cell_type": "code",
   "execution_count": 757,
   "id": "83c066ea",
   "metadata": {},
   "outputs": [],
   "source": [
    "DF1.loc[DF1['Zipcode'] ==11357, 'Neighborhood'] = 'North Queens'"
   ]
  },
  {
   "cell_type": "code",
   "execution_count": 758,
   "id": "66f2f42a",
   "metadata": {},
   "outputs": [],
   "source": [
    "DF1.loc[DF1['Zipcode'] ==11358, 'Neighborhood'] = 'North Queens'"
   ]
  },
  {
   "cell_type": "code",
   "execution_count": 759,
   "id": "9c146fdd",
   "metadata": {},
   "outputs": [],
   "source": [
    "DF1.loc[DF1['Zipcode'] ==11359, 'Neighborhood'] = 'North Queens'"
   ]
  },
  {
   "cell_type": "code",
   "execution_count": 760,
   "id": "dce0bbfa",
   "metadata": {},
   "outputs": [],
   "source": [
    "DF1.loc[DF1['Zipcode'] ==11360, 'Neighborhood'] = 'North Queens'"
   ]
  },
  {
   "cell_type": "code",
   "execution_count": null,
   "id": "b6bf0052",
   "metadata": {},
   "outputs": [],
   "source": [
    "#Now checking to see if there are any \"nan\" values after addressing North Queens"
   ]
  },
  {
   "cell_type": "code",
   "execution_count": 761,
   "id": "0074a17b",
   "metadata": {},
   "outputs": [
    {
     "data": {
      "text/plain": [
       "0           Gramercy Park\n",
       "1                 Chelsea\n",
       "2             South Shore\n",
       "3           Gramercy Park\n",
       "4         Upper East Side\n",
       "5        Central Brooklyn\n",
       "6          Central Harlem\n",
       "7               Stapleton\n",
       "8         Southeast Bronx\n",
       "9            Borough Park\n",
       "10            High Bridge\n",
       "11          Port Richmond\n",
       "12            West Queens\n",
       "13            West Queens\n",
       "14                   Soho\n",
       "15            South Shore\n",
       "16            West Queens\n",
       "17     Southwest Brooklyn\n",
       "18              Riverdale\n",
       "19    West Central Queens\n",
       "20              Stapleton\n",
       "21    West Central Queens\n",
       "22        Southeast Bronx\n",
       "23              Stapleton\n",
       "24            South Shore\n",
       "25                Jamaica\n",
       "26            West Queens\n",
       "27     Southwest Brooklyn\n",
       "28            West Queens\n",
       "29              Stapleton\n",
       "30        Southeast Bronx\n",
       "31             Mid Island\n",
       "32          Port Richmond\n",
       "33          East New York\n",
       "34           Borough Park\n",
       "35           Borough Park\n",
       "36              Stapleton\n",
       "37           North Queens\n",
       "38                    nan\n",
       "39            South Shore\n",
       "40          Central Bronx\n",
       "41           Borough Park\n",
       "42                    nan\n",
       "43            High Bridge\n",
       "44           North Queens\n",
       "45                Jamaica\n",
       "46                   Soho\n",
       "47           North Queens\n",
       "48              Stapleton\n",
       "49             Mid Island\n",
       "Name: Neighborhood, dtype: object"
      ]
     },
     "execution_count": 761,
     "metadata": {},
     "output_type": "execute_result"
    }
   ],
   "source": [
    "#Less nan values but still some \n",
    "#Checking what else is missing\n",
    "\n",
    "DF1['Neighborhood'].head(50)"
   ]
  },
  {
   "cell_type": "code",
   "execution_count": 762,
   "id": "2daa925d",
   "metadata": {},
   "outputs": [
    {
     "data": {
      "text/plain": [
       "4741                    nan\n",
       "4743    West Central Queens\n",
       "4745        Upper East Side\n",
       "4748            South Shore\n",
       "4749        Upper East Side\n",
       "4750        Upper East Side\n",
       "4754                    nan\n",
       "4755        Lower East Side\n",
       "4756        Upper East Side\n",
       "4757            High Bridge\n",
       "4758          Gramercy Park\n",
       "4759         Central Harlem\n",
       "4760           Borough Park\n",
       "4761         South Brooklyn\n",
       "4762    West Central Queens\n",
       "4763    West Central Queens\n",
       "4764     Southwest Brooklyn\n",
       "4765        Upper East Side\n",
       "4766            West Queens\n",
       "4767           North Queens\n",
       "4768       Northwest Queens\n",
       "4769                    nan\n",
       "4770        Lower East Side\n",
       "4771             Mid Island\n",
       "4772       Central Brooklyn\n",
       "4773          East New York\n",
       "4774          East New York\n",
       "4776            South Shore\n",
       "4777               Canarsie\n",
       "4778     Southwest Brooklyn\n",
       "4779       Central Brooklyn\n",
       "4781                    nan\n",
       "4783        Northeast Bronx\n",
       "4784                    nan\n",
       "4785               Rockaway\n",
       "4786                Jamaica\n",
       "4787         Central Harlem\n",
       "4788        Upper East Side\n",
       "4789            West Queens\n",
       "4790                   Soho\n",
       "4791          Gramercy Park\n",
       "4792            Sunset Park\n",
       "4793        Upper East Side\n",
       "4794         Central Harlem\n",
       "4795         South Brooklyn\n",
       "4796        Upper East Side\n",
       "4797    West Central Queens\n",
       "4798                Chelsea\n",
       "4799            West Queens\n",
       "4800         South Brooklyn\n",
       "Name: Neighborhood, dtype: object"
      ]
     },
     "execution_count": 762,
     "metadata": {},
     "output_type": "execute_result"
    }
   ],
   "source": [
    "DF1['Neighborhood'].tail(50)"
   ]
  },
  {
   "cell_type": "code",
   "execution_count": 763,
   "id": "110ef6d5",
   "metadata": {},
   "outputs": [
    {
     "data": {
      "text/plain": [
       "MAIN_ADDRESS     338 Berry St Apt 4EBrooklyn, NY 11249\n",
       "Property Type                                   Condo \n",
       "PRICE                                          1165000\n",
       "BEDS                                                 1\n",
       "BATH                                               1.0\n",
       "PROPERTYSQFT                                     815.0\n",
       "Brokerages                                    Corcoran\n",
       "LATITUDE                                     40.711969\n",
       "LATITUDE                                     40.711969\n",
       "Borough                                       Brooklyn\n",
       "Zipcode                                          11249\n",
       "Neighborhood                                       nan\n",
       "Name: 38, dtype: object"
      ]
     },
     "metadata": {},
     "output_type": "display_data"
    }
   ],
   "source": [
    "##Viewing one specific Row. Row 38. Also Nan\n",
    "#Did not input this Williamsburg zipcode.\n",
    "\n",
    "display(DF1.iloc[38])"
   ]
  },
  {
   "cell_type": "code",
   "execution_count": 764,
   "id": "2637efd1",
   "metadata": {},
   "outputs": [
    {
     "data": {
      "text/plain": [
       "MAIN_ADDRESS     86-05 91st AveWoodhaven, NY 11421\n",
       "Property Type                   Multi-family home \n",
       "PRICE                                      1280000\n",
       "BEDS                                             7\n",
       "BATH                                           5.0\n",
       "PROPERTYSQFT                                2460.0\n",
       "Brokerages             E Realty International Corp\n",
       "LATITUDE                                 40.688312\n",
       "LATITUDE                                 40.688312\n",
       "Borough                                     Queens\n",
       "Zipcode                                      11421\n",
       "Neighborhood                                   nan\n",
       "Name: 42, dtype: object"
      ]
     },
     "metadata": {},
     "output_type": "display_data"
    }
   ],
   "source": [
    "##Viewing one specific Row. Row 42. Also Nan\n",
    "#Did not input this Southwest Queens zipcode.\n",
    "\n",
    "display(DF1.iloc[42])"
   ]
  },
  {
   "cell_type": "code",
   "execution_count": 765,
   "id": "40406ec0",
   "metadata": {},
   "outputs": [],
   "source": [
    "#Adding in this neighborhood\n",
    "\n",
    "DF1.loc[DF1['Zipcode'] ==11249, 'Neighborhood'] = 'Williamsburg'"
   ]
  },
  {
   "cell_type": "code",
   "execution_count": 766,
   "id": "b0f26a67",
   "metadata": {},
   "outputs": [],
   "source": [
    "#Adding in this neighborhood\n",
    "\n",
    "DF1.loc[DF1['Zipcode'] ==11421, 'Neighborhood'] = 'Southwest Queens'"
   ]
  },
  {
   "cell_type": "code",
   "execution_count": 769,
   "id": "f36e51f8",
   "metadata": {},
   "outputs": [
    {
     "data": {
      "text/plain": [
       "4741                    nan\n",
       "4743    West Central Queens\n",
       "4745        Upper East Side\n",
       "4748            South Shore\n",
       "4749        Upper East Side\n",
       "4750        Upper East Side\n",
       "4754                    nan\n",
       "4755        Lower East Side\n",
       "4756        Upper East Side\n",
       "4757            High Bridge\n",
       "4758          Gramercy Park\n",
       "4759         Central Harlem\n",
       "4760           Borough Park\n",
       "4761         South Brooklyn\n",
       "4762    West Central Queens\n",
       "4763    West Central Queens\n",
       "4764     Southwest Brooklyn\n",
       "4765        Upper East Side\n",
       "4766            West Queens\n",
       "4767           North Queens\n",
       "4768       Northwest Queens\n",
       "4769                    nan\n",
       "4770        Lower East Side\n",
       "4771             Mid Island\n",
       "4772       Central Brooklyn\n",
       "4773          East New York\n",
       "4774          East New York\n",
       "4776            South Shore\n",
       "4777               Canarsie\n",
       "4778     Southwest Brooklyn\n",
       "4779       Central Brooklyn\n",
       "4781           Williamsburg\n",
       "4783        Northeast Bronx\n",
       "4784                    nan\n",
       "4785               Rockaway\n",
       "4786                Jamaica\n",
       "4787         Central Harlem\n",
       "4788        Upper East Side\n",
       "4789            West Queens\n",
       "4790                   Soho\n",
       "4791          Gramercy Park\n",
       "4792            Sunset Park\n",
       "4793        Upper East Side\n",
       "4794         Central Harlem\n",
       "4795         South Brooklyn\n",
       "4796        Upper East Side\n",
       "4797    West Central Queens\n",
       "4798                Chelsea\n",
       "4799            West Queens\n",
       "4800         South Brooklyn\n",
       "Name: Neighborhood, dtype: object"
      ]
     },
     "execution_count": 769,
     "metadata": {},
     "output_type": "execute_result"
    }
   ],
   "source": [
    "#Checking, further\n",
    "\n",
    "DF1['Neighborhood'].tail(50)"
   ]
  },
  {
   "cell_type": "code",
   "execution_count": 780,
   "id": "728766b7",
   "metadata": {},
   "outputs": [
    {
     "data": {
      "text/html": [
       "<div>\n",
       "<style scoped>\n",
       "    .dataframe tbody tr th:only-of-type {\n",
       "        vertical-align: middle;\n",
       "    }\n",
       "\n",
       "    .dataframe tbody tr th {\n",
       "        vertical-align: top;\n",
       "    }\n",
       "\n",
       "    .dataframe thead th {\n",
       "        text-align: right;\n",
       "    }\n",
       "</style>\n",
       "<table border=\"1\" class=\"dataframe\">\n",
       "  <thead>\n",
       "    <tr style=\"text-align: right;\">\n",
       "      <th></th>\n",
       "      <th>MAIN_ADDRESS</th>\n",
       "      <th>Property Type</th>\n",
       "      <th>PRICE</th>\n",
       "      <th>BEDS</th>\n",
       "      <th>BATH</th>\n",
       "      <th>PROPERTYSQFT</th>\n",
       "      <th>Brokerages</th>\n",
       "      <th>LATITUDE</th>\n",
       "      <th>LATITUDE</th>\n",
       "      <th>Borough</th>\n",
       "      <th>Zipcode</th>\n",
       "      <th>Neighborhood</th>\n",
       "    </tr>\n",
       "  </thead>\n",
       "  <tbody>\n",
       "    <tr>\n",
       "      <th>4741</th>\n",
       "      <td>2 River Ter Apt 3FNew York, NY 10282</td>\n",
       "      <td>Condo</td>\n",
       "      <td>1350000</td>\n",
       "      <td>1</td>\n",
       "      <td>2.0</td>\n",
       "      <td>822.000000</td>\n",
       "      <td>Douglas Elliman</td>\n",
       "      <td>40.715296</td>\n",
       "      <td>40.715296</td>\n",
       "      <td>Manhattan</td>\n",
       "      <td>10282</td>\n",
       "      <td>Lower Manhattan</td>\n",
       "    </tr>\n",
       "    <tr>\n",
       "      <th>4743</th>\n",
       "      <td>7502 Austin St Apt 3AForest Hills, NY 11375</td>\n",
       "      <td>Co-op</td>\n",
       "      <td>460000</td>\n",
       "      <td>2</td>\n",
       "      <td>1.0</td>\n",
       "      <td>2184.207862</td>\n",
       "      <td>Bah Realty Group Llc</td>\n",
       "      <td>40.717120</td>\n",
       "      <td>40.717120</td>\n",
       "      <td>Queens</td>\n",
       "      <td>11375</td>\n",
       "      <td>West Central Queens</td>\n",
       "    </tr>\n",
       "    <tr>\n",
       "      <th>4745</th>\n",
       "      <td>115-117 W 87th St Unit TownhouseManhattan, NY ...</td>\n",
       "      <td>Townhouse</td>\n",
       "      <td>10500000</td>\n",
       "      <td>7</td>\n",
       "      <td>10.0</td>\n",
       "      <td>7040.000000</td>\n",
       "      <td>Brown Harris Stevens</td>\n",
       "      <td>40.787573</td>\n",
       "      <td>40.787573</td>\n",
       "      <td>Manhattan</td>\n",
       "      <td>10024</td>\n",
       "      <td>Upper East Side</td>\n",
       "    </tr>\n",
       "    <tr>\n",
       "      <th>4748</th>\n",
       "      <td>284 Corbin AveStaten Island, NY 10308</td>\n",
       "      <td>House</td>\n",
       "      <td>829999</td>\n",
       "      <td>3</td>\n",
       "      <td>2.5</td>\n",
       "      <td>1380.000000</td>\n",
       "      <td>Robert Defalco Realty, Inc.</td>\n",
       "      <td>40.563706</td>\n",
       "      <td>40.563706</td>\n",
       "      <td>Staten Island</td>\n",
       "      <td>10308</td>\n",
       "      <td>South Shore</td>\n",
       "    </tr>\n",
       "    <tr>\n",
       "      <th>4749</th>\n",
       "      <td>246 W End Ave Apt 6AManhattan, NY 10023</td>\n",
       "      <td>Co-op</td>\n",
       "      <td>1950000</td>\n",
       "      <td>2</td>\n",
       "      <td>2.0</td>\n",
       "      <td>1350.000000</td>\n",
       "      <td>COMPASS</td>\n",
       "      <td>40.779049</td>\n",
       "      <td>40.779049</td>\n",
       "      <td>Manhattan</td>\n",
       "      <td>10023</td>\n",
       "      <td>Upper East Side</td>\n",
       "    </tr>\n",
       "    <tr>\n",
       "      <th>4750</th>\n",
       "      <td>609 Columbus Ave Apt 14CNew York, NY 10024</td>\n",
       "      <td>Co-op</td>\n",
       "      <td>740000</td>\n",
       "      <td>2</td>\n",
       "      <td>2.0</td>\n",
       "      <td>800.000000</td>\n",
       "      <td>Corcoran</td>\n",
       "      <td>40.788708</td>\n",
       "      <td>40.788708</td>\n",
       "      <td>Manhattan</td>\n",
       "      <td>10024</td>\n",
       "      <td>Upper East Side</td>\n",
       "    </tr>\n",
       "    <tr>\n",
       "      <th>4754</th>\n",
       "      <td>152-18 Union Tpke Ph BFlushing, NY 11367</td>\n",
       "      <td>Condo</td>\n",
       "      <td>518000</td>\n",
       "      <td>1</td>\n",
       "      <td>1.0</td>\n",
       "      <td>2184.207862</td>\n",
       "      <td>North East Queens Realty Corp</td>\n",
       "      <td>40.718869</td>\n",
       "      <td>40.718869</td>\n",
       "      <td>Queens</td>\n",
       "      <td>11367</td>\n",
       "      <td>Central Queens</td>\n",
       "    </tr>\n",
       "    <tr>\n",
       "      <th>4755</th>\n",
       "      <td>100 Suffolk St Unit 1DDNew York, NY 10002</td>\n",
       "      <td>Co-op</td>\n",
       "      <td>500000</td>\n",
       "      <td>1</td>\n",
       "      <td>1.0</td>\n",
       "      <td>2184.207862</td>\n",
       "      <td>BH Realty Group</td>\n",
       "      <td>40.717924</td>\n",
       "      <td>40.717924</td>\n",
       "      <td>Manhattan</td>\n",
       "      <td>10002</td>\n",
       "      <td>Lower East Side</td>\n",
       "    </tr>\n",
       "    <tr>\n",
       "      <th>4756</th>\n",
       "      <td>145 Central Park W Apt 1BNew York, NY 10023</td>\n",
       "      <td>Pending</td>\n",
       "      <td>1175000</td>\n",
       "      <td>3</td>\n",
       "      <td>1.0</td>\n",
       "      <td>1500.000000</td>\n",
       "      <td>Corcoran</td>\n",
       "      <td>40.777895</td>\n",
       "      <td>40.777895</td>\n",
       "      <td>Manhattan</td>\n",
       "      <td>10023</td>\n",
       "      <td>Upper East Side</td>\n",
       "    </tr>\n",
       "    <tr>\n",
       "      <th>4757</th>\n",
       "      <td>800 Grand Concourse Apt GmsBronx, NY 10451</td>\n",
       "      <td>Co-op</td>\n",
       "      <td>275000</td>\n",
       "      <td>2</td>\n",
       "      <td>1.0</td>\n",
       "      <td>815.000000</td>\n",
       "      <td>COMPASS</td>\n",
       "      <td>40.824870</td>\n",
       "      <td>40.824870</td>\n",
       "      <td>Bronx</td>\n",
       "      <td>10451</td>\n",
       "      <td>High Bridge</td>\n",
       "    </tr>\n",
       "    <tr>\n",
       "      <th>4758</th>\n",
       "      <td>201 E 21st St Apt 2HManhattan, NY 10010</td>\n",
       "      <td>Co-op</td>\n",
       "      <td>550000</td>\n",
       "      <td>3</td>\n",
       "      <td>1.0</td>\n",
       "      <td>2184.207862</td>\n",
       "      <td>COMPASS</td>\n",
       "      <td>40.737546</td>\n",
       "      <td>40.737546</td>\n",
       "      <td>Manhattan</td>\n",
       "      <td>10010</td>\n",
       "      <td>Gramercy Park</td>\n",
       "    </tr>\n",
       "    <tr>\n",
       "      <th>4759</th>\n",
       "      <td>18 W 127th StNew York, NY 10027</td>\n",
       "      <td>Multi-family home</td>\n",
       "      <td>2500000</td>\n",
       "      <td>3</td>\n",
       "      <td>2.5</td>\n",
       "      <td>4100.000000</td>\n",
       "      <td>R New York</td>\n",
       "      <td>40.807940</td>\n",
       "      <td>40.807940</td>\n",
       "      <td>Manhattan</td>\n",
       "      <td>10027</td>\n",
       "      <td>Central Harlem</td>\n",
       "    </tr>\n",
       "    <tr>\n",
       "      <th>4760</th>\n",
       "      <td>2324 60th StBrooklyn, NY 11204</td>\n",
       "      <td>Multi-family home</td>\n",
       "      <td>2000000</td>\n",
       "      <td>8</td>\n",
       "      <td>2.5</td>\n",
       "      <td>2184.207862</td>\n",
       "      <td>None</td>\n",
       "      <td>40.614758</td>\n",
       "      <td>40.614758</td>\n",
       "      <td>Brooklyn</td>\n",
       "      <td>11204</td>\n",
       "      <td>Borough Park</td>\n",
       "    </tr>\n",
       "    <tr>\n",
       "      <th>4761</th>\n",
       "      <td>2115 Kenmore CtBrooklyn, NY 11235</td>\n",
       "      <td>House</td>\n",
       "      <td>975000</td>\n",
       "      <td>3</td>\n",
       "      <td>2.0</td>\n",
       "      <td>1400.000000</td>\n",
       "      <td>TRACEY REAL ESTATE</td>\n",
       "      <td>40.585665</td>\n",
       "      <td>40.585665</td>\n",
       "      <td>Brooklyn</td>\n",
       "      <td>11235</td>\n",
       "      <td>South Brooklyn</td>\n",
       "    </tr>\n",
       "    <tr>\n",
       "      <th>4762</th>\n",
       "      <td>76-66 Austin St Unit 2OForest Hills, NY 11375</td>\n",
       "      <td>Co-op</td>\n",
       "      <td>279000</td>\n",
       "      <td>1</td>\n",
       "      <td>1.0</td>\n",
       "      <td>800.000000</td>\n",
       "      <td>Benjamin Realty Since 1980</td>\n",
       "      <td>40.715200</td>\n",
       "      <td>40.715200</td>\n",
       "      <td>Queens</td>\n",
       "      <td>11375</td>\n",
       "      <td>West Central Queens</td>\n",
       "    </tr>\n",
       "    <tr>\n",
       "      <th>4763</th>\n",
       "      <td>105-26 65th RdForest Hills, NY 11375</td>\n",
       "      <td>Pending</td>\n",
       "      <td>1058000</td>\n",
       "      <td>3</td>\n",
       "      <td>2.0</td>\n",
       "      <td>2184.207862</td>\n",
       "      <td>Jamie &amp; Connie Real Estate Grp</td>\n",
       "      <td>40.730375</td>\n",
       "      <td>40.730375</td>\n",
       "      <td>Queens</td>\n",
       "      <td>11375</td>\n",
       "      <td>West Central Queens</td>\n",
       "    </tr>\n",
       "    <tr>\n",
       "      <th>4764</th>\n",
       "      <td>460 Ovington Ave Apt 2HBrooklyn, NY 11209</td>\n",
       "      <td>Co-op</td>\n",
       "      <td>189000</td>\n",
       "      <td>3</td>\n",
       "      <td>1.0</td>\n",
       "      <td>300.000000</td>\n",
       "      <td>None</td>\n",
       "      <td>40.632771</td>\n",
       "      <td>40.632771</td>\n",
       "      <td>Brooklyn</td>\n",
       "      <td>11209</td>\n",
       "      <td>Southwest Brooklyn</td>\n",
       "    </tr>\n",
       "    <tr>\n",
       "      <th>4765</th>\n",
       "      <td>329 W 71st St Apt 4New York, NY 10023</td>\n",
       "      <td>Co-op</td>\n",
       "      <td>3450000</td>\n",
       "      <td>3</td>\n",
       "      <td>4.0</td>\n",
       "      <td>1965.000000</td>\n",
       "      <td>Douglas Elliman</td>\n",
       "      <td>40.779477</td>\n",
       "      <td>40.779477</td>\n",
       "      <td>Manhattan</td>\n",
       "      <td>10023</td>\n",
       "      <td>Upper East Side</td>\n",
       "    </tr>\n",
       "    <tr>\n",
       "      <th>4766</th>\n",
       "      <td>60-70 Woodhaven Blvd Unit 3CElmhurst, NY 11373</td>\n",
       "      <td>Condo</td>\n",
       "      <td>550000</td>\n",
       "      <td>2</td>\n",
       "      <td>2.0</td>\n",
       "      <td>721.000000</td>\n",
       "      <td>E Realty International Corp</td>\n",
       "      <td>40.730136</td>\n",
       "      <td>40.730136</td>\n",
       "      <td>Queens</td>\n",
       "      <td>11373</td>\n",
       "      <td>West Queens</td>\n",
       "    </tr>\n",
       "    <tr>\n",
       "      <th>4767</th>\n",
       "      <td>42-22 191 StFlushing, NY 11358</td>\n",
       "      <td>Multi-family home</td>\n",
       "      <td>1499000</td>\n",
       "      <td>5</td>\n",
       "      <td>2.0</td>\n",
       "      <td>1520.000000</td>\n",
       "      <td>Winzone Realty Inc</td>\n",
       "      <td>40.758777</td>\n",
       "      <td>40.758777</td>\n",
       "      <td>Queens</td>\n",
       "      <td>11358</td>\n",
       "      <td>North Queens</td>\n",
       "    </tr>\n",
       "    <tr>\n",
       "      <th>4768</th>\n",
       "      <td>33-54 10th StLong Island City, NY 11106</td>\n",
       "      <td>Multi-family home</td>\n",
       "      <td>1299999</td>\n",
       "      <td>4</td>\n",
       "      <td>2.0</td>\n",
       "      <td>2184.207862</td>\n",
       "      <td>Keller Williams</td>\n",
       "      <td>40.766061</td>\n",
       "      <td>40.766061</td>\n",
       "      <td>Queens</td>\n",
       "      <td>11106</td>\n",
       "      <td>Northwest Queens</td>\n",
       "    </tr>\n",
       "    <tr>\n",
       "      <th>4769</th>\n",
       "      <td>54-44 Litttle Neck Pkwy Unit 3PLittle Neck, NY...</td>\n",
       "      <td>Co-op</td>\n",
       "      <td>219000</td>\n",
       "      <td>1</td>\n",
       "      <td>1.0</td>\n",
       "      <td>2184.207862</td>\n",
       "      <td>Signature Premier Properties</td>\n",
       "      <td>40.765777</td>\n",
       "      <td>40.765777</td>\n",
       "      <td>Queens</td>\n",
       "      <td>11362</td>\n",
       "      <td>Northeast Queens</td>\n",
       "    </tr>\n",
       "    <tr>\n",
       "      <th>4770</th>\n",
       "      <td>242 E 15th St Apt 1New York, NY 10003</td>\n",
       "      <td>Condo</td>\n",
       "      <td>2600000</td>\n",
       "      <td>3</td>\n",
       "      <td>2.0</td>\n",
       "      <td>1729.000000</td>\n",
       "      <td>Sotheby's International Realty</td>\n",
       "      <td>40.733031</td>\n",
       "      <td>40.733031</td>\n",
       "      <td>Manhattan</td>\n",
       "      <td>10003</td>\n",
       "      <td>Lower East Side</td>\n",
       "    </tr>\n",
       "    <tr>\n",
       "      <th>4771</th>\n",
       "      <td>50 Sleepy Hollow RdStaten Island, NY 10314</td>\n",
       "      <td>House</td>\n",
       "      <td>825900</td>\n",
       "      <td>3</td>\n",
       "      <td>2.0</td>\n",
       "      <td>1923.000000</td>\n",
       "      <td>RE MAX</td>\n",
       "      <td>40.594143</td>\n",
       "      <td>40.594143</td>\n",
       "      <td>Staten Island</td>\n",
       "      <td>10314</td>\n",
       "      <td>Mid Island</td>\n",
       "    </tr>\n",
       "    <tr>\n",
       "      <th>4772</th>\n",
       "      <td>850 Saint Marks Ave Apt 2JBrooklyn, NY 11213</td>\n",
       "      <td>Co-op</td>\n",
       "      <td>370000</td>\n",
       "      <td>1</td>\n",
       "      <td>1.0</td>\n",
       "      <td>680.000000</td>\n",
       "      <td>Nest Seekers Bedford</td>\n",
       "      <td>40.674716</td>\n",
       "      <td>40.674716</td>\n",
       "      <td>Brooklyn</td>\n",
       "      <td>11213</td>\n",
       "      <td>Central Brooklyn</td>\n",
       "    </tr>\n",
       "    <tr>\n",
       "      <th>4773</th>\n",
       "      <td>765 Shepherd AveBrooklyn, NY 11208</td>\n",
       "      <td>House</td>\n",
       "      <td>569000</td>\n",
       "      <td>2</td>\n",
       "      <td>1.0</td>\n",
       "      <td>840.000000</td>\n",
       "      <td>CENTURY 21</td>\n",
       "      <td>40.665689</td>\n",
       "      <td>40.665689</td>\n",
       "      <td>Brooklyn</td>\n",
       "      <td>11208</td>\n",
       "      <td>East New York</td>\n",
       "    </tr>\n",
       "    <tr>\n",
       "      <th>4774</th>\n",
       "      <td>21 Adler PlBrooklyn, NY 11208</td>\n",
       "      <td>Multi-family home</td>\n",
       "      <td>890000</td>\n",
       "      <td>4</td>\n",
       "      <td>3.0</td>\n",
       "      <td>2184.207862</td>\n",
       "      <td>Home Global Realty</td>\n",
       "      <td>40.685098</td>\n",
       "      <td>40.685098</td>\n",
       "      <td>Brooklyn</td>\n",
       "      <td>11208</td>\n",
       "      <td>East New York</td>\n",
       "    </tr>\n",
       "    <tr>\n",
       "      <th>4776</th>\n",
       "      <td>780 Stafford AveStaten Island, NY 10309</td>\n",
       "      <td>Pending</td>\n",
       "      <td>555000</td>\n",
       "      <td>3</td>\n",
       "      <td>2.5</td>\n",
       "      <td>2184.207862</td>\n",
       "      <td>CENTURY 21 KR REALTY</td>\n",
       "      <td>40.540344</td>\n",
       "      <td>40.540344</td>\n",
       "      <td>Staten Island</td>\n",
       "      <td>10309</td>\n",
       "      <td>South Shore</td>\n",
       "    </tr>\n",
       "    <tr>\n",
       "      <th>4777</th>\n",
       "      <td>8324 Glenwood RdBrooklyn, NY 11236</td>\n",
       "      <td>Multi-family home</td>\n",
       "      <td>799000</td>\n",
       "      <td>3</td>\n",
       "      <td>2.0</td>\n",
       "      <td>2184.207862</td>\n",
       "      <td>Geo Real Estate Group Inc</td>\n",
       "      <td>40.638624</td>\n",
       "      <td>40.638624</td>\n",
       "      <td>Brooklyn</td>\n",
       "      <td>11236</td>\n",
       "      <td>Canarsie</td>\n",
       "    </tr>\n",
       "    <tr>\n",
       "      <th>4778</th>\n",
       "      <td>2502 84th StBrooklyn, NY 11214</td>\n",
       "      <td>Multi-family home</td>\n",
       "      <td>2300000</td>\n",
       "      <td>3</td>\n",
       "      <td>3.0</td>\n",
       "      <td>2355.000000</td>\n",
       "      <td>STROFFOLINO REALTY LLC</td>\n",
       "      <td>40.598830</td>\n",
       "      <td>40.598830</td>\n",
       "      <td>Brooklyn</td>\n",
       "      <td>11214</td>\n",
       "      <td>Southwest Brooklyn</td>\n",
       "    </tr>\n",
       "    <tr>\n",
       "      <th>4779</th>\n",
       "      <td>217 Remsen AveBrooklyn, NY 11212</td>\n",
       "      <td>House</td>\n",
       "      <td>799000</td>\n",
       "      <td>3</td>\n",
       "      <td>2.0</td>\n",
       "      <td>1989.000000</td>\n",
       "      <td>Fine Choice Realty Inc</td>\n",
       "      <td>40.659260</td>\n",
       "      <td>40.659260</td>\n",
       "      <td>Brooklyn</td>\n",
       "      <td>11212</td>\n",
       "      <td>Central Brooklyn</td>\n",
       "    </tr>\n",
       "    <tr>\n",
       "      <th>4781</th>\n",
       "      <td>49 N 8th St Apt 6EBrooklyn, NY 11249</td>\n",
       "      <td>Condo</td>\n",
       "      <td>2500000</td>\n",
       "      <td>2</td>\n",
       "      <td>2.0</td>\n",
       "      <td>1111.000000</td>\n",
       "      <td>COMPASS</td>\n",
       "      <td>40.720853</td>\n",
       "      <td>40.720853</td>\n",
       "      <td>Brooklyn</td>\n",
       "      <td>11249</td>\n",
       "      <td>Williamsburg</td>\n",
       "    </tr>\n",
       "    <tr>\n",
       "      <th>4783</th>\n",
       "      <td>4568 Carpenter AveBronx, NY 10470</td>\n",
       "      <td>Multi-family home</td>\n",
       "      <td>799000</td>\n",
       "      <td>6</td>\n",
       "      <td>2.5</td>\n",
       "      <td>2000.000000</td>\n",
       "      <td>Silverside Realty LLC</td>\n",
       "      <td>40.902780</td>\n",
       "      <td>40.902780</td>\n",
       "      <td>Bronx</td>\n",
       "      <td>10470</td>\n",
       "      <td>Northeast Bronx</td>\n",
       "    </tr>\n",
       "    <tr>\n",
       "      <th>4784</th>\n",
       "      <td>97-52 75th St Unit B42Ozone Park, NY 11416</td>\n",
       "      <td>Condo</td>\n",
       "      <td>349000</td>\n",
       "      <td>2</td>\n",
       "      <td>1.0</td>\n",
       "      <td>2184.207862</td>\n",
       "      <td>Akcess24homes Inc</td>\n",
       "      <td>40.679752</td>\n",
       "      <td>40.679752</td>\n",
       "      <td>Queens</td>\n",
       "      <td>11416</td>\n",
       "      <td>nan</td>\n",
       "    </tr>\n",
       "    <tr>\n",
       "      <th>4785</th>\n",
       "      <td>557 Beach 129th StQueens, NY 11694</td>\n",
       "      <td>Pending</td>\n",
       "      <td>1299999</td>\n",
       "      <td>6</td>\n",
       "      <td>5.0</td>\n",
       "      <td>3608.000000</td>\n",
       "      <td>RE MAX</td>\n",
       "      <td>40.581207</td>\n",
       "      <td>40.581207</td>\n",
       "      <td>Queens</td>\n",
       "      <td>11694</td>\n",
       "      <td>Rockaway</td>\n",
       "    </tr>\n",
       "    <tr>\n",
       "      <th>4786</th>\n",
       "      <td>164-08 85th AveJamaica, NY 11432</td>\n",
       "      <td>Multi-family home</td>\n",
       "      <td>1380000</td>\n",
       "      <td>12</td>\n",
       "      <td>3.0</td>\n",
       "      <td>2681.000000</td>\n",
       "      <td>Winzone Realty Inc</td>\n",
       "      <td>40.712448</td>\n",
       "      <td>40.712448</td>\n",
       "      <td>Queens</td>\n",
       "      <td>11432</td>\n",
       "      <td>Jamaica</td>\n",
       "    </tr>\n",
       "    <tr>\n",
       "      <th>4787</th>\n",
       "      <td>127 W 112th St Apt 1BNew York, NY 10026</td>\n",
       "      <td>Condo</td>\n",
       "      <td>499000</td>\n",
       "      <td>3</td>\n",
       "      <td>1.0</td>\n",
       "      <td>472.000000</td>\n",
       "      <td>REAL NEW YORK</td>\n",
       "      <td>40.800382</td>\n",
       "      <td>40.800382</td>\n",
       "      <td>Manhattan</td>\n",
       "      <td>10026</td>\n",
       "      <td>Central Harlem</td>\n",
       "    </tr>\n",
       "    <tr>\n",
       "      <th>4788</th>\n",
       "      <td>1175 Park Ave Unit 1CNew York, NY 10128</td>\n",
       "      <td>Co-op</td>\n",
       "      <td>4750000</td>\n",
       "      <td>3</td>\n",
       "      <td>2.5</td>\n",
       "      <td>2969.000000</td>\n",
       "      <td>J Shayovitz Real Estate Corp</td>\n",
       "      <td>40.784392</td>\n",
       "      <td>40.784392</td>\n",
       "      <td>Manhattan</td>\n",
       "      <td>10128</td>\n",
       "      <td>Upper East Side</td>\n",
       "    </tr>\n",
       "    <tr>\n",
       "      <th>4789</th>\n",
       "      <td>51-42 30 Ave Unit 2Woodside, NY 11377</td>\n",
       "      <td>Co-op</td>\n",
       "      <td>285000</td>\n",
       "      <td>1</td>\n",
       "      <td>1.0</td>\n",
       "      <td>2184.207862</td>\n",
       "      <td>New York Way Real Estate Corp</td>\n",
       "      <td>40.758694</td>\n",
       "      <td>40.758694</td>\n",
       "      <td>Queens</td>\n",
       "      <td>11377</td>\n",
       "      <td>West Queens</td>\n",
       "    </tr>\n",
       "    <tr>\n",
       "      <th>4790</th>\n",
       "      <td>109 Lafayette St Rm 502New York, NY 10013</td>\n",
       "      <td>Condo</td>\n",
       "      <td>789000</td>\n",
       "      <td>3</td>\n",
       "      <td>2.5</td>\n",
       "      <td>800.000000</td>\n",
       "      <td>Serhant</td>\n",
       "      <td>40.717926</td>\n",
       "      <td>40.717926</td>\n",
       "      <td>Manhattan</td>\n",
       "      <td>10013</td>\n",
       "      <td>Soho</td>\n",
       "    </tr>\n",
       "    <tr>\n",
       "      <th>4791</th>\n",
       "      <td>342 E 53rd St Apt 6CNew York, NY 10022</td>\n",
       "      <td>Co-op</td>\n",
       "      <td>370000</td>\n",
       "      <td>3</td>\n",
       "      <td>1.0</td>\n",
       "      <td>2184.207862</td>\n",
       "      <td>Corcoran</td>\n",
       "      <td>40.755822</td>\n",
       "      <td>40.755822</td>\n",
       "      <td>Manhattan</td>\n",
       "      <td>10022</td>\n",
       "      <td>Gramercy Park</td>\n",
       "    </tr>\n",
       "    <tr>\n",
       "      <th>4792</th>\n",
       "      <td>448 40th StBrooklyn, NY 11232</td>\n",
       "      <td>Multi-family home</td>\n",
       "      <td>1700000</td>\n",
       "      <td>3</td>\n",
       "      <td>7.0</td>\n",
       "      <td>7854.000000</td>\n",
       "      <td>Ilite Realty Inc</td>\n",
       "      <td>40.651222</td>\n",
       "      <td>40.651222</td>\n",
       "      <td>Brooklyn</td>\n",
       "      <td>11232</td>\n",
       "      <td>Sunset Park</td>\n",
       "    </tr>\n",
       "    <tr>\n",
       "      <th>4793</th>\n",
       "      <td>700 Park Ave Unit 20ANew York, NY 10021</td>\n",
       "      <td>Co-op</td>\n",
       "      <td>1950000</td>\n",
       "      <td>2</td>\n",
       "      <td>4.0</td>\n",
       "      <td>2184.207862</td>\n",
       "      <td>Engel &amp; V�������</td>\n",
       "      <td>40.769478</td>\n",
       "      <td>40.769478</td>\n",
       "      <td>Manhattan</td>\n",
       "      <td>10021</td>\n",
       "      <td>Upper East Side</td>\n",
       "    </tr>\n",
       "    <tr>\n",
       "      <th>4794</th>\n",
       "      <td>2351 Adam Clayton Powell Jr Blvd Apt 614Manhat...</td>\n",
       "      <td>Condo</td>\n",
       "      <td>945000</td>\n",
       "      <td>2</td>\n",
       "      <td>2.0</td>\n",
       "      <td>903.000000</td>\n",
       "      <td>Brown Harris Stevens</td>\n",
       "      <td>40.816711</td>\n",
       "      <td>40.816711</td>\n",
       "      <td>Manhattan</td>\n",
       "      <td>10030</td>\n",
       "      <td>Central Harlem</td>\n",
       "    </tr>\n",
       "    <tr>\n",
       "      <th>4795</th>\n",
       "      <td>2825-2827 W 15th StBrooklyn, NY 11224</td>\n",
       "      <td>Multi-family home</td>\n",
       "      <td>2999999</td>\n",
       "      <td>15</td>\n",
       "      <td>9.0</td>\n",
       "      <td>3600.000000</td>\n",
       "      <td>RE MAX</td>\n",
       "      <td>40.578450</td>\n",
       "      <td>40.578450</td>\n",
       "      <td>Brooklyn</td>\n",
       "      <td>11224</td>\n",
       "      <td>South Brooklyn</td>\n",
       "    </tr>\n",
       "    <tr>\n",
       "      <th>4796</th>\n",
       "      <td>222 E 80th St Apt 3AManhattan, NY 10075</td>\n",
       "      <td>Co-op</td>\n",
       "      <td>599000</td>\n",
       "      <td>1</td>\n",
       "      <td>1.0</td>\n",
       "      <td>2184.207862</td>\n",
       "      <td>COMPASS</td>\n",
       "      <td>40.774350</td>\n",
       "      <td>40.774350</td>\n",
       "      <td>Manhattan</td>\n",
       "      <td>10075</td>\n",
       "      <td>Upper East Side</td>\n",
       "    </tr>\n",
       "    <tr>\n",
       "      <th>4797</th>\n",
       "      <td>97-40 62 Dr Unit LgRego Park, NY 11374</td>\n",
       "      <td>Co-op</td>\n",
       "      <td>245000</td>\n",
       "      <td>1</td>\n",
       "      <td>1.0</td>\n",
       "      <td>2184.207862</td>\n",
       "      <td>Mjr Real Estate Llc</td>\n",
       "      <td>40.732538</td>\n",
       "      <td>40.732538</td>\n",
       "      <td>Queens</td>\n",
       "      <td>11374</td>\n",
       "      <td>West Central Queens</td>\n",
       "    </tr>\n",
       "    <tr>\n",
       "      <th>4798</th>\n",
       "      <td>427 W 21st St Unit GardenNew York, NY 10011</td>\n",
       "      <td>Co-op</td>\n",
       "      <td>1275000</td>\n",
       "      <td>1</td>\n",
       "      <td>1.0</td>\n",
       "      <td>2184.207862</td>\n",
       "      <td>Douglas Elliman</td>\n",
       "      <td>40.745882</td>\n",
       "      <td>40.745882</td>\n",
       "      <td>Manhattan</td>\n",
       "      <td>10011</td>\n",
       "      <td>Chelsea</td>\n",
       "    </tr>\n",
       "    <tr>\n",
       "      <th>4799</th>\n",
       "      <td>91-23 Corona Ave Unit 4GElmhurst, NY 11373</td>\n",
       "      <td>Condo</td>\n",
       "      <td>598125</td>\n",
       "      <td>2</td>\n",
       "      <td>1.0</td>\n",
       "      <td>655.000000</td>\n",
       "      <td>E Realty International Corp</td>\n",
       "      <td>40.742770</td>\n",
       "      <td>40.742770</td>\n",
       "      <td>Queens</td>\n",
       "      <td>11373</td>\n",
       "      <td>West Queens</td>\n",
       "    </tr>\n",
       "    <tr>\n",
       "      <th>4800</th>\n",
       "      <td>460 Neptune Ave Apt 14OBrooklyn, NY 11224</td>\n",
       "      <td>Co-op</td>\n",
       "      <td>349000</td>\n",
       "      <td>1</td>\n",
       "      <td>1.0</td>\n",
       "      <td>750.000000</td>\n",
       "      <td>Nyc Realty Brokers Llc</td>\n",
       "      <td>40.579147</td>\n",
       "      <td>40.579147</td>\n",
       "      <td>Brooklyn</td>\n",
       "      <td>11224</td>\n",
       "      <td>South Brooklyn</td>\n",
       "    </tr>\n",
       "  </tbody>\n",
       "</table>\n",
       "</div>"
      ],
      "text/plain": [
       "                                           MAIN_ADDRESS       Property Type  \\\n",
       "4741               2 River Ter Apt 3FNew York, NY 10282              Condo    \n",
       "4743        7502 Austin St Apt 3AForest Hills, NY 11375              Co-op    \n",
       "4745  115-117 W 87th St Unit TownhouseManhattan, NY ...          Townhouse    \n",
       "4748              284 Corbin AveStaten Island, NY 10308              House    \n",
       "4749            246 W End Ave Apt 6AManhattan, NY 10023              Co-op    \n",
       "4750         609 Columbus Ave Apt 14CNew York, NY 10024              Co-op    \n",
       "4754           152-18 Union Tpke Ph BFlushing, NY 11367              Condo    \n",
       "4755          100 Suffolk St Unit 1DDNew York, NY 10002              Co-op    \n",
       "4756        145 Central Park W Apt 1BNew York, NY 10023             Pending   \n",
       "4757         800 Grand Concourse Apt GmsBronx, NY 10451              Co-op    \n",
       "4758            201 E 21st St Apt 2HManhattan, NY 10010              Co-op    \n",
       "4759                    18 W 127th StNew York, NY 10027  Multi-family home    \n",
       "4760                     2324 60th StBrooklyn, NY 11204  Multi-family home    \n",
       "4761                  2115 Kenmore CtBrooklyn, NY 11235              House    \n",
       "4762      76-66 Austin St Unit 2OForest Hills, NY 11375              Co-op    \n",
       "4763               105-26 65th RdForest Hills, NY 11375             Pending   \n",
       "4764          460 Ovington Ave Apt 2HBrooklyn, NY 11209              Co-op    \n",
       "4765              329 W 71st St Apt 4New York, NY 10023              Co-op    \n",
       "4766     60-70 Woodhaven Blvd Unit 3CElmhurst, NY 11373              Condo    \n",
       "4767                     42-22 191 StFlushing, NY 11358  Multi-family home    \n",
       "4768            33-54 10th StLong Island City, NY 11106  Multi-family home    \n",
       "4769  54-44 Litttle Neck Pkwy Unit 3PLittle Neck, NY...              Co-op    \n",
       "4770              242 E 15th St Apt 1New York, NY 10003              Condo    \n",
       "4771         50 Sleepy Hollow RdStaten Island, NY 10314              House    \n",
       "4772       850 Saint Marks Ave Apt 2JBrooklyn, NY 11213              Co-op    \n",
       "4773                 765 Shepherd AveBrooklyn, NY 11208              House    \n",
       "4774                      21 Adler PlBrooklyn, NY 11208  Multi-family home    \n",
       "4776            780 Stafford AveStaten Island, NY 10309             Pending   \n",
       "4777                 8324 Glenwood RdBrooklyn, NY 11236  Multi-family home    \n",
       "4778                     2502 84th StBrooklyn, NY 11214  Multi-family home    \n",
       "4779                   217 Remsen AveBrooklyn, NY 11212              House    \n",
       "4781               49 N 8th St Apt 6EBrooklyn, NY 11249              Condo    \n",
       "4783                  4568 Carpenter AveBronx, NY 10470  Multi-family home    \n",
       "4784         97-52 75th St Unit B42Ozone Park, NY 11416              Condo    \n",
       "4785                 557 Beach 129th StQueens, NY 11694             Pending   \n",
       "4786                   164-08 85th AveJamaica, NY 11432  Multi-family home    \n",
       "4787            127 W 112th St Apt 1BNew York, NY 10026              Condo    \n",
       "4788            1175 Park Ave Unit 1CNew York, NY 10128              Co-op    \n",
       "4789              51-42 30 Ave Unit 2Woodside, NY 11377              Co-op    \n",
       "4790          109 Lafayette St Rm 502New York, NY 10013              Condo    \n",
       "4791             342 E 53rd St Apt 6CNew York, NY 10022              Co-op    \n",
       "4792                      448 40th StBrooklyn, NY 11232  Multi-family home    \n",
       "4793            700 Park Ave Unit 20ANew York, NY 10021              Co-op    \n",
       "4794  2351 Adam Clayton Powell Jr Blvd Apt 614Manhat...              Condo    \n",
       "4795              2825-2827 W 15th StBrooklyn, NY 11224  Multi-family home    \n",
       "4796            222 E 80th St Apt 3AManhattan, NY 10075              Co-op    \n",
       "4797             97-40 62 Dr Unit LgRego Park, NY 11374              Co-op    \n",
       "4798        427 W 21st St Unit GardenNew York, NY 10011              Co-op    \n",
       "4799         91-23 Corona Ave Unit 4GElmhurst, NY 11373              Condo    \n",
       "4800          460 Neptune Ave Apt 14OBrooklyn, NY 11224              Co-op    \n",
       "\n",
       "         PRICE BEDS  BATH  PROPERTYSQFT                        Brokerages  \\\n",
       "4741   1350000    1   2.0    822.000000                  Douglas Elliman    \n",
       "4743    460000    2   1.0   2184.207862              Bah Realty Group Llc   \n",
       "4745  10500000    7  10.0   7040.000000              Brown Harris Stevens   \n",
       "4748    829999    3   2.5   1380.000000       Robert Defalco Realty, Inc.   \n",
       "4749   1950000    2   2.0   1350.000000                           COMPASS   \n",
       "4750    740000    2   2.0    800.000000                          Corcoran   \n",
       "4754    518000    1   1.0   2184.207862     North East Queens Realty Corp   \n",
       "4755    500000    1   1.0   2184.207862                  BH Realty Group    \n",
       "4756   1175000    3   1.0   1500.000000                          Corcoran   \n",
       "4757    275000    2   1.0    815.000000                           COMPASS   \n",
       "4758    550000    3   1.0   2184.207862                           COMPASS   \n",
       "4759   2500000    3   2.5   4100.000000                        R New York   \n",
       "4760   2000000    8   2.5   2184.207862                              None   \n",
       "4761    975000    3   2.0   1400.000000                TRACEY REAL ESTATE   \n",
       "4762    279000    1   1.0    800.000000        Benjamin Realty Since 1980   \n",
       "4763   1058000    3   2.0   2184.207862    Jamie & Connie Real Estate Grp   \n",
       "4764    189000    3   1.0    300.000000                              None   \n",
       "4765   3450000    3   4.0   1965.000000                  Douglas Elliman    \n",
       "4766    550000    2   2.0    721.000000       E Realty International Corp   \n",
       "4767   1499000    5   2.0   1520.000000                Winzone Realty Inc   \n",
       "4768   1299999    4   2.0   2184.207862                   Keller Williams   \n",
       "4769    219000    1   1.0   2184.207862      Signature Premier Properties   \n",
       "4770   2600000    3   2.0   1729.000000   Sotheby's International Realty    \n",
       "4771    825900    3   2.0   1923.000000                            RE MAX   \n",
       "4772    370000    1   1.0    680.000000              Nest Seekers Bedford   \n",
       "4773    569000    2   1.0    840.000000                        CENTURY 21   \n",
       "4774    890000    4   3.0   2184.207862                Home Global Realty   \n",
       "4776    555000    3   2.5   2184.207862              CENTURY 21 KR REALTY   \n",
       "4777    799000    3   2.0   2184.207862         Geo Real Estate Group Inc   \n",
       "4778   2300000    3   3.0   2355.000000            STROFFOLINO REALTY LLC   \n",
       "4779    799000    3   2.0   1989.000000            Fine Choice Realty Inc   \n",
       "4781   2500000    2   2.0   1111.000000                           COMPASS   \n",
       "4783    799000    6   2.5   2000.000000             Silverside Realty LLC   \n",
       "4784    349000    2   1.0   2184.207862                 Akcess24homes Inc   \n",
       "4785   1299999    6   5.0   3608.000000                            RE MAX   \n",
       "4786   1380000   12   3.0   2681.000000                Winzone Realty Inc   \n",
       "4787    499000    3   1.0    472.000000                    REAL NEW YORK    \n",
       "4788   4750000    3   2.5   2969.000000      J Shayovitz Real Estate Corp   \n",
       "4789    285000    1   1.0   2184.207862     New York Way Real Estate Corp   \n",
       "4790    789000    3   2.5    800.000000                           Serhant   \n",
       "4791    370000    3   1.0   2184.207862                          Corcoran   \n",
       "4792   1700000    3   7.0   7854.000000                  Ilite Realty Inc   \n",
       "4793   1950000    2   4.0   2184.207862                  Engel & V�������   \n",
       "4794    945000    2   2.0    903.000000              Brown Harris Stevens   \n",
       "4795   2999999   15   9.0   3600.000000                            RE MAX   \n",
       "4796    599000    1   1.0   2184.207862                           COMPASS   \n",
       "4797    245000    1   1.0   2184.207862               Mjr Real Estate Llc   \n",
       "4798   1275000    1   1.0   2184.207862                  Douglas Elliman    \n",
       "4799    598125    2   1.0    655.000000       E Realty International Corp   \n",
       "4800    349000    1   1.0    750.000000            Nyc Realty Brokers Llc   \n",
       "\n",
       "       LATITUDE   LATITUDE        Borough  Zipcode         Neighborhood  \n",
       "4741  40.715296  40.715296      Manhattan    10282      Lower Manhattan  \n",
       "4743  40.717120  40.717120         Queens    11375  West Central Queens  \n",
       "4745  40.787573  40.787573      Manhattan    10024      Upper East Side  \n",
       "4748  40.563706  40.563706  Staten Island    10308          South Shore  \n",
       "4749  40.779049  40.779049      Manhattan    10023      Upper East Side  \n",
       "4750  40.788708  40.788708      Manhattan    10024      Upper East Side  \n",
       "4754  40.718869  40.718869         Queens    11367       Central Queens  \n",
       "4755  40.717924  40.717924      Manhattan    10002      Lower East Side  \n",
       "4756  40.777895  40.777895      Manhattan    10023      Upper East Side  \n",
       "4757  40.824870  40.824870          Bronx    10451          High Bridge  \n",
       "4758  40.737546  40.737546      Manhattan    10010        Gramercy Park  \n",
       "4759  40.807940  40.807940      Manhattan    10027       Central Harlem  \n",
       "4760  40.614758  40.614758       Brooklyn    11204         Borough Park  \n",
       "4761  40.585665  40.585665       Brooklyn    11235       South Brooklyn  \n",
       "4762  40.715200  40.715200         Queens    11375  West Central Queens  \n",
       "4763  40.730375  40.730375         Queens    11375  West Central Queens  \n",
       "4764  40.632771  40.632771       Brooklyn    11209   Southwest Brooklyn  \n",
       "4765  40.779477  40.779477      Manhattan    10023      Upper East Side  \n",
       "4766  40.730136  40.730136         Queens    11373          West Queens  \n",
       "4767  40.758777  40.758777         Queens    11358         North Queens  \n",
       "4768  40.766061  40.766061         Queens    11106     Northwest Queens  \n",
       "4769  40.765777  40.765777         Queens    11362     Northeast Queens  \n",
       "4770  40.733031  40.733031      Manhattan    10003      Lower East Side  \n",
       "4771  40.594143  40.594143  Staten Island    10314           Mid Island  \n",
       "4772  40.674716  40.674716       Brooklyn    11213     Central Brooklyn  \n",
       "4773  40.665689  40.665689       Brooklyn    11208        East New York  \n",
       "4774  40.685098  40.685098       Brooklyn    11208        East New York  \n",
       "4776  40.540344  40.540344  Staten Island    10309          South Shore  \n",
       "4777  40.638624  40.638624       Brooklyn    11236             Canarsie  \n",
       "4778  40.598830  40.598830       Brooklyn    11214   Southwest Brooklyn  \n",
       "4779  40.659260  40.659260       Brooklyn    11212     Central Brooklyn  \n",
       "4781  40.720853  40.720853       Brooklyn    11249         Williamsburg  \n",
       "4783  40.902780  40.902780          Bronx    10470      Northeast Bronx  \n",
       "4784  40.679752  40.679752         Queens    11416                  nan  \n",
       "4785  40.581207  40.581207         Queens    11694             Rockaway  \n",
       "4786  40.712448  40.712448         Queens    11432              Jamaica  \n",
       "4787  40.800382  40.800382      Manhattan    10026       Central Harlem  \n",
       "4788  40.784392  40.784392      Manhattan    10128      Upper East Side  \n",
       "4789  40.758694  40.758694         Queens    11377          West Queens  \n",
       "4790  40.717926  40.717926      Manhattan    10013                 Soho  \n",
       "4791  40.755822  40.755822      Manhattan    10022        Gramercy Park  \n",
       "4792  40.651222  40.651222       Brooklyn    11232          Sunset Park  \n",
       "4793  40.769478  40.769478      Manhattan    10021      Upper East Side  \n",
       "4794  40.816711  40.816711      Manhattan    10030       Central Harlem  \n",
       "4795  40.578450  40.578450       Brooklyn    11224       South Brooklyn  \n",
       "4796  40.774350  40.774350      Manhattan    10075      Upper East Side  \n",
       "4797  40.732538  40.732538         Queens    11374  West Central Queens  \n",
       "4798  40.745882  40.745882      Manhattan    10011              Chelsea  \n",
       "4799  40.742770  40.742770         Queens    11373          West Queens  \n",
       "4800  40.579147  40.579147       Brooklyn    11224       South Brooklyn  "
      ]
     },
     "execution_count": 780,
     "metadata": {},
     "output_type": "execute_result"
    }
   ],
   "source": [
    "#Checking individual rows details\n",
    "\n",
    "DF1.tail(50)"
   ]
  },
  {
   "cell_type": "code",
   "execution_count": 772,
   "id": "6b1e9c8e",
   "metadata": {},
   "outputs": [],
   "source": [
    "#Adding zipcode\n",
    "\n",
    "DF1.loc[DF1['Zipcode'] ==10282, 'Neighborhood'] = 'Lower Manhattan'"
   ]
  },
  {
   "cell_type": "code",
   "execution_count": 781,
   "id": "7cd06642",
   "metadata": {},
   "outputs": [],
   "source": [
    "#Adding zipcode\n",
    "\n",
    "DF1.loc[DF1['Zipcode'] ==11416, 'Neighborhood'] = 'Southwest Queens'"
   ]
  },
  {
   "cell_type": "code",
   "execution_count": 782,
   "id": "7284fb68",
   "metadata": {},
   "outputs": [
    {
     "data": {
      "text/plain": [
       "0           Gramercy Park\n",
       "1                 Chelsea\n",
       "2             South Shore\n",
       "3           Gramercy Park\n",
       "4         Upper East Side\n",
       "5        Central Brooklyn\n",
       "6          Central Harlem\n",
       "7               Stapleton\n",
       "8         Southeast Bronx\n",
       "9            Borough Park\n",
       "10            High Bridge\n",
       "11          Port Richmond\n",
       "12            West Queens\n",
       "13            West Queens\n",
       "14                   Soho\n",
       "15            South Shore\n",
       "16            West Queens\n",
       "17     Southwest Brooklyn\n",
       "18              Riverdale\n",
       "19    West Central Queens\n",
       "20              Stapleton\n",
       "21    West Central Queens\n",
       "22        Southeast Bronx\n",
       "23              Stapleton\n",
       "24            South Shore\n",
       "25                Jamaica\n",
       "26            West Queens\n",
       "27     Southwest Brooklyn\n",
       "28            West Queens\n",
       "29              Stapleton\n",
       "30        Southeast Bronx\n",
       "31             Mid Island\n",
       "32          Port Richmond\n",
       "33          East New York\n",
       "34           Borough Park\n",
       "35           Borough Park\n",
       "36              Stapleton\n",
       "37           North Queens\n",
       "38           Williamsburg\n",
       "39            South Shore\n",
       "40          Central Bronx\n",
       "41           Borough Park\n",
       "42       Southwest Queens\n",
       "43            High Bridge\n",
       "44           North Queens\n",
       "45                Jamaica\n",
       "46                   Soho\n",
       "47           North Queens\n",
       "48              Stapleton\n",
       "49             Mid Island\n",
       "Name: Neighborhood, dtype: object"
      ]
     },
     "execution_count": 782,
     "metadata": {},
     "output_type": "execute_result"
    }
   ],
   "source": [
    "#Rechecking to see if any Nan\n",
    "#Cleared of any visible Nan\n",
    "\n",
    "DF1['Neighborhood'].head(50)"
   ]
  },
  {
   "cell_type": "code",
   "execution_count": 783,
   "id": "aeca645d",
   "metadata": {},
   "outputs": [
    {
     "data": {
      "text/plain": [
       "4741        Lower Manhattan\n",
       "4743    West Central Queens\n",
       "4745        Upper East Side\n",
       "4748            South Shore\n",
       "4749        Upper East Side\n",
       "4750        Upper East Side\n",
       "4754         Central Queens\n",
       "4755        Lower East Side\n",
       "4756        Upper East Side\n",
       "4757            High Bridge\n",
       "4758          Gramercy Park\n",
       "4759         Central Harlem\n",
       "4760           Borough Park\n",
       "4761         South Brooklyn\n",
       "4762    West Central Queens\n",
       "4763    West Central Queens\n",
       "4764     Southwest Brooklyn\n",
       "4765        Upper East Side\n",
       "4766            West Queens\n",
       "4767           North Queens\n",
       "4768       Northwest Queens\n",
       "4769       Northeast Queens\n",
       "4770        Lower East Side\n",
       "4771             Mid Island\n",
       "4772       Central Brooklyn\n",
       "4773          East New York\n",
       "4774          East New York\n",
       "4776            South Shore\n",
       "4777               Canarsie\n",
       "4778     Southwest Brooklyn\n",
       "4779       Central Brooklyn\n",
       "4781           Williamsburg\n",
       "4783        Northeast Bronx\n",
       "4784       Southwest Queens\n",
       "4785               Rockaway\n",
       "4786                Jamaica\n",
       "4787         Central Harlem\n",
       "4788        Upper East Side\n",
       "4789            West Queens\n",
       "4790                   Soho\n",
       "4791          Gramercy Park\n",
       "4792            Sunset Park\n",
       "4793        Upper East Side\n",
       "4794         Central Harlem\n",
       "4795         South Brooklyn\n",
       "4796        Upper East Side\n",
       "4797    West Central Queens\n",
       "4798                Chelsea\n",
       "4799            West Queens\n",
       "4800         South Brooklyn\n",
       "Name: Neighborhood, dtype: object"
      ]
     },
     "execution_count": 783,
     "metadata": {},
     "output_type": "execute_result"
    }
   ],
   "source": [
    "#Also no Nan on tail end\n",
    "#Cleared to proceed.\n",
    "\n",
    "DF1['Neighborhood'].tail(50)"
   ]
  },
  {
   "cell_type": "markdown",
   "id": "fb4c721b",
   "metadata": {},
   "source": [
    "## Renaming columns"
   ]
  },
  {
   "cell_type": "code",
   "execution_count": 784,
   "id": "3edaa331",
   "metadata": {},
   "outputs": [
    {
     "data": {
      "text/html": [
       "<div>\n",
       "<style scoped>\n",
       "    .dataframe tbody tr th:only-of-type {\n",
       "        vertical-align: middle;\n",
       "    }\n",
       "\n",
       "    .dataframe tbody tr th {\n",
       "        vertical-align: top;\n",
       "    }\n",
       "\n",
       "    .dataframe thead th {\n",
       "        text-align: right;\n",
       "    }\n",
       "</style>\n",
       "<table border=\"1\" class=\"dataframe\">\n",
       "  <thead>\n",
       "    <tr style=\"text-align: right;\">\n",
       "      <th></th>\n",
       "      <th>MAIN_ADDRESS</th>\n",
       "      <th>Property Type</th>\n",
       "      <th>PRICE</th>\n",
       "      <th>BEDS</th>\n",
       "      <th>BATH</th>\n",
       "      <th>PROPERTYSQFT</th>\n",
       "      <th>Brokerages</th>\n",
       "      <th>LATITUDE</th>\n",
       "      <th>LATITUDE</th>\n",
       "      <th>Borough</th>\n",
       "      <th>Zipcode</th>\n",
       "      <th>Neighborhood</th>\n",
       "    </tr>\n",
       "  </thead>\n",
       "  <tbody>\n",
       "    <tr>\n",
       "      <th>0</th>\n",
       "      <td>2 E 55th St Unit 803New York, NY 10022</td>\n",
       "      <td>Condo</td>\n",
       "      <td>315000</td>\n",
       "      <td>2</td>\n",
       "      <td>2.0</td>\n",
       "      <td>1400.0</td>\n",
       "      <td>Douglas Elliman</td>\n",
       "      <td>40.761255</td>\n",
       "      <td>40.761255</td>\n",
       "      <td>Manhattan</td>\n",
       "      <td>10022</td>\n",
       "      <td>Gramercy Park</td>\n",
       "    </tr>\n",
       "  </tbody>\n",
       "</table>\n",
       "</div>"
      ],
      "text/plain": [
       "                             MAIN_ADDRESS Property Type   PRICE BEDS BATH  \\\n",
       "0  2 E 55th St Unit 803New York, NY 10022        Condo   315000    2  2.0   \n",
       "\n",
       "   PROPERTYSQFT          Brokerages   LATITUDE   LATITUDE    Borough  Zipcode  \\\n",
       "0        1400.0   Douglas Elliman    40.761255  40.761255  Manhattan    10022   \n",
       "\n",
       "    Neighborhood  \n",
       "0  Gramercy Park  "
      ]
     },
     "execution_count": 784,
     "metadata": {},
     "output_type": "execute_result"
    }
   ],
   "source": [
    "#Current column names are not very user friendly\n",
    "\n",
    "DF1.head(1)"
   ]
  },
  {
   "cell_type": "code",
   "execution_count": 785,
   "id": "c75be25e",
   "metadata": {},
   "outputs": [],
   "source": [
    "DF1.rename(columns = {'MAIN_ADDRESS' : 'Address'}, inplace = True)"
   ]
  },
  {
   "cell_type": "code",
   "execution_count": 786,
   "id": "c8cfdd3b",
   "metadata": {},
   "outputs": [],
   "source": [
    "DF1.rename(columns = {'PRICE' : 'Price'}, inplace = True)"
   ]
  },
  {
   "cell_type": "code",
   "execution_count": 787,
   "id": "2f9c7c0e",
   "metadata": {},
   "outputs": [],
   "source": [
    "DF1.rename(columns = {'BEDS' : 'Beds'}, inplace = True)"
   ]
  },
  {
   "cell_type": "code",
   "execution_count": 788,
   "id": "f7abc5bf",
   "metadata": {},
   "outputs": [],
   "source": [
    "DF1.rename(columns = {'BATH' : 'Bath'}, inplace = True)"
   ]
  },
  {
   "cell_type": "code",
   "execution_count": 789,
   "id": "c493f793",
   "metadata": {},
   "outputs": [],
   "source": [
    "DF1.rename(columns = {'PROPERTYSQFT' : 'Square Feet'}, inplace = True)"
   ]
  },
  {
   "cell_type": "code",
   "execution_count": 791,
   "id": "dc0a9a17",
   "metadata": {},
   "outputs": [],
   "source": [
    "DF1.rename(columns = {'LATITUDE' : 'Latitude'}, inplace = True)"
   ]
  },
  {
   "cell_type": "code",
   "execution_count": 792,
   "id": "7c2dd8ff",
   "metadata": {},
   "outputs": [
    {
     "data": {
      "text/plain": [
       "Index(['Address', 'Property Type', 'Price', 'Beds', 'Bath', 'Square Feet',\n",
       "       'Brokerages', 'Latitude', 'Latitude', 'Borough', 'Zipcode',\n",
       "       'Neighborhood'],\n",
       "      dtype='object')"
      ]
     },
     "execution_count": 792,
     "metadata": {},
     "output_type": "execute_result"
    }
   ],
   "source": [
    "DF1.columns"
   ]
  },
  {
   "cell_type": "code",
   "execution_count": 796,
   "id": "7326a065",
   "metadata": {},
   "outputs": [
    {
     "data": {
      "text/html": [
       "<div>\n",
       "<style scoped>\n",
       "    .dataframe tbody tr th:only-of-type {\n",
       "        vertical-align: middle;\n",
       "    }\n",
       "\n",
       "    .dataframe tbody tr th {\n",
       "        vertical-align: top;\n",
       "    }\n",
       "\n",
       "    .dataframe thead th {\n",
       "        text-align: right;\n",
       "    }\n",
       "</style>\n",
       "<table border=\"1\" class=\"dataframe\">\n",
       "  <thead>\n",
       "    <tr style=\"text-align: right;\">\n",
       "      <th></th>\n",
       "      <th>Address</th>\n",
       "      <th>Property Type</th>\n",
       "      <th>Price</th>\n",
       "      <th>Beds</th>\n",
       "      <th>Bath</th>\n",
       "      <th>Square Feet</th>\n",
       "      <th>Brokerages</th>\n",
       "      <th>Latitude</th>\n",
       "      <th>Latitude</th>\n",
       "      <th>Borough</th>\n",
       "      <th>Zipcode</th>\n",
       "      <th>Neighborhood</th>\n",
       "    </tr>\n",
       "  </thead>\n",
       "  <tbody>\n",
       "    <tr>\n",
       "      <th>0</th>\n",
       "      <td>2 E 55th St Unit 803New York, NY 10022</td>\n",
       "      <td>Condo</td>\n",
       "      <td>315000</td>\n",
       "      <td>2</td>\n",
       "      <td>2.0</td>\n",
       "      <td>1400.0</td>\n",
       "      <td>Douglas Elliman</td>\n",
       "      <td>40.761255</td>\n",
       "      <td>40.761255</td>\n",
       "      <td>Manhattan</td>\n",
       "      <td>10022</td>\n",
       "      <td>Gramercy Park</td>\n",
       "    </tr>\n",
       "  </tbody>\n",
       "</table>\n",
       "</div>"
      ],
      "text/plain": [
       "                                  Address Property Type   Price Beds Bath  \\\n",
       "0  2 E 55th St Unit 803New York, NY 10022        Condo   315000    2  2.0   \n",
       "\n",
       "   Square Feet          Brokerages   Latitude   Latitude    Borough  Zipcode  \\\n",
       "0       1400.0   Douglas Elliman    40.761255  40.761255  Manhattan    10022   \n",
       "\n",
       "    Neighborhood  \n",
       "0  Gramercy Park  "
      ]
     },
     "execution_count": 796,
     "metadata": {},
     "output_type": "execute_result"
    }
   ],
   "source": [
    "DF1.head(1)"
   ]
  },
  {
   "cell_type": "markdown",
   "id": "cfc9c187",
   "metadata": {},
   "source": [
    "## 18.\tMerging column from one Dataframe to another DataFrame\n",
    "\n",
    "Adding Longitude back into DF1"
   ]
  },
  {
   "cell_type": "code",
   "execution_count": 800,
   "id": "3d10a7ef",
   "metadata": {},
   "outputs": [
    {
     "data": {
      "text/html": [
       "<div>\n",
       "<style scoped>\n",
       "    .dataframe tbody tr th:only-of-type {\n",
       "        vertical-align: middle;\n",
       "    }\n",
       "\n",
       "    .dataframe tbody tr th {\n",
       "        vertical-align: top;\n",
       "    }\n",
       "\n",
       "    .dataframe thead th {\n",
       "        text-align: right;\n",
       "    }\n",
       "</style>\n",
       "<table border=\"1\" class=\"dataframe\">\n",
       "  <thead>\n",
       "    <tr style=\"text-align: right;\">\n",
       "      <th></th>\n",
       "      <th>BROKERTITLE</th>\n",
       "      <th>TYPE</th>\n",
       "      <th>PRICE</th>\n",
       "      <th>BEDS</th>\n",
       "      <th>BATH</th>\n",
       "      <th>PROPERTYSQFT</th>\n",
       "      <th>ADDRESS</th>\n",
       "      <th>STATE</th>\n",
       "      <th>MAIN_ADDRESS</th>\n",
       "      <th>ADMINISTRATIVE_AREA_LEVEL_2</th>\n",
       "      <th>LOCALITY</th>\n",
       "      <th>SUBLOCALITY</th>\n",
       "      <th>STREET_NAME</th>\n",
       "      <th>LONG_NAME</th>\n",
       "      <th>FORMATTED_ADDRESS</th>\n",
       "      <th>LATITUDE</th>\n",
       "      <th>LONGITUDE</th>\n",
       "    </tr>\n",
       "  </thead>\n",
       "  <tbody>\n",
       "    <tr>\n",
       "      <th>0</th>\n",
       "      <td>Brokered by Douglas Elliman  -111 Fifth Ave</td>\n",
       "      <td>Condo for sale</td>\n",
       "      <td>315000</td>\n",
       "      <td>2</td>\n",
       "      <td>2.0</td>\n",
       "      <td>1400.0</td>\n",
       "      <td>2 E 55th St Unit 803</td>\n",
       "      <td>New York, NY 10022</td>\n",
       "      <td>2 E 55th St Unit 803New York, NY 10022</td>\n",
       "      <td>New York County</td>\n",
       "      <td>New York</td>\n",
       "      <td>Manhattan</td>\n",
       "      <td>East 55th Street</td>\n",
       "      <td>Regis Residence</td>\n",
       "      <td>Regis Residence, 2 E 55th St #803, New York, N...</td>\n",
       "      <td>40.761255</td>\n",
       "      <td>-73.974483</td>\n",
       "    </tr>\n",
       "  </tbody>\n",
       "</table>\n",
       "</div>"
      ],
      "text/plain": [
       "                                   BROKERTITLE            TYPE   PRICE  BEDS  \\\n",
       "0  Brokered by Douglas Elliman  -111 Fifth Ave  Condo for sale  315000     2   \n",
       "\n",
       "   BATH  PROPERTYSQFT               ADDRESS               STATE  \\\n",
       "0   2.0        1400.0  2 E 55th St Unit 803  New York, NY 10022   \n",
       "\n",
       "                             MAIN_ADDRESS ADMINISTRATIVE_AREA_LEVEL_2  \\\n",
       "0  2 E 55th St Unit 803New York, NY 10022             New York County   \n",
       "\n",
       "   LOCALITY SUBLOCALITY       STREET_NAME        LONG_NAME  \\\n",
       "0  New York   Manhattan  East 55th Street  Regis Residence   \n",
       "\n",
       "                                   FORMATTED_ADDRESS   LATITUDE  LONGITUDE  \n",
       "0  Regis Residence, 2 E 55th St #803, New York, N...  40.761255 -73.974483  "
      ]
     },
     "execution_count": 800,
     "metadata": {},
     "output_type": "execute_result"
    }
   ],
   "source": [
    "#Original DF had Longitude\n",
    "\n",
    "DF.head(1)"
   ]
  },
  {
   "cell_type": "code",
   "execution_count": 801,
   "id": "d4099326",
   "metadata": {},
   "outputs": [
    {
     "data": {
      "text/html": [
       "<div>\n",
       "<style scoped>\n",
       "    .dataframe tbody tr th:only-of-type {\n",
       "        vertical-align: middle;\n",
       "    }\n",
       "\n",
       "    .dataframe tbody tr th {\n",
       "        vertical-align: top;\n",
       "    }\n",
       "\n",
       "    .dataframe thead th {\n",
       "        text-align: right;\n",
       "    }\n",
       "</style>\n",
       "<table border=\"1\" class=\"dataframe\">\n",
       "  <thead>\n",
       "    <tr style=\"text-align: right;\">\n",
       "      <th></th>\n",
       "      <th>Address</th>\n",
       "      <th>Property Type</th>\n",
       "      <th>Price</th>\n",
       "      <th>Beds</th>\n",
       "      <th>Bath</th>\n",
       "      <th>Square Feet</th>\n",
       "      <th>Brokerages</th>\n",
       "      <th>Latitude</th>\n",
       "      <th>Latitude</th>\n",
       "      <th>Borough</th>\n",
       "      <th>Zipcode</th>\n",
       "      <th>Neighborhood</th>\n",
       "    </tr>\n",
       "  </thead>\n",
       "  <tbody>\n",
       "    <tr>\n",
       "      <th>0</th>\n",
       "      <td>2 E 55th St Unit 803New York, NY 10022</td>\n",
       "      <td>Condo</td>\n",
       "      <td>315000</td>\n",
       "      <td>2</td>\n",
       "      <td>2.0</td>\n",
       "      <td>1400.0</td>\n",
       "      <td>Douglas Elliman</td>\n",
       "      <td>40.761255</td>\n",
       "      <td>40.761255</td>\n",
       "      <td>Manhattan</td>\n",
       "      <td>10022</td>\n",
       "      <td>Gramercy Park</td>\n",
       "    </tr>\n",
       "  </tbody>\n",
       "</table>\n",
       "</div>"
      ],
      "text/plain": [
       "                                  Address Property Type   Price Beds Bath  \\\n",
       "0  2 E 55th St Unit 803New York, NY 10022        Condo   315000    2  2.0   \n",
       "\n",
       "   Square Feet          Brokerages   Latitude   Latitude    Borough  Zipcode  \\\n",
       "0       1400.0   Douglas Elliman    40.761255  40.761255  Manhattan    10022   \n",
       "\n",
       "    Neighborhood  \n",
       "0  Gramercy Park  "
      ]
     },
     "execution_count": 801,
     "metadata": {},
     "output_type": "execute_result"
    }
   ],
   "source": [
    "#Accidentally deleted Longtiude along the way\n",
    "\n",
    "#Need to add Longitude from DF to DF1\n",
    "DF1.head(1)"
   ]
  },
  {
   "cell_type": "code",
   "execution_count": 798,
   "id": "f8630bcd",
   "metadata": {},
   "outputs": [],
   "source": [
    "extract_col = DF['LONGITUDE']"
   ]
  },
  {
   "cell_type": "code",
   "execution_count": 799,
   "id": "49af1eb6",
   "metadata": {},
   "outputs": [
    {
     "name": "stdout",
     "output_type": "stream",
     "text": [
      "LONGITUDE\n"
     ]
    },
    {
     "data": {
      "text/plain": [
       "0      -73.974483\n",
       "1      -73.980991\n",
       "2      -74.196109\n",
       "3      -73.974613\n",
       "4      -73.969856\n",
       "          ...    \n",
       "4796   -73.955879\n",
       "4797   -73.860152\n",
       "4798   -74.003398\n",
       "4799   -73.872752\n",
       "4800   -73.970949\n",
       "Name: LONGITUDE, Length: 4801, dtype: float64"
      ]
     },
     "metadata": {},
     "output_type": "display_data"
    }
   ],
   "source": [
    "print(\"LONGITUDE\")\n",
    "display(extract_col)"
   ]
  },
  {
   "cell_type": "code",
   "execution_count": 802,
   "id": "17d9fa8d",
   "metadata": {},
   "outputs": [],
   "source": [
    "#Sucessfully extracted Longitude\n",
    "\n",
    "DF1 = pd.concat([DF1, extract_col.rename(\"Longitude\")], axis=1)"
   ]
  },
  {
   "cell_type": "code",
   "execution_count": 803,
   "id": "7c96247a",
   "metadata": {},
   "outputs": [
    {
     "data": {
      "text/html": [
       "<div>\n",
       "<style scoped>\n",
       "    .dataframe tbody tr th:only-of-type {\n",
       "        vertical-align: middle;\n",
       "    }\n",
       "\n",
       "    .dataframe tbody tr th {\n",
       "        vertical-align: top;\n",
       "    }\n",
       "\n",
       "    .dataframe thead th {\n",
       "        text-align: right;\n",
       "    }\n",
       "</style>\n",
       "<table border=\"1\" class=\"dataframe\">\n",
       "  <thead>\n",
       "    <tr style=\"text-align: right;\">\n",
       "      <th></th>\n",
       "      <th>Address</th>\n",
       "      <th>Property Type</th>\n",
       "      <th>Price</th>\n",
       "      <th>Beds</th>\n",
       "      <th>Bath</th>\n",
       "      <th>Square Feet</th>\n",
       "      <th>Brokerages</th>\n",
       "      <th>Latitude</th>\n",
       "      <th>Latitude</th>\n",
       "      <th>Borough</th>\n",
       "      <th>Zipcode</th>\n",
       "      <th>Neighborhood</th>\n",
       "      <th>Longitude</th>\n",
       "    </tr>\n",
       "  </thead>\n",
       "  <tbody>\n",
       "    <tr>\n",
       "      <th>0</th>\n",
       "      <td>2 E 55th St Unit 803New York, NY 10022</td>\n",
       "      <td>Condo</td>\n",
       "      <td>315000.0</td>\n",
       "      <td>2</td>\n",
       "      <td>2.0</td>\n",
       "      <td>1400.0</td>\n",
       "      <td>Douglas Elliman</td>\n",
       "      <td>40.761255</td>\n",
       "      <td>40.761255</td>\n",
       "      <td>Manhattan</td>\n",
       "      <td>10022.0</td>\n",
       "      <td>Gramercy Park</td>\n",
       "      <td>-73.974483</td>\n",
       "    </tr>\n",
       "  </tbody>\n",
       "</table>\n",
       "</div>"
      ],
      "text/plain": [
       "                                  Address Property Type     Price Beds Bath  \\\n",
       "0  2 E 55th St Unit 803New York, NY 10022        Condo   315000.0    2  2.0   \n",
       "\n",
       "   Square Feet          Brokerages   Latitude   Latitude    Borough  Zipcode  \\\n",
       "0       1400.0   Douglas Elliman    40.761255  40.761255  Manhattan  10022.0   \n",
       "\n",
       "    Neighborhood  Longitude  \n",
       "0  Gramercy Park -73.974483  "
      ]
     },
     "execution_count": 803,
     "metadata": {},
     "output_type": "execute_result"
    }
   ],
   "source": [
    "#Checking to see Longitude\n",
    "\n",
    "DF1.head(1)"
   ]
  },
  {
   "cell_type": "code",
   "execution_count": 808,
   "id": "655b040f",
   "metadata": {},
   "outputs": [],
   "source": [
    "#Deleting Latitude\n",
    "\n",
    "DF1.rename(columns = {'Latitude' : 'Latitude_delete'}, inplace = True)"
   ]
  },
  {
   "cell_type": "code",
   "execution_count": 813,
   "id": "73327493",
   "metadata": {},
   "outputs": [],
   "source": [
    "##Deleting Latitude\n",
    "\n",
    "DF1 = DF1.drop(columns=['Latitude_delete'])"
   ]
  },
  {
   "cell_type": "code",
   "execution_count": 814,
   "id": "a914803e",
   "metadata": {},
   "outputs": [
    {
     "data": {
      "text/plain": [
       "Index(['Address', 'Property Type', 'Price', 'Beds', 'Bath', 'Square Feet',\n",
       "       'Brokerages', 'Borough', 'Zipcode', 'Neighborhood', 'Longitude'],\n",
       "      dtype='object')"
      ]
     },
     "execution_count": 814,
     "metadata": {},
     "output_type": "execute_result"
    }
   ],
   "source": [
    "#Checking to see Latitude deleted\n",
    "\n",
    "DF1.columns"
   ]
  },
  {
   "cell_type": "code",
   "execution_count": null,
   "id": "4eb8e1a1",
   "metadata": {},
   "outputs": [],
   "source": [
    "#Re adding Latitude properly"
   ]
  },
  {
   "cell_type": "code",
   "execution_count": 815,
   "id": "5ea7d0a7",
   "metadata": {},
   "outputs": [],
   "source": [
    "extract_col2 = DF['LATITUDE']"
   ]
  },
  {
   "cell_type": "code",
   "execution_count": 816,
   "id": "1b9643fa",
   "metadata": {},
   "outputs": [
    {
     "name": "stdout",
     "output_type": "stream",
     "text": [
      "LATITUDE\n"
     ]
    },
    {
     "data": {
      "text/plain": [
       "0       40.761255\n",
       "1       40.766393\n",
       "2       40.541805\n",
       "3       40.761398\n",
       "4       40.767224\n",
       "          ...    \n",
       "4796    40.774350\n",
       "4797    40.732538\n",
       "4798    40.745882\n",
       "4799    40.742770\n",
       "4800    40.579147\n",
       "Name: LATITUDE, Length: 4801, dtype: float64"
      ]
     },
     "metadata": {},
     "output_type": "display_data"
    }
   ],
   "source": [
    "print(\"LATITUDE\")\n",
    "display(extract_col2)"
   ]
  },
  {
   "cell_type": "code",
   "execution_count": 817,
   "id": "f379e4be",
   "metadata": {},
   "outputs": [],
   "source": [
    "#Sucessfully extracted Latitude\n",
    "\n",
    "DF1 = pd.concat([DF1, extract_col2.rename(\"Latitude\")], axis=1)"
   ]
  },
  {
   "cell_type": "code",
   "execution_count": 818,
   "id": "858ec199",
   "metadata": {},
   "outputs": [
    {
     "data": {
      "text/html": [
       "<div>\n",
       "<style scoped>\n",
       "    .dataframe tbody tr th:only-of-type {\n",
       "        vertical-align: middle;\n",
       "    }\n",
       "\n",
       "    .dataframe tbody tr th {\n",
       "        vertical-align: top;\n",
       "    }\n",
       "\n",
       "    .dataframe thead th {\n",
       "        text-align: right;\n",
       "    }\n",
       "</style>\n",
       "<table border=\"1\" class=\"dataframe\">\n",
       "  <thead>\n",
       "    <tr style=\"text-align: right;\">\n",
       "      <th></th>\n",
       "      <th>Address</th>\n",
       "      <th>Property Type</th>\n",
       "      <th>Price</th>\n",
       "      <th>Beds</th>\n",
       "      <th>Bath</th>\n",
       "      <th>Square Feet</th>\n",
       "      <th>Brokerages</th>\n",
       "      <th>Borough</th>\n",
       "      <th>Zipcode</th>\n",
       "      <th>Neighborhood</th>\n",
       "      <th>Longitude</th>\n",
       "      <th>Latitude</th>\n",
       "    </tr>\n",
       "  </thead>\n",
       "  <tbody>\n",
       "    <tr>\n",
       "      <th>0</th>\n",
       "      <td>2 E 55th St Unit 803New York, NY 10022</td>\n",
       "      <td>Condo</td>\n",
       "      <td>315000.0</td>\n",
       "      <td>2</td>\n",
       "      <td>2.0</td>\n",
       "      <td>1400.0</td>\n",
       "      <td>Douglas Elliman</td>\n",
       "      <td>Manhattan</td>\n",
       "      <td>10022.0</td>\n",
       "      <td>Gramercy Park</td>\n",
       "      <td>-73.974483</td>\n",
       "      <td>40.761255</td>\n",
       "    </tr>\n",
       "  </tbody>\n",
       "</table>\n",
       "</div>"
      ],
      "text/plain": [
       "                                  Address Property Type     Price Beds Bath  \\\n",
       "0  2 E 55th St Unit 803New York, NY 10022        Condo   315000.0    2  2.0   \n",
       "\n",
       "   Square Feet          Brokerages    Borough  Zipcode   Neighborhood  \\\n",
       "0       1400.0   Douglas Elliman    Manhattan  10022.0  Gramercy Park   \n",
       "\n",
       "   Longitude   Latitude  \n",
       "0 -73.974483  40.761255  "
      ]
     },
     "execution_count": 818,
     "metadata": {},
     "output_type": "execute_result"
    }
   ],
   "source": [
    "DF1.head(1)"
   ]
  },
  {
   "cell_type": "markdown",
   "id": "b432469e",
   "metadata": {},
   "source": [
    "## Checking for missing values"
   ]
  },
  {
   "cell_type": "code",
   "execution_count": 819,
   "id": "a624ac54",
   "metadata": {},
   "outputs": [
    {
     "data": {
      "text/plain": [
       "Address          214\n",
       "Property Type    214\n",
       "Price            214\n",
       "Beds             214\n",
       "Bath             214\n",
       "Square Feet      214\n",
       "Brokerages       247\n",
       "Borough          214\n",
       "Zipcode          214\n",
       "Neighborhood     214\n",
       "Longitude          0\n",
       "Latitude           0\n",
       "dtype: int64"
      ]
     },
     "execution_count": 819,
     "metadata": {},
     "output_type": "execute_result"
    }
   ],
   "source": [
    "DF1.isnull().sum()"
   ]
  },
  {
   "cell_type": "code",
   "execution_count": 821,
   "id": "e9e10fc5",
   "metadata": {},
   "outputs": [
    {
     "data": {
      "text/html": [
       "<div>\n",
       "<style scoped>\n",
       "    .dataframe tbody tr th:only-of-type {\n",
       "        vertical-align: middle;\n",
       "    }\n",
       "\n",
       "    .dataframe tbody tr th {\n",
       "        vertical-align: top;\n",
       "    }\n",
       "\n",
       "    .dataframe thead th {\n",
       "        text-align: right;\n",
       "    }\n",
       "</style>\n",
       "<table border=\"1\" class=\"dataframe\">\n",
       "  <thead>\n",
       "    <tr style=\"text-align: right;\">\n",
       "      <th></th>\n",
       "      <th>Address</th>\n",
       "      <th>Property Type</th>\n",
       "      <th>Price</th>\n",
       "      <th>Beds</th>\n",
       "      <th>Bath</th>\n",
       "      <th>Square Feet</th>\n",
       "      <th>Brokerages</th>\n",
       "      <th>Borough</th>\n",
       "      <th>Zipcode</th>\n",
       "      <th>Neighborhood</th>\n",
       "      <th>Longitude</th>\n",
       "      <th>Latitude</th>\n",
       "    </tr>\n",
       "  </thead>\n",
       "  <tbody>\n",
       "    <tr>\n",
       "      <th>81</th>\n",
       "      <td>NaN</td>\n",
       "      <td>NaN</td>\n",
       "      <td>NaN</td>\n",
       "      <td>NaN</td>\n",
       "      <td>NaN</td>\n",
       "      <td>NaN</td>\n",
       "      <td>NaN</td>\n",
       "      <td>NaN</td>\n",
       "      <td>NaN</td>\n",
       "      <td>NaN</td>\n",
       "      <td>-73.949998</td>\n",
       "      <td>40.783355</td>\n",
       "    </tr>\n",
       "    <tr>\n",
       "      <th>115</th>\n",
       "      <td>NaN</td>\n",
       "      <td>NaN</td>\n",
       "      <td>NaN</td>\n",
       "      <td>NaN</td>\n",
       "      <td>NaN</td>\n",
       "      <td>NaN</td>\n",
       "      <td>NaN</td>\n",
       "      <td>NaN</td>\n",
       "      <td>NaN</td>\n",
       "      <td>NaN</td>\n",
       "      <td>-73.877087</td>\n",
       "      <td>40.665357</td>\n",
       "    </tr>\n",
       "    <tr>\n",
       "      <th>116</th>\n",
       "      <td>NaN</td>\n",
       "      <td>NaN</td>\n",
       "      <td>NaN</td>\n",
       "      <td>NaN</td>\n",
       "      <td>NaN</td>\n",
       "      <td>NaN</td>\n",
       "      <td>NaN</td>\n",
       "      <td>NaN</td>\n",
       "      <td>NaN</td>\n",
       "      <td>NaN</td>\n",
       "      <td>-73.838104</td>\n",
       "      <td>40.683789</td>\n",
       "    </tr>\n",
       "    <tr>\n",
       "      <th>149</th>\n",
       "      <td>NaN</td>\n",
       "      <td>NaN</td>\n",
       "      <td>NaN</td>\n",
       "      <td>NaN</td>\n",
       "      <td>NaN</td>\n",
       "      <td>NaN</td>\n",
       "      <td>NaN</td>\n",
       "      <td>NaN</td>\n",
       "      <td>NaN</td>\n",
       "      <td>NaN</td>\n",
       "      <td>-73.796529</td>\n",
       "      <td>40.688533</td>\n",
       "    </tr>\n",
       "    <tr>\n",
       "      <th>214</th>\n",
       "      <td>NaN</td>\n",
       "      <td>NaN</td>\n",
       "      <td>NaN</td>\n",
       "      <td>NaN</td>\n",
       "      <td>NaN</td>\n",
       "      <td>NaN</td>\n",
       "      <td>NaN</td>\n",
       "      <td>NaN</td>\n",
       "      <td>NaN</td>\n",
       "      <td>NaN</td>\n",
       "      <td>-73.967872</td>\n",
       "      <td>40.765172</td>\n",
       "    </tr>\n",
       "    <tr>\n",
       "      <th>...</th>\n",
       "      <td>...</td>\n",
       "      <td>...</td>\n",
       "      <td>...</td>\n",
       "      <td>...</td>\n",
       "      <td>...</td>\n",
       "      <td>...</td>\n",
       "      <td>...</td>\n",
       "      <td>...</td>\n",
       "      <td>...</td>\n",
       "      <td>...</td>\n",
       "      <td>...</td>\n",
       "      <td>...</td>\n",
       "    </tr>\n",
       "    <tr>\n",
       "      <th>4752</th>\n",
       "      <td>NaN</td>\n",
       "      <td>NaN</td>\n",
       "      <td>NaN</td>\n",
       "      <td>NaN</td>\n",
       "      <td>NaN</td>\n",
       "      <td>NaN</td>\n",
       "      <td>NaN</td>\n",
       "      <td>NaN</td>\n",
       "      <td>NaN</td>\n",
       "      <td>NaN</td>\n",
       "      <td>-74.007273</td>\n",
       "      <td>40.734599</td>\n",
       "    </tr>\n",
       "    <tr>\n",
       "      <th>4753</th>\n",
       "      <td>NaN</td>\n",
       "      <td>NaN</td>\n",
       "      <td>NaN</td>\n",
       "      <td>NaN</td>\n",
       "      <td>NaN</td>\n",
       "      <td>NaN</td>\n",
       "      <td>NaN</td>\n",
       "      <td>NaN</td>\n",
       "      <td>NaN</td>\n",
       "      <td>NaN</td>\n",
       "      <td>-73.984881</td>\n",
       "      <td>40.736983</td>\n",
       "    </tr>\n",
       "    <tr>\n",
       "      <th>4775</th>\n",
       "      <td>NaN</td>\n",
       "      <td>NaN</td>\n",
       "      <td>NaN</td>\n",
       "      <td>NaN</td>\n",
       "      <td>NaN</td>\n",
       "      <td>NaN</td>\n",
       "      <td>NaN</td>\n",
       "      <td>NaN</td>\n",
       "      <td>NaN</td>\n",
       "      <td>NaN</td>\n",
       "      <td>-73.880027</td>\n",
       "      <td>40.668173</td>\n",
       "    </tr>\n",
       "    <tr>\n",
       "      <th>4780</th>\n",
       "      <td>NaN</td>\n",
       "      <td>NaN</td>\n",
       "      <td>NaN</td>\n",
       "      <td>NaN</td>\n",
       "      <td>NaN</td>\n",
       "      <td>NaN</td>\n",
       "      <td>NaN</td>\n",
       "      <td>NaN</td>\n",
       "      <td>NaN</td>\n",
       "      <td>NaN</td>\n",
       "      <td>-73.975714</td>\n",
       "      <td>40.614758</td>\n",
       "    </tr>\n",
       "    <tr>\n",
       "      <th>4782</th>\n",
       "      <td>NaN</td>\n",
       "      <td>NaN</td>\n",
       "      <td>NaN</td>\n",
       "      <td>NaN</td>\n",
       "      <td>NaN</td>\n",
       "      <td>NaN</td>\n",
       "      <td>NaN</td>\n",
       "      <td>NaN</td>\n",
       "      <td>NaN</td>\n",
       "      <td>NaN</td>\n",
       "      <td>-73.985037</td>\n",
       "      <td>40.733031</td>\n",
       "    </tr>\n",
       "  </tbody>\n",
       "</table>\n",
       "<p>214 rows × 12 columns</p>\n",
       "</div>"
      ],
      "text/plain": [
       "     Address Property Type  Price Beds Bath  Square Feet Brokerages Borough  \\\n",
       "81       NaN           NaN    NaN  NaN  NaN          NaN        NaN     NaN   \n",
       "115      NaN           NaN    NaN  NaN  NaN          NaN        NaN     NaN   \n",
       "116      NaN           NaN    NaN  NaN  NaN          NaN        NaN     NaN   \n",
       "149      NaN           NaN    NaN  NaN  NaN          NaN        NaN     NaN   \n",
       "214      NaN           NaN    NaN  NaN  NaN          NaN        NaN     NaN   \n",
       "...      ...           ...    ...  ...  ...          ...        ...     ...   \n",
       "4752     NaN           NaN    NaN  NaN  NaN          NaN        NaN     NaN   \n",
       "4753     NaN           NaN    NaN  NaN  NaN          NaN        NaN     NaN   \n",
       "4775     NaN           NaN    NaN  NaN  NaN          NaN        NaN     NaN   \n",
       "4780     NaN           NaN    NaN  NaN  NaN          NaN        NaN     NaN   \n",
       "4782     NaN           NaN    NaN  NaN  NaN          NaN        NaN     NaN   \n",
       "\n",
       "      Zipcode Neighborhood  Longitude   Latitude  \n",
       "81        NaN          NaN -73.949998  40.783355  \n",
       "115       NaN          NaN -73.877087  40.665357  \n",
       "116       NaN          NaN -73.838104  40.683789  \n",
       "149       NaN          NaN -73.796529  40.688533  \n",
       "214       NaN          NaN -73.967872  40.765172  \n",
       "...       ...          ...        ...        ...  \n",
       "4752      NaN          NaN -74.007273  40.734599  \n",
       "4753      NaN          NaN -73.984881  40.736983  \n",
       "4775      NaN          NaN -73.880027  40.668173  \n",
       "4780      NaN          NaN -73.975714  40.614758  \n",
       "4782      NaN          NaN -73.985037  40.733031  \n",
       "\n",
       "[214 rows x 12 columns]"
      ]
     },
     "execution_count": 821,
     "metadata": {},
     "output_type": "execute_result"
    }
   ],
   "source": [
    "DF1[DF1['Address'].isnull()==True]"
   ]
  },
  {
   "cell_type": "code",
   "execution_count": 822,
   "id": "0347fff6",
   "metadata": {},
   "outputs": [],
   "source": [
    "#Dropped all of the null values above, they do not contribute anyways.\n",
    "\n",
    "DF1.dropna(inplace = True)"
   ]
  },
  {
   "cell_type": "code",
   "execution_count": 823,
   "id": "4a76368f",
   "metadata": {},
   "outputs": [
    {
     "data": {
      "text/plain": [
       "Address          0\n",
       "Property Type    0\n",
       "Price            0\n",
       "Beds             0\n",
       "Bath             0\n",
       "Square Feet      0\n",
       "Brokerages       0\n",
       "Borough          0\n",
       "Zipcode          0\n",
       "Neighborhood     0\n",
       "Longitude        0\n",
       "Latitude         0\n",
       "dtype: int64"
      ]
     },
     "execution_count": 823,
     "metadata": {},
     "output_type": "execute_result"
    }
   ],
   "source": [
    "DF1.isnull().sum()"
   ]
  },
  {
   "cell_type": "code",
   "execution_count": 831,
   "id": "5b0abcb7",
   "metadata": {},
   "outputs": [],
   "source": [
    "#Export File\n",
    "DF1.to_csv('/Users/winsontom/Desktop/Career Foundry/Part 8- Final CF Immersion/2.0 Project/Clean_Data.csv')"
   ]
  },
  {
   "cell_type": "code",
   "execution_count": null,
   "id": "88fb5df5",
   "metadata": {},
   "outputs": [],
   "source": []
  }
 ],
 "metadata": {
  "kernelspec": {
   "display_name": "Python 3 (ipykernel)",
   "language": "python",
   "name": "python3"
  },
  "language_info": {
   "codemirror_mode": {
    "name": "ipython",
    "version": 3
   },
   "file_extension": ".py",
   "mimetype": "text/x-python",
   "name": "python",
   "nbconvert_exporter": "python",
   "pygments_lexer": "ipython3",
   "version": "3.11.5"
  }
 },
 "nbformat": 4,
 "nbformat_minor": 5
}
